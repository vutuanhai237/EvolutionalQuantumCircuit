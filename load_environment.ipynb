{
 "cells": [
  {
   "cell_type": "code",
   "execution_count": 7,
   "metadata": {},
   "outputs": [
    {
     "name": "stdout",
     "output_type": "stream",
     "text": [
      "0.8201897351958312\n"
     ]
    }
   ],
   "source": [
    "from qsee.evolution.environment import EEnvironment\n",
    "import json\n",
    "\n",
    "# Specify the file path\n",
    "file_path = './codes/n=3,d=9,n_circuit=4,n_gen=10/metadata.json'\n",
    "\n",
    "# Load the JSON file\n",
    "with open(file_path, 'r') as file:\n",
    "    data = json.load(file)\n",
    "\n",
    "# Access the desired value\n",
    "best_fitness = data['best_fitnesss'][-1]\n",
    "\n",
    "# Print the value\n",
    "print(best_fitness)"
   ]
  }
 ],
 "metadata": {
  "kernelspec": {
   "display_name": "Python 3",
   "language": "python",
   "name": "python3"
  },
  "language_info": {
   "codemirror_mode": {
    "name": "ipython",
    "version": 3
   },
   "file_extension": ".py",
   "mimetype": "text/x-python",
   "name": "python",
   "nbconvert_exporter": "python",
   "pygments_lexer": "ipython3",
   "version": "3.10.11"
  }
 },
 "nbformat": 4,
 "nbformat_minor": 2
}
