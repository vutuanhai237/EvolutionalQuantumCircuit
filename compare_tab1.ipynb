{
 "cells": [
  {
   "cell_type": "code",
   "execution_count": 1,
   "metadata": {},
   "outputs": [],
   "source": [
    "import numpy as np\n",
    "import qiskit\n",
    "import qiskit.quantum_info as qi\n",
    "from qoop.core import state, metric, ansatz\n",
    "from qoop.compilation.qcompilation import QuantumCompilation\n"
   ]
  },
  {
   "cell_type": "code",
   "execution_count": 32,
   "metadata": {},
   "outputs": [
    {
     "name": "stdout",
     "output_type": "stream",
     "text": [
      "Failed to find a square root.\n",
      "Failed to find a square root.\n",
      "OrderedDict([('ry', 3), ('cx', 2)])\n",
      "OrderedDict([('ry', 7), ('cx', 6)])\n",
      "OrderedDict([('ry', 15), ('cx', 14)])\n",
      "OrderedDict([('ry', 31), ('cx', 30)])\n",
      "OrderedDict([('ry', 63), ('cx', 62)])\n",
      "[nan, 1.0000000000000002, 0.9999999999999997, 1.000000000000001, 0.9999999999999524]\n",
      "[4.0, 11.0, 26.0, 57.0, 120.0]\n"
     ]
    }
   ],
   "source": [
    "\n",
    "n_test = 10\n",
    "tests = []\n",
    "\n",
    "fidelitiess = []\n",
    "\n",
    "depthss = []\n",
    "\n",
    "for n in range(2, 7):\n",
    "    tests = []\n",
    "    fidelities = []\n",
    "    depths = []\n",
    "    for i in range(0, n_test):\n",
    "        random_state = np.random.uniform(0, 2*np.pi, 2**n)\n",
    "        random_state = random_state/np.linalg.norm(random_state)\n",
    "        tests.append(np.array(random_state))\n",
    "\n",
    "    for i in range(0, n_test):\n",
    "        qc = qiskit.QuantumCircuit(n)\n",
    "        qc.prepare_state(tests[i])\n",
    "        from qiskit.providers.basic_provider import BasicProvider\n",
    "\n",
    "        backend = BasicProvider().get_backend('basic_simulator')\n",
    "        qc_basis = qiskit.transpile(qc, backend, \n",
    "            basis_gates=['h', 'cx',\n",
    "                        'rx','ry','rz',\n",
    "                        'crx','cry','crz'])\n",
    "        depths.append(qc_basis.depth())\n",
    "        rho = qi.DensityMatrix(qc)\n",
    "        tests[i] = np.expand_dims(tests[i], axis=0)\n",
    "        sigma =  np.transpose(np.conjugate(tests[i])) @ tests[i]\n",
    "        fidelity = metric.compilation_trace_fidelity(rho, sigma)\n",
    "        fidelities.append(fidelity)\n",
    "    print(qc_basis.count_ops())\n",
    "    fidelitiess.append(np.mean(fidelities))\n",
    "    depthss.append(np.mean(depths))\n",
    "print(fidelitiess)\n",
    "print(depthss)"
   ]
  },
  {
   "cell_type": "code",
   "execution_count": 35,
   "metadata": {},
   "outputs": [
    {
     "name": "stdout",
     "output_type": "stream",
     "text": [
      "12\n",
      "OrderedDict([('ry', 12), ('h', 12), ('cx', 6)])\n",
      "18\n",
      "OrderedDict([('ry', 18), ('cx', 18), ('rz', 14), ('h', 8)])\n",
      "24\n",
      "OrderedDict([('rz', 56), ('cx', 52), ('ry', 32), ('h', 16)])\n",
      "30\n",
      "OrderedDict([('rz', 102), ('cx', 98), ('ry', 34), ('h', 16), ('rx', 6)])\n",
      "36\n",
      "OrderedDict([('rz', 186), ('cx', 180), ('ry', 56), ('h', 24), ('rx', 6)])\n"
     ]
    }
   ],
   "source": [
    "for n in [2,3,4,5,6]:\n",
    "    from qiskit.providers.basic_provider import BasicProvider\n",
    "    qc = ansatz.g2gn(n, 2)\n",
    "    backend = BasicProvider().get_backend('basic_simulator')\n",
    "    qc_basis = qiskit.transpile(qc, backend, \n",
    "        basis_gates=['h', 'cx',\n",
    "                    'rx','ry','rz',\n",
    "                    'crx','cry','crz'])\n",
    "    print(len(qc.parameters))\n",
    "    print(qc_basis.count_ops())\n"
   ]
  },
  {
   "cell_type": "code",
   "execution_count": 10,
   "metadata": {},
   "outputs": [
    {
     "ename": "TypeError",
     "evalue": "graph() missing 1 required positional argument: 'random_state'",
     "output_type": "error",
     "traceback": [
      "\u001b[1;31m---------------------------------------------------------------------------\u001b[0m",
      "\u001b[1;31mTypeError\u001b[0m                                 Traceback (most recent call last)",
      "Cell \u001b[1;32mIn[10], line 27\u001b[0m\n\u001b[0;32m     25\u001b[0m     \u001b[38;5;28mprint\u001b[39m(\u001b[38;5;124mf\u001b[39m\u001b[38;5;124m\"\u001b[39m\u001b[38;5;132;01m{\u001b[39;00mn\u001b[38;5;132;01m}\u001b[39;00m\u001b[38;5;124m qubits: \u001b[39m\u001b[38;5;124m\"\u001b[39m, np\u001b[38;5;241m.\u001b[39mmean(fidelities))\n\u001b[0;32m     26\u001b[0m \u001b[38;5;28;01mfor\u001b[39;00m n \u001b[38;5;129;01min\u001b[39;00m  [\u001b[38;5;241m2\u001b[39m,\u001b[38;5;241m3\u001b[39m,\u001b[38;5;241m4\u001b[39m,\u001b[38;5;241m5\u001b[39m,\u001b[38;5;241m6\u001b[39m]:\n\u001b[1;32m---> 27\u001b[0m     \u001b[43mrun\u001b[49m\u001b[43m(\u001b[49m\u001b[43mn\u001b[49m\u001b[43m)\u001b[49m\n",
      "Cell \u001b[1;32mIn[10], line 24\u001b[0m, in \u001b[0;36mrun\u001b[1;34m(n)\u001b[0m\n\u001b[0;32m     21\u001b[0m     tests\u001b[38;5;241m.\u001b[39mappend(np\u001b[38;5;241m.\u001b[39marray(random_state))\n\u001b[0;32m     23\u001b[0m \u001b[38;5;28;01mfor\u001b[39;00m i \u001b[38;5;129;01min\u001b[39;00m \u001b[38;5;28mrange\u001b[39m(\u001b[38;5;241m0\u001b[39m, n_test):\n\u001b[1;32m---> 24\u001b[0m     fidelities\u001b[38;5;241m.\u001b[39mappend(\u001b[43mgraph\u001b[49m\u001b[43m(\u001b[49m\u001b[43mn\u001b[49m\u001b[43m)\u001b[49m)\n\u001b[0;32m     25\u001b[0m \u001b[38;5;28mprint\u001b[39m(\u001b[38;5;124mf\u001b[39m\u001b[38;5;124m\"\u001b[39m\u001b[38;5;132;01m{\u001b[39;00mn\u001b[38;5;132;01m}\u001b[39;00m\u001b[38;5;124m qubits: \u001b[39m\u001b[38;5;124m\"\u001b[39m, np\u001b[38;5;241m.\u001b[39mmean(fidelities))\n",
      "\u001b[1;31mTypeError\u001b[0m: graph() missing 1 required positional argument: 'random_state'"
     ]
    }
   ],
   "source": [
    "def graph(num_qubits, random_state):\n",
    "    num_layers = 2\n",
    "    compiler =  QuantumCompilation(\n",
    "        u = ansatz.g2gn(num_qubits, num_layers),\n",
    "        vdagger = state.specific(random_state).inverse(),\n",
    "        metrics_func=[\n",
    "            'loss_basic',\n",
    "            'compilation_trace_fidelities'\n",
    "        ]\n",
    "    )\n",
    "    compiler.fast_fit(1)\n",
    "    return compiler.metrics['compilation_trace_fidelities'][-1]\n",
    "n_test = 10\n",
    "def run(n):\n",
    "    tests = []\n",
    "    fidelities = []\n",
    "    depths = []\n",
    "    for i in range(0, n_test):\n",
    "        random_state = np.random.uniform(0, 2*np.pi, 2**n)\n",
    "        random_state = random_state/np.linalg.norm(random_state)\n",
    "        tests.append(np.array(random_state))\n",
    "\n",
    "    for i in range(0, n_test):\n",
    "        fidelities.append(graph(n))\n",
    "    print(f\"{n} qubits: \", np.mean(fidelities))\n",
    "for n in  [2,3,4,5,6]:\n",
    "    run(n)"
   ]
  },
  {
   "cell_type": "code",
   "execution_count": 1,
   "metadata": {},
   "outputs": [
    {
     "name": "stdout",
     "output_type": "stream",
     "text": [
      "[]\n"
     ]
    },
    {
     "ename": "ValueError",
     "evalue": "shapes (0,) and (4,) not aligned: 0 (dim 0) != 4 (dim 0)",
     "output_type": "error",
     "traceback": [
      "\u001b[1;31m---------------------------------------------------------------------------\u001b[0m",
      "\u001b[1;31mValueError\u001b[0m                                Traceback (most recent call last)",
      "Cell \u001b[1;32mIn[1], line 55\u001b[0m\n\u001b[0;32m     53\u001b[0m             \u001b[38;5;28;01mbreak\u001b[39;00m\n\u001b[0;32m     54\u001b[0m \u001b[38;5;28;01mfor\u001b[39;00m n \u001b[38;5;129;01min\u001b[39;00m [\u001b[38;5;241m2\u001b[39m,\u001b[38;5;241m3\u001b[39m,\u001b[38;5;241m4\u001b[39m,\u001b[38;5;241m5\u001b[39m,\u001b[38;5;241m6\u001b[39m]:\n\u001b[1;32m---> 55\u001b[0m     \u001b[43mbypass_compile\u001b[49m\u001b[43m(\u001b[49m\u001b[43mn\u001b[49m\u001b[43m)\u001b[49m\n",
      "Cell \u001b[1;32mIn[1], line 46\u001b[0m, in \u001b[0;36mbypass_compile\u001b[1;34m(num_qubits)\u001b[0m\n\u001b[0;32m     44\u001b[0m qc \u001b[38;5;241m=\u001b[39m utilities\u001b[38;5;241m.\u001b[39mload_circuit(\u001b[38;5;124mf\u001b[39m\u001b[38;5;124m'\u001b[39m\u001b[38;5;124mdata/n=\u001b[39m\u001b[38;5;132;01m{\u001b[39;00mnum_qubits\u001b[38;5;132;01m}\u001b[39;00m\u001b[38;5;124m,d=\u001b[39m\u001b[38;5;132;01m{\u001b[39;00mdepth[index]\u001b[38;5;132;01m}\u001b[39;00m\u001b[38;5;124m,n_circuit=32,n_gen=50/best_circuit\u001b[39m\u001b[38;5;124m'\u001b[39m)\n\u001b[0;32m     45\u001b[0m \u001b[38;5;28;01mfor\u001b[39;00m i \u001b[38;5;129;01min\u001b[39;00m \u001b[38;5;28mrange\u001b[39m(\u001b[38;5;241m0\u001b[39m, n_test):\n\u001b[1;32m---> 46\u001b[0m     fidelities\u001b[38;5;241m.\u001b[39mappend(\u001b[43mgraph\u001b[49m\u001b[43m(\u001b[49m\u001b[43mqc\u001b[49m\u001b[43m,\u001b[49m\u001b[43m \u001b[49m\u001b[43mtests\u001b[49m\u001b[43m[\u001b[49m\u001b[43mi\u001b[49m\u001b[43m]\u001b[49m\u001b[43m)\u001b[49m)\n\u001b[0;32m     47\u001b[0m \u001b[38;5;28mprint\u001b[39m(\u001b[38;5;124mf\u001b[39m\u001b[38;5;124m\"\u001b[39m\u001b[38;5;124mn=\u001b[39m\u001b[38;5;132;01m{\u001b[39;00mnum_qubits\u001b[38;5;132;01m}\u001b[39;00m\u001b[38;5;124m, d=\u001b[39m\u001b[38;5;132;01m{\u001b[39;00mdepth[index]\u001b[38;5;132;01m}\u001b[39;00m\u001b[38;5;124m, f=\u001b[39m\u001b[38;5;132;01m{\u001b[39;00mnp\u001b[38;5;241m.\u001b[39mmean(fidelities)\u001b[38;5;132;01m}\u001b[39;00m\u001b[38;5;124m\"\u001b[39m)\n\u001b[0;32m     48\u001b[0m \u001b[38;5;28;01mif\u001b[39;00m np\u001b[38;5;241m.\u001b[39mmean(fidelities) \u001b[38;5;241m<\u001b[39m \u001b[38;5;241m0.99\u001b[39m:\n",
      "Cell \u001b[1;32mIn[1], line 17\u001b[0m, in \u001b[0;36mgraph\u001b[1;34m(qc, random_state)\u001b[0m\n\u001b[0;32m      8\u001b[0m \u001b[38;5;28;01mdef\u001b[39;00m \u001b[38;5;21mgraph\u001b[39m(qc, random_state):\n\u001b[0;32m      9\u001b[0m     compiler \u001b[38;5;241m=\u001b[39m  QuantumCompilation(\n\u001b[0;32m     10\u001b[0m         u \u001b[38;5;241m=\u001b[39m qc,\n\u001b[0;32m     11\u001b[0m         vdagger \u001b[38;5;241m=\u001b[39m state\u001b[38;5;241m.\u001b[39mspecific(random_state)\u001b[38;5;241m.\u001b[39minverse(),\n\u001b[1;32m   (...)\u001b[0m\n\u001b[0;32m     15\u001b[0m         ]\n\u001b[0;32m     16\u001b[0m     )\n\u001b[1;32m---> 17\u001b[0m     \u001b[43mcompiler\u001b[49m\u001b[38;5;241;43m.\u001b[39;49m\u001b[43mfast_fit\u001b[49m\u001b[43m(\u001b[49m\u001b[38;5;241;43m100\u001b[39;49m\u001b[43m)\u001b[49m \n\u001b[0;32m     18\u001b[0m     \u001b[38;5;28;01mreturn\u001b[39;00m compiler\u001b[38;5;241m.\u001b[39mmetrics[\u001b[38;5;124m'\u001b[39m\u001b[38;5;124mcompilation_trace_fidelities\u001b[39m\u001b[38;5;124m'\u001b[39m][\u001b[38;5;241m-\u001b[39m\u001b[38;5;241m1\u001b[39m]\n",
      "File \u001b[1;32mc:\\Users\\Public\\Documents\\Github\\GA-QAS\\qoop\\compilation\\qcompilation.py:239\u001b[0m, in \u001b[0;36mQuantumCompilation.fast_fit\u001b[1;34m(self, num_steps, verbose)\u001b[0m\n\u001b[0;32m    237\u001b[0m constant\u001b[38;5;241m.\u001b[39mMEASURE_MODE \u001b[38;5;241m=\u001b[39m constant\u001b[38;5;241m.\u001b[39mMeasureMode\u001b[38;5;241m.\u001b[39mSIMULATE\u001b[38;5;241m.\u001b[39mvalue\n\u001b[0;32m    238\u001b[0m \u001b[38;5;28;01mfor\u001b[39;00m i \u001b[38;5;129;01min\u001b[39;00m \u001b[38;5;28mrange\u001b[39m(\u001b[38;5;241m0\u001b[39m, num_steps):\n\u001b[1;32m--> 239\u001b[0m     grad_loss \u001b[38;5;241m=\u001b[39m \u001b[43mgradient\u001b[49m\u001b[38;5;241;43m.\u001b[39;49m\u001b[43mgrad_loss\u001b[49m\u001b[43m(\u001b[49m\u001b[38;5;28;43mself\u001b[39;49m\u001b[38;5;241;43m.\u001b[39;49m\u001b[43mu\u001b[49m\u001b[43m,\u001b[49m\u001b[43m \u001b[49m\u001b[38;5;28;43mself\u001b[39;49m\u001b[38;5;241;43m.\u001b[39;49m\u001b[43mthetas\u001b[49m\u001b[43m)\u001b[49m\n\u001b[0;32m    240\u001b[0m     \u001b[38;5;28;01mif\u001b[39;00m i \u001b[38;5;241m==\u001b[39m \u001b[38;5;241m0\u001b[39m:\n\u001b[0;32m    241\u001b[0m         m, v1 \u001b[38;5;241m=\u001b[39m \u001b[38;5;28mlist\u001b[39m(np\u001b[38;5;241m.\u001b[39mzeros(\u001b[38;5;28mself\u001b[39m\u001b[38;5;241m.\u001b[39mthetas\u001b[38;5;241m.\u001b[39mshape[\u001b[38;5;241m0\u001b[39m])), \u001b[38;5;28mlist\u001b[39m(\n\u001b[0;32m    242\u001b[0m             np\u001b[38;5;241m.\u001b[39mzeros(\u001b[38;5;28mself\u001b[39m\u001b[38;5;241m.\u001b[39mthetas\u001b[38;5;241m.\u001b[39mshape[\u001b[38;5;241m0\u001b[39m]))\n",
      "File \u001b[1;32mc:\\Users\\Public\\Documents\\Github\\GA-QAS\\qoop\\core\\gradient.py:75\u001b[0m, in \u001b[0;36mgrad_loss\u001b[1;34m(qc, thetas)\u001b[0m\n\u001b[0;32m     72\u001b[0m \u001b[38;5;28;01mfor\u001b[39;00m i \u001b[38;5;129;01min\u001b[39;00m \u001b[38;5;28mrange\u001b[39m(\u001b[38;5;241m0\u001b[39m, \u001b[38;5;28mlen\u001b[39m(thetas)):\n\u001b[0;32m     73\u001b[0m     \u001b[38;5;28;01mif\u001b[39;00m index_list[i] \u001b[38;5;241m==\u001b[39m \u001b[38;5;241m0\u001b[39m:\n\u001b[0;32m     74\u001b[0m         \u001b[38;5;66;03m# In equation (13)\u001b[39;00m\n\u001b[1;32m---> 75\u001b[0m         grad_loss[i] \u001b[38;5;241m=\u001b[39m \u001b[43msingle_2term_psr\u001b[49m\u001b[43m(\u001b[49m\u001b[43mqc\u001b[49m\u001b[43m,\u001b[49m\u001b[43m \u001b[49m\u001b[43mthetas\u001b[49m\u001b[43m,\u001b[49m\u001b[43m \u001b[49m\u001b[43mi\u001b[49m\u001b[43m)\u001b[49m\n\u001b[0;32m     76\u001b[0m     \u001b[38;5;28;01mif\u001b[39;00m index_list[i] \u001b[38;5;241m==\u001b[39m \u001b[38;5;241m1\u001b[39m:\n\u001b[0;32m     77\u001b[0m         \u001b[38;5;66;03m# In equation (14)\u001b[39;00m\n\u001b[0;32m     78\u001b[0m         grad_loss[i] \u001b[38;5;241m=\u001b[39m single_4term_psr(qc, thetas, i)\n",
      "File \u001b[1;32mc:\\Users\\Public\\Documents\\Github\\GA-QAS\\qoop\\core\\gradient.py:26\u001b[0m, in \u001b[0;36msingle_2term_psr\u001b[1;34m(qc, thetas, i)\u001b[0m\n\u001b[0;32m     23\u001b[0m thetas1[i] \u001b[38;5;241m+\u001b[39m\u001b[38;5;241m=\u001b[39m constant\u001b[38;5;241m.\u001b[39mtwo_term_psr[\u001b[38;5;124m'\u001b[39m\u001b[38;5;124ms\u001b[39m\u001b[38;5;124m'\u001b[39m]\n\u001b[0;32m     24\u001b[0m thetas2[i] \u001b[38;5;241m-\u001b[39m\u001b[38;5;241m=\u001b[39m constant\u001b[38;5;241m.\u001b[39mtwo_term_psr[\u001b[38;5;124m'\u001b[39m\u001b[38;5;124ms\u001b[39m\u001b[38;5;124m'\u001b[39m]\n\u001b[0;32m     25\u001b[0m \u001b[38;5;28;01mreturn\u001b[39;00m \u001b[38;5;241m-\u001b[39mconstant\u001b[38;5;241m.\u001b[39mtwo_term_psr[\u001b[38;5;124m'\u001b[39m\u001b[38;5;124mr\u001b[39m\u001b[38;5;124m'\u001b[39m] \u001b[38;5;241m*\u001b[39m (\n\u001b[1;32m---> 26\u001b[0m     \u001b[43mmeasure\u001b[49m\u001b[38;5;241;43m.\u001b[39;49m\u001b[43mmeasure\u001b[49m\u001b[43m(\u001b[49m\u001b[43mqc\u001b[49m\u001b[38;5;241;43m.\u001b[39;49m\u001b[43mcopy\u001b[49m\u001b[43m(\u001b[49m\u001b[43m)\u001b[49m\u001b[43m,\u001b[49m\u001b[43m \u001b[49m\u001b[43mthetas1\u001b[49m\u001b[43m)\u001b[49m \u001b[38;5;241m-\u001b[39m\n\u001b[0;32m     27\u001b[0m     measure\u001b[38;5;241m.\u001b[39mmeasure(qc\u001b[38;5;241m.\u001b[39mcopy(), thetas2))\n",
      "File \u001b[1;32mc:\\Users\\Public\\Documents\\Github\\GA-QAS\\qoop\\core\\measure.py:112\u001b[0m, in \u001b[0;36mmeasure\u001b[1;34m(qc, parameter_values, mode)\u001b[0m\n\u001b[0;32m    110\u001b[0m         phi_theta \u001b[38;5;241m=\u001b[39m qi\u001b[38;5;241m.\u001b[39mStatevector\u001b[38;5;241m.\u001b[39mfrom_instruction(qc\u001b[38;5;241m.\u001b[39massign_parameters(parameter_values))\u001b[38;5;241m.\u001b[39mdata\n\u001b[0;32m    111\u001b[0m         \u001b[38;5;28mprint\u001b[39m(psi)\n\u001b[1;32m--> 112\u001b[0m         result \u001b[38;5;241m=\u001b[39m np\u001b[38;5;241m.\u001b[39mreal(\u001b[43mnp\u001b[49m\u001b[38;5;241;43m.\u001b[39;49m\u001b[43mdot\u001b[49m\u001b[43m(\u001b[49m\u001b[43mnp\u001b[49m\u001b[38;5;241;43m.\u001b[39;49m\u001b[43mconjugate\u001b[49m\u001b[43m(\u001b[49m\u001b[43mpsi\u001b[49m\u001b[43m)\u001b[49m\u001b[43m,\u001b[49m\u001b[43m \u001b[49m\u001b[43mphi_theta\u001b[49m\u001b[43m)\u001b[49m)\u001b[38;5;241m*\u001b[39m\u001b[38;5;241m*\u001b[39m\u001b[38;5;241m2\u001b[39m\n\u001b[0;32m    113\u001b[0m         \u001b[38;5;66;03m# print(\"Result_U: \", result2)\u001b[39;00m\n\u001b[0;32m    114\u001b[0m         \u001b[38;5;66;03m# print(np.abs(result - result2))\u001b[39;00m\n\u001b[0;32m    115\u001b[0m \u001b[38;5;28;01mreturn\u001b[39;00m result\n",
      "\u001b[1;31mValueError\u001b[0m: shapes (0,) and (4,) not aligned: 0 (dim 0) != 4 (dim 0)"
     ]
    }
   ],
   "source": [
    "import numpy as np\n",
    "import qiskit\n",
    "import qiskit.quantum_info as qi\n",
    "from qoop.core import state, metric, ansatz\n",
    "from qoop.compilation.qcompilation import QuantumCompilation\n",
    "from qoop.backend import utilities\n",
    "\n",
    "def graph(qc, random_state):\n",
    "    compiler =  QuantumCompilation(\n",
    "        u = qc,\n",
    "        vdagger = state.specific(random_state).inverse(),\n",
    "        metrics_func=[\n",
    "            'loss_basic',\n",
    "            'compilation_trace_fidelities'\n",
    "        ]\n",
    "    )\n",
    "    compiler.fast_fit(100) \n",
    "    return compiler.metrics['compilation_trace_fidelities'][-1]\n",
    "\n",
    "n_test = 10\n",
    "\n",
    "\n",
    "def bypass_compile(num_qubits):\n",
    "    tests = []\n",
    "    \n",
    "    depths = []\n",
    "    if num_qubits == 2:\n",
    "        depth = [3]\n",
    "    elif num_qubits == 3:\n",
    "        depth = range(5,15)\n",
    "    elif num_qubits == 4:\n",
    "        depth = range(5, 30)\n",
    "    elif num_qubits == 5:\n",
    "        depth = range(5, 40)\n",
    "    elif num_qubits == 6:\n",
    "        depth = range(5, 40)\n",
    "    index = 0\n",
    "    for i in range(0, n_test):\n",
    "        random_state = np.random.uniform(0, 2*np.pi, 2**n)\n",
    "        random_state = random_state/np.linalg.norm(random_state)\n",
    "        tests.append(np.array(random_state))\n",
    "    while(True or index < len(depth)):\n",
    "        fidelities = []\n",
    "        qc = utilities.load_circuit(f'data/n={num_qubits},d={depth[index]},n_circuit=32,n_gen=50/best_circuit')\n",
    "        for i in range(0, n_test):\n",
    "            fidelities.append(graph(qc, tests[i]))\n",
    "        print(f\"n={num_qubits}, d={depth[index]}, f={np.mean(fidelities)}\")\n",
    "        if np.mean(fidelities) < 0.99:\n",
    "            index += 1\n",
    "            if index == len(depth):\n",
    "                break\n",
    "        else:\n",
    "            break\n",
    "for n in [2,3,4,5,6]:\n",
    "    bypass_compile(n)"
   ]
  },
  {
   "cell_type": "code",
   "execution_count": 11,
   "metadata": {},
   "outputs": [
    {
     "name": "stdout",
     "output_type": "stream",
     "text": [
      "n=3, d=2, f=0.8677446885901313\n",
      "n=3, d=4, f=0.8525561406821124\n"
     ]
    },
    {
     "ename": "IndexError",
     "evalue": "list index out of range",
     "output_type": "error",
     "traceback": [
      "\u001b[1;31m---------------------------------------------------------------------------\u001b[0m",
      "\u001b[1;31mIndexError\u001b[0m                                Traceback (most recent call last)",
      "Cell \u001b[1;32mIn[11], line 59\u001b[0m\n\u001b[0;32m     57\u001b[0m         \u001b[38;5;28mprint\u001b[39m(\u001b[38;5;124mf\u001b[39m\u001b[38;5;124m\"\u001b[39m\u001b[38;5;124mn=\u001b[39m\u001b[38;5;132;01m{\u001b[39;00mnum_qubits\u001b[38;5;132;01m}\u001b[39;00m\u001b[38;5;124m, d=\u001b[39m\u001b[38;5;132;01m{\u001b[39;00mdepth[index]\u001b[38;5;132;01m}\u001b[39;00m\u001b[38;5;124m, f=\u001b[39m\u001b[38;5;132;01m{\u001b[39;00mnp\u001b[38;5;241m.\u001b[39mmean(fidelities)\u001b[38;5;132;01m}\u001b[39;00m\u001b[38;5;124m\"\u001b[39m)\n\u001b[0;32m     58\u001b[0m         index \u001b[38;5;241m+\u001b[39m\u001b[38;5;241m=\u001b[39m \u001b[38;5;241m1\u001b[39m\n\u001b[1;32m---> 59\u001b[0m \u001b[43mbypass_compile\u001b[49m\u001b[43m(\u001b[49m\u001b[38;5;241;43m3\u001b[39;49m\u001b[43m)\u001b[49m       \n\u001b[0;32m     60\u001b[0m \u001b[38;5;66;03m# if __name__ == '__main__':\u001b[39;00m\n\u001b[0;32m     61\u001b[0m \u001b[38;5;66;03m#     ns = [2,3,4,5,6]\u001b[39;00m\n\u001b[0;32m     62\u001b[0m \u001b[38;5;66;03m#     multiple_compile(ns)\u001b[39;00m\n\u001b[1;32m   (...)\u001b[0m\n\u001b[0;32m     65\u001b[0m \u001b[38;5;66;03m# n=4, d=3, f=0.8578980378037141\u001b[39;00m\n\u001b[0;32m     66\u001b[0m \u001b[38;5;66;03m# n=4, d=4, f=0.8232849000754479\u001b[39;00m\n",
      "Cell \u001b[1;32mIn[11], line 53\u001b[0m, in \u001b[0;36mbypass_compile\u001b[1;34m(num_qubits)\u001b[0m\n\u001b[0;32m     51\u001b[0m \u001b[38;5;28;01mwhile\u001b[39;00m(\u001b[38;5;28;01mTrue\u001b[39;00m \u001b[38;5;129;01mor\u001b[39;00m index \u001b[38;5;241m<\u001b[39m \u001b[38;5;28mlen\u001b[39m(depth)):\n\u001b[0;32m     52\u001b[0m     fidelities \u001b[38;5;241m=\u001b[39m []\n\u001b[1;32m---> 53\u001b[0m     qc \u001b[38;5;241m=\u001b[39m utilities\u001b[38;5;241m.\u001b[39mload_circuit(\u001b[38;5;124mf\u001b[39m\u001b[38;5;124m'\u001b[39m\u001b[38;5;124mdata/n=\u001b[39m\u001b[38;5;132;01m{\u001b[39;00mnum_qubits\u001b[38;5;132;01m}\u001b[39;00m\u001b[38;5;124m,d=\u001b[39m\u001b[38;5;132;01m{\u001b[39;00m\u001b[43mdepth\u001b[49m\u001b[43m[\u001b[49m\u001b[43mindex\u001b[49m\u001b[43m]\u001b[49m\u001b[38;5;132;01m}\u001b[39;00m\u001b[38;5;124m,n_circuit=32,n_gen=50/best_circuit\u001b[39m\u001b[38;5;124m'\u001b[39m)\n\u001b[0;32m     54\u001b[0m     \u001b[38;5;28;01mfor\u001b[39;00m i \u001b[38;5;129;01min\u001b[39;00m \u001b[38;5;28mrange\u001b[39m(\u001b[38;5;241m0\u001b[39m, n_test):\n\u001b[0;32m     55\u001b[0m         \u001b[38;5;66;03m#print(tests[i])\u001b[39;00m\n\u001b[0;32m     56\u001b[0m         fidelities\u001b[38;5;241m.\u001b[39mappend(graph(qc, tests[i]))\n",
      "\u001b[1;31mIndexError\u001b[0m: list index out of range"
     ]
    }
   ],
   "source": [
    "  \n",
    "# if __name__ == '__main__':\n",
    "#     ns = [2,3,4,5,6]\n",
    "#     multiple_compile(ns)\n",
    "# n=5, d=3, f=0.7938522787939981\n",
    "# n=5, d=4, f=0.5094050486111035\n",
    "import numpy as np\n",
    "import qiskit\n",
    "import qiskit.quantum_info as qi\n",
    "from qoop.core import state, metric, ansatz\n",
    "from qoop.compilation.qcompilation import QuantumCompilation\n",
    "from qoop.backend import utilities\n",
    "\n",
    "\n",
    "n_test = 10\n",
    "\n",
    "def multiple_compile(params):\n",
    "    import concurrent.futures\n",
    "    executor = concurrent.futures.ProcessPoolExecutor()\n",
    "    results = executor.map(bypass_compile, params)\n",
    "    return results\n",
    "\n",
    "def graph(qc, random_state):\n",
    "    compiler =  QuantumCompilation(\n",
    "        u = qc,\n",
    "        vdagger = state.specific(random_state).inverse(),\n",
    "        metrics_func=[\n",
    "            'loss_basic',\n",
    "            'compilation_trace_fidelities'\n",
    "        ]\n",
    "    )\n",
    "    compiler.fast_fit(100) \n",
    "    return compiler.metrics['compilation_trace_fidelities'][-1]\n",
    "\n",
    "def bypass_compile(num_qubits):\n",
    "    tests = []\n",
    "    if num_qubits == 2:\n",
    "        depth = [6,7,8,9]\n",
    "    elif num_qubits == 3:\n",
    "        depth = [2,4]\n",
    "    elif num_qubits == 4:\n",
    "        depth = range(3, 5)\n",
    "    elif num_qubits == 5:\n",
    "        depth = range(4, 5)\n",
    "    elif num_qubits == 6:\n",
    "        depth = range(25, 40)\n",
    "    index = 0\n",
    "    for i in range(0, n_test):\n",
    "        random_state = np.random.uniform(0, 2*np.pi, 2**num_qubits)\n",
    "        random_state = random_state/np.linalg.norm(random_state)\n",
    "        tests.append(np.array(random_state))\n",
    "    while(True or index < len(depth)):\n",
    "        fidelities = []\n",
    "        qc = utilities.load_circuit(f'data/n={num_qubits},d={depth[index]},n_circuit=32,n_gen=50/best_circuit')\n",
    "        for i in range(0, n_test):\n",
    "            #print(tests[i])\n",
    "            fidelities.append(graph(qc, tests[i]))\n",
    "        print(f\"n={num_qubits}, d={depth[index]}, f={np.mean(fidelities)}\")\n",
    "        index += 1\n",
    "bypass_compile(3)       \n",
    "# if __name__ == '__main__':\n",
    "#     ns = [2,3,4,5,6]\n",
    "#     multiple_compile(ns)\n",
    "# n=5, d=3, f=0.7938522787939981\n",
    "# n=5, d=4, f=0.5094050486111035\n",
    "# n=4, d=3, f=0.8578980378037141\n",
    "# n=4, d=4, f=0.8232849000754479\n",
    "# n=3, d=2, f=0.8677446885901313\n",
    "# n=3, d=4, f=0.8525561406821124"
   ]
  },
  {
   "cell_type": "code",
   "execution_count": null,
   "metadata": {},
   "outputs": [],
   "source": [
    "f2 = [0.5773293822752275, 0.9402817802836569]\n",
    "f3 = [9401234389504806, 0.9567633634775301, \n",
    "      0.963731607779609, 0.9878707619498597, \n",
    "      0.9972726119280582, 0.9985858406138128,\n",
    "      0.9989260643216443, 0.9985424196132385,\n",
    "      0.9999373169820546, 0.9998850020786249]\n",
    "\n",
    "f4 = []\n",
    "f5 = []"
   ]
  }
 ],
 "metadata": {
  "kernelspec": {
   "display_name": "Python 3",
   "language": "python",
   "name": "python3"
  },
  "language_info": {
   "codemirror_mode": {
    "name": "ipython",
    "version": 3
   },
   "file_extension": ".py",
   "mimetype": "text/x-python",
   "name": "python",
   "nbconvert_exporter": "python",
   "pygments_lexer": "ipython3",
   "version": "3.10.11"
  }
 },
 "nbformat": 4,
 "nbformat_minor": 2
}
