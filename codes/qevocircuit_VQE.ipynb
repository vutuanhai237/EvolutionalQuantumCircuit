{
 "cells": [
  {
   "cell_type": "markdown",
   "metadata": {},
   "source": [
    "### Packages loading"
   ]
  },
  {
   "cell_type": "code",
   "execution_count": 2,
   "metadata": {},
   "outputs": [],
   "source": [
    "import sys, qiskit, typing\n",
    "sys.path.insert(0, '..')\n",
    "import matplotlib.pyplot as plt\n",
    "import numpy as np\n",
    "from qsee.compilation.qsp import QuantumStatePreparation\n",
    "from qsee.core import ansatz, state, random_circuit\n",
    "from qsee.backend import constant, utilities\n",
    "from qsee.evolution import crossover, mutate, selection, threshold\n",
    "from qsee.vqe import vqe, utilities\n",
    "from qsee.evolution.environment import EEnvironment, EEnvironmentMetadata\n",
    "%load_ext autoreload\n",
    "%autoreload 2"
   ]
  },
  {
   "cell_type": "code",
   "execution_count": 13,
   "metadata": {},
   "outputs": [],
   "source": [
    "h2_631g = lambda distances:  f\"H 0 0 {distances[0]}; H 0 0 {distances[1]}\"\n",
    "h4_sto3g = lambda distances: f\"H 0 0 {distances[0]}; H 0 0 {distances[1]}; H 0 0 {distances[2]}; H 0 0 {distances[3]}\"\n",
    "lih_sto3g = lambda distances: f\"Li 0 0 {distances[0]}; H 0 0 {distances[1]}\""
   ]
  },
  {
   "cell_type": "code",
   "execution_count": 8,
   "metadata": {},
   "outputs": [],
   "source": [
    "def exact_VQE_H2_631g(distances: []):\n",
    "    return \n",
    "\n",
    "def general_VQE_H2_631g(distances: []):\n",
    "    def VQE_H2_631g(qc: qiskit.QuantumCircuit):\n",
    "        return VQE_fitness(qc, \n",
    "                           # Replace atom here, below function returns text such as \"H 0 0 0; H 0 0 0.5\"\n",
    "                           atom = h2_631g(distances), \n",
    "                           # Replace basis here\n",
    "                           basis = \"631g\")\n",
    "    return VQE_H2_631g\n",
    "\n",
    "def VQE_fitness(qc: qiskit.QuantumCircuit, atom: str, basis: str) -> float:\n",
    "    \"\"\"General VQE fitness\n",
    "\n",
    "    Args:\n",
    "        qc (qiskit.QuantumCircuit): ansatz\n",
    "        atom (str): describe for atom\n",
    "        basis (str): VQE basis\n",
    "\n",
    "    Returns:\n",
    "        float: similarity between experiment results and theory results\n",
    "    \"\"\"\n",
    "    computation_value = vqe.VQE(qc, atom, basis)\n",
    "    # I need to modify this\n",
    "    exact_value = ???\n",
    "    return utilities.similarity(computation_value, exact_value)\n",
    "\n",
    "def VQE_H2_631g_fitness(qc: qiskit.QuantumCircuit) -> float:\n",
    "    \"\"\"Fitness function for H2_631g case\n",
    "\n",
    "    Args:\n",
    "        qc (qiskit.QuantumCircuit): ansatz\n",
    "\n",
    "    Returns:\n",
    "        float: fitness value\n",
    "    \"\"\"\n",
    "    num_points = 6\n",
    "    # Create pairs of distanc\n",
    "    list_distances_H2_631g = list(zip([0]*num_points, np.linspace(0.5, 2.5, num_points))) \n",
    "    fitnesss = []\n",
    "    # Run for num_points\n",
    "    for distances in list_distances_H2_631g:\n",
    "        # Below is fitness function at special point, this function has only qc as parameter\n",
    "        specific_VQE_H2_631g: typing.FunctionType = general_VQE_H2_631g(distances)\n",
    "        fitnesss.append(specific_VQE_H2_631g(qc))\n",
    "    return np.mean(fitnesss)"
   ]
  },
  {
   "cell_type": "code",
   "execution_count": 17,
   "metadata": {},
   "outputs": [
    {
     "name": "stderr",
     "output_type": "stream",
     "text": [
      "Step:   0%|          | 0/2 [00:00<?, ?it/s]"
     ]
    },
    {
     "name": "stdout",
     "output_type": "stream",
     "text": [
      "Initialize list of circuit ...\n",
      "Start evol progress ...\n",
      "Evol at generation 1\n",
      "overwrite output file: /var/folders/bw/2cm4rnhn0djgg95n4py1pysc0000gp/T/tmp_2phyxdv.log\n",
      "overwrite output file: /var/folders/bw/2cm4rnhn0djgg95n4py1pysc0000gp/T/tmp0pgpvuob.log\n",
      "overwrite output file: /var/folders/bw/2cm4rnhn0djgg95n4py1pysc0000gp/T/tmpq5gngml8.log\n",
      "overwrite output file: /var/folders/bw/2cm4rnhn0djgg95n4py1pysc0000gp/T/tmppbt41yrw.log\n",
      "overwrite output file: /var/folders/bw/2cm4rnhn0djgg95n4py1pysc0000gp/T/tmp42xky7gx.log\n",
      "overwrite output file: /var/folders/bw/2cm4rnhn0djgg95n4py1pysc0000gp/T/tmpr6spo1q6.log\n",
      "overwrite output file: /var/folders/bw/2cm4rnhn0djgg95n4py1pysc0000gp/T/tmp6c1ofsm6.log\n",
      "overwrite output file: /var/folders/bw/2cm4rnhn0djgg95n4py1pysc0000gp/T/tmpkazk63mh.log\n",
      "overwrite output file: /var/folders/bw/2cm4rnhn0djgg95n4py1pysc0000gp/T/tmpry6f2lam.log\n",
      "overwrite output file: /var/folders/bw/2cm4rnhn0djgg95n4py1pysc0000gp/T/tmp9tb_xp6g.log\n",
      "overwrite output file: /var/folders/bw/2cm4rnhn0djgg95n4py1pysc0000gp/T/tmpwwad8a__.log\n",
      "overwrite output file: /var/folders/bw/2cm4rnhn0djgg95n4py1pysc0000gp/T/tmp5on707tf.log\n",
      "overwrite output file: /var/folders/bw/2cm4rnhn0djgg95n4py1pysc0000gp/T/tmpqqnbkgj9.log\n",
      "overwrite output file: /var/folders/bw/2cm4rnhn0djgg95n4py1pysc0000gp/T/tmpkxejzpan.log\n",
      "overwrite output file: /var/folders/bw/2cm4rnhn0djgg95n4py1pysc0000gp/T/tmpo5l1bn4d.log\n",
      "overwrite output file: /var/folders/bw/2cm4rnhn0djgg95n4py1pysc0000gp/T/tmpql3clgxg.log\n",
      "overwrite output file: /var/folders/bw/2cm4rnhn0djgg95n4py1pysc0000gp/T/tmpf6uwyjm3.log\n",
      "overwrite output file: /var/folders/bw/2cm4rnhn0djgg95n4py1pysc0000gp/T/tmpaxxwcr41.log\n",
      "overwrite output file: /var/folders/bw/2cm4rnhn0djgg95n4py1pysc0000gp/T/tmphwdxkmkt.log\n",
      "overwrite output file: /var/folders/bw/2cm4rnhn0djgg95n4py1pysc0000gp/T/tmp31mefc1b.log\n",
      "overwrite output file: /var/folders/bw/2cm4rnhn0djgg95n4py1pysc0000gp/T/tmph_o11759.log\n",
      "overwrite output file: /var/folders/bw/2cm4rnhn0djgg95n4py1pysc0000gp/T/tmpx4j84l7j.log\n",
      "overwrite output file: /var/folders/bw/2cm4rnhn0djgg95n4py1pysc0000gp/T/tmpgwn99c1e.log\n",
      "overwrite output file: /var/folders/bw/2cm4rnhn0djgg95n4py1pysc0000gp/T/tmp2qnq3_dv.log\n"
     ]
    },
    {
     "name": "stderr",
     "output_type": "stream",
     "text": [
      "Step:  50%|█████     | 1/2 [01:25<01:25, 85.65s/it]"
     ]
    },
    {
     "name": "stdout",
     "output_type": "stream",
     "text": [
      "[0.5019071457046099, 0.568221997291144, 0.6302688108160049, 0.5804057820101377]\n",
      "Evol at generation 2\n",
      "overwrite output file: /var/folders/bw/2cm4rnhn0djgg95n4py1pysc0000gp/T/tmphpyxr08l.log\n",
      "overwrite output file: /var/folders/bw/2cm4rnhn0djgg95n4py1pysc0000gp/T/tmp51i91odh.log\n",
      "overwrite output file: /var/folders/bw/2cm4rnhn0djgg95n4py1pysc0000gp/T/tmpf5bm_ubk.log\n",
      "overwrite output file: /var/folders/bw/2cm4rnhn0djgg95n4py1pysc0000gp/T/tmptqyx7mb_.log\n",
      "overwrite output file: /var/folders/bw/2cm4rnhn0djgg95n4py1pysc0000gp/T/tmptc18inx2.log\n",
      "overwrite output file: /var/folders/bw/2cm4rnhn0djgg95n4py1pysc0000gp/T/tmpcyil7qe6.log\n",
      "overwrite output file: /var/folders/bw/2cm4rnhn0djgg95n4py1pysc0000gp/T/tmpbjbtm0dh.log\n",
      "overwrite output file: /var/folders/bw/2cm4rnhn0djgg95n4py1pysc0000gp/T/tmptrsoyk3y.log\n",
      "overwrite output file: /var/folders/bw/2cm4rnhn0djgg95n4py1pysc0000gp/T/tmpydi0wj2h.log\n",
      "overwrite output file: /var/folders/bw/2cm4rnhn0djgg95n4py1pysc0000gp/T/tmp23n1hslg.log\n",
      "overwrite output file: /var/folders/bw/2cm4rnhn0djgg95n4py1pysc0000gp/T/tmp323hdkbl.log\n",
      "overwrite output file: /var/folders/bw/2cm4rnhn0djgg95n4py1pysc0000gp/T/tmpr7_k6bj3.log\n",
      "overwrite output file: /var/folders/bw/2cm4rnhn0djgg95n4py1pysc0000gp/T/tmpmhhfjmjw.log\n",
      "overwrite output file: /var/folders/bw/2cm4rnhn0djgg95n4py1pysc0000gp/T/tmpmu0zhiow.log\n",
      "overwrite output file: /var/folders/bw/2cm4rnhn0djgg95n4py1pysc0000gp/T/tmpzhcvciqi.log\n",
      "overwrite output file: /var/folders/bw/2cm4rnhn0djgg95n4py1pysc0000gp/T/tmp7pxbq82k.log\n",
      "overwrite output file: /var/folders/bw/2cm4rnhn0djgg95n4py1pysc0000gp/T/tmph67jk5hg.log\n",
      "overwrite output file: /var/folders/bw/2cm4rnhn0djgg95n4py1pysc0000gp/T/tmp5h06rio8.log\n",
      "overwrite output file: /var/folders/bw/2cm4rnhn0djgg95n4py1pysc0000gp/T/tmp9mln26ce.log\n",
      "overwrite output file: /var/folders/bw/2cm4rnhn0djgg95n4py1pysc0000gp/T/tmp0re6rjka.log\n",
      "overwrite output file: /var/folders/bw/2cm4rnhn0djgg95n4py1pysc0000gp/T/tmphvsr0nan.log\n",
      "overwrite output file: /var/folders/bw/2cm4rnhn0djgg95n4py1pysc0000gp/T/tmpib5c8uvp.log\n",
      "overwrite output file: /var/folders/bw/2cm4rnhn0djgg95n4py1pysc0000gp/T/tmp8ntf8zal.log\n",
      "overwrite output file: /var/folders/bw/2cm4rnhn0djgg95n4py1pysc0000gp/T/tmp62a4r02l.log\n",
      "[0.6302688108160049, 0.5804057820101377, 0.5681191216802556, 0.5163871310018305]\n",
      "overwrite output file: /var/folders/bw/2cm4rnhn0djgg95n4py1pysc0000gp/T/tmp7p59u4zk.log\n",
      "overwrite output file: /var/folders/bw/2cm4rnhn0djgg95n4py1pysc0000gp/T/tmpqc9qp34w.log\n",
      "overwrite output file: /var/folders/bw/2cm4rnhn0djgg95n4py1pysc0000gp/T/tmp42avu7b7.log\n",
      "overwrite output file: /var/folders/bw/2cm4rnhn0djgg95n4py1pysc0000gp/T/tmpku3yv0v_.log\n",
      "overwrite output file: /var/folders/bw/2cm4rnhn0djgg95n4py1pysc0000gp/T/tmpsdmz7yni.log\n",
      "overwrite output file: /var/folders/bw/2cm4rnhn0djgg95n4py1pysc0000gp/T/tmpmyuqczbd.log\n"
     ]
    },
    {
     "name": "stderr",
     "output_type": "stream",
     "text": [
      "Step: 100%|██████████| 2/2 [03:09<00:00, 94.72s/it]"
     ]
    },
    {
     "name": "stdout",
     "output_type": "stream",
     "text": [
      "End evol progress, best score ever: 0.6302688108160049\n"
     ]
    },
    {
     "name": "stderr",
     "output_type": "stream",
     "text": [
      "\n"
     ]
    }
   ],
   "source": [
    "env_metadata = EEnvironmentMetadata(\n",
    "    num_qubits=8,\n",
    "    depth=5,\n",
    "    num_circuit=4,\n",
    "    num_generation=2,\n",
    "    prob_mutate=3/(5 * 8)  # Mutation rate / (depth * num_circuit)\n",
    ")\n",
    "env = EEnvironment(\n",
    "    metadata=env_metadata,\n",
    "    # Fitness function alway has the function type: qiskit.QuantumCircuit -> float\n",
    "    fitness_func=VQE_H2_631g_fitness,\n",
    "    selection_func=selection.elitist_selection,\n",
    "    crossover_func=crossover.onepoint_crossover,\n",
    "    mutate_func=mutate.layerflip_mutate,\n",
    "    threshold_func=threshold.compilation_threshold\n",
    ")\n",
    "\n",
    "# Automatically save the results in the same level folder\n",
    "env.evol(1)"
   ]
  },
  {
   "cell_type": "code",
   "execution_count": 11,
   "metadata": {},
   "outputs": [
    {
     "name": "stdout",
     "output_type": "stream",
     "text": [
      "-1.8921568597287821\n"
     ]
    }
   ],
   "source": [
    "computation_value = vqe.VQE(env.best_circuit, atom, basis)"
   ]
  },
  {
   "cell_type": "code",
   "execution_count": 22,
   "metadata": {},
   "outputs": [
    {
     "data": {
      "text/plain": [
       "<function __main__.VQE_H2_631g_fitness(qc: qiskit.circuit.quantumcircuit.QuantumCircuit)>"
      ]
     },
     "execution_count": 22,
     "metadata": {},
     "output_type": "execute_result"
    }
   ],
   "source": [
    "# Load the result from folder\n",
    "env2 = EEnvironment.load(\n",
    "    './8qubits_VQE_H2_631g_fitness_2023-12-17', \n",
    "    VQE_H2_631g_fitness\n",
    ")\n"
   ]
  }
 ],
 "metadata": {
  "kernelspec": {
   "display_name": "Python 3.10.13 64-bit",
   "language": "python",
   "name": "python3"
  },
  "language_info": {
   "codemirror_mode": {
    "name": "ipython",
    "version": 3
   },
   "file_extension": ".py",
   "mimetype": "text/x-python",
   "name": "python",
   "nbconvert_exporter": "python",
   "pygments_lexer": "ipython3",
   "version": "3.10.13"
  },
  "vscode": {
   "interpreter": {
    "hash": "97cc609b13305c559618ec78a438abc56230b9381f827f22d070313b9a1f3777"
   }
  }
 },
 "nbformat": 4,
 "nbformat_minor": 4
}
