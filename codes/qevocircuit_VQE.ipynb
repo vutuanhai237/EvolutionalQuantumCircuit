{
 "cells": [
  {
   "cell_type": "markdown",
   "metadata": {},
   "source": [
    "### Packages loading"
   ]
  },
  {
   "cell_type": "code",
   "execution_count": 1,
   "metadata": {},
   "outputs": [],
   "source": [
    "import numpy as np\n",
    "import random\n",
    "import qiskit\n",
    "import qtm.evolution\n",
    "import qtm.state\n",
    "import qtm.qcompilation\n",
    "import qtm.ansatz\n",
    "import qtm.constant\n",
    "from qtm.evolution import environment, mutate, selection, crossover\n",
    "import matplotlib.pyplot as plt\n",
    "%load_ext autoreload\n",
    "%autoreload 2\n"
   ]
  },
  {
   "cell_type": "markdown",
   "metadata": {},
   "source": [
    "## 1. Quantum architecture search for quantum state preparation problem"
   ]
  },
  {
   "cell_type": "markdown",
   "metadata": {},
   "source": [
    "Now, we defind the problem which is need to solve"
   ]
  },
  {
   "cell_type": "code",
   "execution_count": 3,
   "metadata": {},
   "outputs": [],
   "source": [
    "\n",
    "def VQE_fitness(qc: qiskit.QuantumCircuit):\n",
    "    # Code here\n",
    "    return \n"
   ]
  },
  {
   "cell_type": "markdown",
   "metadata": {},
   "source": [
    "Main algorithm, includes: init population, selection, crossover, mutate."
   ]
  },
  {
   "cell_type": "code",
   "execution_count": 21,
   "metadata": {},
   "outputs": [
    {
     "name": "stderr",
     "output_type": "stream",
     "text": [
      "Step:  27%|██▋       | 8/30 [2:49:26<7:45:56, 1270.77s/it]\n",
      "Step: 100%|██████████| 30/30 [22:45<00:00, 45.52s/it]"
     ]
    },
    {
     "name": "stdout",
     "output_type": "stream",
     "text": [
      "End best score, end evol progress, percent target: 0.6\n"
     ]
    },
    {
     "name": "stderr",
     "output_type": "stream",
     "text": [
      "\n"
     ]
    }
   ],
   "source": [
    "params = {'depth': 10,\n",
    "          'num_individual': 8,  # Must mod 8 = 0\n",
    "          'num_generation': 30,\n",
    "          'num_qubits': 3,\n",
    "          'threshold': 0.2,\n",
    "          'prob_mutate': 0.01}\n",
    "\n",
    "env = environment.EEnvironment(\n",
    "    params,\n",
    "    fitness_func = VQE_fitness,\n",
    "    selection_func = selection.elitist_selection,\n",
    "    crossover_func= crossover.onepoint_crossover,\n",
    "    mutate_func=mutate.bitflip_mutate,\n",
    "    pool = qtm.constant.operations\n",
    ")\n",
    "\n",
    "env.initialize_population()\n",
    "env.evol() "
   ]
  }
 ],
 "metadata": {
  "kernelspec": {
   "display_name": "Python 3",
   "language": "python",
   "name": "python3"
  },
  "language_info": {
   "codemirror_mode": {
    "name": "ipython",
    "version": 3
   },
   "file_extension": ".py",
   "mimetype": "text/x-python",
   "name": "python",
   "nbconvert_exporter": "python",
   "pygments_lexer": "ipython3",
   "version": "3.10.9"
  },
  "orig_nbformat": 4
 },
 "nbformat": 4,
 "nbformat_minor": 2
}
