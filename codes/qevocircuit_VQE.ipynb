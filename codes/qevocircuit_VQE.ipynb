{
 "cells": [
  {
   "cell_type": "markdown",
   "metadata": {},
   "source": [
    "### Packages loading"
   ]
  },
  {
   "cell_type": "code",
   "execution_count": 39,
   "metadata": {},
   "outputs": [
    {
     "name": "stdout",
     "output_type": "stream",
     "text": [
      "The autoreload extension is already loaded. To reload it, use:\n",
      "  %reload_ext autoreload\n"
     ]
    }
   ],
   "source": [
    "import numpy as np\n",
    "import random\n",
    "import qiskit\n",
    "import qtm.evolution\n",
    "import qtm.state\n",
    "import qtm.qcompilation\n",
    "import qtm.ansatz\n",
    "import qtm.constant\n",
    "from qtm.evolution import environment, mutate, selection, crossover\n",
    "import matplotlib.pyplot as plt\n",
    "%load_ext autoreload\n",
    "%autoreload 2\n"
   ]
  },
  {
   "cell_type": "markdown",
   "metadata": {},
   "source": [
    "## 1. Quantum architecture search for quantum state preparation problem"
   ]
  },
  {
   "cell_type": "markdown",
   "metadata": {},
   "source": [
    "Now, we defind the problem which is need to solve"
   ]
  },
  {
   "cell_type": "code",
   "execution_count": 51,
   "metadata": {},
   "outputs": [
    {
     "data": {
      "image/png": "[encoded data removed]",
      "text/plain": [
       "<Figure size 1290.83x367.889 with 1 Axes>"
      ]
     },
     "execution_count": 51,
     "metadata": {},
     "output_type": "execute_result"
    }
   ],
   "source": [
    "n_qubits=4\n",
    "n=3\n",
    "theta = qiskit.circuit.ParameterVector('theta',n*n_qubits)\n",
    "#theta = np.random.rand(n*n_qubits)\n",
    "#print(theta)\n",
    "qc = qiskit.QuantumCircuit(n_qubits)\n",
    "#theta = [0,1,2]\n",
    "for j in range (2):\n",
    "    for i in range(n_qubits):\n",
    "        qc.ry(theta[i], i)\n",
    "    for i in range(n_qubits):\n",
    "        qc.rz(theta[i+n+1], i)\n",
    "    for i in range(n_qubits):\n",
    "        qc.ry(theta[i+2*(n+1)], i)\n",
    "    qc.cnot(0, 1)\n",
    "    qc.cnot(1, 2)\n",
    "    qc.cnot(2, 3)\n",
    "    qc.barrier()\n",
    "qc.draw('mpl')"
   ]
  },
  {
   "cell_type": "code",
   "execution_count": 50,
   "metadata": {},
   "outputs": [
    {
     "name": "stdout",
     "output_type": "stream",
     "text": [
      "-0.7980464206492509 * IIII\n",
      "- 0.242742805131405 * IIZI\n",
      "+ 0.17771287465139918 * IIIZ\n",
      "+ 0.1229330505618381 * IIZZ\n",
      "+ 0.17771287465139918 * IZII\n",
      "+ 0.17059738328801052 * IZIZ\n",
      "+ 0.044750144015351635 * YYYY\n",
      "+ 0.044750144015351635 * XXYY\n",
      "+ 0.044750144015351635 * YYXX\n",
      "+ 0.044750144015351635 * XXXX\n",
      "- 0.242742805131405 * ZIII\n",
      "+ 0.16768319457718972 * ZIIZ\n",
      "+ 0.16768319457718972 * IZZI\n",
      "+ 0.17627640804319608 * ZIZI\n",
      "+ 0.1229330505618381 * ZZII\n"
     ]
    }
   ],
   "source": [
    "from qiskit_nature.second_q.drivers import PySCFDriver\n",
    "from qiskit_nature.second_q.mappers import JordanWignerMapper, QubitConverter, ParityMapper\n",
    "from qiskit_nature.units import DistanceUnit\n",
    "\n",
    "driver = PySCFDriver(\n",
    "    atom=\"H 0 0 -0.35; H 0 0 0.35\",\n",
    "    basis=\"sto3g\",\n",
    "    charge=0,\n",
    "    spin=0,\n",
    "    unit=DistanceUnit.ANGSTROM,\n",
    ")\n",
    "problem = driver.run()\n",
    "hamiltonian = problem.hamiltonian.second_q_op()\n",
    "\n",
    "mapper=JordanWignerMapper()\n",
    "qubit_converter = QubitConverter(mapper)\n",
    "qubit_op = qubit_converter.convert(hamiltonian)\n",
    "print(qubit_op)"
   ]
  },
  {
   "cell_type": "code",
   "execution_count": 45,
   "metadata": {},
   "outputs": [],
   "source": [
    "\n",
    "from qiskit import Aer\n",
    "from qiskit.utils import QuantumInstance\n",
    "from qiskit.algorithms import VQE\n",
    "from qiskit.algorithms.optimizers import SLSQP, SPSA, L_BFGS_B\n",
    "\n",
    "def VQE_fitness(qc: qiskit.QuantumCircuit):\n",
    "    print(qc)\n",
    "    backend = Aer.get_backend('aer_simulator')\n",
    "    quantum_instance = QuantumInstance(backend=backend, shots=1000)\n",
    "    vqe = VQE(qc, optimizer=SLSQP(maxiter=1000), quantum_instance=quantum_instance, include_custom=True)\n",
    "    return vqe.compute_minimum_eigenvalue(qubit_op)\n"
   ]
  },
  {
   "cell_type": "markdown",
   "metadata": {},
   "source": [
    "Main algorithm, includes: init population, selection, crossover, mutate."
   ]
  },
  {
   "cell_type": "code",
   "execution_count": 46,
   "metadata": {},
   "outputs": [
    {
     "name": "stdout",
     "output_type": "stream",
     "text": [
      "                                                                     »\n",
      "q_0: ───────────────────────■───────────────■────────────────────────»\n",
      "          ┌───┐             │               │             ┌───┐      »\n",
      "q_1: ─────┤ Y ├─────────────┼───────────────┼─────────────┤ X ├──────»\n",
      "          └───┘      ┌──────┴───────┐┌──────┴───────┐┌────┴───┴─────┐»\n",
      "q_2: ────────────────┤ Rz(theta[1]) ├┤ Rx(theta[2]) ├┤ Ry(theta[5]) ├»\n",
      "     ┌──────────────┐└────┬───┬─────┘└──────────────┘└──────────────┘»\n",
      "q_3: ┤ Rx(theta[0]) ├─────┤ H ├──────────────────────────────────────»\n",
      "     └──────────────┘     └───┘                                      »\n",
      "c: 4/════════════════════════════════════════════════════════════════»\n",
      "                                                                     »\n",
      "«                     ┌──────────────┐┌──────────────┐     ┌───┐      »\n",
      "«q_0: ────────────────┤ Rx(theta[4]) ├┤ Rx(theta[6]) ├─────┤ X ├──────»\n",
      "«     ┌──────────────┐└──────┬───────┘├──────────────┤┌────┴───┴─────┐»\n",
      "«q_1: ┤ Ry(theta[3]) ├───────┼────────┤ Rz(theta[8]) ├┤ Rz(theta[9]) ├»\n",
      "«     └────┬───┬─────┘       │        └────┬───┬─────┘└──────────────┘»\n",
      "«q_2: ─────┤ H ├─────────────┼─────────────┤ H ├──────────────────────»\n",
      "«          └───┘             │        ┌────┴───┴─────┐     ┌───┐      »\n",
      "«q_3: ───────────────────────■────────┤ Rz(theta[7]) ├─────┤ S ├──────»\n",
      "«                                     └──────────────┘     └───┘      »\n",
      "«c: 4/════════════════════════════════════════════════════════════════»\n",
      "«                                                                     »\n",
      "«                      ┌───────────────┐┌───────────────┐                 »\n",
      "«q_0: ────────■────────┤ Ry(theta[11]) ├┤ Rx(theta[14]) ├────────■────────»\n",
      "«     ┌───────┴───────┐├───────────────┤├───────────────┤┌───────┴───────┐»\n",
      "«q_1: ┤ Rx(theta[10]) ├┤ Ry(theta[12]) ├┤ Ry(theta[15]) ├┤ Ry(theta[16]) ├»\n",
      "«     └─────┬───┬─────┘└───────────────┘└─────┬───┬─────┘└─────┬───┬─────┘»\n",
      "«q_2: ──────┤ X ├──────────────■──────────────┤ Z ├────────────┤ Y ├──────»\n",
      "«           └─┬─┘            ┌─┴─┐      ┌─────┴───┴─────┐      ├───┤      »\n",
      "«q_3: ────────■──────────────┤ X ├──────┤ Rx(theta[13]) ├──────┤ Z ├──────»\n",
      "«                            └───┘      └───────────────┘      └───┘      »\n",
      "«c: 4/════════════════════════════════════════════════════════════════════»\n",
      "«                                                                         »\n",
      "«           ┌───┐      \n",
      "«q_0: ──────┤ H ├──────\n",
      "«           ├───┤      \n",
      "«q_1: ──────┤ H ├──────\n",
      "«     ┌─────┴───┴─────┐\n",
      "«q_2: ┤ Ry(theta[18]) ├\n",
      "«     ├───────────────┤\n",
      "«q_3: ┤ Rz(theta[17]) ├\n",
      "«     └───────────────┘\n",
      "«c: 4/═════════════════\n",
      "«                      \n"
     ]
    },
    {
     "name": "stderr",
     "output_type": "stream",
     "text": [
      "/tmp/ipykernel_12698/1077711464.py:9: DeprecationWarning: The class ``qiskit.utils.quantum_instance.QuantumInstance`` is deprecated as of qiskit-terra 0.24.0. It will be removed no earlier than 3 months after the release date. For code migration guidelines, visit https://qisk.it/qi_migration.\n",
      "  quantum_instance = QuantumInstance(backend=backend, shots=1000)\n",
      "/tmp/ipykernel_12698/1077711464.py:10: DeprecationWarning: The class ``qiskit.algorithms.minimum_eigen_solvers.vqe.VQE`` is deprecated as of qiskit-terra 0.24.0. It will be removed no earlier than 3 months after the release date. Instead, use the class ``qiskit.algorithms.minimum_eigensolvers.VQE``. See https://qisk.it/algo_migration for a migration guide.\n",
      "  vqe = VQE(qc, optimizer=SLSQP(maxiter=1000), quantum_instance=quantum_instance, include_custom=True)\n"
     ]
    },
    {
     "ename": "TypeError",
     "evalue": "CircuitOp does not support QuantumCircuits with ClassicalRegisters.",
     "output_type": "error",
     "traceback": [
      "\u001b[0;31m---------------------------------------------------------------------------\u001b[0m",
      "\u001b[0;31mTypeError\u001b[0m                                 Traceback (most recent call last)",
      "Cell \u001b[0;32mIn[46], line 17\u001b[0m\n\u001b[1;32m      1\u001b[0m params \u001b[39m=\u001b[39m {\u001b[39m'\u001b[39m\u001b[39mdepth\u001b[39m\u001b[39m'\u001b[39m: \u001b[39m10\u001b[39m,\n\u001b[1;32m      2\u001b[0m           \u001b[39m'\u001b[39m\u001b[39mnum_individual\u001b[39m\u001b[39m'\u001b[39m: \u001b[39m8\u001b[39m,  \u001b[39m# Must mod 8 = 0\u001b[39;00m\n\u001b[1;32m      3\u001b[0m           \u001b[39m'\u001b[39m\u001b[39mnum_generation\u001b[39m\u001b[39m'\u001b[39m: \u001b[39m30\u001b[39m,\n\u001b[1;32m      4\u001b[0m           \u001b[39m'\u001b[39m\u001b[39mnum_qubits\u001b[39m\u001b[39m'\u001b[39m: \u001b[39m4\u001b[39m,\n\u001b[1;32m      5\u001b[0m           \u001b[39m'\u001b[39m\u001b[39mthreshold\u001b[39m\u001b[39m'\u001b[39m: \u001b[39m0.2\u001b[39m,\n\u001b[1;32m      6\u001b[0m           \u001b[39m'\u001b[39m\u001b[39mprob_mutate\u001b[39m\u001b[39m'\u001b[39m: \u001b[39m0.01\u001b[39m}\n\u001b[1;32m      8\u001b[0m env \u001b[39m=\u001b[39m environment\u001b[39m.\u001b[39mEEnvironment(\n\u001b[1;32m      9\u001b[0m     params,\n\u001b[1;32m     10\u001b[0m     fitness_func \u001b[39m=\u001b[39m VQE_fitness,\n\u001b[0;32m   (...)\u001b[0m\n\u001b[1;32m     14\u001b[0m     pool \u001b[39m=\u001b[39m qtm\u001b[39m.\u001b[39mconstant\u001b[39m.\u001b[39moperations\n\u001b[1;32m     15\u001b[0m )\n\u001b[0;32m---> 17\u001b[0m env\u001b[39m.\u001b[39;49minitialize_population()\n\u001b[1;32m     18\u001b[0m env\u001b[39m.\u001b[39mevol() \n",
      "File \u001b[0;32m~/EvolutionalQuantumCircuit/codes/qtm/evolution/environment.py:79\u001b[0m, in \u001b[0;36mEEnvironment.initialize_population\u001b[0;34m(self)\u001b[0m\n\u001b[1;32m     76\u001b[0m \u001b[39mfor\u001b[39;00m _ \u001b[39min\u001b[39;00m \u001b[39mrange\u001b[39m(\u001b[39mself\u001b[39m\u001b[39m.\u001b[39mnum_individual):\n\u001b[1;32m     77\u001b[0m     random_circuit \u001b[39m=\u001b[39m qtm\u001b[39m.\u001b[39mrandom_circuit\u001b[39m.\u001b[39mgenerate_with_pool(\n\u001b[1;32m     78\u001b[0m         \u001b[39mself\u001b[39m\u001b[39m.\u001b[39mnum_qubits, \u001b[39mself\u001b[39m\u001b[39m.\u001b[39mdepth, \u001b[39mself\u001b[39m\u001b[39m.\u001b[39mpool)\n\u001b[0;32m---> 79\u001b[0m     individual \u001b[39m=\u001b[39m ecircuit\u001b[39m.\u001b[39;49mECircuit(\n\u001b[1;32m     80\u001b[0m         random_circuit,\n\u001b[1;32m     81\u001b[0m         \u001b[39mself\u001b[39;49m\u001b[39m.\u001b[39;49mfitness_func)\n\u001b[1;32m     82\u001b[0m     individual\u001b[39m.\u001b[39mcompile()\n\u001b[1;32m     83\u001b[0m     \u001b[39mself\u001b[39m\u001b[39m.\u001b[39mpopulation\u001b[39m.\u001b[39mappend(individual)\n",
      "File \u001b[0;32m~/EvolutionalQuantumCircuit/codes/qtm/evolution/ecircuit.py:13\u001b[0m, in \u001b[0;36mECircuit.__init__\u001b[0;34m(self, qc, fitness_func)\u001b[0m\n\u001b[1;32m     11\u001b[0m \u001b[39mself\u001b[39m\u001b[39m.\u001b[39mfitness_func \u001b[39m=\u001b[39m fitness_func\n\u001b[1;32m     12\u001b[0m \u001b[39mself\u001b[39m\u001b[39m.\u001b[39mfitness \u001b[39m=\u001b[39m \u001b[39m0\u001b[39m\n\u001b[0;32m---> 13\u001b[0m \u001b[39mself\u001b[39;49m\u001b[39m.\u001b[39;49mcompile()\n\u001b[1;32m     14\u001b[0m \u001b[39mreturn\u001b[39;00m\n",
      "File \u001b[0;32m~/EvolutionalQuantumCircuit/codes/qtm/evolution/ecircuit.py:16\u001b[0m, in \u001b[0;36mECircuit.compile\u001b[0;34m(self)\u001b[0m\n\u001b[1;32m     15\u001b[0m \u001b[39mdef\u001b[39;00m \u001b[39mcompile\u001b[39m(\u001b[39mself\u001b[39m):\n\u001b[0;32m---> 16\u001b[0m     \u001b[39mself\u001b[39m\u001b[39m.\u001b[39mfitness \u001b[39m=\u001b[39m \u001b[39mself\u001b[39;49m\u001b[39m.\u001b[39;49mfitness_func(\u001b[39mself\u001b[39;49m\u001b[39m.\u001b[39;49mqc)\n\u001b[1;32m     17\u001b[0m     \u001b[39mreturn\u001b[39;00m\n",
      "Cell \u001b[0;32mIn[45], line 11\u001b[0m, in \u001b[0;36mVQE_fitness\u001b[0;34m(qc)\u001b[0m\n\u001b[1;32m      9\u001b[0m quantum_instance \u001b[39m=\u001b[39m QuantumInstance(backend\u001b[39m=\u001b[39mbackend, shots\u001b[39m=\u001b[39m\u001b[39m1000\u001b[39m)\n\u001b[1;32m     10\u001b[0m vqe \u001b[39m=\u001b[39m VQE(qc, optimizer\u001b[39m=\u001b[39mSLSQP(maxiter\u001b[39m=\u001b[39m\u001b[39m1000\u001b[39m), quantum_instance\u001b[39m=\u001b[39mquantum_instance, include_custom\u001b[39m=\u001b[39m\u001b[39mTrue\u001b[39;00m)\n\u001b[0;32m---> 11\u001b[0m \u001b[39mreturn\u001b[39;00m vqe\u001b[39m.\u001b[39;49mcompute_minimum_eigenvalue(qubit_op)\n",
      "File \u001b[0;32m~/.local/lib/python3.8/site-packages/qiskit/algorithms/minimum_eigen_solvers/vqe.py:535\u001b[0m, in \u001b[0;36mVQE.compute_minimum_eigenvalue\u001b[0;34m(self, operator, aux_operators)\u001b[0m\n\u001b[1;32m    532\u001b[0m     gradient \u001b[39m=\u001b[39m \u001b[39mself\u001b[39m\u001b[39m.\u001b[39m_gradient\n\u001b[1;32m    534\u001b[0m \u001b[39mself\u001b[39m\u001b[39m.\u001b[39m_eval_count \u001b[39m=\u001b[39m \u001b[39m0\u001b[39m\n\u001b[0;32m--> 535\u001b[0m energy_evaluation, expectation \u001b[39m=\u001b[39m \u001b[39mself\u001b[39;49m\u001b[39m.\u001b[39;49mget_energy_evaluation(\n\u001b[1;32m    536\u001b[0m     operator, return_expectation\u001b[39m=\u001b[39;49m\u001b[39mTrue\u001b[39;49;00m\n\u001b[1;32m    537\u001b[0m )\n\u001b[1;32m    539\u001b[0m start_time \u001b[39m=\u001b[39m time()\n\u001b[1;32m    541\u001b[0m \u001b[39mif\u001b[39;00m \u001b[39mcallable\u001b[39m(\u001b[39mself\u001b[39m\u001b[39m.\u001b[39moptimizer):\n",
      "File \u001b[0;32m~/.local/lib/python3.8/site-packages/qiskit/algorithms/minimum_eigen_solvers/vqe.py:612\u001b[0m, in \u001b[0;36mVQE.get_energy_evaluation\u001b[0;34m(self, operator, return_expectation)\u001b[0m\n\u001b[1;32m    609\u001b[0m     \u001b[39mraise\u001b[39;00m \u001b[39mRuntimeError\u001b[39;00m(\u001b[39m\"\u001b[39m\u001b[39mThe ansatz must be parameterized, but has 0 free parameters.\u001b[39m\u001b[39m\"\u001b[39m)\n\u001b[1;32m    611\u001b[0m ansatz_params \u001b[39m=\u001b[39m \u001b[39mself\u001b[39m\u001b[39m.\u001b[39mansatz\u001b[39m.\u001b[39mparameters\n\u001b[0;32m--> 612\u001b[0m expect_op, expectation \u001b[39m=\u001b[39m \u001b[39mself\u001b[39;49m\u001b[39m.\u001b[39;49mconstruct_expectation(\n\u001b[1;32m    613\u001b[0m     ansatz_params, operator, return_expectation\u001b[39m=\u001b[39;49m\u001b[39mTrue\u001b[39;49;00m\n\u001b[1;32m    614\u001b[0m )\n\u001b[1;32m    616\u001b[0m \u001b[39mdef\u001b[39;00m \u001b[39menergy_evaluation\u001b[39m(parameters):\n\u001b[1;32m    617\u001b[0m     parameter_sets \u001b[39m=\u001b[39m np\u001b[39m.\u001b[39mreshape(parameters, (\u001b[39m-\u001b[39m\u001b[39m1\u001b[39m, num_parameters))\n",
      "File \u001b[0;32m~/.local/lib/python3.8/site-packages/qiskit/algorithms/minimum_eigen_solvers/vqe.py:441\u001b[0m, in \u001b[0;36mVQE.construct_expectation\u001b[0;34m(self, parameter, operator, return_expectation)\u001b[0m\n\u001b[1;32m    438\u001b[0m wave_function \u001b[39m=\u001b[39m \u001b[39mself\u001b[39m\u001b[39m.\u001b[39mansatz\u001b[39m.\u001b[39massign_parameters(parameter)\n\u001b[1;32m    440\u001b[0m observable_meas \u001b[39m=\u001b[39m expectation\u001b[39m.\u001b[39mconvert(StateFn(operator, is_measurement\u001b[39m=\u001b[39m\u001b[39mTrue\u001b[39;00m))\n\u001b[0;32m--> 441\u001b[0m ansatz_circuit_op \u001b[39m=\u001b[39m CircuitStateFn(wave_function)\n\u001b[1;32m    442\u001b[0m expect_op \u001b[39m=\u001b[39m observable_meas\u001b[39m.\u001b[39mcompose(ansatz_circuit_op)\u001b[39m.\u001b[39mreduce()\n\u001b[1;32m    444\u001b[0m \u001b[39mif\u001b[39;00m return_expectation:\n",
      "File \u001b[0;32m~/.local/lib/python3.8/site-packages/qiskit/utils/deprecation.py:95\u001b[0m, in \u001b[0;36mdeprecate_func.<locals>.decorator.<locals>.wrapper\u001b[0;34m(*args, **kwargs)\u001b[0m\n\u001b[1;32m     92\u001b[0m \u001b[39m@functools\u001b[39m\u001b[39m.\u001b[39mwraps(func)\n\u001b[1;32m     93\u001b[0m \u001b[39mdef\u001b[39;00m \u001b[39mwrapper\u001b[39m(\u001b[39m*\u001b[39margs, \u001b[39m*\u001b[39m\u001b[39m*\u001b[39mkwargs):\n\u001b[1;32m     94\u001b[0m     warnings\u001b[39m.\u001b[39mwarn(msg, category\u001b[39m=\u001b[39mcategory, stacklevel\u001b[39m=\u001b[39m\u001b[39m2\u001b[39m)\n\u001b[0;32m---> 95\u001b[0m     \u001b[39mreturn\u001b[39;00m func(\u001b[39m*\u001b[39;49margs, \u001b[39m*\u001b[39;49m\u001b[39m*\u001b[39;49mkwargs)\n",
      "File \u001b[0;32m~/.local/lib/python3.8/site-packages/qiskit/opflow/state_fns/circuit_state_fn.py:81\u001b[0m, in \u001b[0;36mCircuitStateFn.__init__\u001b[0;34m(self, primitive, coeff, is_measurement, from_operator)\u001b[0m\n\u001b[1;32m     75\u001b[0m     \u001b[39mraise\u001b[39;00m \u001b[39mTypeError\u001b[39;00m(\n\u001b[1;32m     76\u001b[0m         \u001b[39m\"\u001b[39m\u001b[39mCircuitStateFn can only be instantiated \u001b[39m\u001b[39m\"\u001b[39m\n\u001b[1;32m     77\u001b[0m         \u001b[39m\"\u001b[39m\u001b[39mwith QuantumCircuit, not \u001b[39m\u001b[39m{}\u001b[39;00m\u001b[39m\"\u001b[39m\u001b[39m.\u001b[39mformat(\u001b[39mtype\u001b[39m(primitive))\n\u001b[1;32m     78\u001b[0m     )\n\u001b[1;32m     80\u001b[0m \u001b[39mif\u001b[39;00m \u001b[39mlen\u001b[39m(primitive\u001b[39m.\u001b[39mclbits) \u001b[39m!=\u001b[39m \u001b[39m0\u001b[39m:\n\u001b[0;32m---> 81\u001b[0m     \u001b[39mraise\u001b[39;00m \u001b[39mTypeError\u001b[39;00m(\u001b[39m\"\u001b[39m\u001b[39mCircuitOp does not support QuantumCircuits with ClassicalRegisters.\u001b[39m\u001b[39m\"\u001b[39m)\n\u001b[1;32m     83\u001b[0m \u001b[39msuper\u001b[39m()\u001b[39m.\u001b[39m\u001b[39m__init__\u001b[39m(primitive, coeff\u001b[39m=\u001b[39mcoeff, is_measurement\u001b[39m=\u001b[39mis_measurement)\n\u001b[1;32m     85\u001b[0m \u001b[39mself\u001b[39m\u001b[39m.\u001b[39mfrom_operator \u001b[39m=\u001b[39m from_operator\n",
      "\u001b[0;31mTypeError\u001b[0m: CircuitOp does not support QuantumCircuits with ClassicalRegisters."
     ]
    }
   ],
   "source": [
    "params = {'depth': 10,\n",
    "          'num_individual': 8,  # Must mod 8 = 0\n",
    "          'num_generation': 30,\n",
    "          'num_qubits': 4,\n",
    "          'threshold': 0.2,\n",
    "          'prob_mutate': 0.01}\n",
    "\n",
    "env = environment.EEnvironment(\n",
    "    params,\n",
    "    fitness_func = VQE_fitness,\n",
    "    selection_func = selection.elitist_selection,\n",
    "    crossover_func= crossover.onepoint_crossover,\n",
    "    mutate_func=mutate.bitflip_mutate,\n",
    "    pool = qtm.constant.operations\n",
    ")\n",
    "\n",
    "env.initialize_population()\n",
    "env.evol() "
   ]
  },
  {
   "cell_type": "code",
   "execution_count": null,
   "metadata": {},
   "outputs": [],
   "source": []
  }
 ],
 "metadata": {
  "kernelspec": {
   "display_name": "Python 3 (ipykernel)",
   "language": "python",
   "name": "python3"
  },
  "language_info": {
   "codemirror_mode": {
    "name": "ipython",
    "version": 3
   },
   "file_extension": ".py",
   "mimetype": "text/x-python",
   "name": "python",
   "nbconvert_exporter": "python",
   "pygments_lexer": "ipython3",
   "version": "3.8.10"
  }
 },
 "nbformat": 4,
 "nbformat_minor": 4
}
