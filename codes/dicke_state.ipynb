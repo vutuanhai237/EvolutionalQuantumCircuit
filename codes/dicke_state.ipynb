{
 "cells": [
  {
   "cell_type": "code",
   "execution_count": 2,
   "metadata": {},
   "outputs": [
    {
     "name": "stdout",
     "output_type": "stream",
     "text": [
      "Statevector:  [0.5 0.5 0.  0.  0.  0.  0.  0.  0.  0.  0.  0.  0.  0.  0.5 0.5]\n"
     ]
    },
    {
     "name": "stderr",
     "output_type": "stream",
     "text": [
      "/Library/Frameworks/Python.framework/Versions/3.10/lib/python3.10/site-packages/qiskit/visualization/circuit/matplotlib.py:266: FutureWarning: The default matplotlib drawer scheme will be changed to \"iqp\" in a following release. To silence this warning, specify the current default explicitly as style=\"clifford\", or the new default as style=\"iqp\".\n",
      "  self._style, def_font_ratio = load_style(self._style)\n"
     ]
    }
   ],
   "source": [
    "from qiskit import QuantumCircuit, Aer, execute\n",
    "from qiskit.quantum_info import Statevector\n",
    "from qiskit.visualization import plot_histogram\n",
    "import matplotlib.pyplot as plt\n",
    "import numpy as np\n",
    "\n",
    "def prepare_dicke_state(n, k):\n",
    "    # Tạo một mạch lượng tử với n qubits\n",
    "    qc = QuantumCircuit(n)\n",
    "    \n",
    "    # Đây là một phương pháp tổng quát để chuẩn bị trạng thái Dicke\n",
    "    # Cần một cách cụ thể để chuẩn bị Dicke State dựa trên n và k\n",
    "    # Ví dụ dưới đây chỉ là một khởi đầu và có thể cần được chỉnh sửa tùy theo yêu cầu cụ thể\n",
    "    \n",
    "    # Đặt k qubits đầu tiên vào trạng thái |1>\n",
    "    for i in range(k):\n",
    "        qc.h(i)  # Áp dụng Hadamard để tạo superposition\n",
    "    \n",
    "    # Sử dụng cổng logic lượng tử để phân bố trạng thái |1> đều khắp các qubits\n",
    "    for i in range(k, n):\n",
    "        qc.cx(i-1, i)\n",
    "    \n",
    "    return qc\n",
    "\n",
    "# Thiết lập n và k\n",
    "n = 4  # Số lượng qubits\n",
    "k = 2  # Số lượng qubits ở trạng thái |1>\n",
    "\n",
    "# Chuẩn bị Dicke State\n",
    "qc = prepare_dicke_state(n, k)\n",
    "qc.draw(output='mpl')\n",
    "plt.show()\n",
    "\n",
    "# Mô phỏng và hiển thị kết quả\n",
    "simulator = Aer.get_backend('statevector_simulator')\n",
    "result = execute(qc, simulator).result()\n",
    "statevector = result.get_statevector()\n",
    "print(\"Statevector: \", np.real(statevector))\n"
   ]
  }
 ],
 "metadata": {
  "kernelspec": {
   "display_name": "Python 3",
   "language": "python",
   "name": "python3"
  },
  "language_info": {
   "codemirror_mode": {
    "name": "ipython",
    "version": 3
   },
   "file_extension": ".py",
   "mimetype": "text/x-python",
   "name": "python",
   "nbconvert_exporter": "python",
   "pygments_lexer": "ipython3",
   "version": "3.10.9"
  }
 },
 "nbformat": 4,
 "nbformat_minor": 2
}
