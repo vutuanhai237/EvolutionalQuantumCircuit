{
 "cells": [
  {
   "cell_type": "code",
   "execution_count": 107,
   "metadata": {},
   "outputs": [
    {
     "name": "stdout",
     "output_type": "stream",
     "text": [
      "The autoreload extension is already loaded. To reload it, use:\n",
      "  %reload_ext autoreload\n"
     ]
    }
   ],
   "source": [
    "import sys, qiskit\n",
    "sys.path.insert(0, '..')\n",
    "import matplotlib.pyplot as plt\n",
    "import numpy as np\n",
    "import qiskit.quantum_info as qi\n",
    "from qsee.compilation.qsp import QuantumStatePreparation\n",
    "from qsee.core import ansatz, state, measure\n",
    "from qsee.backend import constant, utilities\n",
    "from qsee.evolution import crossover, mutate, selection, threshold\n",
    "from qsee.evolution.environment import EEnvironment, EEnvironmentMetadata\n",
    "%load_ext autoreload\n",
    "%autoreload 2"
   ]
  },
  {
   "cell_type": "markdown",
   "metadata": {},
   "source": [
    "<img src = '../docs/compilation-design1.png' height ='500px'>\n",
    "<img src = '../docs/compilation-design2.png' height ='500px'>"
   ]
  },
  {
   "cell_type": "code",
   "execution_count": 87,
   "metadata": {},
   "outputs": [
    {
     "name": "stdout",
     "output_type": "stream",
     "text": [
      "Training states:\n",
      "[0.76627381+0.j 0.30370054+0.j 0.35983787+0.j 0.43715802+0.j]\n",
      "[-0.48642165+1.51643250e-16j  0.61234353-9.76577475e-19j\n",
      "  0.59890639-1.82605912e-18j  0.17245437+2.47948546e-18j]\n",
      "[ 0.06857528+1.18951136e-17j -0.73950579+8.11557423e-17j\n",
      " -0.62458783+8.93743665e-17j -0.24149256+4.27756235e-17j]\n",
      "[ 0.65740703-1.85978918e-17j  0.45226981-9.09558233e-18j\n",
      "  0.59621583+2.09007129e-18j -0.08828758+2.81867189e-17j]\n",
      "[ 0.66656812+3.62847231e-34j -0.10554626+1.29256894e-17j\n",
      " -0.58981233+7.22311783e-17j  0.44347305-7.98033068e-34j]\n",
      "[ 0.67236693+6.58798155e-18j  0.16914797-1.76459122e-18j\n",
      "  0.0958498 -3.39035056e-18j -0.71423   +3.00168324e-16j]\n",
      "[ 0.55497115-4.48327373e-18j  0.35778696+2.29068596e-17j\n",
      "  0.58038686+7.19437822e-17j -0.476599  +1.12254628e-16j]\n",
      "[ 0.10379983+2.46190708e-33j -0.51273235+6.27916027e-17j\n",
      "  0.79678854-7.21993514e-34j -0.30242216+3.70360332e-17j]\n",
      "[ 0.18234408-2.91534355e-19j -0.84223419+3.23643791e-16j\n",
      "  0.40229887+4.32392310e-17j  0.3091081 +7.03222358e-18j]\n",
      "[ 0.53885291-1.87081997e-17j  0.26844805-4.94414529e-18j\n",
      "  0.69119664+7.31008020e-17j -0.39977542+8.06595688e-17j]\n",
      "Testing states:\n",
      "[-0.72196082+8.84147008e-17j  0.5160737 +2.85162615e-33j\n",
      " -0.41242431+5.05074113e-17j  0.20578312-2.64683127e-33j]\n",
      "[ 0.24100208+1.34264150e-33j -0.72038798+8.82220838e-17j\n",
      "  0.31099914-1.11412109e-33j -0.57117308+6.99485279e-17j]\n",
      "[-0.15975116+2.46605520e-17j -0.63065224+5.06438296e-17j\n",
      " -0.50834756+6.18946588e-17j  0.56421633+1.07945840e-16j]\n",
      "[-0.61925092+6.89803404e-17j -0.67920968+1.45484082e-16j\n",
      " -0.31268873+5.30844941e-17j  0.23964195+4.16606481e-17j]\n",
      "[ 0.65452872-2.58939343e-17j  0.73952102-8.53584383e-17j\n",
      "  0.12437269-1.51744094e-18j -0.09608458+2.90667396e-17j]\n"
     ]
    }
   ],
   "source": [
    "n = 10\n",
    "m = 5\n",
    "num_qubits = 2\n",
    "utrains, utests = [], []\n",
    "print(\"Training states:\")\n",
    "for i in range(0, n):\n",
    "    utrain = state.haar(num_qubits)\n",
    "    print(qi.Statevector.from_instruction(utrain).data)\n",
    "    utrains.append(utrain)\n",
    "print(\"Testing states:\")\n",
    "for i in range(0, m):\n",
    "    utest = state.haar(num_qubits)\n",
    "    print(qi.Statevector.from_instruction(utest).data)\n",
    "    utests.append(utest)\n",
    "    \n",
    "\n",
    "\n",
    "def random_compilation_fitness(qc: qiskit.QuantumCircuit):\n",
    "    p0s = []\n",
    "    for i in range(0, n):\n",
    "        qsp = QuantumStatePreparation(\n",
    "            u=qc,\n",
    "            target_state=utrains[i].inverse()\n",
    "        ).fit(num_steps=10, metrics_func=['loss_basic'])\n",
    "        # loss_basic = 1 - p0 => p0 = 1 - loss_basic\n",
    "        p0s.append(1-qsp.compiler.metrics['loss_basic'][-1])\n",
    "    # C = 1/n * sum(p_0)\n",
    "    return np.mean(p0s)\n",
    "\n",
    "def full_random_compilation_fitness(qc: qiskit.QuantumCircuit):\n",
    "    p0s = []\n",
    "    for i in range(0, n):\n",
    "        qsp = QuantumStatePreparation(\n",
    "            u=qc,\n",
    "            target_state=utrains[i].inverse()\n",
    "        ).fit(num_steps=100, metrics_func=['loss_basic'])\n",
    "        # loss_basic = 1 - p0 => p0 = 1 - loss_basic\n",
    "        p0s.append(1-qsp.compiler.metrics['loss_basic'][-1])\n",
    "    # C = 1/n * sum(p_0)\n",
    "    return np.mean(p0s)\n",
    "\n",
    "def random_compiltion_test(qc_best: qiskit.QuantumCircuit):\n",
    "    risks = []\n",
    "    for i in range(0, m):\n",
    "        qsp = QuantumStatePreparation(\n",
    "            u=qc_best,\n",
    "            target_state=utests[i].inverse()\n",
    "        ).fit(num_steps=10)\n",
    "        # loss_basic = 1 - p0 => p0 = 1 - loss_basic\n",
    "        risks.append(measure.measure(utests[i]) - measure.measure(qc_best.assign_parameters(qsp.compiler.parameters)))\n",
    "    # C = 1/n * sum(p_0)\n",
    "    return np.mean(p0s)"
   ]
  },
  {
   "cell_type": "code",
   "execution_count": 114,
   "metadata": {},
   "outputs": [],
   "source": [
    "\n",
    "# qubit = 2, depth = 4\n",
    "# qubit = 3, depth around 15\n",
    "# qubit = 4, depth around 40\n",
    "# qubit = 5, depth around 100\n",
    "# num_generation = 10, 20, 30, ...\n",
    "# num_circuit = 4, 8, 16, 32, ...\n",
    "# depth = 2,3,4, ...\n",
    "\n",
    "def super_evol(_depth, _num_circuit, _num_generation):\n",
    "    env_metadata = EEnvironmentMetadata(\n",
    "        num_qubits = num_qubits,\n",
    "        depth = _depth,\n",
    "        num_circuit = _num_circuit,\n",
    "        num_generation = _num_generation,\n",
    "        prob_mutate=3/(_depth * _num_circuit)\n",
    "    )\n",
    "    env = EEnvironment(\n",
    "        metadata = env_metadata,\n",
    "        fitness_func=[random_compilation_fitness, full_random_compilation_fitness],\n",
    "        selection_func=selection.elitist_selection,\n",
    "        crossover_func=crossover.onepoint_crossover,\n",
    "        mutate_func=mutate.layerflip_mutate,\n",
    "        threshold_func=threshold.compilation_threshold\n",
    "    )\n",
    "    env.set_filename(f'n={num_qubits},d={_depth},n_circuit={_num_circuit},n_gen={_num_generation}')\n",
    "    env.evol()\n",
    "\n",
    "depths = [2,3]\n",
    "num_circuit = 4\n",
    "num_generations = [10, 20, 30]\n",
    "\n",
    "for num_generation in num_generations: \n",
    "    for depth in depths:\n",
    "        # check if folder exists\n",
    "        import os\n",
    "        if os.path.isdir(f'n={num_qubits},d={depth},n_circuit={num_circuit},n_gen={num_generation}') == False:\n",
    "            print(depth, num_circuit, num_generation)\n",
    "            super_evol(depth, num_circuit, num_generation)\n"
   ]
  },
  {
   "cell_type": "code",
   "execution_count": 111,
   "metadata": {},
   "outputs": [
    {
     "name": "stdout",
     "output_type": "stream",
     "text": [
      "0.552211017724849\n"
     ]
    }
   ],
   "source": [
    "env2 = EEnvironment.load('n=2,d=2,n_circuit=4,n_gen=2', random_compilation_fitness)\n",
    "print(random_compilation_fitness(env2.best_circuits[0]))"
   ]
  }
 ],
 "metadata": {
  "kernelspec": {
   "display_name": "Python 3",
   "language": "python",
   "name": "python3"
  },
  "language_info": {
   "codemirror_mode": {
    "name": "ipython",
    "version": 3
   },
   "file_extension": ".py",
   "mimetype": "text/x-python",
   "name": "python",
   "nbconvert_exporter": "python",
   "pygments_lexer": "ipython3",
   "version": "3.10.9"
  }
 },
 "nbformat": 4,
 "nbformat_minor": 2
}
