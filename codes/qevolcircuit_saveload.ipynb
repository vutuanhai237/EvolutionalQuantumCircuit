{
 "cells": [
  {
   "cell_type": "code",
   "execution_count": 37,
   "metadata": {},
   "outputs": [
    {
     "name": "stdout",
     "output_type": "stream",
     "text": [
      "The autoreload extension is already loaded. To reload it, use:\n",
      "  %reload_ext autoreload\n"
     ]
    }
   ],
   "source": [
    "import sys\n",
    "sys.path.insert(0, '..')\n",
    "import numpy as np\n",
    "import qiskit\n",
    "import qtm.evolution\n",
    "import qtm.state\n",
    "import qtm.qcompilation\n",
    "import qtm.ansatz\n",
    "import qtm.constant\n",
    "from qtm.evolution import environment, mutate, selection, crossover, utils\n",
    "import matplotlib.pyplot as plt\n",
    "%load_ext autoreload\n",
    "%autoreload 2\n"
   ]
  },
  {
   "cell_type": "code",
   "execution_count": 74,
   "metadata": {},
   "outputs": [],
   "source": [
    "qc_haar = qtm.state.create_haar_state_inverse(3)\n",
    "\n",
    "\n",
    "def compilation_fitness(qc: qiskit.QuantumCircuit, num_steps = 5):\n",
    "    compiler = qtm.qcompilation.QuantumCompilation(\n",
    "        u=qc,\n",
    "        vdagger=qc_haar,\n",
    "        optimizer='adam',\n",
    "        loss_func='loss_fubini_study'\n",
    "    )\n",
    "    compiler.fit(num_steps=num_steps, verbose=0)\n",
    "    return np.average(compiler.loss_values)\n",
    "\n",
    "def compilation_threshold(fitness_value):\n",
    "    if fitness_value < 0.4: \n",
    "        return True\n",
    "    return False"
   ]
  },
  {
   "cell_type": "code",
   "execution_count": 98,
   "metadata": {},
   "outputs": [
    {
     "name": "stderr",
     "output_type": "stream",
     "text": [
      "Step: 100%|██████████| 2/2 [00:16<00:00,  8.04s/it]"
     ]
    },
    {
     "name": "stdout",
     "output_type": "stream",
     "text": [
      "End best score, end evol progress, percent target: 0.8\n"
     ]
    },
    {
     "name": "stderr",
     "output_type": "stream",
     "text": [
      "\n"
     ]
    }
   ],
   "source": [
    "params = {'depth': 5,\n",
    "          'num_circuit': 8,  # Must mod 8 = 0\n",
    "          'num_generation': 2,\n",
    "          'num_qubits': 3,\n",
    "          'threshold': compilation_threshold,\n",
    "          'prob_mutate': 0.01}\n",
    "\n",
    "env = environment.EEnvironment(\n",
    "    params,\n",
    "    fitness_func = compilation_fitness,\n",
    "    selection_func = selection.elitist_selection,\n",
    "    crossover_func= crossover.onepoint_crossover,\n",
    "    mutate_func=mutate.bitflip_mutate,\n",
    "    pool = qtm.constant.operations,\n",
    "    save_progress = True\n",
    ")\n",
    "\n",
    "env.initialize_population()\n",
    "env.evol() "
   ]
  },
  {
   "cell_type": "code",
   "execution_count": 100,
   "metadata": {},
   "outputs": [
    {
     "data": {
      "image/png": "[encoded data removed]",
      "text/plain": [
       "<Figure size 621.941x284.278 with 1 Axes>"
      ]
     },
     "execution_count": 100,
     "metadata": {},
     "output_type": "execute_result"
    }
   ],
   "source": [
    "env.best_candidate.qc.draw('mpl')"
   ]
  },
  {
   "cell_type": "code",
   "execution_count": 101,
   "metadata": {},
   "outputs": [],
   "source": [
    "env.save('../experiments/evolution/test.envobj')"
   ]
  },
  {
   "cell_type": "code",
   "execution_count": 102,
   "metadata": {},
   "outputs": [],
   "source": [
    "env2 = environment.EEnvironment(\"../experiments/evolution/test.envobj\")"
   ]
  },
  {
   "cell_type": "code",
   "execution_count": 103,
   "metadata": {},
   "outputs": [
    {
     "data": {
      "text/plain": [
       "[[<qtm.evolution.ecircuit.ECircuit at 0x16659eef0>,\n",
       "  <qtm.evolution.ecircuit.ECircuit at 0x16659f760>,\n",
       "  <qtm.evolution.ecircuit.ECircuit at 0x16659c520>,\n",
       "  <qtm.evolution.ecircuit.ECircuit at 0x166a18700>,\n",
       "  <qtm.evolution.ecircuit.ECircuit at 0x166a19420>,\n",
       "  <qtm.evolution.ecircuit.ECircuit at 0x166a18670>,\n",
       "  <qtm.evolution.ecircuit.ECircuit at 0x166a1b880>,\n",
       "  <qtm.evolution.ecircuit.ECircuit at 0x166a1ad70>],\n",
       " [<qtm.evolution.ecircuit.ECircuit at 0x16690b070>,\n",
       "  <qtm.evolution.ecircuit.ECircuit at 0x1669e3d30>,\n",
       "  <qtm.evolution.ecircuit.ECircuit at 0x1668d7790>,\n",
       "  <qtm.evolution.ecircuit.ECircuit at 0x1668d5f30>,\n",
       "  <qtm.evolution.ecircuit.ECircuit at 0x1668d4eb0>,\n",
       "  <qtm.evolution.ecircuit.ECircuit at 0x1661d7ee0>,\n",
       "  <qtm.evolution.ecircuit.ECircuit at 0x1661d7100>,\n",
       "  <qtm.evolution.ecircuit.ECircuit at 0x1661d71f0>]]"
      ]
     },
     "execution_count": 103,
     "metadata": {},
     "output_type": "execute_result"
    }
   ],
   "source": [
    "env2.populations"
   ]
  }
 ],
 "metadata": {
  "kernelspec": {
   "display_name": "Python 3",
   "language": "python",
   "name": "python3"
  },
  "language_info": {
   "codemirror_mode": {
    "name": "ipython",
    "version": 3
   },
   "file_extension": ".py",
   "mimetype": "text/x-python",
   "name": "python",
   "nbconvert_exporter": "python",
   "pygments_lexer": "ipython3",
   "version": "3.10.9"
  },
  "orig_nbformat": 4
 },
 "nbformat": 4,
 "nbformat_minor": 2
}
