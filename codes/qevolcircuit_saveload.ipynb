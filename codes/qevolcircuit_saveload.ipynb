{
 "cells": [
  {
   "cell_type": "code",
   "execution_count": 118,
   "metadata": {},
   "outputs": [
    {
     "name": "stdout",
     "output_type": "stream",
     "text": [
      "The autoreload extension is already loaded. To reload it, use:\n",
      "  %reload_ext autoreload\n"
     ]
    }
   ],
   "source": [
    "import sys\n",
    "sys.path.insert(0, '..')\n",
    "import numpy as np\n",
    "import qiskit\n",
    "import qtm.evolution\n",
    "import qtm.state\n",
    "import qtm.qcompilation\n",
    "import qtm.ansatz\n",
    "import qtm.constant\n",
    "from qtm.evolution import environment, mutate, selection, crossover, utils\n",
    "import matplotlib.pyplot as plt\n",
    "%load_ext autoreload\n",
    "%autoreload 2\n"
   ]
  },
  {
   "cell_type": "code",
   "execution_count": 120,
   "metadata": {},
   "outputs": [],
   "source": [
    "qc_haar = qtm.state.create_haar_state(3)\n",
    "\n",
    "\n",
    "def compilation_fitness(qc: qiskit.QuantumCircuit, num_steps = 5):\n",
    "    compiler = qtm.qcompilation.QuantumCompilation(\n",
    "        u=qc,\n",
    "        vdagger=qc_haar.inverse(),\n",
    "        optimizer='adam',\n",
    "        loss_func='loss_fubini_study'\n",
    "    )\n",
    "    compiler.fit(num_steps=num_steps, verbose=0)\n",
    "    return np.average(compiler.loss_values)\n",
    "\n",
    "def compilation_threshold(fitness_value):\n",
    "    if fitness_value < 0.4: \n",
    "        return True\n",
    "    return False"
   ]
  },
  {
   "cell_type": "markdown",
   "metadata": {},
   "source": [
    "### Envobj will be created and auto-saved after each generation"
   ]
  },
  {
   "cell_type": "code",
   "execution_count": null,
   "metadata": {},
   "outputs": [],
   "source": [
    "params = {'depth': 4,\n",
    "          'num_circuit': 8,  # Must mod 8 = 0\n",
    "          'num_generation': 10,\n",
    "          'num_qubits': 3,\n",
    "          'threshold': compilation_threshold,\n",
    "          'prob_mutate': 0.01}\n",
    "\n",
    "env = environment.EEnvironment(\n",
    "    params,\n",
    "    fitness_func = compilation_fitness,\n",
    "    selection_func = selection.elitist_selection,\n",
    "    crossover_func= crossover.onepoint_crossover,\n",
    "    mutate_func=mutate.bitflip_mutate,\n",
    "    pool = qtm.constant.operations,\n",
    "    file_name = '../experiments/evolution/'\n",
    ")\n",
    "\n",
    "env.evol() "
   ]
  },
  {
   "cell_type": "code",
   "execution_count": 156,
   "metadata": {},
   "outputs": [
    {
     "data": {
      "image/png": "[encoded data removed]",
      "text/plain": [
       "<Figure size 621.941x284.278 with 1 Axes>"
      ]
     },
     "execution_count": 156,
     "metadata": {},
     "output_type": "execute_result"
    }
   ],
   "source": [
    "env.best_candidate.qc.draw('mpl')"
   ]
  },
  {
   "cell_type": "markdown",
   "metadata": {},
   "source": [
    "### Load envobj object and continute evol by using the same method evol()"
   ]
  },
  {
   "cell_type": "code",
   "execution_count": 162,
   "metadata": {},
   "outputs": [],
   "source": [
    "env2 = environment.EEnvironment(\"../experiments/evolution/ga_compilation_fitness_2023-10-06.envobj\")"
   ]
  },
  {
   "cell_type": "code",
   "execution_count": 163,
   "metadata": {},
   "outputs": [
    {
     "name": "stderr",
     "output_type": "stream",
     "text": [
      "Step:   0%|          | 0/10 [00:00<?, ?it/s]\n"
     ]
    }
   ],
   "source": [
    "env2.evol()"
   ]
  },
  {
   "cell_type": "code",
   "execution_count": 161,
   "metadata": {},
   "outputs": [
    {
     "data": {
      "text/plain": [
       "{'depth': 4,\n",
       " 'num_circuit': 8,\n",
       " 'num_generation': 10,\n",
       " 'num_qubits': 3,\n",
       " 'threshold': <function __main__.compilation_threshold(fitness_value)>,\n",
       " 'prob_mutate': 0.01}"
      ]
     },
     "execution_count": 161,
     "metadata": {},
     "output_type": "execute_result"
    }
   ],
   "source": [
    "env2.params"
   ]
  }
 ],
 "metadata": {
  "kernelspec": {
   "display_name": "Python 3",
   "language": "python",
   "name": "python3"
  },
  "language_info": {
   "codemirror_mode": {
    "name": "ipython",
    "version": 3
   },
   "file_extension": ".py",
   "mimetype": "text/x-python",
   "name": "python",
   "nbconvert_exporter": "python",
   "pygments_lexer": "ipython3",
   "version": "3.10.9"
  },
  "orig_nbformat": 4
 },
 "nbformat": 4,
 "nbformat_minor": 2
}
