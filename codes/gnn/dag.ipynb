{
 "cells": [
  {
   "cell_type": "code",
   "execution_count": 1,
   "metadata": {},
   "outputs": [],
   "source": [
    "import qiskit\n",
    "import numpy as np\n",
    "import sys\n",
    "sys.path.insert(0, '../..')\n",
    "import qoop.core.random_circuit\n",
    "import qoop.backend.constant\n",
    "import qoop.core.dag\n",
    "%load_ext autoreload\n",
    "%autoreload 2"
   ]
  },
  {
   "cell_type": "code",
   "execution_count": 2,
   "metadata": {},
   "outputs": [
    {
     "data": {
      "image/png": "[encoded data removed]",
      "text/plain": [
       "<Figure size 1123.61x284.278 with 1 Axes>"
      ]
     },
     "execution_count": 2,
     "metadata": {},
     "output_type": "execute_result"
    }
   ],
   "source": [
    "qc = qoop.core.random_circuit.generate_with_pool(3, 10)\n",
    "qc.draw('mpl')"
   ]
  },
  {
   "cell_type": "code",
   "execution_count": 2,
   "metadata": {},
   "outputs": [
    {
     "ename": "MissingOptionalLibraryError",
     "evalue": "\"The 'graphviz' library is required to use 'dag_drawer'. You can install it with ''brew install graphviz' if on Mac, or by downloding it from their website'.\"",
     "output_type": "error",
     "traceback": [
      "\u001b[1;31m---------------------------------------------------------------------------\u001b[0m",
      "\u001b[1;31mMissingOptionalLibraryError\u001b[0m               Traceback (most recent call last)",
      "Cell \u001b[1;32mIn[2], line 5\u001b[0m\n\u001b[0;32m      3\u001b[0m qc \u001b[38;5;241m=\u001b[39m qoop\u001b[38;5;241m.\u001b[39mcore\u001b[38;5;241m.\u001b[39mrandom_circuit\u001b[38;5;241m.\u001b[39mgenerate_with_pool(num_qubits, num_depth)\n\u001b[0;32m      4\u001b[0m dag \u001b[38;5;241m=\u001b[39m qiskit\u001b[38;5;241m.\u001b[39mconverters\u001b[38;5;241m.\u001b[39mcircuit_to_dag(qc)\n\u001b[1;32m----> 5\u001b[0m \u001b[43mdag\u001b[49m\u001b[38;5;241;43m.\u001b[39;49m\u001b[43mdraw\u001b[49m\u001b[43m(\u001b[49m\u001b[43m)\u001b[49m\n",
      "File \u001b[1;32m~\\AppData\\Local\\Packages\\PythonSoftwareFoundation.Python.3.10_qbz5n2kfra8p0\\LocalCache\\local-packages\\Python310\\site-packages\\qiskit\\dagcircuit\\dagcircuit.py:2105\u001b[0m, in \u001b[0;36mDAGCircuit.draw\u001b[1;34m(self, scale, filename, style)\u001b[0m\n\u001b[0;32m   2082\u001b[0m \u001b[38;5;250m\u001b[39m\u001b[38;5;124;03m\"\"\"\u001b[39;00m\n\u001b[0;32m   2083\u001b[0m \u001b[38;5;124;03mDraws the dag circuit.\u001b[39;00m\n\u001b[0;32m   2084\u001b[0m \n\u001b[1;32m   (...)\u001b[0m\n\u001b[0;32m   2101\u001b[0m \u001b[38;5;124;03m    otherwise None.\u001b[39;00m\n\u001b[0;32m   2102\u001b[0m \u001b[38;5;124;03m\"\"\"\u001b[39;00m\n\u001b[0;32m   2103\u001b[0m \u001b[38;5;28;01mfrom\u001b[39;00m \u001b[38;5;21;01mqiskit\u001b[39;00m\u001b[38;5;21;01m.\u001b[39;00m\u001b[38;5;21;01mvisualization\u001b[39;00m\u001b[38;5;21;01m.\u001b[39;00m\u001b[38;5;21;01mdag_visualization\u001b[39;00m \u001b[38;5;28;01mimport\u001b[39;00m dag_drawer\n\u001b[1;32m-> 2105\u001b[0m \u001b[38;5;28;01mreturn\u001b[39;00m \u001b[43mdag_drawer\u001b[49m\u001b[43m(\u001b[49m\u001b[43mdag\u001b[49m\u001b[38;5;241;43m=\u001b[39;49m\u001b[38;5;28;43mself\u001b[39;49m\u001b[43m,\u001b[49m\u001b[43m \u001b[49m\u001b[43mscale\u001b[49m\u001b[38;5;241;43m=\u001b[39;49m\u001b[43mscale\u001b[49m\u001b[43m,\u001b[49m\u001b[43m \u001b[49m\u001b[43mfilename\u001b[49m\u001b[38;5;241;43m=\u001b[39;49m\u001b[43mfilename\u001b[49m\u001b[43m,\u001b[49m\u001b[43m \u001b[49m\u001b[43mstyle\u001b[49m\u001b[38;5;241;43m=\u001b[39;49m\u001b[43mstyle\u001b[49m\u001b[43m)\u001b[49m\n",
      "File \u001b[1;32m~\\AppData\\Local\\Packages\\PythonSoftwareFoundation.Python.3.10_qbz5n2kfra8p0\\LocalCache\\local-packages\\Python310\\site-packages\\qiskit\\utils\\lazy_tester.py:164\u001b[0m, in \u001b[0;36mLazyDependencyManager.require_in_call.<locals>.out\u001b[1;34m(*args, **kwargs)\u001b[0m\n\u001b[0;32m    162\u001b[0m \u001b[38;5;129m@functools\u001b[39m\u001b[38;5;241m.\u001b[39mwraps(function)\n\u001b[0;32m    163\u001b[0m \u001b[38;5;28;01mdef\u001b[39;00m \u001b[38;5;21mout\u001b[39m(\u001b[38;5;241m*\u001b[39margs, \u001b[38;5;241m*\u001b[39m\u001b[38;5;241m*\u001b[39mkwargs):\n\u001b[1;32m--> 164\u001b[0m     \u001b[38;5;28;43mself\u001b[39;49m\u001b[38;5;241;43m.\u001b[39;49m\u001b[43mrequire_now\u001b[49m\u001b[43m(\u001b[49m\u001b[43mfeature\u001b[49m\u001b[43m)\u001b[49m\n\u001b[0;32m    165\u001b[0m     \u001b[38;5;28;01mreturn\u001b[39;00m function(\u001b[38;5;241m*\u001b[39margs, \u001b[38;5;241m*\u001b[39m\u001b[38;5;241m*\u001b[39mkwargs)\n",
      "File \u001b[1;32m~\\AppData\\Local\\Packages\\PythonSoftwareFoundation.Python.3.10_qbz5n2kfra8p0\\LocalCache\\local-packages\\Python310\\site-packages\\qiskit\\utils\\lazy_tester.py:221\u001b[0m, in \u001b[0;36mLazyDependencyManager.require_now\u001b[1;34m(self, feature)\u001b[0m\n\u001b[0;32m    219\u001b[0m \u001b[38;5;28;01mif\u001b[39;00m \u001b[38;5;28mself\u001b[39m:\n\u001b[0;32m    220\u001b[0m     \u001b[38;5;28;01mreturn\u001b[39;00m\n\u001b[1;32m--> 221\u001b[0m \u001b[38;5;28;01mraise\u001b[39;00m MissingOptionalLibraryError(\n\u001b[0;32m    222\u001b[0m     libname\u001b[38;5;241m=\u001b[39m\u001b[38;5;28mself\u001b[39m\u001b[38;5;241m.\u001b[39m_name, name\u001b[38;5;241m=\u001b[39mfeature, pip_install\u001b[38;5;241m=\u001b[39m\u001b[38;5;28mself\u001b[39m\u001b[38;5;241m.\u001b[39m_install, msg\u001b[38;5;241m=\u001b[39m\u001b[38;5;28mself\u001b[39m\u001b[38;5;241m.\u001b[39m_msg\n\u001b[0;32m    223\u001b[0m )\n",
      "\u001b[1;31mMissingOptionalLibraryError\u001b[0m: \"The 'graphviz' library is required to use 'dag_drawer'. You can install it with ''brew install graphviz' if on Mac, or by downloding it from their website'.\""
     ]
    }
   ],
   "source": [
    "num_qubits = 3\n",
    "num_depth = 10\n",
    "qc = qoop.core.random_circuit.generate_with_pool(num_qubits, num_depth)\n",
    "dag = qiskit.converters.circuit_to_dag(qc)\n",
    "dag.draw()"
   ]
  },
  {
   "cell_type": "code",
   "execution_count": 111,
   "metadata": {},
   "outputs": [
    {
     "name": "stdout",
     "output_type": "stream",
     "text": [
      "Name: rx, index: 0\n",
      "3\n",
      "...\n",
      "Name: rz, index: 1\n",
      "4\n",
      "...\n",
      "Name: h, index: 2\n",
      "5\n",
      "...\n",
      "Name: rx, index: 3\n",
      "6\n",
      "...\n",
      "Name: rz, index: 4\n",
      "8\n",
      "...\n",
      "Name: rx, index: 5\n",
      "7\n",
      "...\n",
      "Name: rx, index: 6\n",
      "...\n",
      "Name: ry, index: 7\n",
      "...\n",
      "Name: ry, index: 8\n",
      "...\n"
     ]
    }
   ],
   "source": [
    "\n",
    "dag = qiskit.converters.circuit_to_dag(qc)\n",
    "tinyDAG = qoop.dag.TinyDAG(dag)\n",
    "tinyDAG.construct()\n",
    "for i in range(len(tinyDAG.nodes)):\n",
    "    print(f'Name: {tinyDAG.nodes[i].op_name}, index: {tinyDAG.nodes[i].index}')\n",
    "    for node in tinyDAG.nodes[i].successor:\n",
    "        print(node.index)\n",
    "    print('...')"
   ]
  },
  {
   "cell_type": "code",
   "execution_count": 120,
   "metadata": {},
   "outputs": [
    {
     "name": "stdout",
     "output_type": "stream",
     "text": [
      "[[0.     0.     0.     1.2709 0.     0.     0.     0.     0.    ]\n",
      " [0.     0.     0.     0.     2.     0.     0.     0.     0.    ]\n",
      " [0.     0.     0.     0.     0.     1.2726 0.     0.     0.    ]\n",
      " [0.     0.     0.     0.     0.     0.     0.     2.2873 0.    ]\n",
      " [0.     0.     0.     0.     0.     0.     1.2738 0.     0.    ]\n",
      " [0.     0.     0.     0.     0.     0.     0.     1.8026 0.    ]\n",
      " [0.     0.     0.     0.     0.     0.     0.     0.     0.    ]\n",
      " [0.     0.     0.     0.     0.     0.     0.     0.     0.    ]\n",
      " [0.     0.     0.     0.     0.     0.     0.     0.     0.    ]]\n"
     ]
    }
   ],
   "source": [
    "print(qoop.dag.circuit_to_adjacency_matrix(qc))"
   ]
  },
  {
   "cell_type": "code",
   "execution_count": 79,
   "metadata": {},
   "outputs": [],
   "source": [
    "name_gate1 = 'crx'\n",
    "name_gate2 = 'ry'\n",
    "def gate_distance(name_gate1, name_gate2):\n",
    "    if name_gate1 == name_gate2:\n",
    "        return 0\n",
    "    operation1 = [d for d in qoop.constant.full_operations if any(v == name_gate1 for v in d.values())][0]\n",
    "    operation2 = [d for d in qoop.constant.full_operations if any(v == name_gate2 for v in d.values())][0]\n",
    "    i_matrix = qoop.constant.I_gate['operation']().to_matrix()\n",
    "    operations = [operation1, operation2]\n",
    "    matrixs = 2*[0]\n",
    "    max_num_op = 0\n",
    "    max_num_params = 0\n",
    "    num_samples = 100000\n",
    "    distances = []\n",
    "    for i, operation in enumerate(operations):\n",
    "        if operation['num_op'] > max_num_op:\n",
    "            max_num_op = operation['num_op']\n",
    "        if operation['num_params'] > max_num_params:\n",
    "            max_num_params = operation['num_params']\n",
    "    if max_num_params == 0:\n",
    "        num_samples = 1\n",
    "    for _ in range(num_samples):   \n",
    "        params = list(np.random.uniform(low = 0, high = 2*np.pi, size = max_num_params))\n",
    "        for i, operation in enumerate(operations):\n",
    "            if operation['num_params'] > 0:\n",
    "                matrixs[i] = operation['operation'](*params[:operation['num_params']]).to_matrix()\n",
    "            else:\n",
    "                matrixs[i] = operation['operation']().to_matrix()\n",
    "            if operation['num_op'] < max_num_op:\n",
    "                for j in range(operation['num_op'], max_num_op):\n",
    "                    matrixs[i] = np.kron(matrixs[i], i_matrix)\n",
    "        distance = np.linalg.norm(matrixs[0] - matrixs[1])\n",
    "        distances.append(distance)\n",
    "    return (np.average(distances))\n",
    "\n",
    "name_gates = [d['name'] for d in qoop.constant.full_operations]\n",
    "list_distances = []\n",
    "for name_gate1 in name_gates:\n",
    "    for name_gate2 in name_gates:\n",
    "        list_distances.append({\n",
    "            'name_gate1': name_gate1, \n",
    "            'name_gate2': name_gate2,\n",
    "            'distance': np.round(gate_distance(name_gate1, name_gate2), 4)\n",
    "        })"
   ]
  }
 ],
 "metadata": {
  "kernelspec": {
   "display_name": "Python 3",
   "language": "python",
   "name": "python3"
  },
  "language_info": {
   "codemirror_mode": {
    "name": "ipython",
    "version": 3
   },
   "file_extension": ".py",
   "mimetype": "text/x-python",
   "name": "python",
   "nbconvert_exporter": "python",
   "pygments_lexer": "ipython3",
   "version": "3.10.11"
  }
 },
 "nbformat": 4,
 "nbformat_minor": 2
}
