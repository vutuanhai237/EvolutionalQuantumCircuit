{
 "cells": [
  {
   "attachments": {},
   "cell_type": "markdown",
   "metadata": {},
   "source": [
    "<img src = '../docs/qdart.png' height = '400px'>"
   ]
  },
  {
   "attachments": {},
   "cell_type": "markdown",
   "metadata": {},
   "source": [
    "- qdas search thì sẽ trả về 1 mạch u nhưng mình sẽ đặt vấn đề là có cần concat mạch u vào mạch cũ hay ko?\n",
    "- action của policy gradient có thể là 0 hoặc 1, có concat hoặc ko concat\n",
    "- state s_t của policy gradient là circuit_old, s_t+1 là circuit mới\n",
    "- nhưng hàm policy pi thì sẽ là 1 neural network pi(s_t) để encode state\n",
    "- Mỗi state, dqas dùng hàm phân bố p(k=j,a) để chọn layer tạo mạch\n",
    "- nhưng em xem thì dùng shapeley value có vẻ hiệu quả và phù hợp với context này (vì tham số a của qdas hiện giờ nó ko phụ thuộc vào cấu trúc cổng trong mạch và phụ thuộc loss)\n",
    "- nên mình có thể tối ưu 2 vòng, 1 vòng tạo mạch u, 1 vòng ráp mạch u vào"
   ]
  },
  {
   "cell_type": "code",
   "execution_count": 2,
   "metadata": {},
   "outputs": [
    {
     "name": "stdout",
     "output_type": "stream",
     "text": [
      "[[ 7  0]\n",
      " [ 7  0]\n",
      " [25  0]]\n",
      "[[0 0 1]\n",
      " [0 0 0]\n",
      " [0 0 0]]\n",
      "0.5089705682629115\n"
     ]
    },
    {
     "name": "stderr",
     "output_type": "stream",
     "text": [
      "/Library/Frameworks/Python.framework/Versions/3.10/lib/python3.10/site-packages/pennylane_qiskit/converter.py:227: UserWarning: pennylane_qiskit.converter: The Barrier instruction is not supported by PennyLane, and has not been added to the template.\n",
      "  warnings.warn(\n",
      "/Library/Frameworks/Python.framework/Versions/3.10/lib/python3.10/site-packages/pennylane_qiskit/converter.py:227: UserWarning: pennylane_qiskit.converter: The Measure instruction is not supported by PennyLane, and has not been added to the template.\n",
      "  warnings.warn(\n"
     ]
    }
   ],
   "source": [
    "import torch\n",
    "import torch.nn as nn\n",
    "import torch.nn.functional as F\n",
    "import random\n",
    "import numpy as np\n",
    "import qsee.dag\n",
    "import qiskit\n",
    "%load_ext autoreload\n",
    "%autoreload 2\n",
    "torch.manual_seed(1000)\n",
    "torch.cuda.manual_seed(1000)\n",
    "np.random.seed(1000)\n",
    "random.seed(1000)\n",
    "\n",
    "qc = qiskit.QuantumCircuit(3)\n",
    "qc.h(0)\n",
    "qc.h(2)\n",
    "qc.cx(0, 1)\n",
    "qc.measure_all()\n",
    "dag = qsee.dag.circuit_to_dag(qc)\n",
    "node_features = qsee.dag.dag_to_node_features(dag)\n",
    "adjacency_matrix = qsee.dag.dag_to_adjacency_matrix(dag)\n",
    "\n",
    "print(node_features)\n",
    "print(adjacency_matrix)\n",
    "print(qsee.dag.circuit_to_scalar(qc))"
   ]
  },
  {
   "cell_type": "code",
   "execution_count": 42,
   "metadata": {},
   "outputs": [
    {
     "name": "stdout",
     "output_type": "stream",
     "text": [
      "The autoreload extension is already loaded. To reload it, use:\n",
      "  %reload_ext autoreload\n"
     ]
    }
   ],
   "source": [
    "import qsee.qcompilation\n",
    "import numpy as np\n",
    "import types\n",
    "import qiskit\n",
    "import qsee.random_circuit\n",
    "import matplotlib.pyplot as plt\n",
    "%load_ext autoreload\n",
    "%autoreload 2\n",
    "\n",
    "num_qubits = 3\n",
    "def LQcompilation(ansatz):\n",
    "    compiler = qsee.qcompilation.QuantumCompilation(\n",
    "        u = ansatz,\n",
    "        vdagger = qsee.state.create_ghz_state(num_qubits).inverse(),\n",
    "        optimizer = 'adam',\n",
    "        loss_func = 'loss_fubini_study'\n",
    "    )\n",
    "    compiler.fit(num_steps = 100, verbose = 1)\n",
    "    return compiler.loss_values[-1]\n",
    "def reward_function(loss):\n",
    "    if loss < 0.01:\n",
    "        return 1\n",
    "    return 0\n",
    "\n",
    "def merge_circuit(qc1, qc2):\n",
    "    return qc1.compose(qc2)\n",
    "\n",
    "def Qdas(frozen_circuit, pool_theta, pool_operation):\n",
    "    return\n",
    "def qdart(initial_circuit, R, T, N):\n",
    "    # neural_network \n",
    "    s = [None] * T\n",
    "    a = [None] * T\n",
    "    r = [None] * T\n",
    "    tau = [None] * T\n",
    "    policy_gradients = [None] * T\n",
    "    s[0] = initial_circuit\n",
    "    for i in range(0, N):\n",
    "        for t in range(0, T):\n",
    "            old_circuit = s[t]\n",
    "            new_circuit = random_circuit.random_circuit(3, 2)\n",
    "            a[t] = qsee.dag.circuit_to_scalar(s[t])\n",
    "            if a[t] <= 0.5:\n",
    "                s[t+1] = old_circuit\n",
    "            else:\n",
    "                s[t+1] = old_circuit.compose(new_circuit)\n",
    "            r[t] = reward_function(LQcompilation(s[t+1]))\n",
    "            tau[t] = [s[t], a[t], r[t], s[t+1]]\n",
    "        # Compute policy gradients\n",
    "        # policy_gradients[i] = calculate_policy_gradient(pi[t])\n",
    "    "
   ]
  },
  {
   "cell_type": "code",
   "execution_count": 118,
   "metadata": {},
   "outputs": [
    {
     "data": {
      "image/png": "[encoded data removed]",
      "text/plain": [
       "<Figure size 454.719x284.278 with 1 Axes>"
      ]
     },
     "execution_count": 118,
     "metadata": {},
     "output_type": "execute_result"
    }
   ],
   "source": [
    "import random_circuit\n",
    "\n",
    "circ1 = random_circuit.random_circuit(3, 4)\n",
    "circ1.draw('mpl')"
   ]
  },
  {
   "cell_type": "code",
   "execution_count": 125,
   "metadata": {},
   "outputs": [
    {
     "name": "stderr",
     "output_type": "stream",
     "text": [
      "Step:   0%|          | 0/10 [00:00<?, ?it/s]/Library/Frameworks/Python.framework/Versions/3.10/lib/python3.10/site-packages/numpy/linalg/linalg.py:2154: RuntimeWarning: divide by zero encountered in det\n",
      "  r = _umath_linalg.det(a, signature=signature)\n",
      "/Library/Frameworks/Python.framework/Versions/3.10/lib/python3.10/site-packages/numpy/linalg/linalg.py:2154: RuntimeWarning: invalid value encountered in det\n",
      "  r = _umath_linalg.det(a, signature=signature)\n",
      "Step: 100%|██████████| 10/10 [00:05<00:00,  1.83it/s]\n"
     ]
    }
   ],
   "source": [
    "num_qubits = 3\n",
    "num_layers = 3\n",
    "compiler = qsee.qcompilation.QuantumCompilation(\n",
    "    # u = random_circuit.random_circuit(3, 4)\n",
    "    u = qsee.ansatz.create_parameterized_polygongraph_ansatz(num_qubits, num_layers),\n",
    "    vdagger = qsee.state.create_ghz_state(num_qubits).inverse(),\n",
    "    optimizer = 'sgd',\n",
    "    loss_func = 'loss_fubini_study',\n",
    "    num_layers = num_layers\n",
    ")\n",
    "compiler.fit(num_steps = 10, verbose = 1)"
   ]
  },
  {
   "cell_type": "code",
   "execution_count": 126,
   "metadata": {},
   "outputs": [
    {
     "data": {
      "text/plain": [
       "[<matplotlib.lines.Line2D at 0x292bf5bd0>]"
      ]
     },
     "execution_count": 126,
     "metadata": {},
     "output_type": "execute_result"
    },
    {
     "data": {
      "image/png": "[encoded data removed]",
      "text/plain": [
       "<Figure size 640x480 with 1 Axes>"
      ]
     },
     "metadata": {},
     "output_type": "display_data"
    }
   ],
   "source": [
    "plt.plot(compiler.loss_values)"
   ]
  },
  {
   "cell_type": "code",
   "execution_count": 129,
   "metadata": {},
   "outputs": [
    {
     "ename": "IndexError",
     "evalue": "index -5 is out of bounds for axis 0 with size 4",
     "output_type": "error",
     "traceback": [
      "\u001b[0;31m---------------------------------------------------------------------------\u001b[0m",
      "\u001b[0;31mIndexError\u001b[0m                                Traceback (most recent call last)",
      "Cell \u001b[0;32mIn[129], line 53\u001b[0m\n\u001b[1;32m     50\u001b[0m \u001b[39m# Update Q-value using the Q-learning formula\u001b[39;00m\n\u001b[1;32m     51\u001b[0m \u001b[39mif\u001b[39;00m \u001b[39mnot\u001b[39;00m done:  \u001b[39m# Skip the Q-value update for terminal states\u001b[39;00m\n\u001b[1;32m     52\u001b[0m     q_table[state][action_idx] \u001b[39m=\u001b[39m (\u001b[39m1\u001b[39m \u001b[39m-\u001b[39m LEARNING_RATE) \u001b[39m*\u001b[39m q_table[state][action_idx] \\\n\u001b[0;32m---> 53\u001b[0m                                  \u001b[39m+\u001b[39m LEARNING_RATE \u001b[39m*\u001b[39m (reward \u001b[39m+\u001b[39m discount_factor \u001b[39m*\u001b[39m np\u001b[39m.\u001b[39mmax(q_table[next_state]))\n\u001b[1;32m     55\u001b[0m state \u001b[39m=\u001b[39m next_state\n\u001b[1;32m     56\u001b[0m steps \u001b[39m+\u001b[39m\u001b[39m=\u001b[39m \u001b[39m1\u001b[39m\n",
      "\u001b[0;31mIndexError\u001b[0m: index -5 is out of bounds for axis 0 with size 4"
     ]
    }
   ],
   "source": [
    "import numpy as np\n",
    "import random\n",
    "\n",
    "# Define the grid world environment\n",
    "grid_world = [\n",
    "    ['S', '.', '.', '.'],\n",
    "    ['.', 'X', '.', 'X'],\n",
    "    ['.', '.', '.', 'X'],\n",
    "    ['.', 'X', '.', 'G']\n",
    "]\n",
    "\n",
    "# Define the action space: up, down, left, right\n",
    "actions = [(-1, 0), (1, 0), (0, -1), (0, 1)]\n",
    "\n",
    "# Define Q-value table (initialized with zeros)\n",
    "q_table = np.zeros((4, 4, len(actions)))\n",
    "\n",
    "# Hyperparameters\n",
    "LEARNING_RATE = 0.1\n",
    "discount_factor = 0.9\n",
    "num_episodes = 1000\n",
    "max_steps_per_episode = 100\n",
    "# Q-learning algorithm\n",
    "for episode in range(num_episodes):\n",
    "    state = (0, 0)  # Starting state\n",
    "    done = False\n",
    "    steps = 0\n",
    "\n",
    "    while not done and steps < max_steps_per_episode:\n",
    "        # Choose an action using epsilon-greedy policy\n",
    "        if random.random() > episode / num_episodes:\n",
    "            action_idx = np.argmax(q_table[state])\n",
    "        else:\n",
    "            action_idx = random.randint(0, len(actions) - 1)\n",
    "\n",
    "        action = actions[action_idx]\n",
    "        next_state = (state[0] + action[0], state[1] + action[1])\n",
    "\n",
    "        # Calculate the reward\n",
    "        if next_state == (3, 3):  # Goal state\n",
    "            reward = 1\n",
    "            done = True\n",
    "        elif next_state in [(1, 1), (2, 3), (3, 1)]:  # Obstacles\n",
    "            reward = -1\n",
    "            done = True\n",
    "        else:\n",
    "            reward = 0\n",
    "            done = False\n",
    "\n",
    "        # Update Q-value using the Q-learning formula\n",
    "        if not done:  # Skip the Q-value update for terminal states\n",
    "            q_table[state][action_idx] = (1 - LEARNING_RATE) * q_table[state][action_idx] \\\n",
    "                                         + LEARNING_RATE * (reward + discount_factor * np.max(q_table[next_state]))\n",
    "\n",
    "        state = next_state\n",
    "        steps += 1\n"
   ]
  }
 ],
 "metadata": {
  "kernelspec": {
   "display_name": "Python 3",
   "language": "python",
   "name": "python3"
  },
  "language_info": {
   "codemirror_mode": {
    "name": "ipython",
    "version": 3
   },
   "file_extension": ".py",
   "mimetype": "text/x-python",
   "name": "python",
   "nbconvert_exporter": "python",
   "pygments_lexer": "ipython3",
   "version": "3.10.9"
  },
  "orig_nbformat": 4
 },
 "nbformat": 4,
 "nbformat_minor": 2
}
