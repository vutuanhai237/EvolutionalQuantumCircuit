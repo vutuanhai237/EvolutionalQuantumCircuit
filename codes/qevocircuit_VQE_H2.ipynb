{
 "cells": [
  {
   "cell_type": "markdown",
   "metadata": {},
   "source": [
    "### Packages loading"
   ]
  },
  {
   "cell_type": "code",
   "execution_count": null,
   "metadata": {},
   "outputs": [],
   "source": [
    "import numpy as np\n",
    "import random\n",
    "import qiskit\n",
    "import qtm.evolution\n",
    "import qtm.state\n",
    "import qtm.qcompilation\n",
    "import qtm.ansatz\n",
    "import qtm.constant\n",
    "from qtm.evolution import environment, mutate, selection, crossover\n",
    "import matplotlib.pyplot as plt\n",
    "%load_ext autoreload\n",
    "%autoreload 2\n"
   ]
  },
  {
   "cell_type": "markdown",
   "metadata": {},
   "source": [
    "## 1. Quantum architecture search for quantum state preparation problem"
   ]
  },
  {
   "cell_type": "markdown",
   "metadata": {},
   "source": [
    "Now, we defind the problem which is need to solve"
   ]
  },
  {
   "cell_type": "code",
   "execution_count": null,
   "metadata": {},
   "outputs": [],
   "source": [
    "n_qubits=4\n",
    "n=3\n",
    "theta = qiskit.circuit.ParameterVector('theta',2*n*n_qubits)\n",
    "#theta = np.random.rand(n*n_qubits)\n",
    "#print(theta)\n",
    "qc = qiskit.QuantumCircuit(n_qubits)\n",
    "for i in range(n_qubits):\n",
    "    qc.ry(theta[i], i)\n",
    "for i in range(n_qubits):\n",
    "    qc.rz(theta[i+n+1], i)\n",
    "for i in range(n_qubits):\n",
    "    qc.ry(theta[i+2*(n+1)], i)\n",
    "\n",
    "for i in range(n):\n",
    "    qc.cnot(i, i+1)\n",
    "qc.barrier()\n",
    "\n",
    "for i in range(n_qubits):\n",
    "    qc.ry(theta[i+3*(n+1)], i)\n",
    "for i in range(n_qubits):\n",
    "    qc.rz(theta[i+4*(n+1)], i)\n",
    "for i in range(n_qubits):\n",
    "    qc.ry(theta[i+5*(n+1)], i)\n",
    "\n",
    "for i in range(n):\n",
    "    qc.cnot(i, i+1)\n",
    "qc.draw('mpl')"
   ]
  },
  {
   "cell_type": "code",
   "execution_count": null,
   "metadata": {},
   "outputs": [],
   "source": [
    "from qiskit_nature.second_q.drivers import PySCFDriver\n",
    "from qiskit_nature.second_q.mappers import JordanWignerMapper, QubitConverter, ParityMapper\n",
    "from qiskit_nature.units import DistanceUnit\n",
    "\n",
    "driver = PySCFDriver(\n",
    "    atom=\"H 0 0 -0.35; H 0 0 0.35\",\n",
    "    basis=\"sto3g\",\n",
    "    charge=0,\n",
    "    spin=0,\n",
    "    unit=DistanceUnit.ANGSTROM,\n",
    ")\n",
    "problem = driver.run()\n",
    "hamiltonian = problem.hamiltonian.second_q_op()\n",
    "\n",
    "mapper=JordanWignerMapper()\n",
    "qubit_converter = QubitConverter(mapper)\n",
    "qubit_op = qubit_converter.convert(hamiltonian)\n",
    "print(qubit_op)"
   ]
  },
  {
   "cell_type": "markdown",
   "metadata": {},
   "source": [
    "Refecence values"
   ]
  },
  {
   "cell_type": "code",
   "execution_count": null,
   "metadata": {},
   "outputs": [],
   "source": [
    "from qiskit.algorithms.minimum_eigensolvers import NumPyMinimumEigensolver\n",
    "from qiskit_nature.second_q.algorithms import GroundStateEigensolver\n",
    "from qiskit.algorithms.minimum_eigensolvers import VQE\n",
    "from qiskit.primitives import Estimator\n",
    "\n",
    "solver = GroundStateEigensolver(\n",
    "    mapper,\n",
    "    NumPyMinimumEigensolver(),\n",
    ")\n",
    "result = solver.solve(problem)\n",
    "print(result)\n",
    "\n",
    "#estimator = Estimator()\n",
    "#vqe = VQE(estimator = estimator, ansatz = qc, optimizer=qiskit.algorithms.optimizers.SLSQP(maxiter=100))\n",
    "#print(f\"VQE values: {vqe.compute_minimum_eigenvalue(qubit_op).eigenvalue}\")"
   ]
  },
  {
   "cell_type": "code",
   "execution_count": null,
   "metadata": {},
   "outputs": [],
   "source": [
    "from qiskit.algorithms.minimum_eigensolvers import VQE\n",
    "from qiskit.primitives import Estimator\n",
    "estimator = Estimator()\n",
    "def VQE_fitness(qc: qiskit.QuantumCircuit, num_iter = 100):\n",
    "    vqe = VQE(estimator = estimator, ansatz = qc, optimizer=qiskit.algorithms.optimizers.SLSQP(maxiter=num_iter))\n",
    "    return vqe.compute_minimum_eigenvalue(qubit_op).eigenvalue.real"
   ]
  },
  {
   "cell_type": "markdown",
   "metadata": {},
   "source": [
    "Main algorithm, includes: init population, selection, crossover, mutate."
   ]
  },
  {
   "cell_type": "code",
   "execution_count": null,
   "metadata": {},
   "outputs": [],
   "source": [
    "params = {'depth': 5,\n",
    "          'num_individual': 8,  # Must mod 8 = 0\n",
    "          'num_generation': 30,\n",
    "          'num_qubits': 4,\n",
    "          'threshold': lambda eigenvalue: np.abs(eigenvalue - (-1.89215)) < 0.001,\n",
    "          'prob_mutate': 0.01}\n",
    "\n",
    "env = environment.EEnvironment(\n",
    "    params,\n",
    "    fitness_func = VQE_fitness,\n",
    "    selection_func = selection.elitist_selection,\n",
    "    crossover_func= crossover.onepoint_crossover,\n",
    "    mutate_func=mutate.bitflip_mutate,\n",
    "    pool = qtm.constant.operations\n",
    ")\n",
    "\n",
    "env.initialize_population()\n",
    "env.evol() "
   ]
  },
  {
   "cell_type": "code",
   "execution_count": null,
   "metadata": {},
   "outputs": [],
   "source": [
    "env.plot()"
   ]
  },
  {
   "cell_type": "markdown",
   "metadata": {},
   "source": [
    "Test best candidate again"
   ]
  },
  {
   "cell_type": "code",
   "execution_count": null,
   "metadata": {},
   "outputs": [],
   "source": [
    "qc = env.best_candidate.qc\n",
    "print(VQE_fitness(qc, 100))"
   ]
  },
  {
   "cell_type": "code",
   "execution_count": null,
   "metadata": {},
   "outputs": [],
   "source": [
    "qc.draw('mpl')"
   ]
  },
  {
   "cell_type": "code",
   "execution_count": null,
   "metadata": {},
   "outputs": [],
   "source": []
  }
 ],
 "metadata": {
  "kernelspec": {
   "display_name": "Python 3 (ipykernel)",
   "language": "python",
   "name": "python3"
  },
  "language_info": {
   "codemirror_mode": {
    "name": "ipython",
    "version": 3
   },
   "file_extension": ".py",
   "mimetype": "text/x-python",
   "name": "python",
   "nbconvert_exporter": "python",
   "pygments_lexer": "ipython3",
   "version": "3.8.10"
  }
 },
 "nbformat": 4,
 "nbformat_minor": 4
}
