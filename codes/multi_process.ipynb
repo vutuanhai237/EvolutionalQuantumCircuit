{
 "cells": [
  {
   "cell_type": "code",
   "execution_count": null,
   "id": "8a8ffb43-1303-42bb-846e-db8ec7b26c06",
   "metadata": {},
   "outputs": [
    {
     "ename": "",
     "evalue": "",
     "output_type": "error",
     "traceback": [
      "\u001b[1;31mRunning cells with '/bin/python' requires the ipykernel package.\n",
      "\u001b[1;31mRun the following command to install 'ipykernel' into the Python environment. \n",
      "\u001b[1;31mCommand: '/bin/python -m pip install ipykernel -U --user --force-reinstall'"
     ]
    }
   ],
   "source": [
    "import sys\n",
    "sys.path.insert(0, '..')\n",
    "import qtm.qcompilation\n",
    "import matplotlib.pyplot as plt\n",
    "import qiskit\n",
    "import qtm.qsp\n",
    "import qtm.ansatz, qtm.state\n",
    "%load_ext autoreload\n",
    "%autoreload 2"
   ]
  },
  {
   "cell_type": "code",
   "execution_count": null,
   "id": "1c4ed94d-59d0-45fd-951b-7f22641e9458",
   "metadata": {},
   "outputs": [
    {
     "ename": "",
     "evalue": "",
     "output_type": "error",
     "traceback": [
      "\u001b[1;31mRunning cells with '/bin/python' requires the ipykernel package.\n",
      "\u001b[1;31mRun the following command to install 'ipykernel' into the Python environment. \n",
      "\u001b[1;31mCommand: '/bin/python -m pip install ipykernel -U --user --force-reinstall'"
     ]
    }
   ],
   "source": [
    "def f(num_qubits, num_layers, anszat, vdagger_input):\n",
    "    optimizer = 'adam'\n",
    "\n",
    "    if anszat == 'g2':\n",
    "        u_input = qtm.ansatz.g2(num_qubits, num_layers) \n",
    "        ansatz_input = qtm.ansatz.g2\n",
    "    if anszat == 'g2gn':\n",
    "        u_input = qtm.ansatz.g2gn(num_qubits, num_layers) \n",
    "        ansatz_input = qtm.ansatz.g2gn\n",
    "    if anszat == 'g2gnw':\n",
    "        u_input = qtm.ansatz.g2gnw(num_qubits, num_layers) \n",
    "        ansatz_input = qtm.ansatz.g2gnw\n",
    "        \n",
    "    if vdagger_input == 'ghz':\n",
    "            vdagger_input = qtm.state.create_ghz_state(num_qubits).inverse()\n",
    "    if vdagger_input == 'W':\n",
    "            vdagger_input = qtm.state.create_W_state(num_qubits).inverse()\n",
    "    if vdagger_input == 'AME':\n",
    "            vdagger_input = qtm.state.create_AME_state(num_qubits).inverse()   \n",
    "    if vdagger_input == 'haar':\n",
    "            vdagger_input = qtm.state.create_haar_state(num_qubits).inverse() \n",
    "    \n",
    "    compiler = qtm.qcompilation.QuantumCompilation(\n",
    "        u = u_input,\n",
    "        vdagger = vdagger_input,\n",
    "        optimizer = optimizer,\n",
    "        loss_func = 'loss_fubini_study'\n",
    "    )\n",
    "    compiler.fit(num_steps = 1, verbose = 1)\n",
    "    qspobj = qtm.qsp.QuantumStatePreparation.load_from_compiler(\n",
    "    compiler = compiler, ansatz = ansatz_input)\n",
    "    qspobj.save(state = vdagger_input, file_name='../experiments/qsp/')\n",
    "\n",
    "    return \n",
    "\n",
    "# Tests\n",
    "f(3,1, 'g2', 'AME')"
   ]
  },
  {
   "cell_type": "code",
   "execution_count": null,
   "id": "5c94e416-6416-4870-b67a-c2580e94e118",
   "metadata": {},
   "outputs": [
    {
     "ename": "",
     "evalue": "",
     "output_type": "error",
     "traceback": [
      "\u001b[1;31mRunning cells with '/bin/python' requires the ipykernel package.\n",
      "\u001b[1;31mRun the following command to install 'ipykernel' into the Python environment. \n",
      "\u001b[1;31mCommand: '/bin/python -m pip install ipykernel -U --user --force-reinstall'"
     ]
    }
   ],
   "source": [
    "if __name__ == \"__main__\":\n",
    "    list_num_qubits = [3,4,5,6,7,8,9,10]\n",
    "    list_num_layers = [1, 2, 3, 4, 5, 6, 7, 8, 9, 10]\n",
    "    list_u = ['g2', 'g2gn', 'g2gnw']\n",
    "    list_v = ['ghz', 'W', 'AME', 'haar']\n",
    "\n",
    "    i = len(list_num_qubits)\n",
    "    j = len(list_num_layers)\n",
    "    k = len(list_u)\n",
    "    l = len(list_v)\n",
    "\n",
    "    processes = [[[[0 for _ in range(l)] for _ in range(k)] for _ in range(j)] for _ in range(i)]\n",
    "    \n",
    "    for i in range(len(list_num_qubits)):\n",
    "        for j in range(len(list_num_layers)):\n",
    "            for k in range(len(list_u)):\n",
    "                for l in range(len(list_v)):\n",
    "                    processes[i][j][k][l] = (multiprocessing.Process(target = f, args=(list_num_qubits[i], list_num_layers[j], list_u[k], list_v[l])))\n",
    "\n",
    "    for i in range(len(list_num_qubits)):\n",
    "        for j in range(len(list_num_layers)):\n",
    "            for k in range(len(list_u)):\n",
    "                for l in range(len(list_v)):\n",
    "                    processes[i][j][k][l].start()\n",
    "\n",
    "    for i in range(len(list_num_qubits)):\n",
    "        for j in range(len(list_num_layers)):\n",
    "            for k in range(len(list_u)):\n",
    "                for l in range(len(list_v)):\n",
    "                    processes[i][j][k][l].join()\n",
    "\n",
    "    print(\"Done!\")"
   ]
  }
 ],
 "metadata": {
  "kernelspec": {
   "display_name": "Python 3 (ipykernel)",
   "language": "python",
   "name": "python3"
  },
  "language_info": {
   "codemirror_mode": {
    "name": "ipython",
    "version": 3
   },
   "file_extension": ".py",
   "mimetype": "text/x-python",
   "name": "python",
   "nbconvert_exporter": "python",
   "pygments_lexer": "ipython3",
   "version": "3.10.6"
  }
 },
 "nbformat": 4,
 "nbformat_minor": 5
}
