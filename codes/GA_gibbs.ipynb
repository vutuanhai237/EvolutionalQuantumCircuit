{
 "cells": [
  {
   "cell_type": "code",
   "execution_count": 1,
   "metadata": {},
   "outputs": [],
   "source": [
    "import sys\n",
    "sys.path.insert(0, '..')\n",
    "import numpy as np\n",
    "import random\n",
    "import qiskit\n",
    "import qtm.evolution\n",
    "import qtm.state\n",
    "import qtm.qcompilation\n",
    "import qtm.ansatz\n",
    "import qtm.constant\n",
    "from qtm.evolution import environment, mutate, selection, crossover, utils\n",
    "import matplotlib.pyplot as plt\n",
    "%load_ext autoreload\n",
    "%autoreload 2"
   ]
  },
  {
   "cell_type": "code",
   "execution_count": null,
   "metadata": {},
   "outputs": [],
   "source": [
    "num_qubits = 2\n",
    "beta = 1\n",
    "\n",
    "compiler = qtm.qcompilation.QuantumCompilation(\n",
    "    u=qtm.ansatz.g2gnw(4, 2),\n",
    "    vdagger=qtm.state.construct_tfd_state(num_qubits,beta = 1).inverse(),\n",
    "    optimizer='adam',\n",
    "    loss_func='loss_fubini_study'\n",
    ")\n",
    "compiler.fit(num_steps=100, verbose=1)\n",
    "\n",
    "def compilation_fitness(qc: qiskit.QuantumCircuit, num_steps = 10):\n",
    "    compiler = qtm.qcompilation.QuantumCompilation(\n",
    "        u=qc,\n",
    "        vdagger=qtm.state.construct_tfd_state(num_qubits,beta).inverse(),\n",
    "        optimizer='adam',\n",
    "        loss_func='loss_fubini_study'\n",
    "    )\n",
    "    compiler.fit(num_steps=num_steps, verbose=0)\n",
    "    return np.average(compiler.loss_values)"
   ]
  }
 ],
 "metadata": {
  "kernelspec": {
   "display_name": "textoir",
   "language": "python",
   "name": "python3"
  },
  "language_info": {
   "codemirror_mode": {
    "name": "ipython",
    "version": 3
   },
   "file_extension": ".py",
   "mimetype": "text/x-python",
   "name": "python",
   "nbconvert_exporter": "python",
   "pygments_lexer": "ipython3",
   "version": "3.8.17"
  },
  "orig_nbformat": 4
 },
 "nbformat": 4,
 "nbformat_minor": 2
}
