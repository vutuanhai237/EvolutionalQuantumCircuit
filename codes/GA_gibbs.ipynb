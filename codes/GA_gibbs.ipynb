{
 "cells": [
  {
   "cell_type": "code",
   "execution_count": 2,
   "metadata": {},
   "outputs": [
    {
     "ename": "ModuleNotFoundError",
     "evalue": "No module named 'qtm.encoding'",
     "output_type": "error",
     "traceback": [
      "\u001b[0;31m---------------------------------------------------------------------------\u001b[0m",
      "\u001b[0;31mModuleNotFoundError\u001b[0m                       Traceback (most recent call last)",
      "\u001b[1;32m/Users/vutuanhai/Documents/GitHub/EvolutionalQuantumCircuit/codes/GA_gibbs.ipynb Cell 1\u001b[0m line \u001b[0;36m7\n\u001b[1;32m      <a href='vscode-notebook-cell:/Users/vutuanhai/Documents/GitHub/EvolutionalQuantumCircuit/codes/GA_gibbs.ipynb#W0sZmlsZQ%3D%3D?line=4'>5</a>\u001b[0m \u001b[39mimport\u001b[39;00m \u001b[39mqiskit\u001b[39;00m\n\u001b[1;32m      <a href='vscode-notebook-cell:/Users/vutuanhai/Documents/GitHub/EvolutionalQuantumCircuit/codes/GA_gibbs.ipynb#W0sZmlsZQ%3D%3D?line=5'>6</a>\u001b[0m \u001b[39mimport\u001b[39;00m \u001b[39mqtm\u001b[39;00m\u001b[39m.\u001b[39;00m\u001b[39mevolution\u001b[39;00m\n\u001b[0;32m----> <a href='vscode-notebook-cell:/Users/vutuanhai/Documents/GitHub/EvolutionalQuantumCircuit/codes/GA_gibbs.ipynb#W0sZmlsZQ%3D%3D?line=6'>7</a>\u001b[0m \u001b[39mimport\u001b[39;00m \u001b[39mqtm\u001b[39;00m\u001b[39m.\u001b[39;00m\u001b[39mstate\u001b[39;00m\n\u001b[1;32m      <a href='vscode-notebook-cell:/Users/vutuanhai/Documents/GitHub/EvolutionalQuantumCircuit/codes/GA_gibbs.ipynb#W0sZmlsZQ%3D%3D?line=7'>8</a>\u001b[0m \u001b[39mimport\u001b[39;00m \u001b[39mqtm\u001b[39;00m\u001b[39m.\u001b[39;00m\u001b[39mqcompilation\u001b[39;00m\n\u001b[1;32m      <a href='vscode-notebook-cell:/Users/vutuanhai/Documents/GitHub/EvolutionalQuantumCircuit/codes/GA_gibbs.ipynb#W0sZmlsZQ%3D%3D?line=8'>9</a>\u001b[0m \u001b[39mimport\u001b[39;00m \u001b[39mqtm\u001b[39;00m\u001b[39m.\u001b[39;00m\u001b[39mansatz\u001b[39;00m\n",
      "File \u001b[0;32m~/Documents/GitHub/EvolutionalQuantumCircuit/codes/../qtm/state.py:2\u001b[0m\n\u001b[1;32m      1\u001b[0m \u001b[39mimport\u001b[39;00m \u001b[39mqiskit\u001b[39;00m\u001b[39m,\u001b[39m \u001b[39mnumpy\u001b[39;00m \u001b[39mas\u001b[39;00m \u001b[39mnp\u001b[39;00m\n\u001b[0;32m----> 2\u001b[0m \u001b[39mimport\u001b[39;00m \u001b[39mqtm\u001b[39;00m\u001b[39m.\u001b[39;00m\u001b[39mencoding\u001b[39;00m\n\u001b[1;32m      3\u001b[0m \u001b[39mfrom\u001b[39;00m \u001b[39mqiskit\u001b[39;00m\u001b[39m.\u001b[39;00m\u001b[39mquantum_info\u001b[39;00m \u001b[39mimport\u001b[39;00m SparsePauliOp\n\u001b[1;32m      5\u001b[0m \u001b[39m\"\"\"\u001b[39;00m\n\u001b[1;32m      6\u001b[0m \u001b[39mFunction to load classical data in a quantum device\u001b[39;00m\n\u001b[1;32m      7\u001b[0m \u001b[39mThis code is copy from https://github.com/adjs/dcsp/blob/master/encoding.py\u001b[39;00m\n\u001b[1;32m      8\u001b[0m \u001b[39m\"\"\"\u001b[39;00m\n",
      "\u001b[0;31mModuleNotFoundError\u001b[0m: No module named 'qtm.encoding'"
     ]
    }
   ],
   "source": [
    "import sys\n",
    "sys.path.insert(0, '..')\n",
    "import numpy as np\n",
    "import random\n",
    "import qiskit\n",
    "import qtm.evolution\n",
    "import qtm.state\n",
    "import qtm.qcompilation\n",
    "import qtm.ansatz\n",
    "import qtm.constant\n",
    "from qtm.evolution import environment, mutate, selection, crossover, utils\n",
    "import matplotlib.pyplot as plt\n",
    "%load_ext autoreload\n",
    "%autoreload 2"
   ]
  },
  {
   "cell_type": "code",
   "execution_count": 1,
   "metadata": {},
   "outputs": [
    {
     "ename": "NameError",
     "evalue": "name 'qiskit' is not defined",
     "output_type": "error",
     "traceback": [
      "\u001b[0;31m---------------------------------------------------------------------------\u001b[0m",
      "\u001b[0;31mNameError\u001b[0m                                 Traceback (most recent call last)",
      "\u001b[1;32m/Users/vutuanhai/Documents/GitHub/EvolutionalQuantumCircuit/codes/GA_gibbs.ipynb Cell 2\u001b[0m line \u001b[0;36m5\n\u001b[1;32m      <a href='vscode-notebook-cell:/Users/vutuanhai/Documents/GitHub/EvolutionalQuantumCircuit/codes/GA_gibbs.ipynb#W1sZmlsZQ%3D%3D?line=1'>2</a>\u001b[0m num_gibbs_qubits \u001b[39m=\u001b[39m \u001b[39m2\u001b[39m\n\u001b[1;32m      <a href='vscode-notebook-cell:/Users/vutuanhai/Documents/GitHub/EvolutionalQuantumCircuit/codes/GA_gibbs.ipynb#W1sZmlsZQ%3D%3D?line=2'>3</a>\u001b[0m beta \u001b[39m=\u001b[39m \u001b[39m1\u001b[39m\n\u001b[0;32m----> <a href='vscode-notebook-cell:/Users/vutuanhai/Documents/GitHub/EvolutionalQuantumCircuit/codes/GA_gibbs.ipynb#W1sZmlsZQ%3D%3D?line=4'>5</a>\u001b[0m \u001b[39mdef\u001b[39;00m \u001b[39mcompilation_gibbs_fitness\u001b[39m(qc: qiskit\u001b[39m.\u001b[39mQuantumCircuit, num_steps \u001b[39m=\u001b[39m \u001b[39m10\u001b[39m):\n\u001b[1;32m      <a href='vscode-notebook-cell:/Users/vutuanhai/Documents/GitHub/EvolutionalQuantumCircuit/codes/GA_gibbs.ipynb#W1sZmlsZQ%3D%3D?line=5'>6</a>\u001b[0m     compiler \u001b[39m=\u001b[39m qtm\u001b[39m.\u001b[39mqcompilation\u001b[39m.\u001b[39mQuantumCompilation(\n\u001b[1;32m      <a href='vscode-notebook-cell:/Users/vutuanhai/Documents/GitHub/EvolutionalQuantumCircuit/codes/GA_gibbs.ipynb#W1sZmlsZQ%3D%3D?line=6'>7</a>\u001b[0m         u\u001b[39m=\u001b[39mqc,\n\u001b[1;32m      <a href='vscode-notebook-cell:/Users/vutuanhai/Documents/GitHub/EvolutionalQuantumCircuit/codes/GA_gibbs.ipynb#W1sZmlsZQ%3D%3D?line=7'>8</a>\u001b[0m         vdagger\u001b[39m=\u001b[39mqtm\u001b[39m.\u001b[39mstate\u001b[39m.\u001b[39mconstruct_tfd_state(num_gibbs_qubits,beta)\u001b[39m.\u001b[39minverse(),\n\u001b[1;32m      <a href='vscode-notebook-cell:/Users/vutuanhai/Documents/GitHub/EvolutionalQuantumCircuit/codes/GA_gibbs.ipynb#W1sZmlsZQ%3D%3D?line=8'>9</a>\u001b[0m         optimizer\u001b[39m=\u001b[39m\u001b[39m'\u001b[39m\u001b[39madam\u001b[39m\u001b[39m'\u001b[39m,\n\u001b[1;32m     <a href='vscode-notebook-cell:/Users/vutuanhai/Documents/GitHub/EvolutionalQuantumCircuit/codes/GA_gibbs.ipynb#W1sZmlsZQ%3D%3D?line=9'>10</a>\u001b[0m         loss_func\u001b[39m=\u001b[39m\u001b[39m'\u001b[39m\u001b[39mloss_fubini_study\u001b[39m\u001b[39m'\u001b[39m\n\u001b[1;32m     <a href='vscode-notebook-cell:/Users/vutuanhai/Documents/GitHub/EvolutionalQuantumCircuit/codes/GA_gibbs.ipynb#W1sZmlsZQ%3D%3D?line=10'>11</a>\u001b[0m     )\n\u001b[1;32m     <a href='vscode-notebook-cell:/Users/vutuanhai/Documents/GitHub/EvolutionalQuantumCircuit/codes/GA_gibbs.ipynb#W1sZmlsZQ%3D%3D?line=11'>12</a>\u001b[0m     compiler\u001b[39m.\u001b[39mfit(num_steps\u001b[39m=\u001b[39mnum_steps, verbose\u001b[39m=\u001b[39m\u001b[39m0\u001b[39m)\n",
      "\u001b[0;31mNameError\u001b[0m: name 'qiskit' is not defined"
     ]
    }
   ],
   "source": [
    "num_qubits = 4\n",
    "num_gibbs_qubits = 2\n",
    "beta = 1\n",
    "\n",
    "def compilation_gibbs_fitness(qc: qiskit.QuantumCircuit, num_steps = 10):\n",
    "    compiler = qtm.qcompilation.QuantumCompilation(\n",
    "        u=qc,\n",
    "        vdagger=qtm.state.construct_tfd_state(num_gibbs_qubits,beta).inverse(),\n",
    "        optimizer='adam',\n",
    "        loss_func='loss_fubini_study'\n",
    "    )\n",
    "    compiler.fit(num_steps=num_steps, verbose=0)\n",
    "    return np.average(compiler.loss_values)"
   ]
  },
  {
   "cell_type": "code",
   "execution_count": null,
   "metadata": {},
   "outputs": [],
   "source": [
    "params = {'depth': 10,\n",
    "          'num_circuit': 8,  # Must mod 8 = 0\n",
    "          'num_generation': 2,\n",
    "          'num_qubits': 4,\n",
    "          'threshold': compilation_threshold,\n",
    "          'prob_mutate': 0.01}\n",
    "\n",
    "env = environment.EEnvironment(\n",
    "    params,\n",
    "    fitness_func = compilation_gibbs_fitness,\n",
    "    selection_func = selection.elitist_selection,\n",
    "    crossover_func= crossover.onepoint_crossover,\n",
    "    mutate_func=mutate.bitflip_mutate,\n",
    "    pool = qtm.constant.operations\n",
    ")\n",
    "\n",
    "env.initialize_population()\n",
    "env.evol()\n",
    "env.plot()"
   ]
  }
 ],
 "metadata": {
  "kernelspec": {
   "display_name": "textoir",
   "language": "python",
   "name": "python3"
  },
  "language_info": {
   "codemirror_mode": {
    "name": "ipython",
    "version": 3
   },
   "file_extension": ".py",
   "mimetype": "text/x-python",
   "name": "python",
   "nbconvert_exporter": "python",
   "pygments_lexer": "ipython3",
   "version": "3.10.9"
  },
  "orig_nbformat": 4
 },
 "nbformat": 4,
 "nbformat_minor": 2
}
