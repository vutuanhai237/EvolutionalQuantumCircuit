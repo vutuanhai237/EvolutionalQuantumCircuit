{
 "cells": [
  {
   "cell_type": "code",
   "execution_count": 5,
   "metadata": {},
   "outputs": [],
   "source": [
    "import sys, qiskit\n",
    "sys.path.insert(0, '..')\n",
    "import matplotlib.pyplot as plt\n",
    "import numpy as np, os, json\n",
    "import qiskit.quantum_info as qi\n",
    "import pandas as pd\n",
    "%load_ext autoreload\n",
    "%autoreload 2"
   ]
  },
  {
   "cell_type": "markdown",
   "metadata": {},
   "source": [
    "<img src = '../docs/compilation-design1.png' height ='500px'>\n",
    "<img src = '../docs/compilation-design2.png' height ='500px'>"
   ]
  },
  {
   "cell_type": "markdown",
   "metadata": {},
   "source": [
    "### Drawing"
   ]
  },
  {
   "cell_type": "code",
   "execution_count": 2,
   "metadata": {},
   "outputs": [
    {
     "ename": "FileNotFoundError",
     "evalue": "[Errno 2] No such file or directory: 'risk.csv'",
     "output_type": "error",
     "traceback": [
      "\u001b[1;31m---------------------------------------------------------------------------\u001b[0m",
      "\u001b[1;31mFileNotFoundError\u001b[0m                         Traceback (most recent call last)",
      "Cell \u001b[1;32mIn[2], line 1\u001b[0m\n\u001b[1;32m----> 1\u001b[0m df \u001b[38;5;241m=\u001b[39m \u001b[43mpd\u001b[49m\u001b[38;5;241;43m.\u001b[39;49m\u001b[43mread_csv\u001b[49m\u001b[43m(\u001b[49m\u001b[38;5;124;43m'\u001b[39;49m\u001b[38;5;124;43mrisk.csv\u001b[39;49m\u001b[38;5;124;43m'\u001b[39;49m\u001b[43m)\u001b[49m\n\u001b[0;32m      2\u001b[0m \u001b[38;5;66;03m# draw risk curve and cost curve for each depth with same n, n_circuit and n_gen\u001b[39;00m\n\u001b[0;32m      3\u001b[0m n \u001b[38;5;241m=\u001b[39m \u001b[38;5;241m3\u001b[39m\n",
      "File \u001b[1;32m~\\AppData\\Local\\Packages\\PythonSoftwareFoundation.Python.3.10_qbz5n2kfra8p0\\LocalCache\\local-packages\\Python310\\site-packages\\pandas\\io\\parsers\\readers.py:1026\u001b[0m, in \u001b[0;36mread_csv\u001b[1;34m(filepath_or_buffer, sep, delimiter, header, names, index_col, usecols, dtype, engine, converters, true_values, false_values, skipinitialspace, skiprows, skipfooter, nrows, na_values, keep_default_na, na_filter, verbose, skip_blank_lines, parse_dates, infer_datetime_format, keep_date_col, date_parser, date_format, dayfirst, cache_dates, iterator, chunksize, compression, thousands, decimal, lineterminator, quotechar, quoting, doublequote, escapechar, comment, encoding, encoding_errors, dialect, on_bad_lines, delim_whitespace, low_memory, memory_map, float_precision, storage_options, dtype_backend)\u001b[0m\n\u001b[0;32m   1013\u001b[0m kwds_defaults \u001b[38;5;241m=\u001b[39m _refine_defaults_read(\n\u001b[0;32m   1014\u001b[0m     dialect,\n\u001b[0;32m   1015\u001b[0m     delimiter,\n\u001b[1;32m   (...)\u001b[0m\n\u001b[0;32m   1022\u001b[0m     dtype_backend\u001b[38;5;241m=\u001b[39mdtype_backend,\n\u001b[0;32m   1023\u001b[0m )\n\u001b[0;32m   1024\u001b[0m kwds\u001b[38;5;241m.\u001b[39mupdate(kwds_defaults)\n\u001b[1;32m-> 1026\u001b[0m \u001b[38;5;28;01mreturn\u001b[39;00m \u001b[43m_read\u001b[49m\u001b[43m(\u001b[49m\u001b[43mfilepath_or_buffer\u001b[49m\u001b[43m,\u001b[49m\u001b[43m \u001b[49m\u001b[43mkwds\u001b[49m\u001b[43m)\u001b[49m\n",
      "File \u001b[1;32m~\\AppData\\Local\\Packages\\PythonSoftwareFoundation.Python.3.10_qbz5n2kfra8p0\\LocalCache\\local-packages\\Python310\\site-packages\\pandas\\io\\parsers\\readers.py:620\u001b[0m, in \u001b[0;36m_read\u001b[1;34m(filepath_or_buffer, kwds)\u001b[0m\n\u001b[0;32m    617\u001b[0m _validate_names(kwds\u001b[38;5;241m.\u001b[39mget(\u001b[38;5;124m\"\u001b[39m\u001b[38;5;124mnames\u001b[39m\u001b[38;5;124m\"\u001b[39m, \u001b[38;5;28;01mNone\u001b[39;00m))\n\u001b[0;32m    619\u001b[0m \u001b[38;5;66;03m# Create the parser.\u001b[39;00m\n\u001b[1;32m--> 620\u001b[0m parser \u001b[38;5;241m=\u001b[39m TextFileReader(filepath_or_buffer, \u001b[38;5;241m*\u001b[39m\u001b[38;5;241m*\u001b[39mkwds)\n\u001b[0;32m    622\u001b[0m \u001b[38;5;28;01mif\u001b[39;00m chunksize \u001b[38;5;129;01mor\u001b[39;00m iterator:\n\u001b[0;32m    623\u001b[0m     \u001b[38;5;28;01mreturn\u001b[39;00m parser\n",
      "File \u001b[1;32m~\\AppData\\Local\\Packages\\PythonSoftwareFoundation.Python.3.10_qbz5n2kfra8p0\\LocalCache\\local-packages\\Python310\\site-packages\\pandas\\io\\parsers\\readers.py:1620\u001b[0m, in \u001b[0;36mTextFileReader.__init__\u001b[1;34m(self, f, engine, **kwds)\u001b[0m\n\u001b[0;32m   1617\u001b[0m     \u001b[38;5;28mself\u001b[39m\u001b[38;5;241m.\u001b[39moptions[\u001b[38;5;124m\"\u001b[39m\u001b[38;5;124mhas_index_names\u001b[39m\u001b[38;5;124m\"\u001b[39m] \u001b[38;5;241m=\u001b[39m kwds[\u001b[38;5;124m\"\u001b[39m\u001b[38;5;124mhas_index_names\u001b[39m\u001b[38;5;124m\"\u001b[39m]\n\u001b[0;32m   1619\u001b[0m \u001b[38;5;28mself\u001b[39m\u001b[38;5;241m.\u001b[39mhandles: IOHandles \u001b[38;5;241m|\u001b[39m \u001b[38;5;28;01mNone\u001b[39;00m \u001b[38;5;241m=\u001b[39m \u001b[38;5;28;01mNone\u001b[39;00m\n\u001b[1;32m-> 1620\u001b[0m \u001b[38;5;28mself\u001b[39m\u001b[38;5;241m.\u001b[39m_engine \u001b[38;5;241m=\u001b[39m \u001b[38;5;28;43mself\u001b[39;49m\u001b[38;5;241;43m.\u001b[39;49m\u001b[43m_make_engine\u001b[49m\u001b[43m(\u001b[49m\u001b[43mf\u001b[49m\u001b[43m,\u001b[49m\u001b[43m \u001b[49m\u001b[38;5;28;43mself\u001b[39;49m\u001b[38;5;241;43m.\u001b[39;49m\u001b[43mengine\u001b[49m\u001b[43m)\u001b[49m\n",
      "File \u001b[1;32m~\\AppData\\Local\\Packages\\PythonSoftwareFoundation.Python.3.10_qbz5n2kfra8p0\\LocalCache\\local-packages\\Python310\\site-packages\\pandas\\io\\parsers\\readers.py:1880\u001b[0m, in \u001b[0;36mTextFileReader._make_engine\u001b[1;34m(self, f, engine)\u001b[0m\n\u001b[0;32m   1878\u001b[0m     \u001b[38;5;28;01mif\u001b[39;00m \u001b[38;5;124m\"\u001b[39m\u001b[38;5;124mb\u001b[39m\u001b[38;5;124m\"\u001b[39m \u001b[38;5;129;01mnot\u001b[39;00m \u001b[38;5;129;01min\u001b[39;00m mode:\n\u001b[0;32m   1879\u001b[0m         mode \u001b[38;5;241m+\u001b[39m\u001b[38;5;241m=\u001b[39m \u001b[38;5;124m\"\u001b[39m\u001b[38;5;124mb\u001b[39m\u001b[38;5;124m\"\u001b[39m\n\u001b[1;32m-> 1880\u001b[0m \u001b[38;5;28mself\u001b[39m\u001b[38;5;241m.\u001b[39mhandles \u001b[38;5;241m=\u001b[39m \u001b[43mget_handle\u001b[49m\u001b[43m(\u001b[49m\n\u001b[0;32m   1881\u001b[0m \u001b[43m    \u001b[49m\u001b[43mf\u001b[49m\u001b[43m,\u001b[49m\n\u001b[0;32m   1882\u001b[0m \u001b[43m    \u001b[49m\u001b[43mmode\u001b[49m\u001b[43m,\u001b[49m\n\u001b[0;32m   1883\u001b[0m \u001b[43m    \u001b[49m\u001b[43mencoding\u001b[49m\u001b[38;5;241;43m=\u001b[39;49m\u001b[38;5;28;43mself\u001b[39;49m\u001b[38;5;241;43m.\u001b[39;49m\u001b[43moptions\u001b[49m\u001b[38;5;241;43m.\u001b[39;49m\u001b[43mget\u001b[49m\u001b[43m(\u001b[49m\u001b[38;5;124;43m\"\u001b[39;49m\u001b[38;5;124;43mencoding\u001b[39;49m\u001b[38;5;124;43m\"\u001b[39;49m\u001b[43m,\u001b[49m\u001b[43m \u001b[49m\u001b[38;5;28;43;01mNone\u001b[39;49;00m\u001b[43m)\u001b[49m\u001b[43m,\u001b[49m\n\u001b[0;32m   1884\u001b[0m \u001b[43m    \u001b[49m\u001b[43mcompression\u001b[49m\u001b[38;5;241;43m=\u001b[39;49m\u001b[38;5;28;43mself\u001b[39;49m\u001b[38;5;241;43m.\u001b[39;49m\u001b[43moptions\u001b[49m\u001b[38;5;241;43m.\u001b[39;49m\u001b[43mget\u001b[49m\u001b[43m(\u001b[49m\u001b[38;5;124;43m\"\u001b[39;49m\u001b[38;5;124;43mcompression\u001b[39;49m\u001b[38;5;124;43m\"\u001b[39;49m\u001b[43m,\u001b[49m\u001b[43m \u001b[49m\u001b[38;5;28;43;01mNone\u001b[39;49;00m\u001b[43m)\u001b[49m\u001b[43m,\u001b[49m\n\u001b[0;32m   1885\u001b[0m \u001b[43m    \u001b[49m\u001b[43mmemory_map\u001b[49m\u001b[38;5;241;43m=\u001b[39;49m\u001b[38;5;28;43mself\u001b[39;49m\u001b[38;5;241;43m.\u001b[39;49m\u001b[43moptions\u001b[49m\u001b[38;5;241;43m.\u001b[39;49m\u001b[43mget\u001b[49m\u001b[43m(\u001b[49m\u001b[38;5;124;43m\"\u001b[39;49m\u001b[38;5;124;43mmemory_map\u001b[39;49m\u001b[38;5;124;43m\"\u001b[39;49m\u001b[43m,\u001b[49m\u001b[43m \u001b[49m\u001b[38;5;28;43;01mFalse\u001b[39;49;00m\u001b[43m)\u001b[49m\u001b[43m,\u001b[49m\n\u001b[0;32m   1886\u001b[0m \u001b[43m    \u001b[49m\u001b[43mis_text\u001b[49m\u001b[38;5;241;43m=\u001b[39;49m\u001b[43mis_text\u001b[49m\u001b[43m,\u001b[49m\n\u001b[0;32m   1887\u001b[0m \u001b[43m    \u001b[49m\u001b[43merrors\u001b[49m\u001b[38;5;241;43m=\u001b[39;49m\u001b[38;5;28;43mself\u001b[39;49m\u001b[38;5;241;43m.\u001b[39;49m\u001b[43moptions\u001b[49m\u001b[38;5;241;43m.\u001b[39;49m\u001b[43mget\u001b[49m\u001b[43m(\u001b[49m\u001b[38;5;124;43m\"\u001b[39;49m\u001b[38;5;124;43mencoding_errors\u001b[39;49m\u001b[38;5;124;43m\"\u001b[39;49m\u001b[43m,\u001b[49m\u001b[43m \u001b[49m\u001b[38;5;124;43m\"\u001b[39;49m\u001b[38;5;124;43mstrict\u001b[39;49m\u001b[38;5;124;43m\"\u001b[39;49m\u001b[43m)\u001b[49m\u001b[43m,\u001b[49m\n\u001b[0;32m   1888\u001b[0m \u001b[43m    \u001b[49m\u001b[43mstorage_options\u001b[49m\u001b[38;5;241;43m=\u001b[39;49m\u001b[38;5;28;43mself\u001b[39;49m\u001b[38;5;241;43m.\u001b[39;49m\u001b[43moptions\u001b[49m\u001b[38;5;241;43m.\u001b[39;49m\u001b[43mget\u001b[49m\u001b[43m(\u001b[49m\u001b[38;5;124;43m\"\u001b[39;49m\u001b[38;5;124;43mstorage_options\u001b[39;49m\u001b[38;5;124;43m\"\u001b[39;49m\u001b[43m,\u001b[49m\u001b[43m \u001b[49m\u001b[38;5;28;43;01mNone\u001b[39;49;00m\u001b[43m)\u001b[49m\u001b[43m,\u001b[49m\n\u001b[0;32m   1889\u001b[0m \u001b[43m\u001b[49m\u001b[43m)\u001b[49m\n\u001b[0;32m   1890\u001b[0m \u001b[38;5;28;01massert\u001b[39;00m \u001b[38;5;28mself\u001b[39m\u001b[38;5;241m.\u001b[39mhandles \u001b[38;5;129;01mis\u001b[39;00m \u001b[38;5;129;01mnot\u001b[39;00m \u001b[38;5;28;01mNone\u001b[39;00m\n\u001b[0;32m   1891\u001b[0m f \u001b[38;5;241m=\u001b[39m \u001b[38;5;28mself\u001b[39m\u001b[38;5;241m.\u001b[39mhandles\u001b[38;5;241m.\u001b[39mhandle\n",
      "File \u001b[1;32m~\\AppData\\Local\\Packages\\PythonSoftwareFoundation.Python.3.10_qbz5n2kfra8p0\\LocalCache\\local-packages\\Python310\\site-packages\\pandas\\io\\common.py:873\u001b[0m, in \u001b[0;36mget_handle\u001b[1;34m(path_or_buf, mode, encoding, compression, memory_map, is_text, errors, storage_options)\u001b[0m\n\u001b[0;32m    868\u001b[0m \u001b[38;5;28;01melif\u001b[39;00m \u001b[38;5;28misinstance\u001b[39m(handle, \u001b[38;5;28mstr\u001b[39m):\n\u001b[0;32m    869\u001b[0m     \u001b[38;5;66;03m# Check whether the filename is to be opened in binary mode.\u001b[39;00m\n\u001b[0;32m    870\u001b[0m     \u001b[38;5;66;03m# Binary mode does not support 'encoding' and 'newline'.\u001b[39;00m\n\u001b[0;32m    871\u001b[0m     \u001b[38;5;28;01mif\u001b[39;00m ioargs\u001b[38;5;241m.\u001b[39mencoding \u001b[38;5;129;01mand\u001b[39;00m \u001b[38;5;124m\"\u001b[39m\u001b[38;5;124mb\u001b[39m\u001b[38;5;124m\"\u001b[39m \u001b[38;5;129;01mnot\u001b[39;00m \u001b[38;5;129;01min\u001b[39;00m ioargs\u001b[38;5;241m.\u001b[39mmode:\n\u001b[0;32m    872\u001b[0m         \u001b[38;5;66;03m# Encoding\u001b[39;00m\n\u001b[1;32m--> 873\u001b[0m         handle \u001b[38;5;241m=\u001b[39m \u001b[38;5;28;43mopen\u001b[39;49m\u001b[43m(\u001b[49m\n\u001b[0;32m    874\u001b[0m \u001b[43m            \u001b[49m\u001b[43mhandle\u001b[49m\u001b[43m,\u001b[49m\n\u001b[0;32m    875\u001b[0m \u001b[43m            \u001b[49m\u001b[43mioargs\u001b[49m\u001b[38;5;241;43m.\u001b[39;49m\u001b[43mmode\u001b[49m\u001b[43m,\u001b[49m\n\u001b[0;32m    876\u001b[0m \u001b[43m            \u001b[49m\u001b[43mencoding\u001b[49m\u001b[38;5;241;43m=\u001b[39;49m\u001b[43mioargs\u001b[49m\u001b[38;5;241;43m.\u001b[39;49m\u001b[43mencoding\u001b[49m\u001b[43m,\u001b[49m\n\u001b[0;32m    877\u001b[0m \u001b[43m            \u001b[49m\u001b[43merrors\u001b[49m\u001b[38;5;241;43m=\u001b[39;49m\u001b[43merrors\u001b[49m\u001b[43m,\u001b[49m\n\u001b[0;32m    878\u001b[0m \u001b[43m            \u001b[49m\u001b[43mnewline\u001b[49m\u001b[38;5;241;43m=\u001b[39;49m\u001b[38;5;124;43m\"\u001b[39;49m\u001b[38;5;124;43m\"\u001b[39;49m\u001b[43m,\u001b[49m\n\u001b[0;32m    879\u001b[0m \u001b[43m        \u001b[49m\u001b[43m)\u001b[49m\n\u001b[0;32m    880\u001b[0m     \u001b[38;5;28;01melse\u001b[39;00m:\n\u001b[0;32m    881\u001b[0m         \u001b[38;5;66;03m# Binary mode\u001b[39;00m\n\u001b[0;32m    882\u001b[0m         handle \u001b[38;5;241m=\u001b[39m \u001b[38;5;28mopen\u001b[39m(handle, ioargs\u001b[38;5;241m.\u001b[39mmode)\n",
      "\u001b[1;31mFileNotFoundError\u001b[0m: [Errno 2] No such file or directory: 'risk.csv'"
     ]
    }
   ],
   "source": [
    "df = pd.read_csv('risk.csv')\n",
    "# draw risk curve and cost curve for each depth with same n, n_circuit and n_gen\n",
    "n = 3\n",
    "n_circuit = 4  # replace with your actual value\n",
    "n_gen = 10  # replace with your actual value\n",
    "for n_gen in [10]:\n",
    "    # Filter the data\n",
    "    df_filtered = df[(df['n'] == n) & (df['n_circuit'] == n_circuit) & (df['n_gen'] == n_gen)]\n",
    "    # Sort the data by 'd' (depth)\n",
    "    df_filtered = df_filtered.sort_values('d')\n",
    "    # labeling each point by depth value\n",
    "    for i, d in enumerate(df_filtered['d']):\n",
    "        plt.annotate(d, (df_filtered['cost'].iloc[i], df_filtered['risk'].iloc[i] + 0.1))\n",
    "    plt.plot(df_filtered['cost'], df_filtered['risk'], label=f'Risk by depth with n_gen = {n_gen}', marker = 'o', color = 'b')\n",
    "# legend for annotate points\n",
    "plt.scatter([], [], label='Depth', c='blue')\n",
    "plt.xlabel('Cost')\n",
    "plt.ylabel('Risk')\n",
    "plt.ylim(-1, 1)\n",
    "plt.title(f'Risk Curve for n={n}, n_circuit={n_circuit}, n_gen={n_gen}')\n",
    "plt.legend()\n",
    "plt.show()"
   ]
  },
  {
   "cell_type": "code",
   "execution_count": 6,
   "metadata": {},
   "outputs": [],
   "source": [
    "def indices_for_sorted_order(data_list):\n",
    "    # Enumerate the list and then sort by the elements, keeping track of the original indices\n",
    "    sorted_indices = [index for index, value in sorted(enumerate(data_list), key=lambda x: x[1])]\n",
    "    return sorted_indices\n",
    "\n",
    "def sort_by_indices(data_list, index_list):\n",
    "    # Ensure the index list is the same length as the data list\n",
    "    if len(data_list) != len(index_list):\n",
    "        raise ValueError(\"Length of index_list must be the same as length of data_list\")\n",
    "\n",
    "    # Sort the data_list according to the index_list\n",
    "    sorted_list = [data_list[i] for i in index_list]\n",
    "    return sorted_list"
   ]
  },
  {
   "cell_type": "code",
   "execution_count": 8,
   "metadata": {},
   "outputs": [
    {
     "data": {
      "image/png": "[encoded data removed]",
      "text/plain": [
       "<Figure size 1500x1000 with 20 Axes>"
      ]
     },
     "metadata": {},
     "output_type": "display_data"
    }
   ],
   "source": [
    "import pandas as pd\n",
    "import matplotlib.pyplot as plt\n",
    "import json\n",
    "n = 3\n",
    "# Load the data\n",
    "df = pd.read_csv('cost.csv')  # replace with your actual file path\n",
    "\n",
    "# Filter the data for n = 3\n",
    "df_filtered = df[df['n'] == n]\n",
    "\n",
    "# Group by n_circuit, n_gen, and d, and calculate the mean of risk and cost\n",
    "grouped = df_filtered.groupby(['n_circuit', 'n_gen', 'd'])['cost'].mean().reset_index()\n",
    "\n",
    "# Get the unique values of n_circuit and n_gen\n",
    "n_circuit_values = grouped['n_circuit'].unique()\n",
    "n_gen_values = grouped['n_gen'].unique()\n",
    "\n",
    "# Plot the average risk and cost curves for each n_circuit and n_gen\n",
    "fig, axs = plt.subplots(len(n_circuit_values), len(n_gen_values), figsize=(15, 10))\n",
    "\n",
    "for i, n_circuit in enumerate(n_circuit_values):\n",
    "    for j, n_gen in enumerate(n_gen_values):\n",
    "        # Plot cost\n",
    "        data = grouped[(grouped['n_circuit'] == n_circuit) & (grouped['n_gen'] == n_gen)]\n",
    "        # axs[i, j].plot(data['cost'], [0]*(len(data['cost'])), label='1-Cost', linestyle = '', marker = 'o')\n",
    "        axs[i, j].set_title(f'n_circuit={n_circuit}, n_gen={n_gen}')\n",
    "        risks = []\n",
    "        # Plot risk\n",
    "        for d in range(5,15):\n",
    "            # read value by key json\n",
    "            with open(f'risk_{n}.json') as f:\n",
    "                risk_data = json.load(f)\n",
    "            risk = risk_data[f'n={n},d={d},n_circuit={n_circuit},n_gen={n_gen}']\n",
    "            risks.append(risk)\n",
    "        x = list((data['cost'] ))\n",
    "        y = list(np.mean(risks, 1))\n",
    "        y = sort_by_indices(y, indices_for_sorted_order(x))\n",
    "        x = sorted(x)\n",
    "        for k in range(0, len(x) - 1):\n",
    "            axs[i,j].plot([x[k],x[k + 1]], [y[k], y[k+1]], color='r')\n",
    "        axs[i,j].plot(x, y, label='Risk', linestyle='', marker = 'o', color = 'r')\n",
    "        axs[i,j].set_ylim(0, 0.06)\n",
    "        axs[i,j].set_xlim(0.5, 1)\n",
    "        #axs[i, j].fill_between(data['cost'], np.asarray(y) + np.asarray(yvar), np.asarray(y) - np.asarray(yvar), alpha = 0.2, color='r')\n",
    "        # axs[i, j].legend()\n",
    "        # axs[i, j].set_xlabel('1 - Cost')\n",
    "        axs[i,j].set_ylabel('Risk')\n",
    "        # for k in range(0, len(x)):\n",
    "        #     axs[i,j].plot([x[k],x[k]], [0,y[k]], color='black')\n",
    "\n",
    "fig.suptitle(f'Risk Curve for depth from 5 to 14, 3 qubits')\n",
    "plt.tight_layout()\n",
    "plt.savefig('../images/risk_curve.eps', format='eps')\n",
    "plt.show()"
   ]
  },
  {
   "cell_type": "code",
   "execution_count": 21,
   "metadata": {},
   "outputs": [
    {
     "data": {
      "text/plain": [
       "<matplotlib.legend.Legend at 0x1270c12d0>"
      ]
     },
     "execution_count": 21,
     "metadata": {},
     "output_type": "execute_result"
    },
    {
     "data": {
      "image/png": "[encoded data removed]",
      "text/plain": [
       "<Figure size 640x480 with 1 Axes>"
      ]
     },
     "metadata": {},
     "output_type": "display_data"
    }
   ],
   "source": [
    "num_qubits = 3\n",
    "num_circuit = 4\n",
    "num_generation = 10\n",
    "depths = range(5, 15)\n",
    "# qubit = 2, depth = 4\n",
    "# qubit = 3, depth around 15\n",
    "# qubit = 4, depth around 40\n",
    "# qubit = 5, depth around 100\n",
    "# num_generation = 10, 20, 30, ...\n",
    "# num_circuit = 4, 8, 16, 32, ...\n",
    "# depth = 2,3,4, ...\n",
    "\n",
    "# read all files metadata.json inside list of folders\n",
    "\n",
    "for num_circuit in [4, 8, 16, 32]:\n",
    "    best_fitness = []\n",
    "    for depth in depths:\n",
    "        envx = EEnvironment.load(f'n={num_qubits},d={depth},n_circuit={num_circuit},n_gen={num_generation}', None)\n",
    "        best_fitness.append(np.max(envx.metadata.best_fitnesss))\n",
    "    plt.plot(best_fitness, label=f'n_circuit={num_circuit}')\n",
    "    \n",
    "plt.ylabel('fitness')\n",
    "plt.xlabel('depth')\n",
    "plt.xticks(range(len(depths)), depths)\n",
    "plt.legend()"
   ]
  },
  {
   "cell_type": "markdown",
   "metadata": {},
   "source": [
    "### Update cost column from folders"
   ]
  },
  {
   "cell_type": "code",
   "execution_count": 203,
   "metadata": {},
   "outputs": [],
   "source": [
    "import pandas as pd\n",
    "\n",
    "# Define the column names\n",
    "columns = ['n', 'depth', 'n_circuit', 'n_gen', 'cost']\n",
    "\n",
    "# Create an empty DataFrame with the column names\n",
    "df = pd.DataFrame(columns=columns)\n",
    "ns = [2, 3, 4, 5, 6]\n",
    "num_circuits = [4, 8, 16, 32]\n",
    "num_generations = [10, 20, 30, 40, 50]\n",
    "\n",
    "\n",
    "# Append the lists of values as new rows to the DataFrame\n",
    "for n in ns:\n",
    "    for num_circuit in num_circuits:\n",
    "        for num_generation in num_generations:\n",
    "            if n == 2:\n",
    "                depths = list(range(2, 4))\n",
    "            elif n == 3:\n",
    "                depths = list(range(5, 15))\n",
    "            elif n == 4:\n",
    "                depths = list(range(5, 30))\n",
    "            elif n == 5:\n",
    "                depths = list(range(5, 50))\n",
    "            elif n == 6:\n",
    "                depths = list(range(30, 70))\n",
    "            for depth in depths:\n",
    "                df.loc[len(df)] = [n, depth, num_circuit, num_generation, 0]\n",
    "df.to_csv('cost.csv', index=False)"
   ]
  },
  {
   "cell_type": "code",
   "execution_count": 206,
   "metadata": {},
   "outputs": [
    {
     "name": "stdout",
     "output_type": "stream",
     "text": [
      "n=2,d=2,n_circuit=4,n_gen=10\n",
      "n=2,d=3,n_circuit=4,n_gen=10\n",
      "n=2,d=2,n_circuit=4,n_gen=20\n",
      "n=2,d=3,n_circuit=4,n_gen=20\n",
      "n=2,d=2,n_circuit=4,n_gen=30\n",
      "n=2,d=3,n_circuit=4,n_gen=30\n",
      "n=2,d=2,n_circuit=4,n_gen=40\n",
      "n=2,d=3,n_circuit=4,n_gen=40\n",
      "n=2,d=2,n_circuit=4,n_gen=50\n",
      "n=2,d=3,n_circuit=4,n_gen=50\n",
      "n=2,d=2,n_circuit=8,n_gen=10\n",
      "n=2,d=3,n_circuit=8,n_gen=10\n",
      "n=2,d=2,n_circuit=8,n_gen=20\n",
      "n=2,d=3,n_circuit=8,n_gen=20\n",
      "n=2,d=2,n_circuit=8,n_gen=30\n",
      "n=2,d=3,n_circuit=8,n_gen=30\n",
      "n=2,d=2,n_circuit=8,n_gen=40\n",
      "n=2,d=3,n_circuit=8,n_gen=40\n",
      "n=2,d=2,n_circuit=8,n_gen=50\n",
      "n=2,d=3,n_circuit=8,n_gen=50\n",
      "n=2,d=2,n_circuit=16,n_gen=10\n",
      "n=2,d=3,n_circuit=16,n_gen=10\n",
      "n=2,d=2,n_circuit=16,n_gen=20\n",
      "n=2,d=3,n_circuit=16,n_gen=20\n",
      "n=2,d=2,n_circuit=16,n_gen=30\n",
      "n=2,d=3,n_circuit=16,n_gen=30\n",
      "n=2,d=2,n_circuit=16,n_gen=40\n",
      "n=2,d=3,n_circuit=16,n_gen=40\n",
      "n=2,d=2,n_circuit=16,n_gen=50\n",
      "n=2,d=3,n_circuit=16,n_gen=50\n",
      "n=2,d=2,n_circuit=32,n_gen=10\n",
      "n=2,d=3,n_circuit=32,n_gen=10\n",
      "n=2,d=2,n_circuit=32,n_gen=20\n",
      "n=2,d=3,n_circuit=32,n_gen=20\n",
      "n=2,d=2,n_circuit=32,n_gen=30\n",
      "n=2,d=3,n_circuit=32,n_gen=30\n",
      "n=2,d=2,n_circuit=32,n_gen=40\n",
      "n=2,d=3,n_circuit=32,n_gen=40\n",
      "n=2,d=2,n_circuit=32,n_gen=50\n",
      "n=2,d=3,n_circuit=32,n_gen=50\n",
      "n=3,d=5,n_circuit=4,n_gen=10\n",
      "n=3,d=6,n_circuit=4,n_gen=10\n",
      "n=3,d=7,n_circuit=4,n_gen=10\n",
      "n=3,d=8,n_circuit=4,n_gen=10\n",
      "n=3,d=9,n_circuit=4,n_gen=10\n",
      "n=3,d=10,n_circuit=4,n_gen=10\n",
      "n=3,d=11,n_circuit=4,n_gen=10\n",
      "n=3,d=12,n_circuit=4,n_gen=10\n",
      "n=3,d=13,n_circuit=4,n_gen=10\n",
      "n=3,d=14,n_circuit=4,n_gen=10\n",
      "n=3,d=5,n_circuit=4,n_gen=20\n",
      "n=3,d=6,n_circuit=4,n_gen=20\n",
      "n=3,d=7,n_circuit=4,n_gen=20\n",
      "n=3,d=8,n_circuit=4,n_gen=20\n",
      "n=3,d=9,n_circuit=4,n_gen=20\n",
      "n=3,d=10,n_circuit=4,n_gen=20\n",
      "n=3,d=11,n_circuit=4,n_gen=20\n",
      "n=3,d=12,n_circuit=4,n_gen=20\n",
      "n=3,d=13,n_circuit=4,n_gen=20\n",
      "n=3,d=14,n_circuit=4,n_gen=20\n",
      "n=3,d=5,n_circuit=4,n_gen=30\n",
      "n=3,d=6,n_circuit=4,n_gen=30\n",
      "n=3,d=7,n_circuit=4,n_gen=30\n",
      "n=3,d=8,n_circuit=4,n_gen=30\n",
      "n=3,d=9,n_circuit=4,n_gen=30\n",
      "n=3,d=10,n_circuit=4,n_gen=30\n",
      "n=3,d=11,n_circuit=4,n_gen=30\n",
      "n=3,d=12,n_circuit=4,n_gen=30\n",
      "n=3,d=13,n_circuit=4,n_gen=30\n",
      "n=3,d=14,n_circuit=4,n_gen=30\n",
      "n=3,d=5,n_circuit=4,n_gen=40\n",
      "n=3,d=6,n_circuit=4,n_gen=40\n",
      "n=3,d=7,n_circuit=4,n_gen=40\n",
      "n=3,d=8,n_circuit=4,n_gen=40\n",
      "n=3,d=9,n_circuit=4,n_gen=40\n",
      "n=3,d=10,n_circuit=4,n_gen=40\n",
      "n=3,d=11,n_circuit=4,n_gen=40\n",
      "n=3,d=12,n_circuit=4,n_gen=40\n",
      "n=3,d=13,n_circuit=4,n_gen=40\n",
      "n=3,d=14,n_circuit=4,n_gen=40\n",
      "n=3,d=5,n_circuit=4,n_gen=50\n",
      "n=3,d=6,n_circuit=4,n_gen=50\n",
      "n=3,d=7,n_circuit=4,n_gen=50\n",
      "n=3,d=8,n_circuit=4,n_gen=50\n",
      "n=3,d=9,n_circuit=4,n_gen=50\n",
      "n=3,d=10,n_circuit=4,n_gen=50\n",
      "n=3,d=11,n_circuit=4,n_gen=50\n",
      "n=3,d=12,n_circuit=4,n_gen=50\n",
      "n=3,d=13,n_circuit=4,n_gen=50\n",
      "n=3,d=14,n_circuit=4,n_gen=50\n",
      "n=3,d=5,n_circuit=8,n_gen=10\n",
      "n=3,d=6,n_circuit=8,n_gen=10\n",
      "n=3,d=7,n_circuit=8,n_gen=10\n",
      "n=3,d=8,n_circuit=8,n_gen=10\n",
      "n=3,d=9,n_circuit=8,n_gen=10\n",
      "n=3,d=10,n_circuit=8,n_gen=10\n",
      "n=3,d=11,n_circuit=8,n_gen=10\n",
      "n=3,d=12,n_circuit=8,n_gen=10\n",
      "n=3,d=13,n_circuit=8,n_gen=10\n",
      "n=3,d=14,n_circuit=8,n_gen=10\n",
      "n=3,d=5,n_circuit=8,n_gen=20\n",
      "n=3,d=6,n_circuit=8,n_gen=20\n",
      "n=3,d=7,n_circuit=8,n_gen=20\n",
      "n=3,d=8,n_circuit=8,n_gen=20\n",
      "n=3,d=9,n_circuit=8,n_gen=20\n",
      "n=3,d=10,n_circuit=8,n_gen=20\n",
      "n=3,d=11,n_circuit=8,n_gen=20\n",
      "n=3,d=12,n_circuit=8,n_gen=20\n",
      "n=3,d=13,n_circuit=8,n_gen=20\n",
      "n=3,d=14,n_circuit=8,n_gen=20\n",
      "n=3,d=5,n_circuit=8,n_gen=30\n",
      "n=3,d=6,n_circuit=8,n_gen=30\n",
      "n=3,d=7,n_circuit=8,n_gen=30\n",
      "n=3,d=8,n_circuit=8,n_gen=30\n",
      "n=3,d=9,n_circuit=8,n_gen=30\n",
      "n=3,d=10,n_circuit=8,n_gen=30\n",
      "n=3,d=11,n_circuit=8,n_gen=30\n",
      "n=3,d=12,n_circuit=8,n_gen=30\n",
      "n=3,d=13,n_circuit=8,n_gen=30\n",
      "n=3,d=14,n_circuit=8,n_gen=30\n",
      "n=3,d=5,n_circuit=8,n_gen=40\n",
      "n=3,d=6,n_circuit=8,n_gen=40\n",
      "n=3,d=7,n_circuit=8,n_gen=40\n",
      "n=3,d=8,n_circuit=8,n_gen=40\n",
      "n=3,d=9,n_circuit=8,n_gen=40\n",
      "n=3,d=10,n_circuit=8,n_gen=40\n",
      "n=3,d=11,n_circuit=8,n_gen=40\n",
      "n=3,d=12,n_circuit=8,n_gen=40\n",
      "n=3,d=13,n_circuit=8,n_gen=40\n",
      "n=3,d=14,n_circuit=8,n_gen=40\n",
      "n=3,d=5,n_circuit=8,n_gen=50\n",
      "n=3,d=6,n_circuit=8,n_gen=50\n",
      "n=3,d=7,n_circuit=8,n_gen=50\n",
      "n=3,d=8,n_circuit=8,n_gen=50\n",
      "n=3,d=9,n_circuit=8,n_gen=50\n",
      "n=3,d=10,n_circuit=8,n_gen=50\n",
      "n=3,d=11,n_circuit=8,n_gen=50\n",
      "n=3,d=12,n_circuit=8,n_gen=50\n",
      "n=3,d=13,n_circuit=8,n_gen=50\n",
      "n=3,d=14,n_circuit=8,n_gen=50\n",
      "n=3,d=5,n_circuit=16,n_gen=10\n",
      "n=3,d=6,n_circuit=16,n_gen=10\n",
      "n=3,d=7,n_circuit=16,n_gen=10\n",
      "n=3,d=8,n_circuit=16,n_gen=10\n",
      "n=3,d=9,n_circuit=16,n_gen=10\n",
      "n=3,d=10,n_circuit=16,n_gen=10\n",
      "n=3,d=11,n_circuit=16,n_gen=10\n",
      "n=3,d=12,n_circuit=16,n_gen=10\n",
      "n=3,d=13,n_circuit=16,n_gen=10\n",
      "n=3,d=14,n_circuit=16,n_gen=10\n",
      "n=3,d=5,n_circuit=16,n_gen=20\n",
      "n=3,d=6,n_circuit=16,n_gen=20\n",
      "n=3,d=7,n_circuit=16,n_gen=20\n",
      "n=3,d=8,n_circuit=16,n_gen=20\n",
      "n=3,d=9,n_circuit=16,n_gen=20\n",
      "n=3,d=10,n_circuit=16,n_gen=20\n",
      "n=3,d=11,n_circuit=16,n_gen=20\n",
      "n=3,d=12,n_circuit=16,n_gen=20\n",
      "n=3,d=13,n_circuit=16,n_gen=20\n",
      "n=3,d=14,n_circuit=16,n_gen=20\n",
      "n=3,d=5,n_circuit=16,n_gen=30\n",
      "n=3,d=6,n_circuit=16,n_gen=30\n",
      "n=3,d=7,n_circuit=16,n_gen=30\n",
      "n=3,d=8,n_circuit=16,n_gen=30\n",
      "n=3,d=9,n_circuit=16,n_gen=30\n",
      "n=3,d=10,n_circuit=16,n_gen=30\n",
      "n=3,d=11,n_circuit=16,n_gen=30\n",
      "n=3,d=12,n_circuit=16,n_gen=30\n",
      "n=3,d=13,n_circuit=16,n_gen=30\n",
      "n=3,d=14,n_circuit=16,n_gen=30\n",
      "n=3,d=5,n_circuit=16,n_gen=40\n",
      "n=3,d=6,n_circuit=16,n_gen=40\n",
      "n=3,d=7,n_circuit=16,n_gen=40\n",
      "n=3,d=8,n_circuit=16,n_gen=40\n",
      "n=3,d=9,n_circuit=16,n_gen=40\n",
      "n=3,d=10,n_circuit=16,n_gen=40\n",
      "n=3,d=11,n_circuit=16,n_gen=40\n",
      "n=3,d=12,n_circuit=16,n_gen=40\n",
      "n=3,d=13,n_circuit=16,n_gen=40\n",
      "n=3,d=14,n_circuit=16,n_gen=40\n",
      "n=3,d=5,n_circuit=16,n_gen=50\n",
      "n=3,d=6,n_circuit=16,n_gen=50\n",
      "n=3,d=7,n_circuit=16,n_gen=50\n",
      "n=3,d=8,n_circuit=16,n_gen=50\n",
      "n=3,d=9,n_circuit=16,n_gen=50\n",
      "n=3,d=10,n_circuit=16,n_gen=50\n",
      "n=3,d=11,n_circuit=16,n_gen=50\n",
      "n=3,d=12,n_circuit=16,n_gen=50\n",
      "n=3,d=13,n_circuit=16,n_gen=50\n",
      "n=3,d=14,n_circuit=16,n_gen=50\n",
      "n=3,d=5,n_circuit=32,n_gen=10\n",
      "n=3,d=6,n_circuit=32,n_gen=10\n",
      "n=3,d=7,n_circuit=32,n_gen=10\n",
      "n=3,d=8,n_circuit=32,n_gen=10\n",
      "n=3,d=9,n_circuit=32,n_gen=10\n",
      "n=3,d=10,n_circuit=32,n_gen=10\n",
      "n=3,d=11,n_circuit=32,n_gen=10\n",
      "n=3,d=12,n_circuit=32,n_gen=10\n",
      "n=3,d=13,n_circuit=32,n_gen=10\n",
      "n=3,d=14,n_circuit=32,n_gen=10\n",
      "n=3,d=5,n_circuit=32,n_gen=20\n",
      "n=3,d=6,n_circuit=32,n_gen=20\n",
      "n=3,d=7,n_circuit=32,n_gen=20\n",
      "n=3,d=8,n_circuit=32,n_gen=20\n",
      "n=3,d=9,n_circuit=32,n_gen=20\n",
      "n=3,d=10,n_circuit=32,n_gen=20\n",
      "n=3,d=11,n_circuit=32,n_gen=20\n",
      "n=3,d=12,n_circuit=32,n_gen=20\n",
      "n=3,d=13,n_circuit=32,n_gen=20\n",
      "n=3,d=14,n_circuit=32,n_gen=20\n",
      "n=3,d=5,n_circuit=32,n_gen=30\n",
      "n=3,d=6,n_circuit=32,n_gen=30\n",
      "n=3,d=7,n_circuit=32,n_gen=30\n",
      "n=3,d=8,n_circuit=32,n_gen=30\n",
      "n=3,d=9,n_circuit=32,n_gen=30\n",
      "n=3,d=10,n_circuit=32,n_gen=30\n",
      "n=3,d=11,n_circuit=32,n_gen=30\n",
      "n=3,d=12,n_circuit=32,n_gen=30\n",
      "n=3,d=13,n_circuit=32,n_gen=30\n",
      "n=3,d=14,n_circuit=32,n_gen=30\n",
      "n=3,d=5,n_circuit=32,n_gen=40\n",
      "n=3,d=6,n_circuit=32,n_gen=40\n",
      "n=3,d=7,n_circuit=32,n_gen=40\n",
      "n=3,d=8,n_circuit=32,n_gen=40\n",
      "n=3,d=9,n_circuit=32,n_gen=40\n",
      "n=3,d=10,n_circuit=32,n_gen=40\n",
      "n=3,d=11,n_circuit=32,n_gen=40\n",
      "n=3,d=12,n_circuit=32,n_gen=40\n",
      "n=3,d=13,n_circuit=32,n_gen=40\n",
      "n=3,d=14,n_circuit=32,n_gen=40\n",
      "n=3,d=5,n_circuit=32,n_gen=50\n",
      "n=3,d=6,n_circuit=32,n_gen=50\n",
      "n=3,d=7,n_circuit=32,n_gen=50\n",
      "n=3,d=8,n_circuit=32,n_gen=50\n",
      "n=3,d=9,n_circuit=32,n_gen=50\n",
      "n=3,d=10,n_circuit=32,n_gen=50\n",
      "n=3,d=11,n_circuit=32,n_gen=50\n",
      "n=3,d=12,n_circuit=32,n_gen=50\n",
      "n=3,d=13,n_circuit=32,n_gen=50\n",
      "n=3,d=14,n_circuit=32,n_gen=50\n",
      "n=4,d=5,n_circuit=4,n_gen=10\n",
      "n=4,d=6,n_circuit=4,n_gen=10\n",
      "n=4,d=7,n_circuit=4,n_gen=10\n",
      "n=4,d=9,n_circuit=4,n_gen=10\n",
      "n=4,d=10,n_circuit=4,n_gen=10\n",
      "n=4,d=11,n_circuit=4,n_gen=10\n",
      "n=4,d=12,n_circuit=4,n_gen=10\n",
      "n=4,d=13,n_circuit=4,n_gen=10\n",
      "n=4,d=14,n_circuit=4,n_gen=10\n",
      "n=4,d=15,n_circuit=4,n_gen=10\n",
      "n=4,d=16,n_circuit=4,n_gen=10\n",
      "n=4,d=17,n_circuit=4,n_gen=10\n",
      "n=4,d=18,n_circuit=4,n_gen=10\n",
      "n=4,d=19,n_circuit=4,n_gen=10\n",
      "n=4,d=20,n_circuit=4,n_gen=10\n"
     ]
    },
    {
     "name": "stderr",
     "output_type": "stream",
     "text": [
      "/Library/Frameworks/Python.framework/Versions/3.10/lib/python3.10/site-packages/qiskit/qpy/interface.py:273: UserWarning: The qiskit version used to generate the provided QPY file, 0.45.2, is newer than the current qiskit version 0.45.1. This may result in an error if the QPY file uses instructions not present in this current qiskit version\n",
      "  warnings.warn(\n",
      "/Library/Frameworks/Python.framework/Versions/3.10/lib/python3.10/site-packages/qiskit/qpy/interface.py:273: UserWarning: The qiskit version used to generate the provided QPY file, 0.45.2, is newer than the current qiskit version 0.45.1. This may result in an error if the QPY file uses instructions not present in this current qiskit version\n",
      "  warnings.warn(\n",
      "/Library/Frameworks/Python.framework/Versions/3.10/lib/python3.10/site-packages/qiskit/qpy/interface.py:273: UserWarning: The qiskit version used to generate the provided QPY file, 0.45.2, is newer than the current qiskit version 0.45.1. This may result in an error if the QPY file uses instructions not present in this current qiskit version\n",
      "  warnings.warn(\n",
      "/Library/Frameworks/Python.framework/Versions/3.10/lib/python3.10/site-packages/qiskit/qpy/interface.py:273: UserWarning: The qiskit version used to generate the provided QPY file, 0.45.2, is newer than the current qiskit version 0.45.1. This may result in an error if the QPY file uses instructions not present in this current qiskit version\n",
      "  warnings.warn(\n",
      "/Library/Frameworks/Python.framework/Versions/3.10/lib/python3.10/site-packages/qiskit/qpy/interface.py:273: UserWarning: The qiskit version used to generate the provided QPY file, 0.45.2, is newer than the current qiskit version 0.45.1. This may result in an error if the QPY file uses instructions not present in this current qiskit version\n",
      "  warnings.warn(\n",
      "/Library/Frameworks/Python.framework/Versions/3.10/lib/python3.10/site-packages/qiskit/qpy/interface.py:273: UserWarning: The qiskit version used to generate the provided QPY file, 0.45.2, is newer than the current qiskit version 0.45.1. This may result in an error if the QPY file uses instructions not present in this current qiskit version\n",
      "  warnings.warn(\n",
      "/Library/Frameworks/Python.framework/Versions/3.10/lib/python3.10/site-packages/qiskit/qpy/interface.py:273: UserWarning: The qiskit version used to generate the provided QPY file, 0.45.2, is newer than the current qiskit version 0.45.1. This may result in an error if the QPY file uses instructions not present in this current qiskit version\n",
      "  warnings.warn(\n",
      "/Library/Frameworks/Python.framework/Versions/3.10/lib/python3.10/site-packages/qiskit/qpy/interface.py:273: UserWarning: The qiskit version used to generate the provided QPY file, 0.45.2, is newer than the current qiskit version 0.45.1. This may result in an error if the QPY file uses instructions not present in this current qiskit version\n",
      "  warnings.warn(\n",
      "/Library/Frameworks/Python.framework/Versions/3.10/lib/python3.10/site-packages/qiskit/qpy/interface.py:273: UserWarning: The qiskit version used to generate the provided QPY file, 0.45.2, is newer than the current qiskit version 0.45.1. This may result in an error if the QPY file uses instructions not present in this current qiskit version\n",
      "  warnings.warn(\n"
     ]
    },
    {
     "name": "stdout",
     "output_type": "stream",
     "text": [
      "n=4,d=21,n_circuit=4,n_gen=10\n"
     ]
    },
    {
     "name": "stderr",
     "output_type": "stream",
     "text": [
      "/Library/Frameworks/Python.framework/Versions/3.10/lib/python3.10/site-packages/qiskit/qpy/interface.py:273: UserWarning: The qiskit version used to generate the provided QPY file, 0.45.2, is newer than the current qiskit version 0.45.1. This may result in an error if the QPY file uses instructions not present in this current qiskit version\n",
      "  warnings.warn(\n"
     ]
    },
    {
     "name": "stdout",
     "output_type": "stream",
     "text": [
      "n=4,d=22,n_circuit=4,n_gen=10\n",
      "n=4,d=23,n_circuit=4,n_gen=10\n",
      "n=4,d=24,n_circuit=4,n_gen=10\n",
      "n=4,d=25,n_circuit=4,n_gen=10\n",
      "n=4,d=26,n_circuit=4,n_gen=10\n",
      "n=4,d=27,n_circuit=4,n_gen=10\n",
      "n=4,d=28,n_circuit=4,n_gen=10\n",
      "n=4,d=29,n_circuit=4,n_gen=10\n"
     ]
    },
    {
     "name": "stderr",
     "output_type": "stream",
     "text": [
      "/Library/Frameworks/Python.framework/Versions/3.10/lib/python3.10/site-packages/qiskit/qpy/interface.py:273: UserWarning: The qiskit version used to generate the provided QPY file, 0.45.2, is newer than the current qiskit version 0.45.1. This may result in an error if the QPY file uses instructions not present in this current qiskit version\n",
      "  warnings.warn(\n",
      "/Library/Frameworks/Python.framework/Versions/3.10/lib/python3.10/site-packages/qiskit/qpy/interface.py:273: UserWarning: The qiskit version used to generate the provided QPY file, 0.45.2, is newer than the current qiskit version 0.45.1. This may result in an error if the QPY file uses instructions not present in this current qiskit version\n",
      "  warnings.warn(\n",
      "/Library/Frameworks/Python.framework/Versions/3.10/lib/python3.10/site-packages/qiskit/qpy/interface.py:273: UserWarning: The qiskit version used to generate the provided QPY file, 0.45.2, is newer than the current qiskit version 0.45.1. This may result in an error if the QPY file uses instructions not present in this current qiskit version\n",
      "  warnings.warn(\n",
      "/Library/Frameworks/Python.framework/Versions/3.10/lib/python3.10/site-packages/qiskit/qpy/interface.py:273: UserWarning: The qiskit version used to generate the provided QPY file, 0.45.2, is newer than the current qiskit version 0.45.1. This may result in an error if the QPY file uses instructions not present in this current qiskit version\n",
      "  warnings.warn(\n",
      "/Library/Frameworks/Python.framework/Versions/3.10/lib/python3.10/site-packages/qiskit/qpy/interface.py:273: UserWarning: The qiskit version used to generate the provided QPY file, 0.45.2, is newer than the current qiskit version 0.45.1. This may result in an error if the QPY file uses instructions not present in this current qiskit version\n",
      "  warnings.warn(\n",
      "/Library/Frameworks/Python.framework/Versions/3.10/lib/python3.10/site-packages/qiskit/qpy/interface.py:273: UserWarning: The qiskit version used to generate the provided QPY file, 0.45.2, is newer than the current qiskit version 0.45.1. This may result in an error if the QPY file uses instructions not present in this current qiskit version\n",
      "  warnings.warn(\n",
      "/Library/Frameworks/Python.framework/Versions/3.10/lib/python3.10/site-packages/qiskit/qpy/interface.py:273: UserWarning: The qiskit version used to generate the provided QPY file, 0.45.2, is newer than the current qiskit version 0.45.1. This may result in an error if the QPY file uses instructions not present in this current qiskit version\n",
      "  warnings.warn(\n",
      "/Library/Frameworks/Python.framework/Versions/3.10/lib/python3.10/site-packages/qiskit/qpy/interface.py:273: UserWarning: The qiskit version used to generate the provided QPY file, 0.45.2, is newer than the current qiskit version 0.45.1. This may result in an error if the QPY file uses instructions not present in this current qiskit version\n",
      "  warnings.warn(\n"
     ]
    },
    {
     "name": "stdout",
     "output_type": "stream",
     "text": [
      "n=4,d=5,n_circuit=4,n_gen=20\n",
      "n=4,d=6,n_circuit=4,n_gen=20\n",
      "n=4,d=7,n_circuit=4,n_gen=20\n"
     ]
    },
    {
     "name": "stderr",
     "output_type": "stream",
     "text": [
      "/Library/Frameworks/Python.framework/Versions/3.10/lib/python3.10/site-packages/qiskit/qpy/interface.py:273: UserWarning: The qiskit version used to generate the provided QPY file, 0.45.2, is newer than the current qiskit version 0.45.1. This may result in an error if the QPY file uses instructions not present in this current qiskit version\n",
      "  warnings.warn(\n"
     ]
    },
    {
     "name": "stdout",
     "output_type": "stream",
     "text": [
      "n=4,d=8,n_circuit=4,n_gen=20\n",
      "n=4,d=9,n_circuit=4,n_gen=20\n",
      "n=4,d=10,n_circuit=4,n_gen=20\n"
     ]
    },
    {
     "name": "stderr",
     "output_type": "stream",
     "text": [
      "/Library/Frameworks/Python.framework/Versions/3.10/lib/python3.10/site-packages/qiskit/qpy/interface.py:273: UserWarning: The qiskit version used to generate the provided QPY file, 0.45.2, is newer than the current qiskit version 0.45.1. This may result in an error if the QPY file uses instructions not present in this current qiskit version\n",
      "  warnings.warn(\n",
      "/Library/Frameworks/Python.framework/Versions/3.10/lib/python3.10/site-packages/qiskit/qpy/interface.py:273: UserWarning: The qiskit version used to generate the provided QPY file, 0.45.2, is newer than the current qiskit version 0.45.1. This may result in an error if the QPY file uses instructions not present in this current qiskit version\n",
      "  warnings.warn(\n",
      "/Library/Frameworks/Python.framework/Versions/3.10/lib/python3.10/site-packages/qiskit/qpy/interface.py:273: UserWarning: The qiskit version used to generate the provided QPY file, 0.45.2, is newer than the current qiskit version 0.45.1. This may result in an error if the QPY file uses instructions not present in this current qiskit version\n",
      "  warnings.warn(\n"
     ]
    },
    {
     "name": "stdout",
     "output_type": "stream",
     "text": [
      "n=4,d=11,n_circuit=4,n_gen=20\n",
      "n=4,d=12,n_circuit=4,n_gen=20\n",
      "n=4,d=13,n_circuit=4,n_gen=20\n",
      "n=4,d=14,n_circuit=4,n_gen=20\n",
      "n=4,d=15,n_circuit=4,n_gen=20\n",
      "n=4,d=16,n_circuit=4,n_gen=20\n",
      "n=4,d=17,n_circuit=4,n_gen=20\n",
      "n=4,d=18,n_circuit=4,n_gen=20\n",
      "n=4,d=19,n_circuit=4,n_gen=20\n",
      "n=4,d=20,n_circuit=4,n_gen=20\n"
     ]
    },
    {
     "name": "stderr",
     "output_type": "stream",
     "text": [
      "/Library/Frameworks/Python.framework/Versions/3.10/lib/python3.10/site-packages/qiskit/qpy/interface.py:273: UserWarning: The qiskit version used to generate the provided QPY file, 0.45.2, is newer than the current qiskit version 0.45.1. This may result in an error if the QPY file uses instructions not present in this current qiskit version\n",
      "  warnings.warn(\n",
      "/Library/Frameworks/Python.framework/Versions/3.10/lib/python3.10/site-packages/qiskit/qpy/interface.py:273: UserWarning: The qiskit version used to generate the provided QPY file, 0.45.2, is newer than the current qiskit version 0.45.1. This may result in an error if the QPY file uses instructions not present in this current qiskit version\n",
      "  warnings.warn(\n",
      "/Library/Frameworks/Python.framework/Versions/3.10/lib/python3.10/site-packages/qiskit/qpy/interface.py:273: UserWarning: The qiskit version used to generate the provided QPY file, 0.45.2, is newer than the current qiskit version 0.45.1. This may result in an error if the QPY file uses instructions not present in this current qiskit version\n",
      "  warnings.warn(\n",
      "/Library/Frameworks/Python.framework/Versions/3.10/lib/python3.10/site-packages/qiskit/qpy/interface.py:273: UserWarning: The qiskit version used to generate the provided QPY file, 0.45.2, is newer than the current qiskit version 0.45.1. This may result in an error if the QPY file uses instructions not present in this current qiskit version\n",
      "  warnings.warn(\n",
      "/Library/Frameworks/Python.framework/Versions/3.10/lib/python3.10/site-packages/qiskit/qpy/interface.py:273: UserWarning: The qiskit version used to generate the provided QPY file, 0.45.2, is newer than the current qiskit version 0.45.1. This may result in an error if the QPY file uses instructions not present in this current qiskit version\n",
      "  warnings.warn(\n",
      "/Library/Frameworks/Python.framework/Versions/3.10/lib/python3.10/site-packages/qiskit/qpy/interface.py:273: UserWarning: The qiskit version used to generate the provided QPY file, 0.45.2, is newer than the current qiskit version 0.45.1. This may result in an error if the QPY file uses instructions not present in this current qiskit version\n",
      "  warnings.warn(\n",
      "/Library/Frameworks/Python.framework/Versions/3.10/lib/python3.10/site-packages/qiskit/qpy/interface.py:273: UserWarning: The qiskit version used to generate the provided QPY file, 0.45.2, is newer than the current qiskit version 0.45.1. This may result in an error if the QPY file uses instructions not present in this current qiskit version\n",
      "  warnings.warn(\n"
     ]
    },
    {
     "name": "stdout",
     "output_type": "stream",
     "text": [
      "n=4,d=21,n_circuit=4,n_gen=20\n"
     ]
    },
    {
     "name": "stderr",
     "output_type": "stream",
     "text": [
      "/Library/Frameworks/Python.framework/Versions/3.10/lib/python3.10/site-packages/qiskit/qpy/interface.py:273: UserWarning: The qiskit version used to generate the provided QPY file, 0.45.2, is newer than the current qiskit version 0.45.1. This may result in an error if the QPY file uses instructions not present in this current qiskit version\n",
      "  warnings.warn(\n"
     ]
    },
    {
     "name": "stdout",
     "output_type": "stream",
     "text": [
      "n=4,d=22,n_circuit=4,n_gen=20\n",
      "n=4,d=23,n_circuit=4,n_gen=20\n",
      "n=4,d=24,n_circuit=4,n_gen=20\n",
      "n=4,d=25,n_circuit=4,n_gen=20\n",
      "n=4,d=26,n_circuit=4,n_gen=20\n",
      "n=4,d=27,n_circuit=4,n_gen=20\n",
      "n=4,d=28,n_circuit=4,n_gen=20\n",
      "n=4,d=29,n_circuit=4,n_gen=20\n",
      "n=4,d=5,n_circuit=4,n_gen=30\n"
     ]
    },
    {
     "name": "stderr",
     "output_type": "stream",
     "text": [
      "/Library/Frameworks/Python.framework/Versions/3.10/lib/python3.10/site-packages/qiskit/qpy/interface.py:273: UserWarning: The qiskit version used to generate the provided QPY file, 0.45.2, is newer than the current qiskit version 0.45.1. This may result in an error if the QPY file uses instructions not present in this current qiskit version\n",
      "  warnings.warn(\n",
      "/Library/Frameworks/Python.framework/Versions/3.10/lib/python3.10/site-packages/qiskit/qpy/interface.py:273: UserWarning: The qiskit version used to generate the provided QPY file, 0.45.2, is newer than the current qiskit version 0.45.1. This may result in an error if the QPY file uses instructions not present in this current qiskit version\n",
      "  warnings.warn(\n",
      "/Library/Frameworks/Python.framework/Versions/3.10/lib/python3.10/site-packages/qiskit/qpy/interface.py:273: UserWarning: The qiskit version used to generate the provided QPY file, 0.45.2, is newer than the current qiskit version 0.45.1. This may result in an error if the QPY file uses instructions not present in this current qiskit version\n",
      "  warnings.warn(\n",
      "/Library/Frameworks/Python.framework/Versions/3.10/lib/python3.10/site-packages/qiskit/qpy/interface.py:273: UserWarning: The qiskit version used to generate the provided QPY file, 0.45.2, is newer than the current qiskit version 0.45.1. This may result in an error if the QPY file uses instructions not present in this current qiskit version\n",
      "  warnings.warn(\n",
      "/Library/Frameworks/Python.framework/Versions/3.10/lib/python3.10/site-packages/qiskit/qpy/interface.py:273: UserWarning: The qiskit version used to generate the provided QPY file, 0.45.2, is newer than the current qiskit version 0.45.1. This may result in an error if the QPY file uses instructions not present in this current qiskit version\n",
      "  warnings.warn(\n",
      "/Library/Frameworks/Python.framework/Versions/3.10/lib/python3.10/site-packages/qiskit/qpy/interface.py:273: UserWarning: The qiskit version used to generate the provided QPY file, 0.45.2, is newer than the current qiskit version 0.45.1. This may result in an error if the QPY file uses instructions not present in this current qiskit version\n",
      "  warnings.warn(\n",
      "/Library/Frameworks/Python.framework/Versions/3.10/lib/python3.10/site-packages/qiskit/qpy/interface.py:273: UserWarning: The qiskit version used to generate the provided QPY file, 0.45.2, is newer than the current qiskit version 0.45.1. This may result in an error if the QPY file uses instructions not present in this current qiskit version\n",
      "  warnings.warn(\n",
      "/Library/Frameworks/Python.framework/Versions/3.10/lib/python3.10/site-packages/qiskit/qpy/interface.py:273: UserWarning: The qiskit version used to generate the provided QPY file, 0.45.2, is newer than the current qiskit version 0.45.1. This may result in an error if the QPY file uses instructions not present in this current qiskit version\n",
      "  warnings.warn(\n"
     ]
    },
    {
     "name": "stdout",
     "output_type": "stream",
     "text": [
      "n=4,d=6,n_circuit=4,n_gen=30\n",
      "n=4,d=7,n_circuit=4,n_gen=30\n",
      "n=4,d=8,n_circuit=4,n_gen=30\n"
     ]
    },
    {
     "name": "stderr",
     "output_type": "stream",
     "text": [
      "/Library/Frameworks/Python.framework/Versions/3.10/lib/python3.10/site-packages/qiskit/qpy/interface.py:273: UserWarning: The qiskit version used to generate the provided QPY file, 0.45.2, is newer than the current qiskit version 0.45.1. This may result in an error if the QPY file uses instructions not present in this current qiskit version\n",
      "  warnings.warn(\n",
      "/Library/Frameworks/Python.framework/Versions/3.10/lib/python3.10/site-packages/qiskit/qpy/interface.py:273: UserWarning: The qiskit version used to generate the provided QPY file, 0.45.2, is newer than the current qiskit version 0.45.1. This may result in an error if the QPY file uses instructions not present in this current qiskit version\n",
      "  warnings.warn(\n"
     ]
    },
    {
     "name": "stdout",
     "output_type": "stream",
     "text": [
      "n=4,d=9,n_circuit=4,n_gen=30\n",
      "n=4,d=10,n_circuit=4,n_gen=30\n",
      "n=4,d=11,n_circuit=4,n_gen=30\n",
      "n=4,d=12,n_circuit=4,n_gen=30\n",
      "n=4,d=13,n_circuit=4,n_gen=30\n",
      "n=4,d=14,n_circuit=4,n_gen=30\n",
      "n=4,d=15,n_circuit=4,n_gen=30\n",
      "n=4,d=16,n_circuit=4,n_gen=30\n",
      "n=4,d=17,n_circuit=4,n_gen=30\n",
      "n=4,d=18,n_circuit=4,n_gen=30\n"
     ]
    },
    {
     "name": "stderr",
     "output_type": "stream",
     "text": [
      "/Library/Frameworks/Python.framework/Versions/3.10/lib/python3.10/site-packages/qiskit/qpy/interface.py:273: UserWarning: The qiskit version used to generate the provided QPY file, 0.45.2, is newer than the current qiskit version 0.45.1. This may result in an error if the QPY file uses instructions not present in this current qiskit version\n",
      "  warnings.warn(\n",
      "/Library/Frameworks/Python.framework/Versions/3.10/lib/python3.10/site-packages/qiskit/qpy/interface.py:273: UserWarning: The qiskit version used to generate the provided QPY file, 0.45.2, is newer than the current qiskit version 0.45.1. This may result in an error if the QPY file uses instructions not present in this current qiskit version\n",
      "  warnings.warn(\n",
      "/Library/Frameworks/Python.framework/Versions/3.10/lib/python3.10/site-packages/qiskit/qpy/interface.py:273: UserWarning: The qiskit version used to generate the provided QPY file, 0.45.2, is newer than the current qiskit version 0.45.1. This may result in an error if the QPY file uses instructions not present in this current qiskit version\n",
      "  warnings.warn(\n",
      "/Library/Frameworks/Python.framework/Versions/3.10/lib/python3.10/site-packages/qiskit/qpy/interface.py:273: UserWarning: The qiskit version used to generate the provided QPY file, 0.45.2, is newer than the current qiskit version 0.45.1. This may result in an error if the QPY file uses instructions not present in this current qiskit version\n",
      "  warnings.warn(\n",
      "/Library/Frameworks/Python.framework/Versions/3.10/lib/python3.10/site-packages/qiskit/qpy/interface.py:273: UserWarning: The qiskit version used to generate the provided QPY file, 0.45.2, is newer than the current qiskit version 0.45.1. This may result in an error if the QPY file uses instructions not present in this current qiskit version\n",
      "  warnings.warn(\n",
      "/Library/Frameworks/Python.framework/Versions/3.10/lib/python3.10/site-packages/qiskit/qpy/interface.py:273: UserWarning: The qiskit version used to generate the provided QPY file, 0.45.2, is newer than the current qiskit version 0.45.1. This may result in an error if the QPY file uses instructions not present in this current qiskit version\n",
      "  warnings.warn(\n",
      "/Library/Frameworks/Python.framework/Versions/3.10/lib/python3.10/site-packages/qiskit/qpy/interface.py:273: UserWarning: The qiskit version used to generate the provided QPY file, 0.45.2, is newer than the current qiskit version 0.45.1. This may result in an error if the QPY file uses instructions not present in this current qiskit version\n",
      "  warnings.warn(\n"
     ]
    },
    {
     "name": "stdout",
     "output_type": "stream",
     "text": [
      "n=4,d=19,n_circuit=4,n_gen=30\n",
      "n=4,d=20,n_circuit=4,n_gen=30\n",
      "n=4,d=21,n_circuit=4,n_gen=30\n",
      "n=4,d=22,n_circuit=4,n_gen=30\n"
     ]
    },
    {
     "name": "stderr",
     "output_type": "stream",
     "text": [
      "/Library/Frameworks/Python.framework/Versions/3.10/lib/python3.10/site-packages/qiskit/qpy/interface.py:273: UserWarning: The qiskit version used to generate the provided QPY file, 0.45.2, is newer than the current qiskit version 0.45.1. This may result in an error if the QPY file uses instructions not present in this current qiskit version\n",
      "  warnings.warn(\n",
      "/Library/Frameworks/Python.framework/Versions/3.10/lib/python3.10/site-packages/qiskit/qpy/interface.py:273: UserWarning: The qiskit version used to generate the provided QPY file, 0.45.2, is newer than the current qiskit version 0.45.1. This may result in an error if the QPY file uses instructions not present in this current qiskit version\n",
      "  warnings.warn(\n",
      "/Library/Frameworks/Python.framework/Versions/3.10/lib/python3.10/site-packages/qiskit/qpy/interface.py:273: UserWarning: The qiskit version used to generate the provided QPY file, 0.45.2, is newer than the current qiskit version 0.45.1. This may result in an error if the QPY file uses instructions not present in this current qiskit version\n",
      "  warnings.warn(\n",
      "/Library/Frameworks/Python.framework/Versions/3.10/lib/python3.10/site-packages/qiskit/qpy/interface.py:273: UserWarning: The qiskit version used to generate the provided QPY file, 0.45.2, is newer than the current qiskit version 0.45.1. This may result in an error if the QPY file uses instructions not present in this current qiskit version\n",
      "  warnings.warn(\n"
     ]
    },
    {
     "name": "stdout",
     "output_type": "stream",
     "text": [
      "n=4,d=23,n_circuit=4,n_gen=30\n",
      "n=4,d=24,n_circuit=4,n_gen=30\n",
      "n=4,d=25,n_circuit=4,n_gen=30\n",
      "n=4,d=26,n_circuit=4,n_gen=30\n"
     ]
    },
    {
     "name": "stderr",
     "output_type": "stream",
     "text": [
      "/Library/Frameworks/Python.framework/Versions/3.10/lib/python3.10/site-packages/qiskit/qpy/interface.py:273: UserWarning: The qiskit version used to generate the provided QPY file, 0.45.2, is newer than the current qiskit version 0.45.1. This may result in an error if the QPY file uses instructions not present in this current qiskit version\n",
      "  warnings.warn(\n",
      "/Library/Frameworks/Python.framework/Versions/3.10/lib/python3.10/site-packages/qiskit/qpy/interface.py:273: UserWarning: The qiskit version used to generate the provided QPY file, 0.45.2, is newer than the current qiskit version 0.45.1. This may result in an error if the QPY file uses instructions not present in this current qiskit version\n",
      "  warnings.warn(\n",
      "/Library/Frameworks/Python.framework/Versions/3.10/lib/python3.10/site-packages/qiskit/qpy/interface.py:273: UserWarning: The qiskit version used to generate the provided QPY file, 0.45.2, is newer than the current qiskit version 0.45.1. This may result in an error if the QPY file uses instructions not present in this current qiskit version\n",
      "  warnings.warn(\n",
      "/Library/Frameworks/Python.framework/Versions/3.10/lib/python3.10/site-packages/qiskit/qpy/interface.py:273: UserWarning: The qiskit version used to generate the provided QPY file, 0.45.2, is newer than the current qiskit version 0.45.1. This may result in an error if the QPY file uses instructions not present in this current qiskit version\n",
      "  warnings.warn(\n"
     ]
    },
    {
     "name": "stdout",
     "output_type": "stream",
     "text": [
      "n=4,d=27,n_circuit=4,n_gen=30\n",
      "n=4,d=28,n_circuit=4,n_gen=30\n"
     ]
    },
    {
     "name": "stderr",
     "output_type": "stream",
     "text": [
      "/Library/Frameworks/Python.framework/Versions/3.10/lib/python3.10/site-packages/qiskit/qpy/interface.py:273: UserWarning: The qiskit version used to generate the provided QPY file, 0.45.2, is newer than the current qiskit version 0.45.1. This may result in an error if the QPY file uses instructions not present in this current qiskit version\n",
      "  warnings.warn(\n",
      "/Library/Frameworks/Python.framework/Versions/3.10/lib/python3.10/site-packages/qiskit/qpy/interface.py:273: UserWarning: The qiskit version used to generate the provided QPY file, 0.45.2, is newer than the current qiskit version 0.45.1. This may result in an error if the QPY file uses instructions not present in this current qiskit version\n",
      "  warnings.warn(\n"
     ]
    },
    {
     "name": "stdout",
     "output_type": "stream",
     "text": [
      "n=4,d=29,n_circuit=4,n_gen=30\n",
      "n=4,d=5,n_circuit=4,n_gen=40\n",
      "n=4,d=6,n_circuit=4,n_gen=40\n"
     ]
    },
    {
     "name": "stderr",
     "output_type": "stream",
     "text": [
      "/Library/Frameworks/Python.framework/Versions/3.10/lib/python3.10/site-packages/qiskit/qpy/interface.py:273: UserWarning: The qiskit version used to generate the provided QPY file, 0.45.2, is newer than the current qiskit version 0.45.1. This may result in an error if the QPY file uses instructions not present in this current qiskit version\n",
      "  warnings.warn(\n",
      "/Library/Frameworks/Python.framework/Versions/3.10/lib/python3.10/site-packages/qiskit/qpy/interface.py:273: UserWarning: The qiskit version used to generate the provided QPY file, 0.45.2, is newer than the current qiskit version 0.45.1. This may result in an error if the QPY file uses instructions not present in this current qiskit version\n",
      "  warnings.warn(\n"
     ]
    },
    {
     "name": "stdout",
     "output_type": "stream",
     "text": [
      "n=4,d=7,n_circuit=4,n_gen=40\n",
      "n=4,d=8,n_circuit=4,n_gen=40\n"
     ]
    },
    {
     "name": "stderr",
     "output_type": "stream",
     "text": [
      "/Library/Frameworks/Python.framework/Versions/3.10/lib/python3.10/site-packages/qiskit/qpy/interface.py:273: UserWarning: The qiskit version used to generate the provided QPY file, 0.45.2, is newer than the current qiskit version 0.45.1. This may result in an error if the QPY file uses instructions not present in this current qiskit version\n",
      "  warnings.warn(\n",
      "/Library/Frameworks/Python.framework/Versions/3.10/lib/python3.10/site-packages/qiskit/qpy/interface.py:273: UserWarning: The qiskit version used to generate the provided QPY file, 0.45.2, is newer than the current qiskit version 0.45.1. This may result in an error if the QPY file uses instructions not present in this current qiskit version\n",
      "  warnings.warn(\n"
     ]
    },
    {
     "name": "stdout",
     "output_type": "stream",
     "text": [
      "n=4,d=9,n_circuit=4,n_gen=40\n",
      "n=4,d=10,n_circuit=4,n_gen=40\n",
      "n=4,d=11,n_circuit=4,n_gen=40\n",
      "n=4,d=12,n_circuit=4,n_gen=40\n",
      "n=4,d=13,n_circuit=4,n_gen=40\n",
      "n=4,d=14,n_circuit=4,n_gen=40\n",
      "n=4,d=15,n_circuit=4,n_gen=40\n",
      "n=4,d=16,n_circuit=4,n_gen=40\n",
      "n=4,d=17,n_circuit=4,n_gen=40\n"
     ]
    },
    {
     "name": "stderr",
     "output_type": "stream",
     "text": [
      "/Library/Frameworks/Python.framework/Versions/3.10/lib/python3.10/site-packages/qiskit/qpy/interface.py:273: UserWarning: The qiskit version used to generate the provided QPY file, 0.45.2, is newer than the current qiskit version 0.45.1. This may result in an error if the QPY file uses instructions not present in this current qiskit version\n",
      "  warnings.warn(\n",
      "/Library/Frameworks/Python.framework/Versions/3.10/lib/python3.10/site-packages/qiskit/qpy/interface.py:273: UserWarning: The qiskit version used to generate the provided QPY file, 0.45.2, is newer than the current qiskit version 0.45.1. This may result in an error if the QPY file uses instructions not present in this current qiskit version\n",
      "  warnings.warn(\n",
      "/Library/Frameworks/Python.framework/Versions/3.10/lib/python3.10/site-packages/qiskit/qpy/interface.py:273: UserWarning: The qiskit version used to generate the provided QPY file, 0.45.2, is newer than the current qiskit version 0.45.1. This may result in an error if the QPY file uses instructions not present in this current qiskit version\n",
      "  warnings.warn(\n",
      "/Library/Frameworks/Python.framework/Versions/3.10/lib/python3.10/site-packages/qiskit/qpy/interface.py:273: UserWarning: The qiskit version used to generate the provided QPY file, 0.45.2, is newer than the current qiskit version 0.45.1. This may result in an error if the QPY file uses instructions not present in this current qiskit version\n",
      "  warnings.warn(\n",
      "/Library/Frameworks/Python.framework/Versions/3.10/lib/python3.10/site-packages/qiskit/qpy/interface.py:273: UserWarning: The qiskit version used to generate the provided QPY file, 0.45.2, is newer than the current qiskit version 0.45.1. This may result in an error if the QPY file uses instructions not present in this current qiskit version\n",
      "  warnings.warn(\n",
      "/Library/Frameworks/Python.framework/Versions/3.10/lib/python3.10/site-packages/qiskit/qpy/interface.py:273: UserWarning: The qiskit version used to generate the provided QPY file, 0.45.2, is newer than the current qiskit version 0.45.1. This may result in an error if the QPY file uses instructions not present in this current qiskit version\n",
      "  warnings.warn(\n"
     ]
    },
    {
     "name": "stdout",
     "output_type": "stream",
     "text": [
      "n=4,d=18,n_circuit=4,n_gen=40\n",
      "n=4,d=19,n_circuit=4,n_gen=40\n",
      "n=4,d=20,n_circuit=4,n_gen=40\n",
      "n=4,d=21,n_circuit=4,n_gen=40\n",
      "n=4,d=22,n_circuit=4,n_gen=40\n"
     ]
    },
    {
     "name": "stderr",
     "output_type": "stream",
     "text": [
      "/Library/Frameworks/Python.framework/Versions/3.10/lib/python3.10/site-packages/qiskit/qpy/interface.py:273: UserWarning: The qiskit version used to generate the provided QPY file, 0.45.2, is newer than the current qiskit version 0.45.1. This may result in an error if the QPY file uses instructions not present in this current qiskit version\n",
      "  warnings.warn(\n",
      "/Library/Frameworks/Python.framework/Versions/3.10/lib/python3.10/site-packages/qiskit/qpy/interface.py:273: UserWarning: The qiskit version used to generate the provided QPY file, 0.45.2, is newer than the current qiskit version 0.45.1. This may result in an error if the QPY file uses instructions not present in this current qiskit version\n",
      "  warnings.warn(\n",
      "/Library/Frameworks/Python.framework/Versions/3.10/lib/python3.10/site-packages/qiskit/qpy/interface.py:273: UserWarning: The qiskit version used to generate the provided QPY file, 0.45.2, is newer than the current qiskit version 0.45.1. This may result in an error if the QPY file uses instructions not present in this current qiskit version\n",
      "  warnings.warn(\n",
      "/Library/Frameworks/Python.framework/Versions/3.10/lib/python3.10/site-packages/qiskit/qpy/interface.py:273: UserWarning: The qiskit version used to generate the provided QPY file, 0.45.2, is newer than the current qiskit version 0.45.1. This may result in an error if the QPY file uses instructions not present in this current qiskit version\n",
      "  warnings.warn(\n"
     ]
    },
    {
     "name": "stdout",
     "output_type": "stream",
     "text": [
      "n=4,d=23,n_circuit=4,n_gen=40\n",
      "n=4,d=24,n_circuit=4,n_gen=40\n",
      "n=4,d=25,n_circuit=4,n_gen=40\n",
      "n=4,d=26,n_circuit=4,n_gen=40\n",
      "n=4,d=27,n_circuit=4,n_gen=40\n",
      "n=4,d=28,n_circuit=4,n_gen=40\n",
      "n=4,d=29,n_circuit=4,n_gen=40\n",
      "n=4,d=5,n_circuit=4,n_gen=50\n"
     ]
    },
    {
     "name": "stderr",
     "output_type": "stream",
     "text": [
      "/Library/Frameworks/Python.framework/Versions/3.10/lib/python3.10/site-packages/qiskit/qpy/interface.py:273: UserWarning: The qiskit version used to generate the provided QPY file, 0.45.2, is newer than the current qiskit version 0.45.1. This may result in an error if the QPY file uses instructions not present in this current qiskit version\n",
      "  warnings.warn(\n",
      "/Library/Frameworks/Python.framework/Versions/3.10/lib/python3.10/site-packages/qiskit/qpy/interface.py:273: UserWarning: The qiskit version used to generate the provided QPY file, 0.45.2, is newer than the current qiskit version 0.45.1. This may result in an error if the QPY file uses instructions not present in this current qiskit version\n",
      "  warnings.warn(\n",
      "/Library/Frameworks/Python.framework/Versions/3.10/lib/python3.10/site-packages/qiskit/qpy/interface.py:273: UserWarning: The qiskit version used to generate the provided QPY file, 0.45.2, is newer than the current qiskit version 0.45.1. This may result in an error if the QPY file uses instructions not present in this current qiskit version\n",
      "  warnings.warn(\n",
      "/Library/Frameworks/Python.framework/Versions/3.10/lib/python3.10/site-packages/qiskit/qpy/interface.py:273: UserWarning: The qiskit version used to generate the provided QPY file, 0.45.2, is newer than the current qiskit version 0.45.1. This may result in an error if the QPY file uses instructions not present in this current qiskit version\n",
      "  warnings.warn(\n",
      "/Library/Frameworks/Python.framework/Versions/3.10/lib/python3.10/site-packages/qiskit/qpy/interface.py:273: UserWarning: The qiskit version used to generate the provided QPY file, 0.45.2, is newer than the current qiskit version 0.45.1. This may result in an error if the QPY file uses instructions not present in this current qiskit version\n",
      "  warnings.warn(\n",
      "/Library/Frameworks/Python.framework/Versions/3.10/lib/python3.10/site-packages/qiskit/qpy/interface.py:273: UserWarning: The qiskit version used to generate the provided QPY file, 0.45.2, is newer than the current qiskit version 0.45.1. This may result in an error if the QPY file uses instructions not present in this current qiskit version\n",
      "  warnings.warn(\n",
      "/Library/Frameworks/Python.framework/Versions/3.10/lib/python3.10/site-packages/qiskit/qpy/interface.py:273: UserWarning: The qiskit version used to generate the provided QPY file, 0.45.2, is newer than the current qiskit version 0.45.1. This may result in an error if the QPY file uses instructions not present in this current qiskit version\n",
      "  warnings.warn(\n"
     ]
    },
    {
     "name": "stdout",
     "output_type": "stream",
     "text": [
      "n=4,d=6,n_circuit=4,n_gen=50\n",
      "n=4,d=7,n_circuit=4,n_gen=50\n"
     ]
    },
    {
     "name": "stderr",
     "output_type": "stream",
     "text": [
      "/Library/Frameworks/Python.framework/Versions/3.10/lib/python3.10/site-packages/qiskit/qpy/interface.py:273: UserWarning: The qiskit version used to generate the provided QPY file, 0.45.2, is newer than the current qiskit version 0.45.1. This may result in an error if the QPY file uses instructions not present in this current qiskit version\n",
      "  warnings.warn(\n",
      "/Library/Frameworks/Python.framework/Versions/3.10/lib/python3.10/site-packages/qiskit/qpy/interface.py:273: UserWarning: The qiskit version used to generate the provided QPY file, 0.45.2, is newer than the current qiskit version 0.45.1. This may result in an error if the QPY file uses instructions not present in this current qiskit version\n",
      "  warnings.warn(\n"
     ]
    },
    {
     "name": "stdout",
     "output_type": "stream",
     "text": [
      "n=4,d=8,n_circuit=4,n_gen=50\n",
      "n=4,d=9,n_circuit=4,n_gen=50\n",
      "n=4,d=10,n_circuit=4,n_gen=50\n",
      "n=4,d=11,n_circuit=4,n_gen=50\n"
     ]
    },
    {
     "name": "stderr",
     "output_type": "stream",
     "text": [
      "/Library/Frameworks/Python.framework/Versions/3.10/lib/python3.10/site-packages/qiskit/qpy/interface.py:273: UserWarning: The qiskit version used to generate the provided QPY file, 0.45.2, is newer than the current qiskit version 0.45.1. This may result in an error if the QPY file uses instructions not present in this current qiskit version\n",
      "  warnings.warn(\n",
      "/Library/Frameworks/Python.framework/Versions/3.10/lib/python3.10/site-packages/qiskit/qpy/interface.py:273: UserWarning: The qiskit version used to generate the provided QPY file, 0.45.2, is newer than the current qiskit version 0.45.1. This may result in an error if the QPY file uses instructions not present in this current qiskit version\n",
      "  warnings.warn(\n",
      "/Library/Frameworks/Python.framework/Versions/3.10/lib/python3.10/site-packages/qiskit/qpy/interface.py:273: UserWarning: The qiskit version used to generate the provided QPY file, 0.45.2, is newer than the current qiskit version 0.45.1. This may result in an error if the QPY file uses instructions not present in this current qiskit version\n",
      "  warnings.warn(\n",
      "/Library/Frameworks/Python.framework/Versions/3.10/lib/python3.10/site-packages/qiskit/qpy/interface.py:273: UserWarning: The qiskit version used to generate the provided QPY file, 0.45.2, is newer than the current qiskit version 0.45.1. This may result in an error if the QPY file uses instructions not present in this current qiskit version\n",
      "  warnings.warn(\n"
     ]
    },
    {
     "name": "stdout",
     "output_type": "stream",
     "text": [
      "n=4,d=12,n_circuit=4,n_gen=50\n",
      "n=4,d=13,n_circuit=4,n_gen=50\n",
      "n=4,d=14,n_circuit=4,n_gen=50\n"
     ]
    },
    {
     "name": "stderr",
     "output_type": "stream",
     "text": [
      "/Library/Frameworks/Python.framework/Versions/3.10/lib/python3.10/site-packages/qiskit/qpy/interface.py:273: UserWarning: The qiskit version used to generate the provided QPY file, 0.45.2, is newer than the current qiskit version 0.45.1. This may result in an error if the QPY file uses instructions not present in this current qiskit version\n",
      "  warnings.warn(\n",
      "/Library/Frameworks/Python.framework/Versions/3.10/lib/python3.10/site-packages/qiskit/qpy/interface.py:273: UserWarning: The qiskit version used to generate the provided QPY file, 0.45.2, is newer than the current qiskit version 0.45.1. This may result in an error if the QPY file uses instructions not present in this current qiskit version\n",
      "  warnings.warn(\n",
      "/Library/Frameworks/Python.framework/Versions/3.10/lib/python3.10/site-packages/qiskit/qpy/interface.py:273: UserWarning: The qiskit version used to generate the provided QPY file, 0.45.2, is newer than the current qiskit version 0.45.1. This may result in an error if the QPY file uses instructions not present in this current qiskit version\n",
      "  warnings.warn(\n"
     ]
    },
    {
     "name": "stdout",
     "output_type": "stream",
     "text": [
      "n=4,d=15,n_circuit=4,n_gen=50\n",
      "n=4,d=16,n_circuit=4,n_gen=50\n",
      "n=4,d=17,n_circuit=4,n_gen=50\n",
      "n=4,d=18,n_circuit=4,n_gen=50\n",
      "n=4,d=19,n_circuit=4,n_gen=50\n",
      "n=4,d=20,n_circuit=4,n_gen=50\n",
      "n=4,d=21,n_circuit=4,n_gen=50\n",
      "n=4,d=22,n_circuit=4,n_gen=50\n",
      "n=4,d=23,n_circuit=4,n_gen=50\n",
      "n=4,d=24,n_circuit=4,n_gen=50\n"
     ]
    },
    {
     "name": "stderr",
     "output_type": "stream",
     "text": [
      "/Library/Frameworks/Python.framework/Versions/3.10/lib/python3.10/site-packages/qiskit/qpy/interface.py:273: UserWarning: The qiskit version used to generate the provided QPY file, 0.45.2, is newer than the current qiskit version 0.45.1. This may result in an error if the QPY file uses instructions not present in this current qiskit version\n",
      "  warnings.warn(\n",
      "/Library/Frameworks/Python.framework/Versions/3.10/lib/python3.10/site-packages/qiskit/qpy/interface.py:273: UserWarning: The qiskit version used to generate the provided QPY file, 0.45.2, is newer than the current qiskit version 0.45.1. This may result in an error if the QPY file uses instructions not present in this current qiskit version\n",
      "  warnings.warn(\n",
      "/Library/Frameworks/Python.framework/Versions/3.10/lib/python3.10/site-packages/qiskit/qpy/interface.py:273: UserWarning: The qiskit version used to generate the provided QPY file, 0.45.2, is newer than the current qiskit version 0.45.1. This may result in an error if the QPY file uses instructions not present in this current qiskit version\n",
      "  warnings.warn(\n",
      "/Library/Frameworks/Python.framework/Versions/3.10/lib/python3.10/site-packages/qiskit/qpy/interface.py:273: UserWarning: The qiskit version used to generate the provided QPY file, 0.45.2, is newer than the current qiskit version 0.45.1. This may result in an error if the QPY file uses instructions not present in this current qiskit version\n",
      "  warnings.warn(\n",
      "/Library/Frameworks/Python.framework/Versions/3.10/lib/python3.10/site-packages/qiskit/qpy/interface.py:273: UserWarning: The qiskit version used to generate the provided QPY file, 0.45.2, is newer than the current qiskit version 0.45.1. This may result in an error if the QPY file uses instructions not present in this current qiskit version\n",
      "  warnings.warn(\n",
      "/Library/Frameworks/Python.framework/Versions/3.10/lib/python3.10/site-packages/qiskit/qpy/interface.py:273: UserWarning: The qiskit version used to generate the provided QPY file, 0.45.2, is newer than the current qiskit version 0.45.1. This may result in an error if the QPY file uses instructions not present in this current qiskit version\n",
      "  warnings.warn(\n",
      "/Library/Frameworks/Python.framework/Versions/3.10/lib/python3.10/site-packages/qiskit/qpy/interface.py:273: UserWarning: The qiskit version used to generate the provided QPY file, 0.45.2, is newer than the current qiskit version 0.45.1. This may result in an error if the QPY file uses instructions not present in this current qiskit version\n",
      "  warnings.warn(\n",
      "/Library/Frameworks/Python.framework/Versions/3.10/lib/python3.10/site-packages/qiskit/qpy/interface.py:273: UserWarning: The qiskit version used to generate the provided QPY file, 0.45.2, is newer than the current qiskit version 0.45.1. This may result in an error if the QPY file uses instructions not present in this current qiskit version\n",
      "  warnings.warn(\n",
      "/Library/Frameworks/Python.framework/Versions/3.10/lib/python3.10/site-packages/qiskit/qpy/interface.py:273: UserWarning: The qiskit version used to generate the provided QPY file, 0.45.2, is newer than the current qiskit version 0.45.1. This may result in an error if the QPY file uses instructions not present in this current qiskit version\n",
      "  warnings.warn(\n"
     ]
    },
    {
     "name": "stdout",
     "output_type": "stream",
     "text": [
      "n=4,d=25,n_circuit=4,n_gen=50\n",
      "n=4,d=26,n_circuit=4,n_gen=50\n",
      "n=4,d=27,n_circuit=4,n_gen=50\n"
     ]
    },
    {
     "name": "stderr",
     "output_type": "stream",
     "text": [
      "/Library/Frameworks/Python.framework/Versions/3.10/lib/python3.10/site-packages/qiskit/qpy/interface.py:273: UserWarning: The qiskit version used to generate the provided QPY file, 0.45.2, is newer than the current qiskit version 0.45.1. This may result in an error if the QPY file uses instructions not present in this current qiskit version\n",
      "  warnings.warn(\n"
     ]
    },
    {
     "name": "stdout",
     "output_type": "stream",
     "text": [
      "n=4,d=28,n_circuit=4,n_gen=50\n",
      "n=4,d=29,n_circuit=4,n_gen=50\n",
      "n=4,d=5,n_circuit=8,n_gen=10\n",
      "n=4,d=6,n_circuit=8,n_gen=10\n",
      "n=4,d=7,n_circuit=8,n_gen=10\n",
      "n=4,d=8,n_circuit=8,n_gen=10\n"
     ]
    },
    {
     "name": "stderr",
     "output_type": "stream",
     "text": [
      "/Library/Frameworks/Python.framework/Versions/3.10/lib/python3.10/site-packages/qiskit/qpy/interface.py:273: UserWarning: The qiskit version used to generate the provided QPY file, 0.45.2, is newer than the current qiskit version 0.45.1. This may result in an error if the QPY file uses instructions not present in this current qiskit version\n",
      "  warnings.warn(\n",
      "/Library/Frameworks/Python.framework/Versions/3.10/lib/python3.10/site-packages/qiskit/qpy/interface.py:273: UserWarning: The qiskit version used to generate the provided QPY file, 0.45.2, is newer than the current qiskit version 0.45.1. This may result in an error if the QPY file uses instructions not present in this current qiskit version\n",
      "  warnings.warn(\n",
      "/Library/Frameworks/Python.framework/Versions/3.10/lib/python3.10/site-packages/qiskit/qpy/interface.py:273: UserWarning: The qiskit version used to generate the provided QPY file, 0.45.2, is newer than the current qiskit version 0.45.1. This may result in an error if the QPY file uses instructions not present in this current qiskit version\n",
      "  warnings.warn(\n"
     ]
    },
    {
     "name": "stdout",
     "output_type": "stream",
     "text": [
      "n=4,d=9,n_circuit=8,n_gen=10\n",
      "n=4,d=10,n_circuit=8,n_gen=10\n",
      "n=4,d=11,n_circuit=8,n_gen=10\n",
      "n=4,d=12,n_circuit=8,n_gen=10\n",
      "n=4,d=13,n_circuit=8,n_gen=10\n"
     ]
    },
    {
     "name": "stderr",
     "output_type": "stream",
     "text": [
      "/Library/Frameworks/Python.framework/Versions/3.10/lib/python3.10/site-packages/qiskit/qpy/interface.py:273: UserWarning: The qiskit version used to generate the provided QPY file, 0.45.2, is newer than the current qiskit version 0.45.1. This may result in an error if the QPY file uses instructions not present in this current qiskit version\n",
      "  warnings.warn(\n",
      "/Library/Frameworks/Python.framework/Versions/3.10/lib/python3.10/site-packages/qiskit/qpy/interface.py:273: UserWarning: The qiskit version used to generate the provided QPY file, 0.45.2, is newer than the current qiskit version 0.45.1. This may result in an error if the QPY file uses instructions not present in this current qiskit version\n",
      "  warnings.warn(\n",
      "/Library/Frameworks/Python.framework/Versions/3.10/lib/python3.10/site-packages/qiskit/qpy/interface.py:273: UserWarning: The qiskit version used to generate the provided QPY file, 0.45.2, is newer than the current qiskit version 0.45.1. This may result in an error if the QPY file uses instructions not present in this current qiskit version\n",
      "  warnings.warn(\n",
      "/Library/Frameworks/Python.framework/Versions/3.10/lib/python3.10/site-packages/qiskit/qpy/interface.py:273: UserWarning: The qiskit version used to generate the provided QPY file, 0.45.2, is newer than the current qiskit version 0.45.1. This may result in an error if the QPY file uses instructions not present in this current qiskit version\n",
      "  warnings.warn(\n",
      "/Library/Frameworks/Python.framework/Versions/3.10/lib/python3.10/site-packages/qiskit/qpy/interface.py:273: UserWarning: The qiskit version used to generate the provided QPY file, 0.45.2, is newer than the current qiskit version 0.45.1. This may result in an error if the QPY file uses instructions not present in this current qiskit version\n",
      "  warnings.warn(\n"
     ]
    },
    {
     "name": "stdout",
     "output_type": "stream",
     "text": [
      "n=4,d=14,n_circuit=8,n_gen=10\n",
      "n=4,d=15,n_circuit=8,n_gen=10\n",
      "n=4,d=16,n_circuit=8,n_gen=10\n",
      "n=4,d=17,n_circuit=8,n_gen=10\n",
      "n=4,d=18,n_circuit=8,n_gen=10\n",
      "n=4,d=19,n_circuit=8,n_gen=10\n",
      "n=4,d=20,n_circuit=8,n_gen=10\n",
      "n=4,d=21,n_circuit=8,n_gen=10\n",
      "n=4,d=22,n_circuit=8,n_gen=10\n"
     ]
    },
    {
     "name": "stderr",
     "output_type": "stream",
     "text": [
      "/Library/Frameworks/Python.framework/Versions/3.10/lib/python3.10/site-packages/qiskit/qpy/interface.py:273: UserWarning: The qiskit version used to generate the provided QPY file, 0.45.2, is newer than the current qiskit version 0.45.1. This may result in an error if the QPY file uses instructions not present in this current qiskit version\n",
      "  warnings.warn(\n",
      "/Library/Frameworks/Python.framework/Versions/3.10/lib/python3.10/site-packages/qiskit/qpy/interface.py:273: UserWarning: The qiskit version used to generate the provided QPY file, 0.45.2, is newer than the current qiskit version 0.45.1. This may result in an error if the QPY file uses instructions not present in this current qiskit version\n",
      "  warnings.warn(\n",
      "/Library/Frameworks/Python.framework/Versions/3.10/lib/python3.10/site-packages/qiskit/qpy/interface.py:273: UserWarning: The qiskit version used to generate the provided QPY file, 0.45.2, is newer than the current qiskit version 0.45.1. This may result in an error if the QPY file uses instructions not present in this current qiskit version\n",
      "  warnings.warn(\n",
      "/Library/Frameworks/Python.framework/Versions/3.10/lib/python3.10/site-packages/qiskit/qpy/interface.py:273: UserWarning: The qiskit version used to generate the provided QPY file, 0.45.2, is newer than the current qiskit version 0.45.1. This may result in an error if the QPY file uses instructions not present in this current qiskit version\n",
      "  warnings.warn(\n",
      "/Library/Frameworks/Python.framework/Versions/3.10/lib/python3.10/site-packages/qiskit/qpy/interface.py:273: UserWarning: The qiskit version used to generate the provided QPY file, 0.45.2, is newer than the current qiskit version 0.45.1. This may result in an error if the QPY file uses instructions not present in this current qiskit version\n",
      "  warnings.warn(\n",
      "/Library/Frameworks/Python.framework/Versions/3.10/lib/python3.10/site-packages/qiskit/qpy/interface.py:273: UserWarning: The qiskit version used to generate the provided QPY file, 0.45.2, is newer than the current qiskit version 0.45.1. This may result in an error if the QPY file uses instructions not present in this current qiskit version\n",
      "  warnings.warn(\n"
     ]
    },
    {
     "name": "stdout",
     "output_type": "stream",
     "text": [
      "n=4,d=23,n_circuit=8,n_gen=10\n",
      "n=4,d=24,n_circuit=8,n_gen=10\n"
     ]
    },
    {
     "name": "stderr",
     "output_type": "stream",
     "text": [
      "/Library/Frameworks/Python.framework/Versions/3.10/lib/python3.10/site-packages/qiskit/qpy/interface.py:273: UserWarning: The qiskit version used to generate the provided QPY file, 0.45.2, is newer than the current qiskit version 0.45.1. This may result in an error if the QPY file uses instructions not present in this current qiskit version\n",
      "  warnings.warn(\n",
      "/Library/Frameworks/Python.framework/Versions/3.10/lib/python3.10/site-packages/qiskit/qpy/interface.py:273: UserWarning: The qiskit version used to generate the provided QPY file, 0.45.2, is newer than the current qiskit version 0.45.1. This may result in an error if the QPY file uses instructions not present in this current qiskit version\n",
      "  warnings.warn(\n"
     ]
    },
    {
     "name": "stdout",
     "output_type": "stream",
     "text": [
      "n=4,d=25,n_circuit=8,n_gen=10\n",
      "n=4,d=26,n_circuit=8,n_gen=10\n",
      "n=4,d=27,n_circuit=8,n_gen=10\n",
      "n=4,d=28,n_circuit=8,n_gen=10\n"
     ]
    },
    {
     "name": "stderr",
     "output_type": "stream",
     "text": [
      "/Library/Frameworks/Python.framework/Versions/3.10/lib/python3.10/site-packages/qiskit/qpy/interface.py:273: UserWarning: The qiskit version used to generate the provided QPY file, 0.45.2, is newer than the current qiskit version 0.45.1. This may result in an error if the QPY file uses instructions not present in this current qiskit version\n",
      "  warnings.warn(\n",
      "/Library/Frameworks/Python.framework/Versions/3.10/lib/python3.10/site-packages/qiskit/qpy/interface.py:273: UserWarning: The qiskit version used to generate the provided QPY file, 0.45.2, is newer than the current qiskit version 0.45.1. This may result in an error if the QPY file uses instructions not present in this current qiskit version\n",
      "  warnings.warn(\n",
      "/Library/Frameworks/Python.framework/Versions/3.10/lib/python3.10/site-packages/qiskit/qpy/interface.py:273: UserWarning: The qiskit version used to generate the provided QPY file, 0.45.2, is newer than the current qiskit version 0.45.1. This may result in an error if the QPY file uses instructions not present in this current qiskit version\n",
      "  warnings.warn(\n",
      "/Library/Frameworks/Python.framework/Versions/3.10/lib/python3.10/site-packages/qiskit/qpy/interface.py:273: UserWarning: The qiskit version used to generate the provided QPY file, 0.45.2, is newer than the current qiskit version 0.45.1. This may result in an error if the QPY file uses instructions not present in this current qiskit version\n",
      "  warnings.warn(\n"
     ]
    },
    {
     "name": "stdout",
     "output_type": "stream",
     "text": [
      "n=4,d=29,n_circuit=8,n_gen=10\n",
      "n=4,d=5,n_circuit=8,n_gen=20\n"
     ]
    },
    {
     "name": "stderr",
     "output_type": "stream",
     "text": [
      "/Library/Frameworks/Python.framework/Versions/3.10/lib/python3.10/site-packages/qiskit/qpy/interface.py:273: UserWarning: The qiskit version used to generate the provided QPY file, 0.45.2, is newer than the current qiskit version 0.45.1. This may result in an error if the QPY file uses instructions not present in this current qiskit version\n",
      "  warnings.warn(\n"
     ]
    },
    {
     "name": "stdout",
     "output_type": "stream",
     "text": [
      "n=4,d=6,n_circuit=8,n_gen=20\n",
      "n=4,d=7,n_circuit=8,n_gen=20\n",
      "n=4,d=8,n_circuit=8,n_gen=20\n"
     ]
    },
    {
     "name": "stderr",
     "output_type": "stream",
     "text": [
      "/Library/Frameworks/Python.framework/Versions/3.10/lib/python3.10/site-packages/qiskit/qpy/interface.py:273: UserWarning: The qiskit version used to generate the provided QPY file, 0.45.2, is newer than the current qiskit version 0.45.1. This may result in an error if the QPY file uses instructions not present in this current qiskit version\n",
      "  warnings.warn(\n",
      "/Library/Frameworks/Python.framework/Versions/3.10/lib/python3.10/site-packages/qiskit/qpy/interface.py:273: UserWarning: The qiskit version used to generate the provided QPY file, 0.45.2, is newer than the current qiskit version 0.45.1. This may result in an error if the QPY file uses instructions not present in this current qiskit version\n",
      "  warnings.warn(\n"
     ]
    },
    {
     "name": "stdout",
     "output_type": "stream",
     "text": [
      "n=4,d=9,n_circuit=8,n_gen=20\n"
     ]
    },
    {
     "name": "stderr",
     "output_type": "stream",
     "text": [
      "/Library/Frameworks/Python.framework/Versions/3.10/lib/python3.10/site-packages/qiskit/qpy/interface.py:273: UserWarning: The qiskit version used to generate the provided QPY file, 0.45.2, is newer than the current qiskit version 0.45.1. This may result in an error if the QPY file uses instructions not present in this current qiskit version\n",
      "  warnings.warn(\n"
     ]
    },
    {
     "name": "stdout",
     "output_type": "stream",
     "text": [
      "n=4,d=10,n_circuit=8,n_gen=20\n",
      "n=4,d=11,n_circuit=8,n_gen=20\n",
      "n=4,d=12,n_circuit=8,n_gen=20\n",
      "n=4,d=13,n_circuit=8,n_gen=20\n",
      "n=4,d=14,n_circuit=8,n_gen=20\n",
      "n=4,d=15,n_circuit=8,n_gen=20\n",
      "n=4,d=16,n_circuit=8,n_gen=20\n",
      "n=4,d=17,n_circuit=8,n_gen=20\n",
      "n=4,d=18,n_circuit=8,n_gen=20\n",
      "n=4,d=19,n_circuit=8,n_gen=20\n",
      "n=4,d=20,n_circuit=8,n_gen=20\n"
     ]
    },
    {
     "name": "stderr",
     "output_type": "stream",
     "text": [
      "/Library/Frameworks/Python.framework/Versions/3.10/lib/python3.10/site-packages/qiskit/qpy/interface.py:273: UserWarning: The qiskit version used to generate the provided QPY file, 0.45.2, is newer than the current qiskit version 0.45.1. This may result in an error if the QPY file uses instructions not present in this current qiskit version\n",
      "  warnings.warn(\n",
      "/Library/Frameworks/Python.framework/Versions/3.10/lib/python3.10/site-packages/qiskit/qpy/interface.py:273: UserWarning: The qiskit version used to generate the provided QPY file, 0.45.2, is newer than the current qiskit version 0.45.1. This may result in an error if the QPY file uses instructions not present in this current qiskit version\n",
      "  warnings.warn(\n",
      "/Library/Frameworks/Python.framework/Versions/3.10/lib/python3.10/site-packages/qiskit/qpy/interface.py:273: UserWarning: The qiskit version used to generate the provided QPY file, 0.45.2, is newer than the current qiskit version 0.45.1. This may result in an error if the QPY file uses instructions not present in this current qiskit version\n",
      "  warnings.warn(\n",
      "/Library/Frameworks/Python.framework/Versions/3.10/lib/python3.10/site-packages/qiskit/qpy/interface.py:273: UserWarning: The qiskit version used to generate the provided QPY file, 0.45.2, is newer than the current qiskit version 0.45.1. This may result in an error if the QPY file uses instructions not present in this current qiskit version\n",
      "  warnings.warn(\n",
      "/Library/Frameworks/Python.framework/Versions/3.10/lib/python3.10/site-packages/qiskit/qpy/interface.py:273: UserWarning: The qiskit version used to generate the provided QPY file, 0.45.2, is newer than the current qiskit version 0.45.1. This may result in an error if the QPY file uses instructions not present in this current qiskit version\n",
      "  warnings.warn(\n",
      "/Library/Frameworks/Python.framework/Versions/3.10/lib/python3.10/site-packages/qiskit/qpy/interface.py:273: UserWarning: The qiskit version used to generate the provided QPY file, 0.45.2, is newer than the current qiskit version 0.45.1. This may result in an error if the QPY file uses instructions not present in this current qiskit version\n",
      "  warnings.warn(\n",
      "/Library/Frameworks/Python.framework/Versions/3.10/lib/python3.10/site-packages/qiskit/qpy/interface.py:273: UserWarning: The qiskit version used to generate the provided QPY file, 0.45.2, is newer than the current qiskit version 0.45.1. This may result in an error if the QPY file uses instructions not present in this current qiskit version\n",
      "  warnings.warn(\n",
      "/Library/Frameworks/Python.framework/Versions/3.10/lib/python3.10/site-packages/qiskit/qpy/interface.py:273: UserWarning: The qiskit version used to generate the provided QPY file, 0.45.2, is newer than the current qiskit version 0.45.1. This may result in an error if the QPY file uses instructions not present in this current qiskit version\n",
      "  warnings.warn(\n"
     ]
    },
    {
     "name": "stdout",
     "output_type": "stream",
     "text": [
      "n=4,d=21,n_circuit=8,n_gen=20\n",
      "n=4,d=22,n_circuit=8,n_gen=20\n",
      "n=4,d=23,n_circuit=8,n_gen=20\n",
      "n=4,d=24,n_circuit=8,n_gen=20\n",
      "n=4,d=25,n_circuit=8,n_gen=20\n",
      "n=4,d=26,n_circuit=8,n_gen=20\n",
      "n=4,d=27,n_circuit=8,n_gen=20\n"
     ]
    },
    {
     "name": "stderr",
     "output_type": "stream",
     "text": [
      "/Library/Frameworks/Python.framework/Versions/3.10/lib/python3.10/site-packages/qiskit/qpy/interface.py:273: UserWarning: The qiskit version used to generate the provided QPY file, 0.45.2, is newer than the current qiskit version 0.45.1. This may result in an error if the QPY file uses instructions not present in this current qiskit version\n",
      "  warnings.warn(\n",
      "/Library/Frameworks/Python.framework/Versions/3.10/lib/python3.10/site-packages/qiskit/qpy/interface.py:273: UserWarning: The qiskit version used to generate the provided QPY file, 0.45.2, is newer than the current qiskit version 0.45.1. This may result in an error if the QPY file uses instructions not present in this current qiskit version\n",
      "  warnings.warn(\n",
      "/Library/Frameworks/Python.framework/Versions/3.10/lib/python3.10/site-packages/qiskit/qpy/interface.py:273: UserWarning: The qiskit version used to generate the provided QPY file, 0.45.2, is newer than the current qiskit version 0.45.1. This may result in an error if the QPY file uses instructions not present in this current qiskit version\n",
      "  warnings.warn(\n",
      "/Library/Frameworks/Python.framework/Versions/3.10/lib/python3.10/site-packages/qiskit/qpy/interface.py:273: UserWarning: The qiskit version used to generate the provided QPY file, 0.45.2, is newer than the current qiskit version 0.45.1. This may result in an error if the QPY file uses instructions not present in this current qiskit version\n",
      "  warnings.warn(\n",
      "/Library/Frameworks/Python.framework/Versions/3.10/lib/python3.10/site-packages/qiskit/qpy/interface.py:273: UserWarning: The qiskit version used to generate the provided QPY file, 0.45.2, is newer than the current qiskit version 0.45.1. This may result in an error if the QPY file uses instructions not present in this current qiskit version\n",
      "  warnings.warn(\n",
      "/Library/Frameworks/Python.framework/Versions/3.10/lib/python3.10/site-packages/qiskit/qpy/interface.py:273: UserWarning: The qiskit version used to generate the provided QPY file, 0.45.2, is newer than the current qiskit version 0.45.1. This may result in an error if the QPY file uses instructions not present in this current qiskit version\n",
      "  warnings.warn(\n",
      "/Library/Frameworks/Python.framework/Versions/3.10/lib/python3.10/site-packages/qiskit/qpy/interface.py:273: UserWarning: The qiskit version used to generate the provided QPY file, 0.45.2, is newer than the current qiskit version 0.45.1. This may result in an error if the QPY file uses instructions not present in this current qiskit version\n",
      "  warnings.warn(\n"
     ]
    },
    {
     "name": "stdout",
     "output_type": "stream",
     "text": [
      "n=4,d=28,n_circuit=8,n_gen=20\n",
      "n=4,d=29,n_circuit=8,n_gen=20\n"
     ]
    },
    {
     "name": "stderr",
     "output_type": "stream",
     "text": [
      "/Library/Frameworks/Python.framework/Versions/3.10/lib/python3.10/site-packages/qiskit/qpy/interface.py:273: UserWarning: The qiskit version used to generate the provided QPY file, 0.45.2, is newer than the current qiskit version 0.45.1. This may result in an error if the QPY file uses instructions not present in this current qiskit version\n",
      "  warnings.warn(\n",
      "/Library/Frameworks/Python.framework/Versions/3.10/lib/python3.10/site-packages/qiskit/qpy/interface.py:273: UserWarning: The qiskit version used to generate the provided QPY file, 0.45.2, is newer than the current qiskit version 0.45.1. This may result in an error if the QPY file uses instructions not present in this current qiskit version\n",
      "  warnings.warn(\n"
     ]
    },
    {
     "name": "stdout",
     "output_type": "stream",
     "text": [
      "n=4,d=5,n_circuit=8,n_gen=30\n",
      "n=4,d=6,n_circuit=8,n_gen=30\n",
      "n=4,d=7,n_circuit=8,n_gen=30\n"
     ]
    },
    {
     "name": "stderr",
     "output_type": "stream",
     "text": [
      "/Library/Frameworks/Python.framework/Versions/3.10/lib/python3.10/site-packages/qiskit/qpy/interface.py:273: UserWarning: The qiskit version used to generate the provided QPY file, 0.45.2, is newer than the current qiskit version 0.45.1. This may result in an error if the QPY file uses instructions not present in this current qiskit version\n",
      "  warnings.warn(\n",
      "/Library/Frameworks/Python.framework/Versions/3.10/lib/python3.10/site-packages/qiskit/qpy/interface.py:273: UserWarning: The qiskit version used to generate the provided QPY file, 0.45.2, is newer than the current qiskit version 0.45.1. This may result in an error if the QPY file uses instructions not present in this current qiskit version\n",
      "  warnings.warn(\n"
     ]
    },
    {
     "name": "stdout",
     "output_type": "stream",
     "text": [
      "n=4,d=8,n_circuit=8,n_gen=30\n",
      "n=4,d=9,n_circuit=8,n_gen=30\n",
      "n=4,d=10,n_circuit=8,n_gen=30\n",
      "n=4,d=11,n_circuit=8,n_gen=30\n",
      "n=4,d=12,n_circuit=8,n_gen=30\n",
      "n=4,d=13,n_circuit=8,n_gen=30\n",
      "n=4,d=14,n_circuit=8,n_gen=30\n",
      "n=4,d=15,n_circuit=8,n_gen=30\n",
      "n=4,d=16,n_circuit=8,n_gen=30\n",
      "n=4,d=17,n_circuit=8,n_gen=30\n"
     ]
    },
    {
     "name": "stderr",
     "output_type": "stream",
     "text": [
      "/Library/Frameworks/Python.framework/Versions/3.10/lib/python3.10/site-packages/qiskit/qpy/interface.py:273: UserWarning: The qiskit version used to generate the provided QPY file, 0.45.2, is newer than the current qiskit version 0.45.1. This may result in an error if the QPY file uses instructions not present in this current qiskit version\n",
      "  warnings.warn(\n",
      "/Library/Frameworks/Python.framework/Versions/3.10/lib/python3.10/site-packages/qiskit/qpy/interface.py:273: UserWarning: The qiskit version used to generate the provided QPY file, 0.45.2, is newer than the current qiskit version 0.45.1. This may result in an error if the QPY file uses instructions not present in this current qiskit version\n",
      "  warnings.warn(\n",
      "/Library/Frameworks/Python.framework/Versions/3.10/lib/python3.10/site-packages/qiskit/qpy/interface.py:273: UserWarning: The qiskit version used to generate the provided QPY file, 0.45.2, is newer than the current qiskit version 0.45.1. This may result in an error if the QPY file uses instructions not present in this current qiskit version\n",
      "  warnings.warn(\n",
      "/Library/Frameworks/Python.framework/Versions/3.10/lib/python3.10/site-packages/qiskit/qpy/interface.py:273: UserWarning: The qiskit version used to generate the provided QPY file, 0.45.2, is newer than the current qiskit version 0.45.1. This may result in an error if the QPY file uses instructions not present in this current qiskit version\n",
      "  warnings.warn(\n",
      "/Library/Frameworks/Python.framework/Versions/3.10/lib/python3.10/site-packages/qiskit/qpy/interface.py:273: UserWarning: The qiskit version used to generate the provided QPY file, 0.45.2, is newer than the current qiskit version 0.45.1. This may result in an error if the QPY file uses instructions not present in this current qiskit version\n",
      "  warnings.warn(\n",
      "/Library/Frameworks/Python.framework/Versions/3.10/lib/python3.10/site-packages/qiskit/qpy/interface.py:273: UserWarning: The qiskit version used to generate the provided QPY file, 0.45.2, is newer than the current qiskit version 0.45.1. This may result in an error if the QPY file uses instructions not present in this current qiskit version\n",
      "  warnings.warn(\n"
     ]
    },
    {
     "name": "stdout",
     "output_type": "stream",
     "text": [
      "n=4,d=18,n_circuit=8,n_gen=30\n",
      "n=4,d=19,n_circuit=8,n_gen=30\n",
      "n=4,d=20,n_circuit=8,n_gen=30\n",
      "n=4,d=21,n_circuit=8,n_gen=30\n",
      "n=4,d=22,n_circuit=8,n_gen=30\n",
      "n=4,d=23,n_circuit=8,n_gen=30\n"
     ]
    },
    {
     "name": "stderr",
     "output_type": "stream",
     "text": [
      "/Library/Frameworks/Python.framework/Versions/3.10/lib/python3.10/site-packages/qiskit/qpy/interface.py:273: UserWarning: The qiskit version used to generate the provided QPY file, 0.45.2, is newer than the current qiskit version 0.45.1. This may result in an error if the QPY file uses instructions not present in this current qiskit version\n",
      "  warnings.warn(\n",
      "/Library/Frameworks/Python.framework/Versions/3.10/lib/python3.10/site-packages/qiskit/qpy/interface.py:273: UserWarning: The qiskit version used to generate the provided QPY file, 0.45.2, is newer than the current qiskit version 0.45.1. This may result in an error if the QPY file uses instructions not present in this current qiskit version\n",
      "  warnings.warn(\n",
      "/Library/Frameworks/Python.framework/Versions/3.10/lib/python3.10/site-packages/qiskit/qpy/interface.py:273: UserWarning: The qiskit version used to generate the provided QPY file, 0.45.2, is newer than the current qiskit version 0.45.1. This may result in an error if the QPY file uses instructions not present in this current qiskit version\n",
      "  warnings.warn(\n",
      "/Library/Frameworks/Python.framework/Versions/3.10/lib/python3.10/site-packages/qiskit/qpy/interface.py:273: UserWarning: The qiskit version used to generate the provided QPY file, 0.45.2, is newer than the current qiskit version 0.45.1. This may result in an error if the QPY file uses instructions not present in this current qiskit version\n",
      "  warnings.warn(\n",
      "/Library/Frameworks/Python.framework/Versions/3.10/lib/python3.10/site-packages/qiskit/qpy/interface.py:273: UserWarning: The qiskit version used to generate the provided QPY file, 0.45.2, is newer than the current qiskit version 0.45.1. This may result in an error if the QPY file uses instructions not present in this current qiskit version\n",
      "  warnings.warn(\n",
      "/Library/Frameworks/Python.framework/Versions/3.10/lib/python3.10/site-packages/qiskit/qpy/interface.py:273: UserWarning: The qiskit version used to generate the provided QPY file, 0.45.2, is newer than the current qiskit version 0.45.1. This may result in an error if the QPY file uses instructions not present in this current qiskit version\n",
      "  warnings.warn(\n"
     ]
    },
    {
     "name": "stdout",
     "output_type": "stream",
     "text": [
      "n=4,d=24,n_circuit=8,n_gen=30\n",
      "n=4,d=25,n_circuit=8,n_gen=30\n",
      "n=4,d=26,n_circuit=8,n_gen=30\n",
      "n=4,d=27,n_circuit=8,n_gen=30\n",
      "n=4,d=28,n_circuit=8,n_gen=30\n"
     ]
    },
    {
     "name": "stderr",
     "output_type": "stream",
     "text": [
      "/Library/Frameworks/Python.framework/Versions/3.10/lib/python3.10/site-packages/qiskit/qpy/interface.py:273: UserWarning: The qiskit version used to generate the provided QPY file, 0.45.2, is newer than the current qiskit version 0.45.1. This may result in an error if the QPY file uses instructions not present in this current qiskit version\n",
      "  warnings.warn(\n",
      "/Library/Frameworks/Python.framework/Versions/3.10/lib/python3.10/site-packages/qiskit/qpy/interface.py:273: UserWarning: The qiskit version used to generate the provided QPY file, 0.45.2, is newer than the current qiskit version 0.45.1. This may result in an error if the QPY file uses instructions not present in this current qiskit version\n",
      "  warnings.warn(\n",
      "/Library/Frameworks/Python.framework/Versions/3.10/lib/python3.10/site-packages/qiskit/qpy/interface.py:273: UserWarning: The qiskit version used to generate the provided QPY file, 0.45.2, is newer than the current qiskit version 0.45.1. This may result in an error if the QPY file uses instructions not present in this current qiskit version\n",
      "  warnings.warn(\n",
      "/Library/Frameworks/Python.framework/Versions/3.10/lib/python3.10/site-packages/qiskit/qpy/interface.py:273: UserWarning: The qiskit version used to generate the provided QPY file, 0.45.2, is newer than the current qiskit version 0.45.1. This may result in an error if the QPY file uses instructions not present in this current qiskit version\n",
      "  warnings.warn(\n",
      "/Library/Frameworks/Python.framework/Versions/3.10/lib/python3.10/site-packages/qiskit/qpy/interface.py:273: UserWarning: The qiskit version used to generate the provided QPY file, 0.45.2, is newer than the current qiskit version 0.45.1. This may result in an error if the QPY file uses instructions not present in this current qiskit version\n",
      "  warnings.warn(\n"
     ]
    },
    {
     "name": "stdout",
     "output_type": "stream",
     "text": [
      "n=4,d=29,n_circuit=8,n_gen=30\n"
     ]
    },
    {
     "name": "stderr",
     "output_type": "stream",
     "text": [
      "/Library/Frameworks/Python.framework/Versions/3.10/lib/python3.10/site-packages/qiskit/qpy/interface.py:273: UserWarning: The qiskit version used to generate the provided QPY file, 0.45.2, is newer than the current qiskit version 0.45.1. This may result in an error if the QPY file uses instructions not present in this current qiskit version\n",
      "  warnings.warn(\n"
     ]
    },
    {
     "name": "stdout",
     "output_type": "stream",
     "text": [
      "n=4,d=5,n_circuit=8,n_gen=40\n",
      "n=4,d=6,n_circuit=8,n_gen=40\n",
      "n=4,d=7,n_circuit=8,n_gen=40\n"
     ]
    },
    {
     "name": "stderr",
     "output_type": "stream",
     "text": [
      "/Library/Frameworks/Python.framework/Versions/3.10/lib/python3.10/site-packages/qiskit/qpy/interface.py:273: UserWarning: The qiskit version used to generate the provided QPY file, 0.45.2, is newer than the current qiskit version 0.45.1. This may result in an error if the QPY file uses instructions not present in this current qiskit version\n",
      "  warnings.warn(\n",
      "/Library/Frameworks/Python.framework/Versions/3.10/lib/python3.10/site-packages/qiskit/qpy/interface.py:273: UserWarning: The qiskit version used to generate the provided QPY file, 0.45.2, is newer than the current qiskit version 0.45.1. This may result in an error if the QPY file uses instructions not present in this current qiskit version\n",
      "  warnings.warn(\n"
     ]
    },
    {
     "name": "stdout",
     "output_type": "stream",
     "text": [
      "n=4,d=8,n_circuit=8,n_gen=40\n"
     ]
    },
    {
     "name": "stderr",
     "output_type": "stream",
     "text": [
      "/Library/Frameworks/Python.framework/Versions/3.10/lib/python3.10/site-packages/qiskit/qpy/interface.py:273: UserWarning: The qiskit version used to generate the provided QPY file, 0.45.2, is newer than the current qiskit version 0.45.1. This may result in an error if the QPY file uses instructions not present in this current qiskit version\n",
      "  warnings.warn(\n"
     ]
    },
    {
     "name": "stdout",
     "output_type": "stream",
     "text": [
      "n=4,d=9,n_circuit=8,n_gen=40\n",
      "n=4,d=10,n_circuit=8,n_gen=40\n",
      "n=4,d=11,n_circuit=8,n_gen=40\n",
      "n=4,d=12,n_circuit=8,n_gen=40\n",
      "n=4,d=13,n_circuit=8,n_gen=40\n",
      "n=4,d=14,n_circuit=8,n_gen=40\n",
      "n=4,d=15,n_circuit=8,n_gen=40\n",
      "n=4,d=16,n_circuit=8,n_gen=40\n",
      "n=4,d=17,n_circuit=8,n_gen=40\n",
      "n=4,d=18,n_circuit=8,n_gen=40\n"
     ]
    },
    {
     "name": "stderr",
     "output_type": "stream",
     "text": [
      "/Library/Frameworks/Python.framework/Versions/3.10/lib/python3.10/site-packages/qiskit/qpy/interface.py:273: UserWarning: The qiskit version used to generate the provided QPY file, 0.45.2, is newer than the current qiskit version 0.45.1. This may result in an error if the QPY file uses instructions not present in this current qiskit version\n",
      "  warnings.warn(\n",
      "/Library/Frameworks/Python.framework/Versions/3.10/lib/python3.10/site-packages/qiskit/qpy/interface.py:273: UserWarning: The qiskit version used to generate the provided QPY file, 0.45.2, is newer than the current qiskit version 0.45.1. This may result in an error if the QPY file uses instructions not present in this current qiskit version\n",
      "  warnings.warn(\n",
      "/Library/Frameworks/Python.framework/Versions/3.10/lib/python3.10/site-packages/qiskit/qpy/interface.py:273: UserWarning: The qiskit version used to generate the provided QPY file, 0.45.2, is newer than the current qiskit version 0.45.1. This may result in an error if the QPY file uses instructions not present in this current qiskit version\n",
      "  warnings.warn(\n",
      "/Library/Frameworks/Python.framework/Versions/3.10/lib/python3.10/site-packages/qiskit/qpy/interface.py:273: UserWarning: The qiskit version used to generate the provided QPY file, 0.45.2, is newer than the current qiskit version 0.45.1. This may result in an error if the QPY file uses instructions not present in this current qiskit version\n",
      "  warnings.warn(\n",
      "/Library/Frameworks/Python.framework/Versions/3.10/lib/python3.10/site-packages/qiskit/qpy/interface.py:273: UserWarning: The qiskit version used to generate the provided QPY file, 0.45.2, is newer than the current qiskit version 0.45.1. This may result in an error if the QPY file uses instructions not present in this current qiskit version\n",
      "  warnings.warn(\n",
      "/Library/Frameworks/Python.framework/Versions/3.10/lib/python3.10/site-packages/qiskit/qpy/interface.py:273: UserWarning: The qiskit version used to generate the provided QPY file, 0.45.2, is newer than the current qiskit version 0.45.1. This may result in an error if the QPY file uses instructions not present in this current qiskit version\n",
      "  warnings.warn(\n",
      "/Library/Frameworks/Python.framework/Versions/3.10/lib/python3.10/site-packages/qiskit/qpy/interface.py:273: UserWarning: The qiskit version used to generate the provided QPY file, 0.45.2, is newer than the current qiskit version 0.45.1. This may result in an error if the QPY file uses instructions not present in this current qiskit version\n",
      "  warnings.warn(\n",
      "/Library/Frameworks/Python.framework/Versions/3.10/lib/python3.10/site-packages/qiskit/qpy/interface.py:273: UserWarning: The qiskit version used to generate the provided QPY file, 0.45.2, is newer than the current qiskit version 0.45.1. This may result in an error if the QPY file uses instructions not present in this current qiskit version\n",
      "  warnings.warn(\n",
      "/Library/Frameworks/Python.framework/Versions/3.10/lib/python3.10/site-packages/qiskit/qpy/interface.py:273: UserWarning: The qiskit version used to generate the provided QPY file, 0.45.2, is newer than the current qiskit version 0.45.1. This may result in an error if the QPY file uses instructions not present in this current qiskit version\n",
      "  warnings.warn(\n",
      "/Library/Frameworks/Python.framework/Versions/3.10/lib/python3.10/site-packages/qiskit/qpy/interface.py:273: UserWarning: The qiskit version used to generate the provided QPY file, 0.45.2, is newer than the current qiskit version 0.45.1. This may result in an error if the QPY file uses instructions not present in this current qiskit version\n",
      "  warnings.warn(\n",
      "/Library/Frameworks/Python.framework/Versions/3.10/lib/python3.10/site-packages/qiskit/qpy/interface.py:273: UserWarning: The qiskit version used to generate the provided QPY file, 0.45.2, is newer than the current qiskit version 0.45.1. This may result in an error if the QPY file uses instructions not present in this current qiskit version\n",
      "  warnings.warn(\n",
      "/Library/Frameworks/Python.framework/Versions/3.10/lib/python3.10/site-packages/qiskit/qpy/interface.py:273: UserWarning: The qiskit version used to generate the provided QPY file, 0.45.2, is newer than the current qiskit version 0.45.1. This may result in an error if the QPY file uses instructions not present in this current qiskit version\n",
      "  warnings.warn(\n",
      "/Library/Frameworks/Python.framework/Versions/3.10/lib/python3.10/site-packages/qiskit/qpy/interface.py:273: UserWarning: The qiskit version used to generate the provided QPY file, 0.45.2, is newer than the current qiskit version 0.45.1. This may result in an error if the QPY file uses instructions not present in this current qiskit version\n",
      "  warnings.warn(\n"
     ]
    },
    {
     "name": "stdout",
     "output_type": "stream",
     "text": [
      "n=4,d=19,n_circuit=8,n_gen=40\n",
      "n=4,d=20,n_circuit=8,n_gen=40\n",
      "n=4,d=21,n_circuit=8,n_gen=40\n",
      "n=4,d=22,n_circuit=8,n_gen=40\n",
      "n=4,d=23,n_circuit=8,n_gen=40\n",
      "n=4,d=24,n_circuit=8,n_gen=40\n",
      "n=4,d=25,n_circuit=8,n_gen=40\n",
      "n=4,d=26,n_circuit=8,n_gen=40\n",
      "n=4,d=27,n_circuit=8,n_gen=40\n",
      "n=4,d=28,n_circuit=8,n_gen=40\n",
      "n=4,d=29,n_circuit=8,n_gen=40\n",
      "n=4,d=5,n_circuit=8,n_gen=50\n"
     ]
    },
    {
     "name": "stderr",
     "output_type": "stream",
     "text": [
      "/Library/Frameworks/Python.framework/Versions/3.10/lib/python3.10/site-packages/qiskit/qpy/interface.py:273: UserWarning: The qiskit version used to generate the provided QPY file, 0.45.2, is newer than the current qiskit version 0.45.1. This may result in an error if the QPY file uses instructions not present in this current qiskit version\n",
      "  warnings.warn(\n",
      "/Library/Frameworks/Python.framework/Versions/3.10/lib/python3.10/site-packages/qiskit/qpy/interface.py:273: UserWarning: The qiskit version used to generate the provided QPY file, 0.45.2, is newer than the current qiskit version 0.45.1. This may result in an error if the QPY file uses instructions not present in this current qiskit version\n",
      "  warnings.warn(\n",
      "/Library/Frameworks/Python.framework/Versions/3.10/lib/python3.10/site-packages/qiskit/qpy/interface.py:273: UserWarning: The qiskit version used to generate the provided QPY file, 0.45.2, is newer than the current qiskit version 0.45.1. This may result in an error if the QPY file uses instructions not present in this current qiskit version\n",
      "  warnings.warn(\n",
      "/Library/Frameworks/Python.framework/Versions/3.10/lib/python3.10/site-packages/qiskit/qpy/interface.py:273: UserWarning: The qiskit version used to generate the provided QPY file, 0.45.2, is newer than the current qiskit version 0.45.1. This may result in an error if the QPY file uses instructions not present in this current qiskit version\n",
      "  warnings.warn(\n",
      "/Library/Frameworks/Python.framework/Versions/3.10/lib/python3.10/site-packages/qiskit/qpy/interface.py:273: UserWarning: The qiskit version used to generate the provided QPY file, 0.45.2, is newer than the current qiskit version 0.45.1. This may result in an error if the QPY file uses instructions not present in this current qiskit version\n",
      "  warnings.warn(\n"
     ]
    },
    {
     "name": "stdout",
     "output_type": "stream",
     "text": [
      "n=4,d=6,n_circuit=8,n_gen=50\n"
     ]
    },
    {
     "name": "stderr",
     "output_type": "stream",
     "text": [
      "/Library/Frameworks/Python.framework/Versions/3.10/lib/python3.10/site-packages/qiskit/qpy/interface.py:273: UserWarning: The qiskit version used to generate the provided QPY file, 0.45.2, is newer than the current qiskit version 0.45.1. This may result in an error if the QPY file uses instructions not present in this current qiskit version\n",
      "  warnings.warn(\n"
     ]
    },
    {
     "name": "stdout",
     "output_type": "stream",
     "text": [
      "n=4,d=7,n_circuit=8,n_gen=50\n"
     ]
    },
    {
     "name": "stderr",
     "output_type": "stream",
     "text": [
      "/Library/Frameworks/Python.framework/Versions/3.10/lib/python3.10/site-packages/qiskit/qpy/interface.py:273: UserWarning: The qiskit version used to generate the provided QPY file, 0.45.2, is newer than the current qiskit version 0.45.1. This may result in an error if the QPY file uses instructions not present in this current qiskit version\n",
      "  warnings.warn(\n"
     ]
    },
    {
     "name": "stdout",
     "output_type": "stream",
     "text": [
      "n=4,d=8,n_circuit=8,n_gen=50\n"
     ]
    },
    {
     "name": "stderr",
     "output_type": "stream",
     "text": [
      "/Library/Frameworks/Python.framework/Versions/3.10/lib/python3.10/site-packages/qiskit/qpy/interface.py:273: UserWarning: The qiskit version used to generate the provided QPY file, 0.45.2, is newer than the current qiskit version 0.45.1. This may result in an error if the QPY file uses instructions not present in this current qiskit version\n",
      "  warnings.warn(\n"
     ]
    },
    {
     "name": "stdout",
     "output_type": "stream",
     "text": [
      "n=4,d=9,n_circuit=8,n_gen=50\n"
     ]
    },
    {
     "name": "stderr",
     "output_type": "stream",
     "text": [
      "/Library/Frameworks/Python.framework/Versions/3.10/lib/python3.10/site-packages/qiskit/qpy/interface.py:273: UserWarning: The qiskit version used to generate the provided QPY file, 0.45.2, is newer than the current qiskit version 0.45.1. This may result in an error if the QPY file uses instructions not present in this current qiskit version\n",
      "  warnings.warn(\n"
     ]
    },
    {
     "name": "stdout",
     "output_type": "stream",
     "text": [
      "n=4,d=10,n_circuit=8,n_gen=50\n",
      "n=4,d=11,n_circuit=8,n_gen=50\n",
      "n=4,d=12,n_circuit=8,n_gen=50\n",
      "n=4,d=13,n_circuit=8,n_gen=50\n",
      "n=4,d=14,n_circuit=8,n_gen=50\n",
      "n=4,d=15,n_circuit=8,n_gen=50\n",
      "n=4,d=16,n_circuit=8,n_gen=50\n",
      "n=4,d=17,n_circuit=8,n_gen=50\n",
      "n=4,d=18,n_circuit=8,n_gen=50\n",
      "n=4,d=19,n_circuit=8,n_gen=50\n",
      "n=4,d=20,n_circuit=8,n_gen=50\n"
     ]
    },
    {
     "name": "stderr",
     "output_type": "stream",
     "text": [
      "/Library/Frameworks/Python.framework/Versions/3.10/lib/python3.10/site-packages/qiskit/qpy/interface.py:273: UserWarning: The qiskit version used to generate the provided QPY file, 0.45.2, is newer than the current qiskit version 0.45.1. This may result in an error if the QPY file uses instructions not present in this current qiskit version\n",
      "  warnings.warn(\n",
      "/Library/Frameworks/Python.framework/Versions/3.10/lib/python3.10/site-packages/qiskit/qpy/interface.py:273: UserWarning: The qiskit version used to generate the provided QPY file, 0.45.2, is newer than the current qiskit version 0.45.1. This may result in an error if the QPY file uses instructions not present in this current qiskit version\n",
      "  warnings.warn(\n",
      "/Library/Frameworks/Python.framework/Versions/3.10/lib/python3.10/site-packages/qiskit/qpy/interface.py:273: UserWarning: The qiskit version used to generate the provided QPY file, 0.45.2, is newer than the current qiskit version 0.45.1. This may result in an error if the QPY file uses instructions not present in this current qiskit version\n",
      "  warnings.warn(\n",
      "/Library/Frameworks/Python.framework/Versions/3.10/lib/python3.10/site-packages/qiskit/qpy/interface.py:273: UserWarning: The qiskit version used to generate the provided QPY file, 0.45.2, is newer than the current qiskit version 0.45.1. This may result in an error if the QPY file uses instructions not present in this current qiskit version\n",
      "  warnings.warn(\n",
      "/Library/Frameworks/Python.framework/Versions/3.10/lib/python3.10/site-packages/qiskit/qpy/interface.py:273: UserWarning: The qiskit version used to generate the provided QPY file, 0.45.2, is newer than the current qiskit version 0.45.1. This may result in an error if the QPY file uses instructions not present in this current qiskit version\n",
      "  warnings.warn(\n",
      "/Library/Frameworks/Python.framework/Versions/3.10/lib/python3.10/site-packages/qiskit/qpy/interface.py:273: UserWarning: The qiskit version used to generate the provided QPY file, 0.45.2, is newer than the current qiskit version 0.45.1. This may result in an error if the QPY file uses instructions not present in this current qiskit version\n",
      "  warnings.warn(\n",
      "/Library/Frameworks/Python.framework/Versions/3.10/lib/python3.10/site-packages/qiskit/qpy/interface.py:273: UserWarning: The qiskit version used to generate the provided QPY file, 0.45.2, is newer than the current qiskit version 0.45.1. This may result in an error if the QPY file uses instructions not present in this current qiskit version\n",
      "  warnings.warn(\n",
      "/Library/Frameworks/Python.framework/Versions/3.10/lib/python3.10/site-packages/qiskit/qpy/interface.py:273: UserWarning: The qiskit version used to generate the provided QPY file, 0.45.2, is newer than the current qiskit version 0.45.1. This may result in an error if the QPY file uses instructions not present in this current qiskit version\n",
      "  warnings.warn(\n"
     ]
    },
    {
     "name": "stdout",
     "output_type": "stream",
     "text": [
      "n=4,d=21,n_circuit=8,n_gen=50\n",
      "n=4,d=22,n_circuit=8,n_gen=50\n",
      "n=4,d=23,n_circuit=8,n_gen=50\n",
      "n=4,d=24,n_circuit=8,n_gen=50\n",
      "n=4,d=25,n_circuit=8,n_gen=50\n"
     ]
    },
    {
     "name": "stderr",
     "output_type": "stream",
     "text": [
      "/Library/Frameworks/Python.framework/Versions/3.10/lib/python3.10/site-packages/qiskit/qpy/interface.py:273: UserWarning: The qiskit version used to generate the provided QPY file, 0.45.2, is newer than the current qiskit version 0.45.1. This may result in an error if the QPY file uses instructions not present in this current qiskit version\n",
      "  warnings.warn(\n",
      "/Library/Frameworks/Python.framework/Versions/3.10/lib/python3.10/site-packages/qiskit/qpy/interface.py:273: UserWarning: The qiskit version used to generate the provided QPY file, 0.45.2, is newer than the current qiskit version 0.45.1. This may result in an error if the QPY file uses instructions not present in this current qiskit version\n",
      "  warnings.warn(\n",
      "/Library/Frameworks/Python.framework/Versions/3.10/lib/python3.10/site-packages/qiskit/qpy/interface.py:273: UserWarning: The qiskit version used to generate the provided QPY file, 0.45.2, is newer than the current qiskit version 0.45.1. This may result in an error if the QPY file uses instructions not present in this current qiskit version\n",
      "  warnings.warn(\n",
      "/Library/Frameworks/Python.framework/Versions/3.10/lib/python3.10/site-packages/qiskit/qpy/interface.py:273: UserWarning: The qiskit version used to generate the provided QPY file, 0.45.2, is newer than the current qiskit version 0.45.1. This may result in an error if the QPY file uses instructions not present in this current qiskit version\n",
      "  warnings.warn(\n",
      "/Library/Frameworks/Python.framework/Versions/3.10/lib/python3.10/site-packages/qiskit/qpy/interface.py:273: UserWarning: The qiskit version used to generate the provided QPY file, 0.45.2, is newer than the current qiskit version 0.45.1. This may result in an error if the QPY file uses instructions not present in this current qiskit version\n",
      "  warnings.warn(\n"
     ]
    },
    {
     "name": "stdout",
     "output_type": "stream",
     "text": [
      "n=4,d=26,n_circuit=8,n_gen=50\n",
      "n=4,d=27,n_circuit=8,n_gen=50\n",
      "n=4,d=28,n_circuit=8,n_gen=50\n",
      "n=4,d=29,n_circuit=8,n_gen=50\n",
      "n=4,d=5,n_circuit=16,n_gen=10\n",
      "n=4,d=6,n_circuit=16,n_gen=10\n"
     ]
    },
    {
     "name": "stderr",
     "output_type": "stream",
     "text": [
      "/Library/Frameworks/Python.framework/Versions/3.10/lib/python3.10/site-packages/qiskit/qpy/interface.py:273: UserWarning: The qiskit version used to generate the provided QPY file, 0.45.2, is newer than the current qiskit version 0.45.1. This may result in an error if the QPY file uses instructions not present in this current qiskit version\n",
      "  warnings.warn(\n",
      "/Library/Frameworks/Python.framework/Versions/3.10/lib/python3.10/site-packages/qiskit/qpy/interface.py:273: UserWarning: The qiskit version used to generate the provided QPY file, 0.45.2, is newer than the current qiskit version 0.45.1. This may result in an error if the QPY file uses instructions not present in this current qiskit version\n",
      "  warnings.warn(\n",
      "/Library/Frameworks/Python.framework/Versions/3.10/lib/python3.10/site-packages/qiskit/qpy/interface.py:273: UserWarning: The qiskit version used to generate the provided QPY file, 0.45.2, is newer than the current qiskit version 0.45.1. This may result in an error if the QPY file uses instructions not present in this current qiskit version\n",
      "  warnings.warn(\n",
      "/Library/Frameworks/Python.framework/Versions/3.10/lib/python3.10/site-packages/qiskit/qpy/interface.py:273: UserWarning: The qiskit version used to generate the provided QPY file, 0.45.2, is newer than the current qiskit version 0.45.1. This may result in an error if the QPY file uses instructions not present in this current qiskit version\n",
      "  warnings.warn(\n"
     ]
    },
    {
     "name": "stdout",
     "output_type": "stream",
     "text": [
      "n=4,d=7,n_circuit=16,n_gen=10\n",
      "n=4,d=8,n_circuit=16,n_gen=10\n"
     ]
    },
    {
     "name": "stderr",
     "output_type": "stream",
     "text": [
      "/Library/Frameworks/Python.framework/Versions/3.10/lib/python3.10/site-packages/qiskit/qpy/interface.py:273: UserWarning: The qiskit version used to generate the provided QPY file, 0.45.2, is newer than the current qiskit version 0.45.1. This may result in an error if the QPY file uses instructions not present in this current qiskit version\n",
      "  warnings.warn(\n"
     ]
    },
    {
     "name": "stdout",
     "output_type": "stream",
     "text": [
      "n=4,d=9,n_circuit=16,n_gen=10\n",
      "n=4,d=10,n_circuit=16,n_gen=10\n",
      "n=4,d=11,n_circuit=16,n_gen=10\n",
      "n=4,d=12,n_circuit=16,n_gen=10\n",
      "n=4,d=13,n_circuit=16,n_gen=10\n",
      "n=4,d=14,n_circuit=16,n_gen=10\n",
      "n=4,d=15,n_circuit=16,n_gen=10\n",
      "n=4,d=16,n_circuit=16,n_gen=10\n"
     ]
    },
    {
     "name": "stderr",
     "output_type": "stream",
     "text": [
      "/Library/Frameworks/Python.framework/Versions/3.10/lib/python3.10/site-packages/qiskit/qpy/interface.py:273: UserWarning: The qiskit version used to generate the provided QPY file, 0.45.2, is newer than the current qiskit version 0.45.1. This may result in an error if the QPY file uses instructions not present in this current qiskit version\n",
      "  warnings.warn(\n",
      "/Library/Frameworks/Python.framework/Versions/3.10/lib/python3.10/site-packages/qiskit/qpy/interface.py:273: UserWarning: The qiskit version used to generate the provided QPY file, 0.45.2, is newer than the current qiskit version 0.45.1. This may result in an error if the QPY file uses instructions not present in this current qiskit version\n",
      "  warnings.warn(\n",
      "/Library/Frameworks/Python.framework/Versions/3.10/lib/python3.10/site-packages/qiskit/qpy/interface.py:273: UserWarning: The qiskit version used to generate the provided QPY file, 0.45.2, is newer than the current qiskit version 0.45.1. This may result in an error if the QPY file uses instructions not present in this current qiskit version\n",
      "  warnings.warn(\n",
      "/Library/Frameworks/Python.framework/Versions/3.10/lib/python3.10/site-packages/qiskit/qpy/interface.py:273: UserWarning: The qiskit version used to generate the provided QPY file, 0.45.2, is newer than the current qiskit version 0.45.1. This may result in an error if the QPY file uses instructions not present in this current qiskit version\n",
      "  warnings.warn(\n",
      "/Library/Frameworks/Python.framework/Versions/3.10/lib/python3.10/site-packages/qiskit/qpy/interface.py:273: UserWarning: The qiskit version used to generate the provided QPY file, 0.45.2, is newer than the current qiskit version 0.45.1. This may result in an error if the QPY file uses instructions not present in this current qiskit version\n",
      "  warnings.warn(\n",
      "/Library/Frameworks/Python.framework/Versions/3.10/lib/python3.10/site-packages/qiskit/qpy/interface.py:273: UserWarning: The qiskit version used to generate the provided QPY file, 0.45.2, is newer than the current qiskit version 0.45.1. This may result in an error if the QPY file uses instructions not present in this current qiskit version\n",
      "  warnings.warn(\n"
     ]
    },
    {
     "name": "stdout",
     "output_type": "stream",
     "text": [
      "n=4,d=17,n_circuit=16,n_gen=10\n",
      "n=4,d=18,n_circuit=16,n_gen=10\n",
      "n=4,d=19,n_circuit=16,n_gen=10\n"
     ]
    },
    {
     "name": "stderr",
     "output_type": "stream",
     "text": [
      "/Library/Frameworks/Python.framework/Versions/3.10/lib/python3.10/site-packages/qiskit/qpy/interface.py:273: UserWarning: The qiskit version used to generate the provided QPY file, 0.45.2, is newer than the current qiskit version 0.45.1. This may result in an error if the QPY file uses instructions not present in this current qiskit version\n",
      "  warnings.warn(\n",
      "/Library/Frameworks/Python.framework/Versions/3.10/lib/python3.10/site-packages/qiskit/qpy/interface.py:273: UserWarning: The qiskit version used to generate the provided QPY file, 0.45.2, is newer than the current qiskit version 0.45.1. This may result in an error if the QPY file uses instructions not present in this current qiskit version\n",
      "  warnings.warn(\n"
     ]
    },
    {
     "name": "stdout",
     "output_type": "stream",
     "text": [
      "n=4,d=20,n_circuit=16,n_gen=10\n",
      "n=4,d=21,n_circuit=16,n_gen=10\n"
     ]
    },
    {
     "name": "stderr",
     "output_type": "stream",
     "text": [
      "/Library/Frameworks/Python.framework/Versions/3.10/lib/python3.10/site-packages/qiskit/qpy/interface.py:273: UserWarning: The qiskit version used to generate the provided QPY file, 0.45.2, is newer than the current qiskit version 0.45.1. This may result in an error if the QPY file uses instructions not present in this current qiskit version\n",
      "  warnings.warn(\n",
      "/Library/Frameworks/Python.framework/Versions/3.10/lib/python3.10/site-packages/qiskit/qpy/interface.py:273: UserWarning: The qiskit version used to generate the provided QPY file, 0.45.2, is newer than the current qiskit version 0.45.1. This may result in an error if the QPY file uses instructions not present in this current qiskit version\n",
      "  warnings.warn(\n"
     ]
    },
    {
     "name": "stdout",
     "output_type": "stream",
     "text": [
      "n=4,d=22,n_circuit=16,n_gen=10\n",
      "n=4,d=23,n_circuit=16,n_gen=10\n",
      "n=4,d=24,n_circuit=16,n_gen=10\n"
     ]
    },
    {
     "name": "stderr",
     "output_type": "stream",
     "text": [
      "/Library/Frameworks/Python.framework/Versions/3.10/lib/python3.10/site-packages/qiskit/qpy/interface.py:273: UserWarning: The qiskit version used to generate the provided QPY file, 0.45.2, is newer than the current qiskit version 0.45.1. This may result in an error if the QPY file uses instructions not present in this current qiskit version\n",
      "  warnings.warn(\n",
      "/Library/Frameworks/Python.framework/Versions/3.10/lib/python3.10/site-packages/qiskit/qpy/interface.py:273: UserWarning: The qiskit version used to generate the provided QPY file, 0.45.2, is newer than the current qiskit version 0.45.1. This may result in an error if the QPY file uses instructions not present in this current qiskit version\n",
      "  warnings.warn(\n",
      "/Library/Frameworks/Python.framework/Versions/3.10/lib/python3.10/site-packages/qiskit/qpy/interface.py:273: UserWarning: The qiskit version used to generate the provided QPY file, 0.45.2, is newer than the current qiskit version 0.45.1. This may result in an error if the QPY file uses instructions not present in this current qiskit version\n",
      "  warnings.warn(\n"
     ]
    },
    {
     "name": "stdout",
     "output_type": "stream",
     "text": [
      "n=4,d=25,n_circuit=16,n_gen=10\n",
      "n=4,d=26,n_circuit=16,n_gen=10\n",
      "n=4,d=27,n_circuit=16,n_gen=10\n",
      "n=4,d=28,n_circuit=16,n_gen=10\n"
     ]
    },
    {
     "name": "stderr",
     "output_type": "stream",
     "text": [
      "/Library/Frameworks/Python.framework/Versions/3.10/lib/python3.10/site-packages/qiskit/qpy/interface.py:273: UserWarning: The qiskit version used to generate the provided QPY file, 0.45.2, is newer than the current qiskit version 0.45.1. This may result in an error if the QPY file uses instructions not present in this current qiskit version\n",
      "  warnings.warn(\n",
      "/Library/Frameworks/Python.framework/Versions/3.10/lib/python3.10/site-packages/qiskit/qpy/interface.py:273: UserWarning: The qiskit version used to generate the provided QPY file, 0.45.2, is newer than the current qiskit version 0.45.1. This may result in an error if the QPY file uses instructions not present in this current qiskit version\n",
      "  warnings.warn(\n",
      "/Library/Frameworks/Python.framework/Versions/3.10/lib/python3.10/site-packages/qiskit/qpy/interface.py:273: UserWarning: The qiskit version used to generate the provided QPY file, 0.45.2, is newer than the current qiskit version 0.45.1. This may result in an error if the QPY file uses instructions not present in this current qiskit version\n",
      "  warnings.warn(\n",
      "/Library/Frameworks/Python.framework/Versions/3.10/lib/python3.10/site-packages/qiskit/qpy/interface.py:273: UserWarning: The qiskit version used to generate the provided QPY file, 0.45.2, is newer than the current qiskit version 0.45.1. This may result in an error if the QPY file uses instructions not present in this current qiskit version\n",
      "  warnings.warn(\n"
     ]
    },
    {
     "name": "stdout",
     "output_type": "stream",
     "text": [
      "n=4,d=29,n_circuit=16,n_gen=10\n"
     ]
    },
    {
     "name": "stderr",
     "output_type": "stream",
     "text": [
      "/Library/Frameworks/Python.framework/Versions/3.10/lib/python3.10/site-packages/qiskit/qpy/interface.py:273: UserWarning: The qiskit version used to generate the provided QPY file, 0.45.2, is newer than the current qiskit version 0.45.1. This may result in an error if the QPY file uses instructions not present in this current qiskit version\n",
      "  warnings.warn(\n"
     ]
    },
    {
     "name": "stdout",
     "output_type": "stream",
     "text": [
      "n=4,d=5,n_circuit=16,n_gen=20\n",
      "n=4,d=6,n_circuit=16,n_gen=20\n",
      "n=4,d=7,n_circuit=16,n_gen=20\n"
     ]
    },
    {
     "name": "stderr",
     "output_type": "stream",
     "text": [
      "/Library/Frameworks/Python.framework/Versions/3.10/lib/python3.10/site-packages/qiskit/qpy/interface.py:273: UserWarning: The qiskit version used to generate the provided QPY file, 0.45.2, is newer than the current qiskit version 0.45.1. This may result in an error if the QPY file uses instructions not present in this current qiskit version\n",
      "  warnings.warn(\n",
      "/Library/Frameworks/Python.framework/Versions/3.10/lib/python3.10/site-packages/qiskit/qpy/interface.py:273: UserWarning: The qiskit version used to generate the provided QPY file, 0.45.2, is newer than the current qiskit version 0.45.1. This may result in an error if the QPY file uses instructions not present in this current qiskit version\n",
      "  warnings.warn(\n"
     ]
    },
    {
     "name": "stdout",
     "output_type": "stream",
     "text": [
      "n=4,d=8,n_circuit=16,n_gen=20\n",
      "n=4,d=9,n_circuit=16,n_gen=20\n",
      "n=4,d=10,n_circuit=16,n_gen=20\n"
     ]
    },
    {
     "name": "stderr",
     "output_type": "stream",
     "text": [
      "/Library/Frameworks/Python.framework/Versions/3.10/lib/python3.10/site-packages/qiskit/qpy/interface.py:273: UserWarning: The qiskit version used to generate the provided QPY file, 0.45.2, is newer than the current qiskit version 0.45.1. This may result in an error if the QPY file uses instructions not present in this current qiskit version\n",
      "  warnings.warn(\n",
      "/Library/Frameworks/Python.framework/Versions/3.10/lib/python3.10/site-packages/qiskit/qpy/interface.py:273: UserWarning: The qiskit version used to generate the provided QPY file, 0.45.2, is newer than the current qiskit version 0.45.1. This may result in an error if the QPY file uses instructions not present in this current qiskit version\n",
      "  warnings.warn(\n"
     ]
    },
    {
     "name": "stdout",
     "output_type": "stream",
     "text": [
      "n=4,d=11,n_circuit=16,n_gen=20\n",
      "n=4,d=12,n_circuit=16,n_gen=20\n",
      "n=4,d=13,n_circuit=16,n_gen=20\n",
      "n=4,d=14,n_circuit=16,n_gen=20\n",
      "n=4,d=15,n_circuit=16,n_gen=20\n"
     ]
    },
    {
     "name": "stderr",
     "output_type": "stream",
     "text": [
      "/Library/Frameworks/Python.framework/Versions/3.10/lib/python3.10/site-packages/qiskit/qpy/interface.py:273: UserWarning: The qiskit version used to generate the provided QPY file, 0.45.2, is newer than the current qiskit version 0.45.1. This may result in an error if the QPY file uses instructions not present in this current qiskit version\n",
      "  warnings.warn(\n",
      "/Library/Frameworks/Python.framework/Versions/3.10/lib/python3.10/site-packages/qiskit/qpy/interface.py:273: UserWarning: The qiskit version used to generate the provided QPY file, 0.45.2, is newer than the current qiskit version 0.45.1. This may result in an error if the QPY file uses instructions not present in this current qiskit version\n",
      "  warnings.warn(\n",
      "/Library/Frameworks/Python.framework/Versions/3.10/lib/python3.10/site-packages/qiskit/qpy/interface.py:273: UserWarning: The qiskit version used to generate the provided QPY file, 0.45.2, is newer than the current qiskit version 0.45.1. This may result in an error if the QPY file uses instructions not present in this current qiskit version\n",
      "  warnings.warn(\n",
      "/Library/Frameworks/Python.framework/Versions/3.10/lib/python3.10/site-packages/qiskit/qpy/interface.py:273: UserWarning: The qiskit version used to generate the provided QPY file, 0.45.2, is newer than the current qiskit version 0.45.1. This may result in an error if the QPY file uses instructions not present in this current qiskit version\n",
      "  warnings.warn(\n"
     ]
    },
    {
     "name": "stdout",
     "output_type": "stream",
     "text": [
      "n=4,d=16,n_circuit=16,n_gen=20\n",
      "n=4,d=17,n_circuit=16,n_gen=20\n",
      "n=4,d=18,n_circuit=16,n_gen=20\n",
      "n=4,d=19,n_circuit=16,n_gen=20\n",
      "n=4,d=20,n_circuit=16,n_gen=20\n",
      "n=4,d=21,n_circuit=16,n_gen=20\n"
     ]
    },
    {
     "name": "stderr",
     "output_type": "stream",
     "text": [
      "/Library/Frameworks/Python.framework/Versions/3.10/lib/python3.10/site-packages/qiskit/qpy/interface.py:273: UserWarning: The qiskit version used to generate the provided QPY file, 0.45.2, is newer than the current qiskit version 0.45.1. This may result in an error if the QPY file uses instructions not present in this current qiskit version\n",
      "  warnings.warn(\n",
      "/Library/Frameworks/Python.framework/Versions/3.10/lib/python3.10/site-packages/qiskit/qpy/interface.py:273: UserWarning: The qiskit version used to generate the provided QPY file, 0.45.2, is newer than the current qiskit version 0.45.1. This may result in an error if the QPY file uses instructions not present in this current qiskit version\n",
      "  warnings.warn(\n",
      "/Library/Frameworks/Python.framework/Versions/3.10/lib/python3.10/site-packages/qiskit/qpy/interface.py:273: UserWarning: The qiskit version used to generate the provided QPY file, 0.45.2, is newer than the current qiskit version 0.45.1. This may result in an error if the QPY file uses instructions not present in this current qiskit version\n",
      "  warnings.warn(\n",
      "/Library/Frameworks/Python.framework/Versions/3.10/lib/python3.10/site-packages/qiskit/qpy/interface.py:273: UserWarning: The qiskit version used to generate the provided QPY file, 0.45.2, is newer than the current qiskit version 0.45.1. This may result in an error if the QPY file uses instructions not present in this current qiskit version\n",
      "  warnings.warn(\n"
     ]
    },
    {
     "name": "stdout",
     "output_type": "stream",
     "text": [
      "n=4,d=22,n_circuit=16,n_gen=20\n",
      "n=4,d=23,n_circuit=16,n_gen=20\n",
      "n=4,d=24,n_circuit=16,n_gen=20\n"
     ]
    },
    {
     "name": "stderr",
     "output_type": "stream",
     "text": [
      "/Library/Frameworks/Python.framework/Versions/3.10/lib/python3.10/site-packages/qiskit/qpy/interface.py:273: UserWarning: The qiskit version used to generate the provided QPY file, 0.45.2, is newer than the current qiskit version 0.45.1. This may result in an error if the QPY file uses instructions not present in this current qiskit version\n",
      "  warnings.warn(\n",
      "/Library/Frameworks/Python.framework/Versions/3.10/lib/python3.10/site-packages/qiskit/qpy/interface.py:273: UserWarning: The qiskit version used to generate the provided QPY file, 0.45.2, is newer than the current qiskit version 0.45.1. This may result in an error if the QPY file uses instructions not present in this current qiskit version\n",
      "  warnings.warn(\n",
      "/Library/Frameworks/Python.framework/Versions/3.10/lib/python3.10/site-packages/qiskit/qpy/interface.py:273: UserWarning: The qiskit version used to generate the provided QPY file, 0.45.2, is newer than the current qiskit version 0.45.1. This may result in an error if the QPY file uses instructions not present in this current qiskit version\n",
      "  warnings.warn(\n"
     ]
    },
    {
     "name": "stdout",
     "output_type": "stream",
     "text": [
      "n=4,d=25,n_circuit=16,n_gen=20\n",
      "n=4,d=26,n_circuit=16,n_gen=20\n",
      "n=4,d=27,n_circuit=16,n_gen=20\n",
      "n=4,d=28,n_circuit=16,n_gen=20\n"
     ]
    },
    {
     "name": "stderr",
     "output_type": "stream",
     "text": [
      "/Library/Frameworks/Python.framework/Versions/3.10/lib/python3.10/site-packages/qiskit/qpy/interface.py:273: UserWarning: The qiskit version used to generate the provided QPY file, 0.45.2, is newer than the current qiskit version 0.45.1. This may result in an error if the QPY file uses instructions not present in this current qiskit version\n",
      "  warnings.warn(\n",
      "/Library/Frameworks/Python.framework/Versions/3.10/lib/python3.10/site-packages/qiskit/qpy/interface.py:273: UserWarning: The qiskit version used to generate the provided QPY file, 0.45.2, is newer than the current qiskit version 0.45.1. This may result in an error if the QPY file uses instructions not present in this current qiskit version\n",
      "  warnings.warn(\n",
      "/Library/Frameworks/Python.framework/Versions/3.10/lib/python3.10/site-packages/qiskit/qpy/interface.py:273: UserWarning: The qiskit version used to generate the provided QPY file, 0.45.2, is newer than the current qiskit version 0.45.1. This may result in an error if the QPY file uses instructions not present in this current qiskit version\n",
      "  warnings.warn(\n",
      "/Library/Frameworks/Python.framework/Versions/3.10/lib/python3.10/site-packages/qiskit/qpy/interface.py:273: UserWarning: The qiskit version used to generate the provided QPY file, 0.45.2, is newer than the current qiskit version 0.45.1. This may result in an error if the QPY file uses instructions not present in this current qiskit version\n",
      "  warnings.warn(\n"
     ]
    },
    {
     "name": "stdout",
     "output_type": "stream",
     "text": [
      "n=4,d=29,n_circuit=16,n_gen=20\n"
     ]
    },
    {
     "name": "stderr",
     "output_type": "stream",
     "text": [
      "/Library/Frameworks/Python.framework/Versions/3.10/lib/python3.10/site-packages/qiskit/qpy/interface.py:273: UserWarning: The qiskit version used to generate the provided QPY file, 0.45.2, is newer than the current qiskit version 0.45.1. This may result in an error if the QPY file uses instructions not present in this current qiskit version\n",
      "  warnings.warn(\n"
     ]
    },
    {
     "name": "stdout",
     "output_type": "stream",
     "text": [
      "n=4,d=5,n_circuit=16,n_gen=30\n",
      "n=4,d=6,n_circuit=16,n_gen=30\n"
     ]
    },
    {
     "name": "stderr",
     "output_type": "stream",
     "text": [
      "/Library/Frameworks/Python.framework/Versions/3.10/lib/python3.10/site-packages/qiskit/qpy/interface.py:273: UserWarning: The qiskit version used to generate the provided QPY file, 0.45.2, is newer than the current qiskit version 0.45.1. This may result in an error if the QPY file uses instructions not present in this current qiskit version\n",
      "  warnings.warn(\n"
     ]
    },
    {
     "name": "stdout",
     "output_type": "stream",
     "text": [
      "n=4,d=7,n_circuit=16,n_gen=30\n"
     ]
    },
    {
     "name": "stderr",
     "output_type": "stream",
     "text": [
      "/Library/Frameworks/Python.framework/Versions/3.10/lib/python3.10/site-packages/qiskit/qpy/interface.py:273: UserWarning: The qiskit version used to generate the provided QPY file, 0.45.2, is newer than the current qiskit version 0.45.1. This may result in an error if the QPY file uses instructions not present in this current qiskit version\n",
      "  warnings.warn(\n"
     ]
    },
    {
     "name": "stdout",
     "output_type": "stream",
     "text": [
      "n=4,d=8,n_circuit=16,n_gen=30\n"
     ]
    },
    {
     "name": "stderr",
     "output_type": "stream",
     "text": [
      "/Library/Frameworks/Python.framework/Versions/3.10/lib/python3.10/site-packages/qiskit/qpy/interface.py:273: UserWarning: The qiskit version used to generate the provided QPY file, 0.45.2, is newer than the current qiskit version 0.45.1. This may result in an error if the QPY file uses instructions not present in this current qiskit version\n",
      "  warnings.warn(\n"
     ]
    },
    {
     "name": "stdout",
     "output_type": "stream",
     "text": [
      "n=4,d=9,n_circuit=16,n_gen=30\n"
     ]
    },
    {
     "name": "stderr",
     "output_type": "stream",
     "text": [
      "/Library/Frameworks/Python.framework/Versions/3.10/lib/python3.10/site-packages/qiskit/qpy/interface.py:273: UserWarning: The qiskit version used to generate the provided QPY file, 0.45.2, is newer than the current qiskit version 0.45.1. This may result in an error if the QPY file uses instructions not present in this current qiskit version\n",
      "  warnings.warn(\n"
     ]
    },
    {
     "name": "stdout",
     "output_type": "stream",
     "text": [
      "n=4,d=10,n_circuit=16,n_gen=30\n"
     ]
    },
    {
     "name": "stderr",
     "output_type": "stream",
     "text": [
      "/Library/Frameworks/Python.framework/Versions/3.10/lib/python3.10/site-packages/qiskit/qpy/interface.py:273: UserWarning: The qiskit version used to generate the provided QPY file, 0.45.2, is newer than the current qiskit version 0.45.1. This may result in an error if the QPY file uses instructions not present in this current qiskit version\n",
      "  warnings.warn(\n"
     ]
    },
    {
     "name": "stdout",
     "output_type": "stream",
     "text": [
      "n=4,d=11,n_circuit=16,n_gen=30\n",
      "n=4,d=12,n_circuit=16,n_gen=30\n",
      "n=4,d=13,n_circuit=16,n_gen=30\n"
     ]
    },
    {
     "name": "stderr",
     "output_type": "stream",
     "text": [
      "/Library/Frameworks/Python.framework/Versions/3.10/lib/python3.10/site-packages/qiskit/qpy/interface.py:273: UserWarning: The qiskit version used to generate the provided QPY file, 0.45.2, is newer than the current qiskit version 0.45.1. This may result in an error if the QPY file uses instructions not present in this current qiskit version\n",
      "  warnings.warn(\n",
      "/Library/Frameworks/Python.framework/Versions/3.10/lib/python3.10/site-packages/qiskit/qpy/interface.py:273: UserWarning: The qiskit version used to generate the provided QPY file, 0.45.2, is newer than the current qiskit version 0.45.1. This may result in an error if the QPY file uses instructions not present in this current qiskit version\n",
      "  warnings.warn(\n",
      "/Library/Frameworks/Python.framework/Versions/3.10/lib/python3.10/site-packages/qiskit/qpy/interface.py:273: UserWarning: The qiskit version used to generate the provided QPY file, 0.45.2, is newer than the current qiskit version 0.45.1. This may result in an error if the QPY file uses instructions not present in this current qiskit version\n",
      "  warnings.warn(\n"
     ]
    },
    {
     "name": "stdout",
     "output_type": "stream",
     "text": [
      "n=4,d=14,n_circuit=16,n_gen=30\n",
      "n=4,d=15,n_circuit=16,n_gen=30\n",
      "n=4,d=16,n_circuit=16,n_gen=30\n",
      "n=4,d=17,n_circuit=16,n_gen=30\n",
      "n=4,d=18,n_circuit=16,n_gen=30\n",
      "n=4,d=19,n_circuit=16,n_gen=30\n"
     ]
    },
    {
     "name": "stderr",
     "output_type": "stream",
     "text": [
      "/Library/Frameworks/Python.framework/Versions/3.10/lib/python3.10/site-packages/qiskit/qpy/interface.py:273: UserWarning: The qiskit version used to generate the provided QPY file, 0.45.2, is newer than the current qiskit version 0.45.1. This may result in an error if the QPY file uses instructions not present in this current qiskit version\n",
      "  warnings.warn(\n",
      "/Library/Frameworks/Python.framework/Versions/3.10/lib/python3.10/site-packages/qiskit/qpy/interface.py:273: UserWarning: The qiskit version used to generate the provided QPY file, 0.45.2, is newer than the current qiskit version 0.45.1. This may result in an error if the QPY file uses instructions not present in this current qiskit version\n",
      "  warnings.warn(\n",
      "/Library/Frameworks/Python.framework/Versions/3.10/lib/python3.10/site-packages/qiskit/qpy/interface.py:273: UserWarning: The qiskit version used to generate the provided QPY file, 0.45.2, is newer than the current qiskit version 0.45.1. This may result in an error if the QPY file uses instructions not present in this current qiskit version\n",
      "  warnings.warn(\n"
     ]
    },
    {
     "name": "stdout",
     "output_type": "stream",
     "text": [
      "n=4,d=20,n_circuit=16,n_gen=30\n",
      "n=4,d=21,n_circuit=16,n_gen=30\n",
      "n=4,d=22,n_circuit=16,n_gen=30\n"
     ]
    },
    {
     "name": "stderr",
     "output_type": "stream",
     "text": [
      "/Library/Frameworks/Python.framework/Versions/3.10/lib/python3.10/site-packages/qiskit/qpy/interface.py:273: UserWarning: The qiskit version used to generate the provided QPY file, 0.45.2, is newer than the current qiskit version 0.45.1. This may result in an error if the QPY file uses instructions not present in this current qiskit version\n",
      "  warnings.warn(\n",
      "/Library/Frameworks/Python.framework/Versions/3.10/lib/python3.10/site-packages/qiskit/qpy/interface.py:273: UserWarning: The qiskit version used to generate the provided QPY file, 0.45.2, is newer than the current qiskit version 0.45.1. This may result in an error if the QPY file uses instructions not present in this current qiskit version\n",
      "  warnings.warn(\n",
      "/Library/Frameworks/Python.framework/Versions/3.10/lib/python3.10/site-packages/qiskit/qpy/interface.py:273: UserWarning: The qiskit version used to generate the provided QPY file, 0.45.2, is newer than the current qiskit version 0.45.1. This may result in an error if the QPY file uses instructions not present in this current qiskit version\n",
      "  warnings.warn(\n"
     ]
    },
    {
     "name": "stdout",
     "output_type": "stream",
     "text": [
      "n=4,d=23,n_circuit=16,n_gen=30\n",
      "n=4,d=24,n_circuit=16,n_gen=30\n",
      "n=4,d=25,n_circuit=16,n_gen=30\n"
     ]
    },
    {
     "name": "stderr",
     "output_type": "stream",
     "text": [
      "/Library/Frameworks/Python.framework/Versions/3.10/lib/python3.10/site-packages/qiskit/qpy/interface.py:273: UserWarning: The qiskit version used to generate the provided QPY file, 0.45.2, is newer than the current qiskit version 0.45.1. This may result in an error if the QPY file uses instructions not present in this current qiskit version\n",
      "  warnings.warn(\n",
      "/Library/Frameworks/Python.framework/Versions/3.10/lib/python3.10/site-packages/qiskit/qpy/interface.py:273: UserWarning: The qiskit version used to generate the provided QPY file, 0.45.2, is newer than the current qiskit version 0.45.1. This may result in an error if the QPY file uses instructions not present in this current qiskit version\n",
      "  warnings.warn(\n",
      "/Library/Frameworks/Python.framework/Versions/3.10/lib/python3.10/site-packages/qiskit/qpy/interface.py:273: UserWarning: The qiskit version used to generate the provided QPY file, 0.45.2, is newer than the current qiskit version 0.45.1. This may result in an error if the QPY file uses instructions not present in this current qiskit version\n",
      "  warnings.warn(\n"
     ]
    },
    {
     "name": "stdout",
     "output_type": "stream",
     "text": [
      "n=4,d=26,n_circuit=16,n_gen=30\n",
      "n=4,d=27,n_circuit=16,n_gen=30\n"
     ]
    },
    {
     "name": "stderr",
     "output_type": "stream",
     "text": [
      "/Library/Frameworks/Python.framework/Versions/3.10/lib/python3.10/site-packages/qiskit/qpy/interface.py:273: UserWarning: The qiskit version used to generate the provided QPY file, 0.45.2, is newer than the current qiskit version 0.45.1. This may result in an error if the QPY file uses instructions not present in this current qiskit version\n",
      "  warnings.warn(\n",
      "/Library/Frameworks/Python.framework/Versions/3.10/lib/python3.10/site-packages/qiskit/qpy/interface.py:273: UserWarning: The qiskit version used to generate the provided QPY file, 0.45.2, is newer than the current qiskit version 0.45.1. This may result in an error if the QPY file uses instructions not present in this current qiskit version\n",
      "  warnings.warn(\n"
     ]
    },
    {
     "name": "stdout",
     "output_type": "stream",
     "text": [
      "n=4,d=28,n_circuit=16,n_gen=30\n"
     ]
    },
    {
     "name": "stderr",
     "output_type": "stream",
     "text": [
      "/Library/Frameworks/Python.framework/Versions/3.10/lib/python3.10/site-packages/qiskit/qpy/interface.py:273: UserWarning: The qiskit version used to generate the provided QPY file, 0.45.2, is newer than the current qiskit version 0.45.1. This may result in an error if the QPY file uses instructions not present in this current qiskit version\n",
      "  warnings.warn(\n"
     ]
    },
    {
     "name": "stdout",
     "output_type": "stream",
     "text": [
      "n=4,d=29,n_circuit=16,n_gen=30\n"
     ]
    },
    {
     "name": "stderr",
     "output_type": "stream",
     "text": [
      "/Library/Frameworks/Python.framework/Versions/3.10/lib/python3.10/site-packages/qiskit/qpy/interface.py:273: UserWarning: The qiskit version used to generate the provided QPY file, 0.45.2, is newer than the current qiskit version 0.45.1. This may result in an error if the QPY file uses instructions not present in this current qiskit version\n",
      "  warnings.warn(\n"
     ]
    },
    {
     "name": "stdout",
     "output_type": "stream",
     "text": [
      "n=4,d=5,n_circuit=16,n_gen=40\n",
      "n=4,d=6,n_circuit=16,n_gen=40\n"
     ]
    },
    {
     "name": "stderr",
     "output_type": "stream",
     "text": [
      "/Library/Frameworks/Python.framework/Versions/3.10/lib/python3.10/site-packages/qiskit/qpy/interface.py:273: UserWarning: The qiskit version used to generate the provided QPY file, 0.45.2, is newer than the current qiskit version 0.45.1. This may result in an error if the QPY file uses instructions not present in this current qiskit version\n",
      "  warnings.warn(\n"
     ]
    },
    {
     "name": "stdout",
     "output_type": "stream",
     "text": [
      "n=4,d=7,n_circuit=16,n_gen=40\n"
     ]
    },
    {
     "name": "stderr",
     "output_type": "stream",
     "text": [
      "/Library/Frameworks/Python.framework/Versions/3.10/lib/python3.10/site-packages/qiskit/qpy/interface.py:273: UserWarning: The qiskit version used to generate the provided QPY file, 0.45.2, is newer than the current qiskit version 0.45.1. This may result in an error if the QPY file uses instructions not present in this current qiskit version\n",
      "  warnings.warn(\n"
     ]
    },
    {
     "name": "stdout",
     "output_type": "stream",
     "text": [
      "n=4,d=8,n_circuit=16,n_gen=40\n",
      "n=4,d=9,n_circuit=16,n_gen=40\n",
      "n=4,d=10,n_circuit=16,n_gen=40\n",
      "n=4,d=11,n_circuit=16,n_gen=40\n"
     ]
    },
    {
     "name": "stderr",
     "output_type": "stream",
     "text": [
      "/Library/Frameworks/Python.framework/Versions/3.10/lib/python3.10/site-packages/qiskit/qpy/interface.py:273: UserWarning: The qiskit version used to generate the provided QPY file, 0.45.2, is newer than the current qiskit version 0.45.1. This may result in an error if the QPY file uses instructions not present in this current qiskit version\n",
      "  warnings.warn(\n",
      "/Library/Frameworks/Python.framework/Versions/3.10/lib/python3.10/site-packages/qiskit/qpy/interface.py:273: UserWarning: The qiskit version used to generate the provided QPY file, 0.45.2, is newer than the current qiskit version 0.45.1. This may result in an error if the QPY file uses instructions not present in this current qiskit version\n",
      "  warnings.warn(\n",
      "/Library/Frameworks/Python.framework/Versions/3.10/lib/python3.10/site-packages/qiskit/qpy/interface.py:273: UserWarning: The qiskit version used to generate the provided QPY file, 0.45.2, is newer than the current qiskit version 0.45.1. This may result in an error if the QPY file uses instructions not present in this current qiskit version\n",
      "  warnings.warn(\n",
      "/Library/Frameworks/Python.framework/Versions/3.10/lib/python3.10/site-packages/qiskit/qpy/interface.py:273: UserWarning: The qiskit version used to generate the provided QPY file, 0.45.2, is newer than the current qiskit version 0.45.1. This may result in an error if the QPY file uses instructions not present in this current qiskit version\n",
      "  warnings.warn(\n"
     ]
    },
    {
     "name": "stdout",
     "output_type": "stream",
     "text": [
      "n=4,d=12,n_circuit=16,n_gen=40\n"
     ]
    },
    {
     "name": "stderr",
     "output_type": "stream",
     "text": [
      "/Library/Frameworks/Python.framework/Versions/3.10/lib/python3.10/site-packages/qiskit/qpy/interface.py:273: UserWarning: The qiskit version used to generate the provided QPY file, 0.45.2, is newer than the current qiskit version 0.45.1. This may result in an error if the QPY file uses instructions not present in this current qiskit version\n",
      "  warnings.warn(\n"
     ]
    },
    {
     "name": "stdout",
     "output_type": "stream",
     "text": [
      "n=4,d=13,n_circuit=16,n_gen=40\n",
      "n=4,d=14,n_circuit=16,n_gen=40\n",
      "n=4,d=15,n_circuit=16,n_gen=40\n",
      "n=4,d=16,n_circuit=16,n_gen=40\n"
     ]
    },
    {
     "name": "stderr",
     "output_type": "stream",
     "text": [
      "/Library/Frameworks/Python.framework/Versions/3.10/lib/python3.10/site-packages/qiskit/qpy/interface.py:273: UserWarning: The qiskit version used to generate the provided QPY file, 0.45.2, is newer than the current qiskit version 0.45.1. This may result in an error if the QPY file uses instructions not present in this current qiskit version\n",
      "  warnings.warn(\n",
      "/Library/Frameworks/Python.framework/Versions/3.10/lib/python3.10/site-packages/qiskit/qpy/interface.py:273: UserWarning: The qiskit version used to generate the provided QPY file, 0.45.2, is newer than the current qiskit version 0.45.1. This may result in an error if the QPY file uses instructions not present in this current qiskit version\n",
      "  warnings.warn(\n"
     ]
    },
    {
     "name": "stdout",
     "output_type": "stream",
     "text": [
      "n=4,d=17,n_circuit=16,n_gen=40\n",
      "n=4,d=18,n_circuit=16,n_gen=40\n",
      "n=4,d=19,n_circuit=16,n_gen=40\n"
     ]
    },
    {
     "name": "stderr",
     "output_type": "stream",
     "text": [
      "/Library/Frameworks/Python.framework/Versions/3.10/lib/python3.10/site-packages/qiskit/qpy/interface.py:273: UserWarning: The qiskit version used to generate the provided QPY file, 0.45.2, is newer than the current qiskit version 0.45.1. This may result in an error if the QPY file uses instructions not present in this current qiskit version\n",
      "  warnings.warn(\n",
      "/Library/Frameworks/Python.framework/Versions/3.10/lib/python3.10/site-packages/qiskit/qpy/interface.py:273: UserWarning: The qiskit version used to generate the provided QPY file, 0.45.2, is newer than the current qiskit version 0.45.1. This may result in an error if the QPY file uses instructions not present in this current qiskit version\n",
      "  warnings.warn(\n"
     ]
    },
    {
     "name": "stdout",
     "output_type": "stream",
     "text": [
      "n=4,d=20,n_circuit=16,n_gen=40\n"
     ]
    },
    {
     "name": "stderr",
     "output_type": "stream",
     "text": [
      "/Library/Frameworks/Python.framework/Versions/3.10/lib/python3.10/site-packages/qiskit/qpy/interface.py:273: UserWarning: The qiskit version used to generate the provided QPY file, 0.45.2, is newer than the current qiskit version 0.45.1. This may result in an error if the QPY file uses instructions not present in this current qiskit version\n",
      "  warnings.warn(\n"
     ]
    },
    {
     "name": "stdout",
     "output_type": "stream",
     "text": [
      "n=4,d=21,n_circuit=16,n_gen=40\n",
      "n=4,d=22,n_circuit=16,n_gen=40\n",
      "n=4,d=23,n_circuit=16,n_gen=40\n"
     ]
    },
    {
     "name": "stderr",
     "output_type": "stream",
     "text": [
      "/Library/Frameworks/Python.framework/Versions/3.10/lib/python3.10/site-packages/qiskit/qpy/interface.py:273: UserWarning: The qiskit version used to generate the provided QPY file, 0.45.2, is newer than the current qiskit version 0.45.1. This may result in an error if the QPY file uses instructions not present in this current qiskit version\n",
      "  warnings.warn(\n",
      "/Library/Frameworks/Python.framework/Versions/3.10/lib/python3.10/site-packages/qiskit/qpy/interface.py:273: UserWarning: The qiskit version used to generate the provided QPY file, 0.45.2, is newer than the current qiskit version 0.45.1. This may result in an error if the QPY file uses instructions not present in this current qiskit version\n",
      "  warnings.warn(\n",
      "/Library/Frameworks/Python.framework/Versions/3.10/lib/python3.10/site-packages/qiskit/qpy/interface.py:273: UserWarning: The qiskit version used to generate the provided QPY file, 0.45.2, is newer than the current qiskit version 0.45.1. This may result in an error if the QPY file uses instructions not present in this current qiskit version\n",
      "  warnings.warn(\n"
     ]
    },
    {
     "name": "stdout",
     "output_type": "stream",
     "text": [
      "n=4,d=24,n_circuit=16,n_gen=40\n",
      "n=4,d=25,n_circuit=16,n_gen=40\n",
      "n=4,d=26,n_circuit=16,n_gen=40\n"
     ]
    },
    {
     "name": "stderr",
     "output_type": "stream",
     "text": [
      "/Library/Frameworks/Python.framework/Versions/3.10/lib/python3.10/site-packages/qiskit/qpy/interface.py:273: UserWarning: The qiskit version used to generate the provided QPY file, 0.45.2, is newer than the current qiskit version 0.45.1. This may result in an error if the QPY file uses instructions not present in this current qiskit version\n",
      "  warnings.warn(\n",
      "/Library/Frameworks/Python.framework/Versions/3.10/lib/python3.10/site-packages/qiskit/qpy/interface.py:273: UserWarning: The qiskit version used to generate the provided QPY file, 0.45.2, is newer than the current qiskit version 0.45.1. This may result in an error if the QPY file uses instructions not present in this current qiskit version\n",
      "  warnings.warn(\n",
      "/Library/Frameworks/Python.framework/Versions/3.10/lib/python3.10/site-packages/qiskit/qpy/interface.py:273: UserWarning: The qiskit version used to generate the provided QPY file, 0.45.2, is newer than the current qiskit version 0.45.1. This may result in an error if the QPY file uses instructions not present in this current qiskit version\n",
      "  warnings.warn(\n"
     ]
    },
    {
     "name": "stdout",
     "output_type": "stream",
     "text": [
      "n=4,d=27,n_circuit=16,n_gen=40\n",
      "n=4,d=28,n_circuit=16,n_gen=40\n"
     ]
    },
    {
     "name": "stderr",
     "output_type": "stream",
     "text": [
      "/Library/Frameworks/Python.framework/Versions/3.10/lib/python3.10/site-packages/qiskit/qpy/interface.py:273: UserWarning: The qiskit version used to generate the provided QPY file, 0.45.2, is newer than the current qiskit version 0.45.1. This may result in an error if the QPY file uses instructions not present in this current qiskit version\n",
      "  warnings.warn(\n",
      "/Library/Frameworks/Python.framework/Versions/3.10/lib/python3.10/site-packages/qiskit/qpy/interface.py:273: UserWarning: The qiskit version used to generate the provided QPY file, 0.45.2, is newer than the current qiskit version 0.45.1. This may result in an error if the QPY file uses instructions not present in this current qiskit version\n",
      "  warnings.warn(\n"
     ]
    },
    {
     "name": "stdout",
     "output_type": "stream",
     "text": [
      "n=4,d=29,n_circuit=16,n_gen=40\n",
      "n=4,d=5,n_circuit=16,n_gen=50\n"
     ]
    },
    {
     "name": "stderr",
     "output_type": "stream",
     "text": [
      "/Library/Frameworks/Python.framework/Versions/3.10/lib/python3.10/site-packages/qiskit/qpy/interface.py:273: UserWarning: The qiskit version used to generate the provided QPY file, 0.45.2, is newer than the current qiskit version 0.45.1. This may result in an error if the QPY file uses instructions not present in this current qiskit version\n",
      "  warnings.warn(\n"
     ]
    },
    {
     "name": "stdout",
     "output_type": "stream",
     "text": [
      "n=4,d=6,n_circuit=16,n_gen=50\n"
     ]
    },
    {
     "name": "stderr",
     "output_type": "stream",
     "text": [
      "/Library/Frameworks/Python.framework/Versions/3.10/lib/python3.10/site-packages/qiskit/qpy/interface.py:273: UserWarning: The qiskit version used to generate the provided QPY file, 0.45.2, is newer than the current qiskit version 0.45.1. This may result in an error if the QPY file uses instructions not present in this current qiskit version\n",
      "  warnings.warn(\n"
     ]
    },
    {
     "name": "stdout",
     "output_type": "stream",
     "text": [
      "n=4,d=7,n_circuit=16,n_gen=50\n"
     ]
    },
    {
     "name": "stderr",
     "output_type": "stream",
     "text": [
      "/Library/Frameworks/Python.framework/Versions/3.10/lib/python3.10/site-packages/qiskit/qpy/interface.py:273: UserWarning: The qiskit version used to generate the provided QPY file, 0.45.2, is newer than the current qiskit version 0.45.1. This may result in an error if the QPY file uses instructions not present in this current qiskit version\n",
      "  warnings.warn(\n"
     ]
    },
    {
     "name": "stdout",
     "output_type": "stream",
     "text": [
      "n=4,d=8,n_circuit=16,n_gen=50\n"
     ]
    },
    {
     "name": "stderr",
     "output_type": "stream",
     "text": [
      "/Library/Frameworks/Python.framework/Versions/3.10/lib/python3.10/site-packages/qiskit/qpy/interface.py:273: UserWarning: The qiskit version used to generate the provided QPY file, 0.45.2, is newer than the current qiskit version 0.45.1. This may result in an error if the QPY file uses instructions not present in this current qiskit version\n",
      "  warnings.warn(\n"
     ]
    },
    {
     "name": "stdout",
     "output_type": "stream",
     "text": [
      "n=4,d=9,n_circuit=16,n_gen=50\n"
     ]
    },
    {
     "name": "stderr",
     "output_type": "stream",
     "text": [
      "/Library/Frameworks/Python.framework/Versions/3.10/lib/python3.10/site-packages/qiskit/qpy/interface.py:273: UserWarning: The qiskit version used to generate the provided QPY file, 0.45.2, is newer than the current qiskit version 0.45.1. This may result in an error if the QPY file uses instructions not present in this current qiskit version\n",
      "  warnings.warn(\n"
     ]
    },
    {
     "name": "stdout",
     "output_type": "stream",
     "text": [
      "n=4,d=10,n_circuit=16,n_gen=50\n",
      "n=4,d=11,n_circuit=16,n_gen=50\n",
      "n=4,d=12,n_circuit=16,n_gen=50\n",
      "n=4,d=13,n_circuit=16,n_gen=50\n"
     ]
    },
    {
     "name": "stderr",
     "output_type": "stream",
     "text": [
      "/Library/Frameworks/Python.framework/Versions/3.10/lib/python3.10/site-packages/qiskit/qpy/interface.py:273: UserWarning: The qiskit version used to generate the provided QPY file, 0.45.2, is newer than the current qiskit version 0.45.1. This may result in an error if the QPY file uses instructions not present in this current qiskit version\n",
      "  warnings.warn(\n",
      "/Library/Frameworks/Python.framework/Versions/3.10/lib/python3.10/site-packages/qiskit/qpy/interface.py:273: UserWarning: The qiskit version used to generate the provided QPY file, 0.45.2, is newer than the current qiskit version 0.45.1. This may result in an error if the QPY file uses instructions not present in this current qiskit version\n",
      "  warnings.warn(\n",
      "/Library/Frameworks/Python.framework/Versions/3.10/lib/python3.10/site-packages/qiskit/qpy/interface.py:273: UserWarning: The qiskit version used to generate the provided QPY file, 0.45.2, is newer than the current qiskit version 0.45.1. This may result in an error if the QPY file uses instructions not present in this current qiskit version\n",
      "  warnings.warn(\n",
      "/Library/Frameworks/Python.framework/Versions/3.10/lib/python3.10/site-packages/qiskit/qpy/interface.py:273: UserWarning: The qiskit version used to generate the provided QPY file, 0.45.2, is newer than the current qiskit version 0.45.1. This may result in an error if the QPY file uses instructions not present in this current qiskit version\n",
      "  warnings.warn(\n"
     ]
    },
    {
     "name": "stdout",
     "output_type": "stream",
     "text": [
      "n=4,d=14,n_circuit=16,n_gen=50\n",
      "n=4,d=15,n_circuit=16,n_gen=50\n"
     ]
    },
    {
     "name": "stderr",
     "output_type": "stream",
     "text": [
      "/Library/Frameworks/Python.framework/Versions/3.10/lib/python3.10/site-packages/qiskit/qpy/interface.py:273: UserWarning: The qiskit version used to generate the provided QPY file, 0.45.2, is newer than the current qiskit version 0.45.1. This may result in an error if the QPY file uses instructions not present in this current qiskit version\n",
      "  warnings.warn(\n"
     ]
    },
    {
     "name": "stdout",
     "output_type": "stream",
     "text": [
      "n=4,d=16,n_circuit=16,n_gen=50\n",
      "n=4,d=17,n_circuit=16,n_gen=50\n",
      "n=4,d=18,n_circuit=16,n_gen=50\n",
      "n=4,d=19,n_circuit=16,n_gen=50\n",
      "n=4,d=20,n_circuit=16,n_gen=50\n"
     ]
    },
    {
     "name": "stderr",
     "output_type": "stream",
     "text": [
      "/Library/Frameworks/Python.framework/Versions/3.10/lib/python3.10/site-packages/qiskit/qpy/interface.py:273: UserWarning: The qiskit version used to generate the provided QPY file, 0.45.2, is newer than the current qiskit version 0.45.1. This may result in an error if the QPY file uses instructions not present in this current qiskit version\n",
      "  warnings.warn(\n",
      "/Library/Frameworks/Python.framework/Versions/3.10/lib/python3.10/site-packages/qiskit/qpy/interface.py:273: UserWarning: The qiskit version used to generate the provided QPY file, 0.45.2, is newer than the current qiskit version 0.45.1. This may result in an error if the QPY file uses instructions not present in this current qiskit version\n",
      "  warnings.warn(\n",
      "/Library/Frameworks/Python.framework/Versions/3.10/lib/python3.10/site-packages/qiskit/qpy/interface.py:273: UserWarning: The qiskit version used to generate the provided QPY file, 0.45.2, is newer than the current qiskit version 0.45.1. This may result in an error if the QPY file uses instructions not present in this current qiskit version\n",
      "  warnings.warn(\n",
      "/Library/Frameworks/Python.framework/Versions/3.10/lib/python3.10/site-packages/qiskit/qpy/interface.py:273: UserWarning: The qiskit version used to generate the provided QPY file, 0.45.2, is newer than the current qiskit version 0.45.1. This may result in an error if the QPY file uses instructions not present in this current qiskit version\n",
      "  warnings.warn(\n"
     ]
    },
    {
     "name": "stdout",
     "output_type": "stream",
     "text": [
      "n=4,d=21,n_circuit=16,n_gen=50\n",
      "n=4,d=22,n_circuit=16,n_gen=50\n",
      "n=4,d=23,n_circuit=16,n_gen=50\n"
     ]
    },
    {
     "name": "stderr",
     "output_type": "stream",
     "text": [
      "/Library/Frameworks/Python.framework/Versions/3.10/lib/python3.10/site-packages/qiskit/qpy/interface.py:273: UserWarning: The qiskit version used to generate the provided QPY file, 0.45.2, is newer than the current qiskit version 0.45.1. This may result in an error if the QPY file uses instructions not present in this current qiskit version\n",
      "  warnings.warn(\n",
      "/Library/Frameworks/Python.framework/Versions/3.10/lib/python3.10/site-packages/qiskit/qpy/interface.py:273: UserWarning: The qiskit version used to generate the provided QPY file, 0.45.2, is newer than the current qiskit version 0.45.1. This may result in an error if the QPY file uses instructions not present in this current qiskit version\n",
      "  warnings.warn(\n"
     ]
    },
    {
     "name": "stdout",
     "output_type": "stream",
     "text": [
      "n=4,d=24,n_circuit=16,n_gen=50\n",
      "n=4,d=25,n_circuit=16,n_gen=50\n",
      "n=4,d=26,n_circuit=16,n_gen=50\n",
      "n=4,d=27,n_circuit=16,n_gen=50\n"
     ]
    },
    {
     "name": "stderr",
     "output_type": "stream",
     "text": [
      "/Library/Frameworks/Python.framework/Versions/3.10/lib/python3.10/site-packages/qiskit/qpy/interface.py:273: UserWarning: The qiskit version used to generate the provided QPY file, 0.45.2, is newer than the current qiskit version 0.45.1. This may result in an error if the QPY file uses instructions not present in this current qiskit version\n",
      "  warnings.warn(\n",
      "/Library/Frameworks/Python.framework/Versions/3.10/lib/python3.10/site-packages/qiskit/qpy/interface.py:273: UserWarning: The qiskit version used to generate the provided QPY file, 0.45.2, is newer than the current qiskit version 0.45.1. This may result in an error if the QPY file uses instructions not present in this current qiskit version\n",
      "  warnings.warn(\n",
      "/Library/Frameworks/Python.framework/Versions/3.10/lib/python3.10/site-packages/qiskit/qpy/interface.py:273: UserWarning: The qiskit version used to generate the provided QPY file, 0.45.2, is newer than the current qiskit version 0.45.1. This may result in an error if the QPY file uses instructions not present in this current qiskit version\n",
      "  warnings.warn(\n",
      "/Library/Frameworks/Python.framework/Versions/3.10/lib/python3.10/site-packages/qiskit/qpy/interface.py:273: UserWarning: The qiskit version used to generate the provided QPY file, 0.45.2, is newer than the current qiskit version 0.45.1. This may result in an error if the QPY file uses instructions not present in this current qiskit version\n",
      "  warnings.warn(\n"
     ]
    },
    {
     "name": "stdout",
     "output_type": "stream",
     "text": [
      "n=4,d=28,n_circuit=16,n_gen=50\n"
     ]
    },
    {
     "name": "stderr",
     "output_type": "stream",
     "text": [
      "/Library/Frameworks/Python.framework/Versions/3.10/lib/python3.10/site-packages/qiskit/qpy/interface.py:273: UserWarning: The qiskit version used to generate the provided QPY file, 0.45.2, is newer than the current qiskit version 0.45.1. This may result in an error if the QPY file uses instructions not present in this current qiskit version\n",
      "  warnings.warn(\n"
     ]
    },
    {
     "name": "stdout",
     "output_type": "stream",
     "text": [
      "n=4,d=29,n_circuit=16,n_gen=50\n",
      "n=4,d=5,n_circuit=32,n_gen=10\n"
     ]
    },
    {
     "name": "stderr",
     "output_type": "stream",
     "text": [
      "/Library/Frameworks/Python.framework/Versions/3.10/lib/python3.10/site-packages/qiskit/qpy/interface.py:273: UserWarning: The qiskit version used to generate the provided QPY file, 0.45.2, is newer than the current qiskit version 0.45.1. This may result in an error if the QPY file uses instructions not present in this current qiskit version\n",
      "  warnings.warn(\n"
     ]
    },
    {
     "name": "stdout",
     "output_type": "stream",
     "text": [
      "n=4,d=6,n_circuit=32,n_gen=10\n",
      "n=4,d=7,n_circuit=32,n_gen=10\n",
      "n=4,d=8,n_circuit=32,n_gen=10\n",
      "n=4,d=9,n_circuit=32,n_gen=10\n"
     ]
    },
    {
     "name": "stderr",
     "output_type": "stream",
     "text": [
      "/Library/Frameworks/Python.framework/Versions/3.10/lib/python3.10/site-packages/qiskit/qpy/interface.py:273: UserWarning: The qiskit version used to generate the provided QPY file, 0.45.2, is newer than the current qiskit version 0.45.1. This may result in an error if the QPY file uses instructions not present in this current qiskit version\n",
      "  warnings.warn(\n",
      "/Library/Frameworks/Python.framework/Versions/3.10/lib/python3.10/site-packages/qiskit/qpy/interface.py:273: UserWarning: The qiskit version used to generate the provided QPY file, 0.45.2, is newer than the current qiskit version 0.45.1. This may result in an error if the QPY file uses instructions not present in this current qiskit version\n",
      "  warnings.warn(\n"
     ]
    },
    {
     "name": "stdout",
     "output_type": "stream",
     "text": [
      "n=4,d=10,n_circuit=32,n_gen=10\n"
     ]
    },
    {
     "name": "stderr",
     "output_type": "stream",
     "text": [
      "/Library/Frameworks/Python.framework/Versions/3.10/lib/python3.10/site-packages/qiskit/qpy/interface.py:273: UserWarning: The qiskit version used to generate the provided QPY file, 0.45.2, is newer than the current qiskit version 0.45.1. This may result in an error if the QPY file uses instructions not present in this current qiskit version\n",
      "  warnings.warn(\n"
     ]
    },
    {
     "name": "stdout",
     "output_type": "stream",
     "text": [
      "n=4,d=11,n_circuit=32,n_gen=10\n",
      "n=4,d=12,n_circuit=32,n_gen=10\n",
      "n=4,d=13,n_circuit=32,n_gen=10\n",
      "n=4,d=14,n_circuit=32,n_gen=10\n"
     ]
    },
    {
     "name": "stderr",
     "output_type": "stream",
     "text": [
      "/Library/Frameworks/Python.framework/Versions/3.10/lib/python3.10/site-packages/qiskit/qpy/interface.py:273: UserWarning: The qiskit version used to generate the provided QPY file, 0.45.2, is newer than the current qiskit version 0.45.1. This may result in an error if the QPY file uses instructions not present in this current qiskit version\n",
      "  warnings.warn(\n",
      "/Library/Frameworks/Python.framework/Versions/3.10/lib/python3.10/site-packages/qiskit/qpy/interface.py:273: UserWarning: The qiskit version used to generate the provided QPY file, 0.45.2, is newer than the current qiskit version 0.45.1. This may result in an error if the QPY file uses instructions not present in this current qiskit version\n",
      "  warnings.warn(\n",
      "/Library/Frameworks/Python.framework/Versions/3.10/lib/python3.10/site-packages/qiskit/qpy/interface.py:273: UserWarning: The qiskit version used to generate the provided QPY file, 0.45.2, is newer than the current qiskit version 0.45.1. This may result in an error if the QPY file uses instructions not present in this current qiskit version\n",
      "  warnings.warn(\n",
      "/Library/Frameworks/Python.framework/Versions/3.10/lib/python3.10/site-packages/qiskit/qpy/interface.py:273: UserWarning: The qiskit version used to generate the provided QPY file, 0.45.2, is newer than the current qiskit version 0.45.1. This may result in an error if the QPY file uses instructions not present in this current qiskit version\n",
      "  warnings.warn(\n"
     ]
    },
    {
     "name": "stdout",
     "output_type": "stream",
     "text": [
      "n=4,d=15,n_circuit=32,n_gen=10\n",
      "n=4,d=16,n_circuit=32,n_gen=10\n",
      "n=4,d=17,n_circuit=32,n_gen=10\n",
      "n=4,d=18,n_circuit=32,n_gen=10\n",
      "n=4,d=19,n_circuit=32,n_gen=10\n"
     ]
    },
    {
     "name": "stderr",
     "output_type": "stream",
     "text": [
      "/Library/Frameworks/Python.framework/Versions/3.10/lib/python3.10/site-packages/qiskit/qpy/interface.py:273: UserWarning: The qiskit version used to generate the provided QPY file, 0.45.2, is newer than the current qiskit version 0.45.1. This may result in an error if the QPY file uses instructions not present in this current qiskit version\n",
      "  warnings.warn(\n",
      "/Library/Frameworks/Python.framework/Versions/3.10/lib/python3.10/site-packages/qiskit/qpy/interface.py:273: UserWarning: The qiskit version used to generate the provided QPY file, 0.45.2, is newer than the current qiskit version 0.45.1. This may result in an error if the QPY file uses instructions not present in this current qiskit version\n",
      "  warnings.warn(\n"
     ]
    },
    {
     "name": "stdout",
     "output_type": "stream",
     "text": [
      "n=4,d=20,n_circuit=32,n_gen=10\n",
      "n=4,d=21,n_circuit=32,n_gen=10\n",
      "n=4,d=22,n_circuit=32,n_gen=10\n"
     ]
    },
    {
     "name": "stderr",
     "output_type": "stream",
     "text": [
      "/Library/Frameworks/Python.framework/Versions/3.10/lib/python3.10/site-packages/qiskit/qpy/interface.py:273: UserWarning: The qiskit version used to generate the provided QPY file, 0.45.2, is newer than the current qiskit version 0.45.1. This may result in an error if the QPY file uses instructions not present in this current qiskit version\n",
      "  warnings.warn(\n",
      "/Library/Frameworks/Python.framework/Versions/3.10/lib/python3.10/site-packages/qiskit/qpy/interface.py:273: UserWarning: The qiskit version used to generate the provided QPY file, 0.45.2, is newer than the current qiskit version 0.45.1. This may result in an error if the QPY file uses instructions not present in this current qiskit version\n",
      "  warnings.warn(\n",
      "/Library/Frameworks/Python.framework/Versions/3.10/lib/python3.10/site-packages/qiskit/qpy/interface.py:273: UserWarning: The qiskit version used to generate the provided QPY file, 0.45.2, is newer than the current qiskit version 0.45.1. This may result in an error if the QPY file uses instructions not present in this current qiskit version\n",
      "  warnings.warn(\n"
     ]
    },
    {
     "name": "stdout",
     "output_type": "stream",
     "text": [
      "n=4,d=23,n_circuit=32,n_gen=10\n",
      "n=4,d=24,n_circuit=32,n_gen=10\n"
     ]
    },
    {
     "name": "stderr",
     "output_type": "stream",
     "text": [
      "/Library/Frameworks/Python.framework/Versions/3.10/lib/python3.10/site-packages/qiskit/qpy/interface.py:273: UserWarning: The qiskit version used to generate the provided QPY file, 0.45.2, is newer than the current qiskit version 0.45.1. This may result in an error if the QPY file uses instructions not present in this current qiskit version\n",
      "  warnings.warn(\n",
      "/Library/Frameworks/Python.framework/Versions/3.10/lib/python3.10/site-packages/qiskit/qpy/interface.py:273: UserWarning: The qiskit version used to generate the provided QPY file, 0.45.2, is newer than the current qiskit version 0.45.1. This may result in an error if the QPY file uses instructions not present in this current qiskit version\n",
      "  warnings.warn(\n"
     ]
    },
    {
     "name": "stdout",
     "output_type": "stream",
     "text": [
      "n=4,d=25,n_circuit=32,n_gen=10\n",
      "n=4,d=26,n_circuit=32,n_gen=10\n",
      "n=4,d=27,n_circuit=32,n_gen=10\n"
     ]
    },
    {
     "name": "stderr",
     "output_type": "stream",
     "text": [
      "/Library/Frameworks/Python.framework/Versions/3.10/lib/python3.10/site-packages/qiskit/qpy/interface.py:273: UserWarning: The qiskit version used to generate the provided QPY file, 0.45.2, is newer than the current qiskit version 0.45.1. This may result in an error if the QPY file uses instructions not present in this current qiskit version\n",
      "  warnings.warn(\n",
      "/Library/Frameworks/Python.framework/Versions/3.10/lib/python3.10/site-packages/qiskit/qpy/interface.py:273: UserWarning: The qiskit version used to generate the provided QPY file, 0.45.2, is newer than the current qiskit version 0.45.1. This may result in an error if the QPY file uses instructions not present in this current qiskit version\n",
      "  warnings.warn(\n",
      "/Library/Frameworks/Python.framework/Versions/3.10/lib/python3.10/site-packages/qiskit/qpy/interface.py:273: UserWarning: The qiskit version used to generate the provided QPY file, 0.45.2, is newer than the current qiskit version 0.45.1. This may result in an error if the QPY file uses instructions not present in this current qiskit version\n",
      "  warnings.warn(\n"
     ]
    },
    {
     "name": "stdout",
     "output_type": "stream",
     "text": [
      "n=4,d=28,n_circuit=32,n_gen=10\n",
      "n=4,d=29,n_circuit=32,n_gen=10\n"
     ]
    },
    {
     "name": "stderr",
     "output_type": "stream",
     "text": [
      "/Library/Frameworks/Python.framework/Versions/3.10/lib/python3.10/site-packages/qiskit/qpy/interface.py:273: UserWarning: The qiskit version used to generate the provided QPY file, 0.45.2, is newer than the current qiskit version 0.45.1. This may result in an error if the QPY file uses instructions not present in this current qiskit version\n",
      "  warnings.warn(\n",
      "/Library/Frameworks/Python.framework/Versions/3.10/lib/python3.10/site-packages/qiskit/qpy/interface.py:273: UserWarning: The qiskit version used to generate the provided QPY file, 0.45.2, is newer than the current qiskit version 0.45.1. This may result in an error if the QPY file uses instructions not present in this current qiskit version\n",
      "  warnings.warn(\n"
     ]
    },
    {
     "name": "stdout",
     "output_type": "stream",
     "text": [
      "n=4,d=5,n_circuit=32,n_gen=20\n",
      "n=4,d=6,n_circuit=32,n_gen=20\n",
      "n=4,d=7,n_circuit=32,n_gen=20\n"
     ]
    },
    {
     "name": "stderr",
     "output_type": "stream",
     "text": [
      "/Library/Frameworks/Python.framework/Versions/3.10/lib/python3.10/site-packages/qiskit/qpy/interface.py:273: UserWarning: The qiskit version used to generate the provided QPY file, 0.45.2, is newer than the current qiskit version 0.45.1. This may result in an error if the QPY file uses instructions not present in this current qiskit version\n",
      "  warnings.warn(\n"
     ]
    },
    {
     "name": "stdout",
     "output_type": "stream",
     "text": [
      "n=4,d=8,n_circuit=32,n_gen=20\n",
      "n=4,d=9,n_circuit=32,n_gen=20\n",
      "n=4,d=10,n_circuit=32,n_gen=20\n"
     ]
    },
    {
     "name": "stderr",
     "output_type": "stream",
     "text": [
      "/Library/Frameworks/Python.framework/Versions/3.10/lib/python3.10/site-packages/qiskit/qpy/interface.py:273: UserWarning: The qiskit version used to generate the provided QPY file, 0.45.2, is newer than the current qiskit version 0.45.1. This may result in an error if the QPY file uses instructions not present in this current qiskit version\n",
      "  warnings.warn(\n",
      "/Library/Frameworks/Python.framework/Versions/3.10/lib/python3.10/site-packages/qiskit/qpy/interface.py:273: UserWarning: The qiskit version used to generate the provided QPY file, 0.45.2, is newer than the current qiskit version 0.45.1. This may result in an error if the QPY file uses instructions not present in this current qiskit version\n",
      "  warnings.warn(\n",
      "/Library/Frameworks/Python.framework/Versions/3.10/lib/python3.10/site-packages/qiskit/qpy/interface.py:273: UserWarning: The qiskit version used to generate the provided QPY file, 0.45.2, is newer than the current qiskit version 0.45.1. This may result in an error if the QPY file uses instructions not present in this current qiskit version\n",
      "  warnings.warn(\n"
     ]
    },
    {
     "name": "stdout",
     "output_type": "stream",
     "text": [
      "n=4,d=11,n_circuit=32,n_gen=20\n",
      "n=4,d=12,n_circuit=32,n_gen=20\n",
      "n=4,d=13,n_circuit=32,n_gen=20\n"
     ]
    },
    {
     "name": "stderr",
     "output_type": "stream",
     "text": [
      "/Library/Frameworks/Python.framework/Versions/3.10/lib/python3.10/site-packages/qiskit/qpy/interface.py:273: UserWarning: The qiskit version used to generate the provided QPY file, 0.45.2, is newer than the current qiskit version 0.45.1. This may result in an error if the QPY file uses instructions not present in this current qiskit version\n",
      "  warnings.warn(\n",
      "/Library/Frameworks/Python.framework/Versions/3.10/lib/python3.10/site-packages/qiskit/qpy/interface.py:273: UserWarning: The qiskit version used to generate the provided QPY file, 0.45.2, is newer than the current qiskit version 0.45.1. This may result in an error if the QPY file uses instructions not present in this current qiskit version\n",
      "  warnings.warn(\n",
      "/Library/Frameworks/Python.framework/Versions/3.10/lib/python3.10/site-packages/qiskit/qpy/interface.py:273: UserWarning: The qiskit version used to generate the provided QPY file, 0.45.2, is newer than the current qiskit version 0.45.1. This may result in an error if the QPY file uses instructions not present in this current qiskit version\n",
      "  warnings.warn(\n"
     ]
    },
    {
     "name": "stdout",
     "output_type": "stream",
     "text": [
      "n=4,d=14,n_circuit=32,n_gen=20\n",
      "n=4,d=15,n_circuit=32,n_gen=20\n",
      "n=4,d=16,n_circuit=32,n_gen=20\n",
      "n=4,d=17,n_circuit=32,n_gen=20\n",
      "n=4,d=18,n_circuit=32,n_gen=20\n"
     ]
    },
    {
     "name": "stderr",
     "output_type": "stream",
     "text": [
      "/Library/Frameworks/Python.framework/Versions/3.10/lib/python3.10/site-packages/qiskit/qpy/interface.py:273: UserWarning: The qiskit version used to generate the provided QPY file, 0.45.2, is newer than the current qiskit version 0.45.1. This may result in an error if the QPY file uses instructions not present in this current qiskit version\n",
      "  warnings.warn(\n",
      "/Library/Frameworks/Python.framework/Versions/3.10/lib/python3.10/site-packages/qiskit/qpy/interface.py:273: UserWarning: The qiskit version used to generate the provided QPY file, 0.45.2, is newer than the current qiskit version 0.45.1. This may result in an error if the QPY file uses instructions not present in this current qiskit version\n",
      "  warnings.warn(\n"
     ]
    },
    {
     "name": "stdout",
     "output_type": "stream",
     "text": [
      "n=4,d=19,n_circuit=32,n_gen=20\n"
     ]
    },
    {
     "name": "stderr",
     "output_type": "stream",
     "text": [
      "/Library/Frameworks/Python.framework/Versions/3.10/lib/python3.10/site-packages/qiskit/qpy/interface.py:273: UserWarning: The qiskit version used to generate the provided QPY file, 0.45.2, is newer than the current qiskit version 0.45.1. This may result in an error if the QPY file uses instructions not present in this current qiskit version\n",
      "  warnings.warn(\n"
     ]
    },
    {
     "name": "stdout",
     "output_type": "stream",
     "text": [
      "n=4,d=20,n_circuit=32,n_gen=20\n",
      "n=4,d=21,n_circuit=32,n_gen=20\n"
     ]
    },
    {
     "name": "stderr",
     "output_type": "stream",
     "text": [
      "/Library/Frameworks/Python.framework/Versions/3.10/lib/python3.10/site-packages/qiskit/qpy/interface.py:273: UserWarning: The qiskit version used to generate the provided QPY file, 0.45.2, is newer than the current qiskit version 0.45.1. This may result in an error if the QPY file uses instructions not present in this current qiskit version\n",
      "  warnings.warn(\n",
      "/Library/Frameworks/Python.framework/Versions/3.10/lib/python3.10/site-packages/qiskit/qpy/interface.py:273: UserWarning: The qiskit version used to generate the provided QPY file, 0.45.2, is newer than the current qiskit version 0.45.1. This may result in an error if the QPY file uses instructions not present in this current qiskit version\n",
      "  warnings.warn(\n"
     ]
    },
    {
     "name": "stdout",
     "output_type": "stream",
     "text": [
      "n=4,d=22,n_circuit=32,n_gen=20\n"
     ]
    },
    {
     "name": "stderr",
     "output_type": "stream",
     "text": [
      "/Library/Frameworks/Python.framework/Versions/3.10/lib/python3.10/site-packages/qiskit/qpy/interface.py:273: UserWarning: The qiskit version used to generate the provided QPY file, 0.45.2, is newer than the current qiskit version 0.45.1. This may result in an error if the QPY file uses instructions not present in this current qiskit version\n",
      "  warnings.warn(\n"
     ]
    },
    {
     "name": "stdout",
     "output_type": "stream",
     "text": [
      "n=4,d=23,n_circuit=32,n_gen=20\n"
     ]
    },
    {
     "name": "stderr",
     "output_type": "stream",
     "text": [
      "/Library/Frameworks/Python.framework/Versions/3.10/lib/python3.10/site-packages/qiskit/qpy/interface.py:273: UserWarning: The qiskit version used to generate the provided QPY file, 0.45.2, is newer than the current qiskit version 0.45.1. This may result in an error if the QPY file uses instructions not present in this current qiskit version\n",
      "  warnings.warn(\n"
     ]
    },
    {
     "name": "stdout",
     "output_type": "stream",
     "text": [
      "n=4,d=24,n_circuit=32,n_gen=20\n",
      "n=4,d=25,n_circuit=32,n_gen=20\n",
      "n=4,d=26,n_circuit=32,n_gen=20\n"
     ]
    },
    {
     "name": "stderr",
     "output_type": "stream",
     "text": [
      "/Library/Frameworks/Python.framework/Versions/3.10/lib/python3.10/site-packages/qiskit/qpy/interface.py:273: UserWarning: The qiskit version used to generate the provided QPY file, 0.45.2, is newer than the current qiskit version 0.45.1. This may result in an error if the QPY file uses instructions not present in this current qiskit version\n",
      "  warnings.warn(\n",
      "/Library/Frameworks/Python.framework/Versions/3.10/lib/python3.10/site-packages/qiskit/qpy/interface.py:273: UserWarning: The qiskit version used to generate the provided QPY file, 0.45.2, is newer than the current qiskit version 0.45.1. This may result in an error if the QPY file uses instructions not present in this current qiskit version\n",
      "  warnings.warn(\n",
      "/Library/Frameworks/Python.framework/Versions/3.10/lib/python3.10/site-packages/qiskit/qpy/interface.py:273: UserWarning: The qiskit version used to generate the provided QPY file, 0.45.2, is newer than the current qiskit version 0.45.1. This may result in an error if the QPY file uses instructions not present in this current qiskit version\n",
      "  warnings.warn(\n"
     ]
    },
    {
     "name": "stdout",
     "output_type": "stream",
     "text": [
      "n=4,d=27,n_circuit=32,n_gen=20\n"
     ]
    },
    {
     "name": "stderr",
     "output_type": "stream",
     "text": [
      "/Library/Frameworks/Python.framework/Versions/3.10/lib/python3.10/site-packages/qiskit/qpy/interface.py:273: UserWarning: The qiskit version used to generate the provided QPY file, 0.45.2, is newer than the current qiskit version 0.45.1. This may result in an error if the QPY file uses instructions not present in this current qiskit version\n",
      "  warnings.warn(\n"
     ]
    },
    {
     "name": "stdout",
     "output_type": "stream",
     "text": [
      "n=4,d=28,n_circuit=32,n_gen=20\n"
     ]
    },
    {
     "name": "stderr",
     "output_type": "stream",
     "text": [
      "/Library/Frameworks/Python.framework/Versions/3.10/lib/python3.10/site-packages/qiskit/qpy/interface.py:273: UserWarning: The qiskit version used to generate the provided QPY file, 0.45.2, is newer than the current qiskit version 0.45.1. This may result in an error if the QPY file uses instructions not present in this current qiskit version\n",
      "  warnings.warn(\n"
     ]
    },
    {
     "name": "stdout",
     "output_type": "stream",
     "text": [
      "n=4,d=29,n_circuit=32,n_gen=20\n",
      "n=4,d=5,n_circuit=32,n_gen=30\n"
     ]
    },
    {
     "name": "stderr",
     "output_type": "stream",
     "text": [
      "/Library/Frameworks/Python.framework/Versions/3.10/lib/python3.10/site-packages/qiskit/qpy/interface.py:273: UserWarning: The qiskit version used to generate the provided QPY file, 0.45.2, is newer than the current qiskit version 0.45.1. This may result in an error if the QPY file uses instructions not present in this current qiskit version\n",
      "  warnings.warn(\n"
     ]
    },
    {
     "name": "stdout",
     "output_type": "stream",
     "text": [
      "n=4,d=6,n_circuit=32,n_gen=30\n"
     ]
    },
    {
     "name": "stderr",
     "output_type": "stream",
     "text": [
      "/Library/Frameworks/Python.framework/Versions/3.10/lib/python3.10/site-packages/qiskit/qpy/interface.py:273: UserWarning: The qiskit version used to generate the provided QPY file, 0.45.2, is newer than the current qiskit version 0.45.1. This may result in an error if the QPY file uses instructions not present in this current qiskit version\n",
      "  warnings.warn(\n"
     ]
    },
    {
     "name": "stdout",
     "output_type": "stream",
     "text": [
      "n=4,d=7,n_circuit=32,n_gen=30\n"
     ]
    },
    {
     "name": "stderr",
     "output_type": "stream",
     "text": [
      "/Library/Frameworks/Python.framework/Versions/3.10/lib/python3.10/site-packages/qiskit/qpy/interface.py:273: UserWarning: The qiskit version used to generate the provided QPY file, 0.45.2, is newer than the current qiskit version 0.45.1. This may result in an error if the QPY file uses instructions not present in this current qiskit version\n",
      "  warnings.warn(\n"
     ]
    },
    {
     "name": "stdout",
     "output_type": "stream",
     "text": [
      "n=4,d=8,n_circuit=32,n_gen=30\n"
     ]
    },
    {
     "name": "stderr",
     "output_type": "stream",
     "text": [
      "/Library/Frameworks/Python.framework/Versions/3.10/lib/python3.10/site-packages/qiskit/qpy/interface.py:273: UserWarning: The qiskit version used to generate the provided QPY file, 0.45.2, is newer than the current qiskit version 0.45.1. This may result in an error if the QPY file uses instructions not present in this current qiskit version\n",
      "  warnings.warn(\n"
     ]
    },
    {
     "name": "stdout",
     "output_type": "stream",
     "text": [
      "n=4,d=9,n_circuit=32,n_gen=30\n"
     ]
    },
    {
     "name": "stderr",
     "output_type": "stream",
     "text": [
      "/Library/Frameworks/Python.framework/Versions/3.10/lib/python3.10/site-packages/qiskit/qpy/interface.py:273: UserWarning: The qiskit version used to generate the provided QPY file, 0.45.2, is newer than the current qiskit version 0.45.1. This may result in an error if the QPY file uses instructions not present in this current qiskit version\n",
      "  warnings.warn(\n"
     ]
    },
    {
     "name": "stdout",
     "output_type": "stream",
     "text": [
      "n=4,d=10,n_circuit=32,n_gen=30\n"
     ]
    },
    {
     "name": "stderr",
     "output_type": "stream",
     "text": [
      "/Library/Frameworks/Python.framework/Versions/3.10/lib/python3.10/site-packages/qiskit/qpy/interface.py:273: UserWarning: The qiskit version used to generate the provided QPY file, 0.45.2, is newer than the current qiskit version 0.45.1. This may result in an error if the QPY file uses instructions not present in this current qiskit version\n",
      "  warnings.warn(\n"
     ]
    },
    {
     "name": "stdout",
     "output_type": "stream",
     "text": [
      "n=4,d=11,n_circuit=32,n_gen=30\n",
      "n=4,d=12,n_circuit=32,n_gen=30\n"
     ]
    },
    {
     "name": "stderr",
     "output_type": "stream",
     "text": [
      "/Library/Frameworks/Python.framework/Versions/3.10/lib/python3.10/site-packages/qiskit/qpy/interface.py:273: UserWarning: The qiskit version used to generate the provided QPY file, 0.45.2, is newer than the current qiskit version 0.45.1. This may result in an error if the QPY file uses instructions not present in this current qiskit version\n",
      "  warnings.warn(\n",
      "/Library/Frameworks/Python.framework/Versions/3.10/lib/python3.10/site-packages/qiskit/qpy/interface.py:273: UserWarning: The qiskit version used to generate the provided QPY file, 0.45.2, is newer than the current qiskit version 0.45.1. This may result in an error if the QPY file uses instructions not present in this current qiskit version\n",
      "  warnings.warn(\n"
     ]
    },
    {
     "name": "stdout",
     "output_type": "stream",
     "text": [
      "n=4,d=13,n_circuit=32,n_gen=30\n",
      "n=4,d=14,n_circuit=32,n_gen=30\n",
      "n=4,d=15,n_circuit=32,n_gen=30\n"
     ]
    },
    {
     "name": "stderr",
     "output_type": "stream",
     "text": [
      "/Library/Frameworks/Python.framework/Versions/3.10/lib/python3.10/site-packages/qiskit/qpy/interface.py:273: UserWarning: The qiskit version used to generate the provided QPY file, 0.45.2, is newer than the current qiskit version 0.45.1. This may result in an error if the QPY file uses instructions not present in this current qiskit version\n",
      "  warnings.warn(\n",
      "/Library/Frameworks/Python.framework/Versions/3.10/lib/python3.10/site-packages/qiskit/qpy/interface.py:273: UserWarning: The qiskit version used to generate the provided QPY file, 0.45.2, is newer than the current qiskit version 0.45.1. This may result in an error if the QPY file uses instructions not present in this current qiskit version\n",
      "  warnings.warn(\n"
     ]
    },
    {
     "name": "stdout",
     "output_type": "stream",
     "text": [
      "n=4,d=16,n_circuit=32,n_gen=30\n",
      "n=4,d=17,n_circuit=32,n_gen=30\n"
     ]
    },
    {
     "name": "stderr",
     "output_type": "stream",
     "text": [
      "/Library/Frameworks/Python.framework/Versions/3.10/lib/python3.10/site-packages/qiskit/qpy/interface.py:273: UserWarning: The qiskit version used to generate the provided QPY file, 0.45.2, is newer than the current qiskit version 0.45.1. This may result in an error if the QPY file uses instructions not present in this current qiskit version\n",
      "  warnings.warn(\n"
     ]
    },
    {
     "name": "stdout",
     "output_type": "stream",
     "text": [
      "n=4,d=18,n_circuit=32,n_gen=30\n"
     ]
    },
    {
     "name": "stderr",
     "output_type": "stream",
     "text": [
      "/Library/Frameworks/Python.framework/Versions/3.10/lib/python3.10/site-packages/qiskit/qpy/interface.py:273: UserWarning: The qiskit version used to generate the provided QPY file, 0.45.2, is newer than the current qiskit version 0.45.1. This may result in an error if the QPY file uses instructions not present in this current qiskit version\n",
      "  warnings.warn(\n"
     ]
    },
    {
     "name": "stdout",
     "output_type": "stream",
     "text": [
      "n=4,d=19,n_circuit=32,n_gen=30\n",
      "n=4,d=20,n_circuit=32,n_gen=30\n",
      "n=4,d=21,n_circuit=32,n_gen=30\n"
     ]
    },
    {
     "name": "stderr",
     "output_type": "stream",
     "text": [
      "/Library/Frameworks/Python.framework/Versions/3.10/lib/python3.10/site-packages/qiskit/qpy/interface.py:273: UserWarning: The qiskit version used to generate the provided QPY file, 0.45.2, is newer than the current qiskit version 0.45.1. This may result in an error if the QPY file uses instructions not present in this current qiskit version\n",
      "  warnings.warn(\n",
      "/Library/Frameworks/Python.framework/Versions/3.10/lib/python3.10/site-packages/qiskit/qpy/interface.py:273: UserWarning: The qiskit version used to generate the provided QPY file, 0.45.2, is newer than the current qiskit version 0.45.1. This may result in an error if the QPY file uses instructions not present in this current qiskit version\n",
      "  warnings.warn(\n",
      "/Library/Frameworks/Python.framework/Versions/3.10/lib/python3.10/site-packages/qiskit/qpy/interface.py:273: UserWarning: The qiskit version used to generate the provided QPY file, 0.45.2, is newer than the current qiskit version 0.45.1. This may result in an error if the QPY file uses instructions not present in this current qiskit version\n",
      "  warnings.warn(\n"
     ]
    },
    {
     "name": "stdout",
     "output_type": "stream",
     "text": [
      "n=4,d=22,n_circuit=32,n_gen=30\n",
      "n=4,d=23,n_circuit=32,n_gen=30\n",
      "n=4,d=24,n_circuit=32,n_gen=30\n"
     ]
    },
    {
     "name": "stderr",
     "output_type": "stream",
     "text": [
      "/Library/Frameworks/Python.framework/Versions/3.10/lib/python3.10/site-packages/qiskit/qpy/interface.py:273: UserWarning: The qiskit version used to generate the provided QPY file, 0.45.2, is newer than the current qiskit version 0.45.1. This may result in an error if the QPY file uses instructions not present in this current qiskit version\n",
      "  warnings.warn(\n",
      "/Library/Frameworks/Python.framework/Versions/3.10/lib/python3.10/site-packages/qiskit/qpy/interface.py:273: UserWarning: The qiskit version used to generate the provided QPY file, 0.45.2, is newer than the current qiskit version 0.45.1. This may result in an error if the QPY file uses instructions not present in this current qiskit version\n",
      "  warnings.warn(\n",
      "/Library/Frameworks/Python.framework/Versions/3.10/lib/python3.10/site-packages/qiskit/qpy/interface.py:273: UserWarning: The qiskit version used to generate the provided QPY file, 0.45.2, is newer than the current qiskit version 0.45.1. This may result in an error if the QPY file uses instructions not present in this current qiskit version\n",
      "  warnings.warn(\n"
     ]
    },
    {
     "name": "stdout",
     "output_type": "stream",
     "text": [
      "n=4,d=25,n_circuit=32,n_gen=30\n"
     ]
    },
    {
     "name": "stderr",
     "output_type": "stream",
     "text": [
      "/Library/Frameworks/Python.framework/Versions/3.10/lib/python3.10/site-packages/qiskit/qpy/interface.py:273: UserWarning: The qiskit version used to generate the provided QPY file, 0.45.2, is newer than the current qiskit version 0.45.1. This may result in an error if the QPY file uses instructions not present in this current qiskit version\n",
      "  warnings.warn(\n"
     ]
    },
    {
     "name": "stdout",
     "output_type": "stream",
     "text": [
      "n=4,d=26,n_circuit=32,n_gen=30\n",
      "n=4,d=27,n_circuit=32,n_gen=30\n",
      "n=4,d=28,n_circuit=32,n_gen=30\n"
     ]
    },
    {
     "name": "stderr",
     "output_type": "stream",
     "text": [
      "/Library/Frameworks/Python.framework/Versions/3.10/lib/python3.10/site-packages/qiskit/qpy/interface.py:273: UserWarning: The qiskit version used to generate the provided QPY file, 0.45.2, is newer than the current qiskit version 0.45.1. This may result in an error if the QPY file uses instructions not present in this current qiskit version\n",
      "  warnings.warn(\n",
      "/Library/Frameworks/Python.framework/Versions/3.10/lib/python3.10/site-packages/qiskit/qpy/interface.py:273: UserWarning: The qiskit version used to generate the provided QPY file, 0.45.2, is newer than the current qiskit version 0.45.1. This may result in an error if the QPY file uses instructions not present in this current qiskit version\n",
      "  warnings.warn(\n",
      "/Library/Frameworks/Python.framework/Versions/3.10/lib/python3.10/site-packages/qiskit/qpy/interface.py:273: UserWarning: The qiskit version used to generate the provided QPY file, 0.45.2, is newer than the current qiskit version 0.45.1. This may result in an error if the QPY file uses instructions not present in this current qiskit version\n",
      "  warnings.warn(\n"
     ]
    },
    {
     "name": "stdout",
     "output_type": "stream",
     "text": [
      "n=4,d=29,n_circuit=32,n_gen=30\n"
     ]
    },
    {
     "name": "stderr",
     "output_type": "stream",
     "text": [
      "/Library/Frameworks/Python.framework/Versions/3.10/lib/python3.10/site-packages/qiskit/qpy/interface.py:273: UserWarning: The qiskit version used to generate the provided QPY file, 0.45.2, is newer than the current qiskit version 0.45.1. This may result in an error if the QPY file uses instructions not present in this current qiskit version\n",
      "  warnings.warn(\n"
     ]
    },
    {
     "name": "stdout",
     "output_type": "stream",
     "text": [
      "n=4,d=5,n_circuit=32,n_gen=40\n",
      "n=4,d=6,n_circuit=32,n_gen=40\n"
     ]
    },
    {
     "name": "stderr",
     "output_type": "stream",
     "text": [
      "/Library/Frameworks/Python.framework/Versions/3.10/lib/python3.10/site-packages/qiskit/qpy/interface.py:273: UserWarning: The qiskit version used to generate the provided QPY file, 0.45.2, is newer than the current qiskit version 0.45.1. This may result in an error if the QPY file uses instructions not present in this current qiskit version\n",
      "  warnings.warn(\n"
     ]
    },
    {
     "name": "stdout",
     "output_type": "stream",
     "text": [
      "n=4,d=7,n_circuit=32,n_gen=40\n"
     ]
    },
    {
     "name": "stderr",
     "output_type": "stream",
     "text": [
      "/Library/Frameworks/Python.framework/Versions/3.10/lib/python3.10/site-packages/qiskit/qpy/interface.py:273: UserWarning: The qiskit version used to generate the provided QPY file, 0.45.2, is newer than the current qiskit version 0.45.1. This may result in an error if the QPY file uses instructions not present in this current qiskit version\n",
      "  warnings.warn(\n"
     ]
    },
    {
     "name": "stdout",
     "output_type": "stream",
     "text": [
      "n=4,d=8,n_circuit=32,n_gen=40\n"
     ]
    },
    {
     "name": "stderr",
     "output_type": "stream",
     "text": [
      "/Library/Frameworks/Python.framework/Versions/3.10/lib/python3.10/site-packages/qiskit/qpy/interface.py:273: UserWarning: The qiskit version used to generate the provided QPY file, 0.45.2, is newer than the current qiskit version 0.45.1. This may result in an error if the QPY file uses instructions not present in this current qiskit version\n",
      "  warnings.warn(\n"
     ]
    },
    {
     "name": "stdout",
     "output_type": "stream",
     "text": [
      "n=4,d=9,n_circuit=32,n_gen=40\n"
     ]
    },
    {
     "name": "stderr",
     "output_type": "stream",
     "text": [
      "/Library/Frameworks/Python.framework/Versions/3.10/lib/python3.10/site-packages/qiskit/qpy/interface.py:273: UserWarning: The qiskit version used to generate the provided QPY file, 0.45.2, is newer than the current qiskit version 0.45.1. This may result in an error if the QPY file uses instructions not present in this current qiskit version\n",
      "  warnings.warn(\n"
     ]
    },
    {
     "name": "stdout",
     "output_type": "stream",
     "text": [
      "n=4,d=10,n_circuit=32,n_gen=40\n",
      "n=4,d=11,n_circuit=32,n_gen=40\n",
      "n=4,d=12,n_circuit=32,n_gen=40\n",
      "n=4,d=13,n_circuit=32,n_gen=40\n"
     ]
    },
    {
     "name": "stderr",
     "output_type": "stream",
     "text": [
      "/Library/Frameworks/Python.framework/Versions/3.10/lib/python3.10/site-packages/qiskit/qpy/interface.py:273: UserWarning: The qiskit version used to generate the provided QPY file, 0.45.2, is newer than the current qiskit version 0.45.1. This may result in an error if the QPY file uses instructions not present in this current qiskit version\n",
      "  warnings.warn(\n",
      "/Library/Frameworks/Python.framework/Versions/3.10/lib/python3.10/site-packages/qiskit/qpy/interface.py:273: UserWarning: The qiskit version used to generate the provided QPY file, 0.45.2, is newer than the current qiskit version 0.45.1. This may result in an error if the QPY file uses instructions not present in this current qiskit version\n",
      "  warnings.warn(\n",
      "/Library/Frameworks/Python.framework/Versions/3.10/lib/python3.10/site-packages/qiskit/qpy/interface.py:273: UserWarning: The qiskit version used to generate the provided QPY file, 0.45.2, is newer than the current qiskit version 0.45.1. This may result in an error if the QPY file uses instructions not present in this current qiskit version\n",
      "  warnings.warn(\n",
      "/Library/Frameworks/Python.framework/Versions/3.10/lib/python3.10/site-packages/qiskit/qpy/interface.py:273: UserWarning: The qiskit version used to generate the provided QPY file, 0.45.2, is newer than the current qiskit version 0.45.1. This may result in an error if the QPY file uses instructions not present in this current qiskit version\n",
      "  warnings.warn(\n"
     ]
    },
    {
     "name": "stdout",
     "output_type": "stream",
     "text": [
      "n=4,d=14,n_circuit=32,n_gen=40\n",
      "n=4,d=15,n_circuit=32,n_gen=40\n",
      "n=4,d=16,n_circuit=32,n_gen=40\n",
      "n=4,d=17,n_circuit=32,n_gen=40\n",
      "n=4,d=18,n_circuit=32,n_gen=40\n"
     ]
    },
    {
     "name": "stderr",
     "output_type": "stream",
     "text": [
      "/Library/Frameworks/Python.framework/Versions/3.10/lib/python3.10/site-packages/qiskit/qpy/interface.py:273: UserWarning: The qiskit version used to generate the provided QPY file, 0.45.2, is newer than the current qiskit version 0.45.1. This may result in an error if the QPY file uses instructions not present in this current qiskit version\n",
      "  warnings.warn(\n",
      "/Library/Frameworks/Python.framework/Versions/3.10/lib/python3.10/site-packages/qiskit/qpy/interface.py:273: UserWarning: The qiskit version used to generate the provided QPY file, 0.45.2, is newer than the current qiskit version 0.45.1. This may result in an error if the QPY file uses instructions not present in this current qiskit version\n",
      "  warnings.warn(\n"
     ]
    },
    {
     "name": "stdout",
     "output_type": "stream",
     "text": [
      "n=4,d=19,n_circuit=32,n_gen=40\n",
      "n=4,d=20,n_circuit=32,n_gen=40\n"
     ]
    },
    {
     "name": "stderr",
     "output_type": "stream",
     "text": [
      "/Library/Frameworks/Python.framework/Versions/3.10/lib/python3.10/site-packages/qiskit/qpy/interface.py:273: UserWarning: The qiskit version used to generate the provided QPY file, 0.45.2, is newer than the current qiskit version 0.45.1. This may result in an error if the QPY file uses instructions not present in this current qiskit version\n",
      "  warnings.warn(\n",
      "/Library/Frameworks/Python.framework/Versions/3.10/lib/python3.10/site-packages/qiskit/qpy/interface.py:273: UserWarning: The qiskit version used to generate the provided QPY file, 0.45.2, is newer than the current qiskit version 0.45.1. This may result in an error if the QPY file uses instructions not present in this current qiskit version\n",
      "  warnings.warn(\n"
     ]
    },
    {
     "name": "stdout",
     "output_type": "stream",
     "text": [
      "n=4,d=21,n_circuit=32,n_gen=40\n"
     ]
    },
    {
     "name": "stderr",
     "output_type": "stream",
     "text": [
      "/Library/Frameworks/Python.framework/Versions/3.10/lib/python3.10/site-packages/qiskit/qpy/interface.py:273: UserWarning: The qiskit version used to generate the provided QPY file, 0.45.2, is newer than the current qiskit version 0.45.1. This may result in an error if the QPY file uses instructions not present in this current qiskit version\n",
      "  warnings.warn(\n"
     ]
    },
    {
     "name": "stdout",
     "output_type": "stream",
     "text": [
      "n=4,d=22,n_circuit=32,n_gen=40\n",
      "n=4,d=23,n_circuit=32,n_gen=40\n"
     ]
    },
    {
     "name": "stderr",
     "output_type": "stream",
     "text": [
      "/Library/Frameworks/Python.framework/Versions/3.10/lib/python3.10/site-packages/qiskit/qpy/interface.py:273: UserWarning: The qiskit version used to generate the provided QPY file, 0.45.2, is newer than the current qiskit version 0.45.1. This may result in an error if the QPY file uses instructions not present in this current qiskit version\n",
      "  warnings.warn(\n",
      "/Library/Frameworks/Python.framework/Versions/3.10/lib/python3.10/site-packages/qiskit/qpy/interface.py:273: UserWarning: The qiskit version used to generate the provided QPY file, 0.45.2, is newer than the current qiskit version 0.45.1. This may result in an error if the QPY file uses instructions not present in this current qiskit version\n",
      "  warnings.warn(\n"
     ]
    },
    {
     "name": "stdout",
     "output_type": "stream",
     "text": [
      "n=4,d=24,n_circuit=32,n_gen=40\n",
      "n=4,d=25,n_circuit=32,n_gen=40\n"
     ]
    },
    {
     "name": "stderr",
     "output_type": "stream",
     "text": [
      "/Library/Frameworks/Python.framework/Versions/3.10/lib/python3.10/site-packages/qiskit/qpy/interface.py:273: UserWarning: The qiskit version used to generate the provided QPY file, 0.45.2, is newer than the current qiskit version 0.45.1. This may result in an error if the QPY file uses instructions not present in this current qiskit version\n",
      "  warnings.warn(\n",
      "/Library/Frameworks/Python.framework/Versions/3.10/lib/python3.10/site-packages/qiskit/qpy/interface.py:273: UserWarning: The qiskit version used to generate the provided QPY file, 0.45.2, is newer than the current qiskit version 0.45.1. This may result in an error if the QPY file uses instructions not present in this current qiskit version\n",
      "  warnings.warn(\n"
     ]
    },
    {
     "name": "stdout",
     "output_type": "stream",
     "text": [
      "n=4,d=26,n_circuit=32,n_gen=40\n",
      "n=4,d=27,n_circuit=32,n_gen=40\n"
     ]
    },
    {
     "name": "stderr",
     "output_type": "stream",
     "text": [
      "/Library/Frameworks/Python.framework/Versions/3.10/lib/python3.10/site-packages/qiskit/qpy/interface.py:273: UserWarning: The qiskit version used to generate the provided QPY file, 0.45.2, is newer than the current qiskit version 0.45.1. This may result in an error if the QPY file uses instructions not present in this current qiskit version\n",
      "  warnings.warn(\n",
      "/Library/Frameworks/Python.framework/Versions/3.10/lib/python3.10/site-packages/qiskit/qpy/interface.py:273: UserWarning: The qiskit version used to generate the provided QPY file, 0.45.2, is newer than the current qiskit version 0.45.1. This may result in an error if the QPY file uses instructions not present in this current qiskit version\n",
      "  warnings.warn(\n"
     ]
    },
    {
     "name": "stdout",
     "output_type": "stream",
     "text": [
      "n=4,d=28,n_circuit=32,n_gen=40\n"
     ]
    },
    {
     "name": "stderr",
     "output_type": "stream",
     "text": [
      "/Library/Frameworks/Python.framework/Versions/3.10/lib/python3.10/site-packages/qiskit/qpy/interface.py:273: UserWarning: The qiskit version used to generate the provided QPY file, 0.45.2, is newer than the current qiskit version 0.45.1. This may result in an error if the QPY file uses instructions not present in this current qiskit version\n",
      "  warnings.warn(\n"
     ]
    },
    {
     "name": "stdout",
     "output_type": "stream",
     "text": [
      "n=4,d=29,n_circuit=32,n_gen=40\n"
     ]
    },
    {
     "name": "stderr",
     "output_type": "stream",
     "text": [
      "/Library/Frameworks/Python.framework/Versions/3.10/lib/python3.10/site-packages/qiskit/qpy/interface.py:273: UserWarning: The qiskit version used to generate the provided QPY file, 0.45.2, is newer than the current qiskit version 0.45.1. This may result in an error if the QPY file uses instructions not present in this current qiskit version\n",
      "  warnings.warn(\n"
     ]
    },
    {
     "name": "stdout",
     "output_type": "stream",
     "text": [
      "n=4,d=5,n_circuit=32,n_gen=50\n",
      "n=4,d=6,n_circuit=32,n_gen=50\n"
     ]
    },
    {
     "name": "stderr",
     "output_type": "stream",
     "text": [
      "/Library/Frameworks/Python.framework/Versions/3.10/lib/python3.10/site-packages/qiskit/qpy/interface.py:273: UserWarning: The qiskit version used to generate the provided QPY file, 0.45.2, is newer than the current qiskit version 0.45.1. This may result in an error if the QPY file uses instructions not present in this current qiskit version\n",
      "  warnings.warn(\n"
     ]
    },
    {
     "name": "stdout",
     "output_type": "stream",
     "text": [
      "n=4,d=7,n_circuit=32,n_gen=50\n"
     ]
    },
    {
     "name": "stderr",
     "output_type": "stream",
     "text": [
      "/Library/Frameworks/Python.framework/Versions/3.10/lib/python3.10/site-packages/qiskit/qpy/interface.py:273: UserWarning: The qiskit version used to generate the provided QPY file, 0.45.2, is newer than the current qiskit version 0.45.1. This may result in an error if the QPY file uses instructions not present in this current qiskit version\n",
      "  warnings.warn(\n"
     ]
    },
    {
     "name": "stdout",
     "output_type": "stream",
     "text": [
      "n=4,d=8,n_circuit=32,n_gen=50\n"
     ]
    },
    {
     "name": "stderr",
     "output_type": "stream",
     "text": [
      "/Library/Frameworks/Python.framework/Versions/3.10/lib/python3.10/site-packages/qiskit/qpy/interface.py:273: UserWarning: The qiskit version used to generate the provided QPY file, 0.45.2, is newer than the current qiskit version 0.45.1. This may result in an error if the QPY file uses instructions not present in this current qiskit version\n",
      "  warnings.warn(\n"
     ]
    },
    {
     "name": "stdout",
     "output_type": "stream",
     "text": [
      "n=4,d=9,n_circuit=32,n_gen=50\n"
     ]
    },
    {
     "name": "stderr",
     "output_type": "stream",
     "text": [
      "/Library/Frameworks/Python.framework/Versions/3.10/lib/python3.10/site-packages/qiskit/qpy/interface.py:273: UserWarning: The qiskit version used to generate the provided QPY file, 0.45.2, is newer than the current qiskit version 0.45.1. This may result in an error if the QPY file uses instructions not present in this current qiskit version\n",
      "  warnings.warn(\n"
     ]
    },
    {
     "name": "stdout",
     "output_type": "stream",
     "text": [
      "n=4,d=10,n_circuit=32,n_gen=50\n",
      "n=4,d=11,n_circuit=32,n_gen=50\n"
     ]
    },
    {
     "name": "stderr",
     "output_type": "stream",
     "text": [
      "/Library/Frameworks/Python.framework/Versions/3.10/lib/python3.10/site-packages/qiskit/qpy/interface.py:273: UserWarning: The qiskit version used to generate the provided QPY file, 0.45.2, is newer than the current qiskit version 0.45.1. This may result in an error if the QPY file uses instructions not present in this current qiskit version\n",
      "  warnings.warn(\n",
      "/Library/Frameworks/Python.framework/Versions/3.10/lib/python3.10/site-packages/qiskit/qpy/interface.py:273: UserWarning: The qiskit version used to generate the provided QPY file, 0.45.2, is newer than the current qiskit version 0.45.1. This may result in an error if the QPY file uses instructions not present in this current qiskit version\n",
      "  warnings.warn(\n"
     ]
    },
    {
     "name": "stdout",
     "output_type": "stream",
     "text": [
      "n=4,d=12,n_circuit=32,n_gen=50\n",
      "n=4,d=13,n_circuit=32,n_gen=50\n",
      "n=4,d=14,n_circuit=32,n_gen=50\n"
     ]
    },
    {
     "name": "stderr",
     "output_type": "stream",
     "text": [
      "/Library/Frameworks/Python.framework/Versions/3.10/lib/python3.10/site-packages/qiskit/qpy/interface.py:273: UserWarning: The qiskit version used to generate the provided QPY file, 0.45.2, is newer than the current qiskit version 0.45.1. This may result in an error if the QPY file uses instructions not present in this current qiskit version\n",
      "  warnings.warn(\n",
      "/Library/Frameworks/Python.framework/Versions/3.10/lib/python3.10/site-packages/qiskit/qpy/interface.py:273: UserWarning: The qiskit version used to generate the provided QPY file, 0.45.2, is newer than the current qiskit version 0.45.1. This may result in an error if the QPY file uses instructions not present in this current qiskit version\n",
      "  warnings.warn(\n",
      "/Library/Frameworks/Python.framework/Versions/3.10/lib/python3.10/site-packages/qiskit/qpy/interface.py:273: UserWarning: The qiskit version used to generate the provided QPY file, 0.45.2, is newer than the current qiskit version 0.45.1. This may result in an error if the QPY file uses instructions not present in this current qiskit version\n",
      "  warnings.warn(\n"
     ]
    },
    {
     "name": "stdout",
     "output_type": "stream",
     "text": [
      "n=4,d=15,n_circuit=32,n_gen=50\n",
      "n=4,d=16,n_circuit=32,n_gen=50\n",
      "n=4,d=17,n_circuit=32,n_gen=50\n",
      "n=4,d=18,n_circuit=32,n_gen=50\n",
      "n=4,d=19,n_circuit=32,n_gen=50\n"
     ]
    },
    {
     "name": "stderr",
     "output_type": "stream",
     "text": [
      "/Library/Frameworks/Python.framework/Versions/3.10/lib/python3.10/site-packages/qiskit/qpy/interface.py:273: UserWarning: The qiskit version used to generate the provided QPY file, 0.45.2, is newer than the current qiskit version 0.45.1. This may result in an error if the QPY file uses instructions not present in this current qiskit version\n",
      "  warnings.warn(\n",
      "/Library/Frameworks/Python.framework/Versions/3.10/lib/python3.10/site-packages/qiskit/qpy/interface.py:273: UserWarning: The qiskit version used to generate the provided QPY file, 0.45.2, is newer than the current qiskit version 0.45.1. This may result in an error if the QPY file uses instructions not present in this current qiskit version\n",
      "  warnings.warn(\n"
     ]
    },
    {
     "name": "stdout",
     "output_type": "stream",
     "text": [
      "n=4,d=20,n_circuit=32,n_gen=50\n",
      "n=4,d=21,n_circuit=32,n_gen=50\n"
     ]
    },
    {
     "name": "stderr",
     "output_type": "stream",
     "text": [
      "/Library/Frameworks/Python.framework/Versions/3.10/lib/python3.10/site-packages/qiskit/qpy/interface.py:273: UserWarning: The qiskit version used to generate the provided QPY file, 0.45.2, is newer than the current qiskit version 0.45.1. This may result in an error if the QPY file uses instructions not present in this current qiskit version\n",
      "  warnings.warn(\n",
      "/Library/Frameworks/Python.framework/Versions/3.10/lib/python3.10/site-packages/qiskit/qpy/interface.py:273: UserWarning: The qiskit version used to generate the provided QPY file, 0.45.2, is newer than the current qiskit version 0.45.1. This may result in an error if the QPY file uses instructions not present in this current qiskit version\n",
      "  warnings.warn(\n"
     ]
    },
    {
     "name": "stdout",
     "output_type": "stream",
     "text": [
      "n=4,d=22,n_circuit=32,n_gen=50\n",
      "n=4,d=23,n_circuit=32,n_gen=50\n",
      "n=4,d=24,n_circuit=32,n_gen=50\n"
     ]
    },
    {
     "name": "stderr",
     "output_type": "stream",
     "text": [
      "/Library/Frameworks/Python.framework/Versions/3.10/lib/python3.10/site-packages/qiskit/qpy/interface.py:273: UserWarning: The qiskit version used to generate the provided QPY file, 0.45.2, is newer than the current qiskit version 0.45.1. This may result in an error if the QPY file uses instructions not present in this current qiskit version\n",
      "  warnings.warn(\n",
      "/Library/Frameworks/Python.framework/Versions/3.10/lib/python3.10/site-packages/qiskit/qpy/interface.py:273: UserWarning: The qiskit version used to generate the provided QPY file, 0.45.2, is newer than the current qiskit version 0.45.1. This may result in an error if the QPY file uses instructions not present in this current qiskit version\n",
      "  warnings.warn(\n",
      "/Library/Frameworks/Python.framework/Versions/3.10/lib/python3.10/site-packages/qiskit/qpy/interface.py:273: UserWarning: The qiskit version used to generate the provided QPY file, 0.45.2, is newer than the current qiskit version 0.45.1. This may result in an error if the QPY file uses instructions not present in this current qiskit version\n",
      "  warnings.warn(\n"
     ]
    },
    {
     "name": "stdout",
     "output_type": "stream",
     "text": [
      "n=4,d=25,n_circuit=32,n_gen=50\n",
      "n=4,d=26,n_circuit=32,n_gen=50\n",
      "n=4,d=27,n_circuit=32,n_gen=50\n"
     ]
    },
    {
     "name": "stderr",
     "output_type": "stream",
     "text": [
      "/Library/Frameworks/Python.framework/Versions/3.10/lib/python3.10/site-packages/qiskit/qpy/interface.py:273: UserWarning: The qiskit version used to generate the provided QPY file, 0.45.2, is newer than the current qiskit version 0.45.1. This may result in an error if the QPY file uses instructions not present in this current qiskit version\n",
      "  warnings.warn(\n",
      "/Library/Frameworks/Python.framework/Versions/3.10/lib/python3.10/site-packages/qiskit/qpy/interface.py:273: UserWarning: The qiskit version used to generate the provided QPY file, 0.45.2, is newer than the current qiskit version 0.45.1. This may result in an error if the QPY file uses instructions not present in this current qiskit version\n",
      "  warnings.warn(\n",
      "/Library/Frameworks/Python.framework/Versions/3.10/lib/python3.10/site-packages/qiskit/qpy/interface.py:273: UserWarning: The qiskit version used to generate the provided QPY file, 0.45.2, is newer than the current qiskit version 0.45.1. This may result in an error if the QPY file uses instructions not present in this current qiskit version\n",
      "  warnings.warn(\n"
     ]
    },
    {
     "name": "stdout",
     "output_type": "stream",
     "text": [
      "n=4,d=28,n_circuit=32,n_gen=50\n",
      "n=4,d=29,n_circuit=32,n_gen=50\n",
      "n=5,d=5,n_circuit=4,n_gen=10\n"
     ]
    },
    {
     "name": "stderr",
     "output_type": "stream",
     "text": [
      "/Library/Frameworks/Python.framework/Versions/3.10/lib/python3.10/site-packages/qiskit/qpy/interface.py:273: UserWarning: The qiskit version used to generate the provided QPY file, 0.45.2, is newer than the current qiskit version 0.45.1. This may result in an error if the QPY file uses instructions not present in this current qiskit version\n",
      "  warnings.warn(\n",
      "/Library/Frameworks/Python.framework/Versions/3.10/lib/python3.10/site-packages/qiskit/qpy/interface.py:273: UserWarning: The qiskit version used to generate the provided QPY file, 0.45.2, is newer than the current qiskit version 0.45.1. This may result in an error if the QPY file uses instructions not present in this current qiskit version\n",
      "  warnings.warn(\n"
     ]
    },
    {
     "name": "stdout",
     "output_type": "stream",
     "text": [
      "n=5,d=6,n_circuit=4,n_gen=10\n",
      "n=5,d=20,n_circuit=4,n_gen=10\n",
      "n=5,d=21,n_circuit=4,n_gen=10\n",
      "n=5,d=22,n_circuit=4,n_gen=10\n",
      "n=5,d=23,n_circuit=4,n_gen=10\n",
      "n=5,d=24,n_circuit=4,n_gen=10\n",
      "n=5,d=25,n_circuit=4,n_gen=10\n",
      "n=5,d=26,n_circuit=4,n_gen=10\n",
      "n=5,d=27,n_circuit=4,n_gen=10\n",
      "n=5,d=28,n_circuit=4,n_gen=10\n",
      "n=5,d=29,n_circuit=4,n_gen=10\n",
      "n=5,d=30,n_circuit=4,n_gen=10\n",
      "n=5,d=31,n_circuit=4,n_gen=10\n",
      "n=5,d=32,n_circuit=4,n_gen=10\n",
      "n=5,d=33,n_circuit=4,n_gen=10\n",
      "n=5,d=34,n_circuit=4,n_gen=10\n",
      "n=5,d=35,n_circuit=4,n_gen=10\n",
      "n=5,d=36,n_circuit=4,n_gen=10\n",
      "n=5,d=37,n_circuit=4,n_gen=10\n",
      "n=5,d=38,n_circuit=4,n_gen=10\n",
      "n=5,d=39,n_circuit=4,n_gen=10\n",
      "n=5,d=5,n_circuit=4,n_gen=20\n",
      "n=5,d=20,n_circuit=4,n_gen=20\n",
      "n=5,d=21,n_circuit=4,n_gen=20\n",
      "n=5,d=22,n_circuit=4,n_gen=20\n",
      "n=5,d=23,n_circuit=4,n_gen=20\n",
      "n=5,d=24,n_circuit=4,n_gen=20\n",
      "n=5,d=25,n_circuit=4,n_gen=20\n",
      "n=5,d=26,n_circuit=4,n_gen=20\n",
      "n=5,d=27,n_circuit=4,n_gen=20\n",
      "n=5,d=28,n_circuit=4,n_gen=20\n",
      "n=5,d=29,n_circuit=4,n_gen=20\n",
      "n=5,d=30,n_circuit=4,n_gen=20\n",
      "n=5,d=31,n_circuit=4,n_gen=20\n",
      "n=5,d=32,n_circuit=4,n_gen=20\n",
      "n=5,d=33,n_circuit=4,n_gen=20\n",
      "n=5,d=34,n_circuit=4,n_gen=20\n",
      "n=5,d=35,n_circuit=4,n_gen=20\n",
      "n=5,d=36,n_circuit=4,n_gen=20\n",
      "n=5,d=5,n_circuit=4,n_gen=30\n",
      "n=5,d=20,n_circuit=4,n_gen=30\n",
      "n=5,d=21,n_circuit=4,n_gen=30\n",
      "n=5,d=22,n_circuit=4,n_gen=30\n",
      "n=5,d=23,n_circuit=4,n_gen=30\n",
      "n=5,d=24,n_circuit=4,n_gen=30\n",
      "n=5,d=25,n_circuit=4,n_gen=30\n",
      "n=5,d=26,n_circuit=4,n_gen=30\n",
      "n=5,d=27,n_circuit=4,n_gen=30\n",
      "n=5,d=28,n_circuit=4,n_gen=30\n",
      "n=5,d=29,n_circuit=4,n_gen=30\n",
      "n=5,d=5,n_circuit=4,n_gen=40\n",
      "n=5,d=20,n_circuit=4,n_gen=40\n",
      "n=5,d=21,n_circuit=4,n_gen=40\n",
      "n=5,d=22,n_circuit=4,n_gen=40\n",
      "n=5,d=23,n_circuit=4,n_gen=40\n",
      "n=5,d=24,n_circuit=4,n_gen=40\n",
      "n=5,d=25,n_circuit=4,n_gen=40\n",
      "n=5,d=26,n_circuit=4,n_gen=40\n",
      "n=5,d=27,n_circuit=4,n_gen=40\n",
      "n=5,d=28,n_circuit=4,n_gen=40\n",
      "n=5,d=29,n_circuit=4,n_gen=40\n",
      "n=5,d=5,n_circuit=4,n_gen=50\n",
      "n=5,d=20,n_circuit=4,n_gen=50\n",
      "n=5,d=21,n_circuit=4,n_gen=50\n",
      "n=5,d=22,n_circuit=4,n_gen=50\n",
      "n=5,d=23,n_circuit=4,n_gen=50\n",
      "n=5,d=24,n_circuit=4,n_gen=50\n",
      "n=5,d=25,n_circuit=4,n_gen=50\n",
      "n=5,d=26,n_circuit=4,n_gen=50\n",
      "n=5,d=27,n_circuit=4,n_gen=50\n",
      "n=5,d=28,n_circuit=4,n_gen=50\n",
      "n=5,d=29,n_circuit=4,n_gen=50\n",
      "n=5,d=5,n_circuit=8,n_gen=10\n",
      "n=5,d=6,n_circuit=8,n_gen=10\n",
      "n=5,d=20,n_circuit=8,n_gen=10\n",
      "n=5,d=21,n_circuit=8,n_gen=10\n",
      "n=5,d=22,n_circuit=8,n_gen=10\n",
      "n=5,d=23,n_circuit=8,n_gen=10\n",
      "n=5,d=24,n_circuit=8,n_gen=10\n",
      "n=5,d=25,n_circuit=8,n_gen=10\n",
      "n=5,d=26,n_circuit=8,n_gen=10\n",
      "n=5,d=27,n_circuit=8,n_gen=10\n",
      "n=5,d=28,n_circuit=8,n_gen=10\n",
      "n=5,d=29,n_circuit=8,n_gen=10\n",
      "n=5,d=30,n_circuit=8,n_gen=10\n",
      "n=5,d=31,n_circuit=8,n_gen=10\n",
      "n=5,d=32,n_circuit=8,n_gen=10\n",
      "n=5,d=33,n_circuit=8,n_gen=10\n",
      "n=5,d=34,n_circuit=8,n_gen=10\n",
      "n=5,d=35,n_circuit=8,n_gen=10\n",
      "n=5,d=36,n_circuit=8,n_gen=10\n",
      "n=5,d=37,n_circuit=8,n_gen=10\n",
      "n=5,d=38,n_circuit=8,n_gen=10\n",
      "n=5,d=39,n_circuit=8,n_gen=10\n",
      "n=5,d=5,n_circuit=8,n_gen=20\n",
      "n=5,d=20,n_circuit=8,n_gen=20\n",
      "n=5,d=21,n_circuit=8,n_gen=20\n",
      "n=5,d=22,n_circuit=8,n_gen=20\n",
      "n=5,d=23,n_circuit=8,n_gen=20\n",
      "n=5,d=24,n_circuit=8,n_gen=20\n",
      "n=5,d=25,n_circuit=8,n_gen=20\n",
      "n=5,d=26,n_circuit=8,n_gen=20\n",
      "n=5,d=27,n_circuit=8,n_gen=20\n",
      "n=5,d=28,n_circuit=8,n_gen=20\n",
      "n=5,d=29,n_circuit=8,n_gen=20\n",
      "n=5,d=30,n_circuit=8,n_gen=20\n",
      "n=5,d=31,n_circuit=8,n_gen=20\n",
      "n=5,d=32,n_circuit=8,n_gen=20\n",
      "n=5,d=33,n_circuit=8,n_gen=20\n",
      "n=5,d=34,n_circuit=8,n_gen=20\n",
      "n=5,d=35,n_circuit=8,n_gen=20\n",
      "n=5,d=36,n_circuit=8,n_gen=20\n",
      "n=5,d=5,n_circuit=8,n_gen=30\n",
      "n=5,d=20,n_circuit=8,n_gen=30\n",
      "n=5,d=21,n_circuit=8,n_gen=30\n",
      "n=5,d=22,n_circuit=8,n_gen=30\n",
      "n=5,d=23,n_circuit=8,n_gen=30\n",
      "n=5,d=24,n_circuit=8,n_gen=30\n",
      "n=5,d=25,n_circuit=8,n_gen=30\n",
      "n=5,d=26,n_circuit=8,n_gen=30\n",
      "n=5,d=27,n_circuit=8,n_gen=30\n",
      "n=5,d=28,n_circuit=8,n_gen=30\n",
      "n=5,d=29,n_circuit=8,n_gen=30\n",
      "n=5,d=5,n_circuit=8,n_gen=40\n",
      "n=5,d=20,n_circuit=8,n_gen=40\n",
      "n=5,d=21,n_circuit=8,n_gen=40\n",
      "n=5,d=22,n_circuit=8,n_gen=40\n",
      "n=5,d=23,n_circuit=8,n_gen=40\n",
      "n=5,d=24,n_circuit=8,n_gen=40\n",
      "n=5,d=25,n_circuit=8,n_gen=40\n",
      "n=5,d=26,n_circuit=8,n_gen=40\n",
      "n=5,d=27,n_circuit=8,n_gen=40\n",
      "n=5,d=28,n_circuit=8,n_gen=40\n",
      "n=5,d=29,n_circuit=8,n_gen=40\n",
      "n=5,d=5,n_circuit=8,n_gen=50\n",
      "n=5,d=20,n_circuit=8,n_gen=50\n",
      "n=5,d=21,n_circuit=8,n_gen=50\n",
      "n=5,d=22,n_circuit=8,n_gen=50\n",
      "n=5,d=23,n_circuit=8,n_gen=50\n",
      "n=5,d=24,n_circuit=8,n_gen=50\n",
      "n=5,d=25,n_circuit=8,n_gen=50\n",
      "n=5,d=26,n_circuit=8,n_gen=50\n",
      "n=5,d=27,n_circuit=8,n_gen=50\n",
      "n=5,d=28,n_circuit=8,n_gen=50\n",
      "n=5,d=29,n_circuit=8,n_gen=50\n",
      "n=5,d=5,n_circuit=16,n_gen=10\n",
      "n=5,d=6,n_circuit=16,n_gen=10\n",
      "n=5,d=20,n_circuit=16,n_gen=10\n",
      "n=5,d=21,n_circuit=16,n_gen=10\n",
      "n=5,d=22,n_circuit=16,n_gen=10\n",
      "n=5,d=23,n_circuit=16,n_gen=10\n",
      "n=5,d=24,n_circuit=16,n_gen=10\n",
      "n=5,d=25,n_circuit=16,n_gen=10\n",
      "n=5,d=26,n_circuit=16,n_gen=10\n",
      "n=5,d=27,n_circuit=16,n_gen=10\n",
      "n=5,d=28,n_circuit=16,n_gen=10\n",
      "n=5,d=29,n_circuit=16,n_gen=10\n",
      "n=5,d=30,n_circuit=16,n_gen=10\n",
      "n=5,d=31,n_circuit=16,n_gen=10\n",
      "n=5,d=32,n_circuit=16,n_gen=10\n",
      "n=5,d=33,n_circuit=16,n_gen=10\n",
      "n=5,d=34,n_circuit=16,n_gen=10\n",
      "n=5,d=35,n_circuit=16,n_gen=10\n",
      "n=5,d=36,n_circuit=16,n_gen=10\n",
      "n=5,d=37,n_circuit=16,n_gen=10\n",
      "n=5,d=38,n_circuit=16,n_gen=10\n",
      "n=5,d=39,n_circuit=16,n_gen=10\n",
      "n=5,d=5,n_circuit=16,n_gen=20\n",
      "n=5,d=20,n_circuit=16,n_gen=20\n",
      "n=5,d=21,n_circuit=16,n_gen=20\n",
      "n=5,d=22,n_circuit=16,n_gen=20\n",
      "n=5,d=23,n_circuit=16,n_gen=20\n",
      "n=5,d=24,n_circuit=16,n_gen=20\n",
      "n=5,d=25,n_circuit=16,n_gen=20\n",
      "n=5,d=26,n_circuit=16,n_gen=20\n",
      "n=5,d=27,n_circuit=16,n_gen=20\n",
      "n=5,d=28,n_circuit=16,n_gen=20\n",
      "n=5,d=29,n_circuit=16,n_gen=20\n",
      "n=5,d=30,n_circuit=16,n_gen=20\n",
      "n=5,d=31,n_circuit=16,n_gen=20\n",
      "n=5,d=32,n_circuit=16,n_gen=20\n",
      "n=5,d=33,n_circuit=16,n_gen=20\n",
      "n=5,d=34,n_circuit=16,n_gen=20\n",
      "n=5,d=35,n_circuit=16,n_gen=20\n",
      "n=5,d=5,n_circuit=16,n_gen=30\n",
      "n=5,d=20,n_circuit=16,n_gen=30\n",
      "n=5,d=21,n_circuit=16,n_gen=30\n",
      "n=5,d=22,n_circuit=16,n_gen=30\n",
      "n=5,d=23,n_circuit=16,n_gen=30\n",
      "n=5,d=24,n_circuit=16,n_gen=30\n",
      "n=5,d=25,n_circuit=16,n_gen=30\n",
      "n=5,d=26,n_circuit=16,n_gen=30\n",
      "n=5,d=27,n_circuit=16,n_gen=30\n",
      "n=5,d=28,n_circuit=16,n_gen=30\n",
      "n=5,d=29,n_circuit=16,n_gen=30\n",
      "n=5,d=5,n_circuit=16,n_gen=40\n",
      "n=5,d=20,n_circuit=16,n_gen=40\n",
      "n=5,d=21,n_circuit=16,n_gen=40\n",
      "n=5,d=22,n_circuit=16,n_gen=40\n",
      "n=5,d=23,n_circuit=16,n_gen=40\n",
      "n=5,d=24,n_circuit=16,n_gen=40\n",
      "n=5,d=25,n_circuit=16,n_gen=40\n",
      "n=5,d=26,n_circuit=16,n_gen=40\n",
      "n=5,d=27,n_circuit=16,n_gen=40\n",
      "n=5,d=28,n_circuit=16,n_gen=40\n",
      "n=5,d=29,n_circuit=16,n_gen=40\n",
      "n=5,d=5,n_circuit=16,n_gen=50\n",
      "n=5,d=20,n_circuit=16,n_gen=50\n",
      "n=5,d=21,n_circuit=16,n_gen=50\n",
      "n=5,d=22,n_circuit=16,n_gen=50\n",
      "n=5,d=23,n_circuit=16,n_gen=50\n",
      "n=5,d=24,n_circuit=16,n_gen=50\n",
      "n=5,d=25,n_circuit=16,n_gen=50\n",
      "n=5,d=26,n_circuit=16,n_gen=50\n",
      "n=5,d=27,n_circuit=16,n_gen=50\n",
      "n=5,d=28,n_circuit=16,n_gen=50\n",
      "n=5,d=29,n_circuit=16,n_gen=50\n",
      "n=5,d=5,n_circuit=32,n_gen=10\n",
      "n=5,d=20,n_circuit=32,n_gen=10\n",
      "n=5,d=21,n_circuit=32,n_gen=10\n",
      "n=5,d=22,n_circuit=32,n_gen=10\n",
      "n=5,d=23,n_circuit=32,n_gen=10\n",
      "n=5,d=24,n_circuit=32,n_gen=10\n",
      "n=5,d=25,n_circuit=32,n_gen=10\n",
      "n=5,d=26,n_circuit=32,n_gen=10\n",
      "n=5,d=27,n_circuit=32,n_gen=10\n",
      "n=5,d=28,n_circuit=32,n_gen=10\n",
      "n=5,d=29,n_circuit=32,n_gen=10\n",
      "n=5,d=30,n_circuit=32,n_gen=10\n",
      "n=5,d=31,n_circuit=32,n_gen=10\n",
      "n=5,d=32,n_circuit=32,n_gen=10\n",
      "n=5,d=33,n_circuit=32,n_gen=10\n",
      "n=5,d=34,n_circuit=32,n_gen=10\n",
      "n=5,d=35,n_circuit=32,n_gen=10\n",
      "n=5,d=36,n_circuit=32,n_gen=10\n",
      "n=5,d=37,n_circuit=32,n_gen=10\n",
      "n=5,d=38,n_circuit=32,n_gen=10\n",
      "n=5,d=39,n_circuit=32,n_gen=10\n",
      "n=5,d=5,n_circuit=32,n_gen=20\n",
      "n=5,d=20,n_circuit=32,n_gen=20\n",
      "n=5,d=21,n_circuit=32,n_gen=20\n",
      "n=5,d=22,n_circuit=32,n_gen=20\n",
      "n=5,d=23,n_circuit=32,n_gen=20\n",
      "n=5,d=24,n_circuit=32,n_gen=20\n",
      "n=5,d=25,n_circuit=32,n_gen=20\n",
      "n=5,d=26,n_circuit=32,n_gen=20\n",
      "n=5,d=27,n_circuit=32,n_gen=20\n",
      "n=5,d=28,n_circuit=32,n_gen=20\n",
      "n=5,d=29,n_circuit=32,n_gen=20\n",
      "n=5,d=30,n_circuit=32,n_gen=20\n",
      "n=5,d=31,n_circuit=32,n_gen=20\n",
      "n=5,d=32,n_circuit=32,n_gen=20\n",
      "n=5,d=33,n_circuit=32,n_gen=20\n",
      "n=5,d=34,n_circuit=32,n_gen=20\n",
      "n=5,d=5,n_circuit=32,n_gen=30\n",
      "n=5,d=20,n_circuit=32,n_gen=30\n",
      "n=5,d=21,n_circuit=32,n_gen=30\n",
      "n=5,d=22,n_circuit=32,n_gen=30\n",
      "n=5,d=23,n_circuit=32,n_gen=30\n",
      "n=5,d=24,n_circuit=32,n_gen=30\n",
      "n=5,d=25,n_circuit=32,n_gen=30\n",
      "n=5,d=26,n_circuit=32,n_gen=30\n",
      "n=5,d=27,n_circuit=32,n_gen=30\n",
      "n=5,d=28,n_circuit=32,n_gen=30\n",
      "n=5,d=29,n_circuit=32,n_gen=30\n",
      "n=5,d=20,n_circuit=32,n_gen=40\n",
      "n=5,d=21,n_circuit=32,n_gen=40\n",
      "n=5,d=22,n_circuit=32,n_gen=40\n",
      "n=5,d=23,n_circuit=32,n_gen=40\n",
      "n=5,d=24,n_circuit=32,n_gen=40\n",
      "n=5,d=25,n_circuit=32,n_gen=40\n",
      "n=5,d=26,n_circuit=32,n_gen=40\n",
      "n=5,d=27,n_circuit=32,n_gen=40\n",
      "n=5,d=28,n_circuit=32,n_gen=40\n",
      "n=5,d=29,n_circuit=32,n_gen=40\n",
      "n=5,d=20,n_circuit=32,n_gen=50\n",
      "n=5,d=21,n_circuit=32,n_gen=50\n",
      "n=5,d=22,n_circuit=32,n_gen=50\n",
      "n=5,d=23,n_circuit=32,n_gen=50\n",
      "n=5,d=24,n_circuit=32,n_gen=50\n",
      "n=5,d=25,n_circuit=32,n_gen=50\n",
      "n=5,d=26,n_circuit=32,n_gen=50\n",
      "n=5,d=27,n_circuit=32,n_gen=50\n",
      "n=5,d=28,n_circuit=32,n_gen=50\n",
      "n=5,d=29,n_circuit=32,n_gen=50\n",
      "n=6,d=30,n_circuit=4,n_gen=10\n",
      "n=6,d=31,n_circuit=4,n_gen=10\n",
      "n=6,d=32,n_circuit=4,n_gen=10\n",
      "n=6,d=33,n_circuit=4,n_gen=10\n",
      "n=6,d=34,n_circuit=4,n_gen=10\n",
      "n=6,d=35,n_circuit=4,n_gen=10\n",
      "n=6,d=36,n_circuit=4,n_gen=10\n",
      "n=6,d=37,n_circuit=4,n_gen=10\n",
      "n=6,d=38,n_circuit=4,n_gen=10\n",
      "n=6,d=39,n_circuit=4,n_gen=10\n",
      "n=6,d=30,n_circuit=4,n_gen=20\n",
      "n=6,d=31,n_circuit=4,n_gen=20\n",
      "n=6,d=32,n_circuit=4,n_gen=20\n",
      "n=6,d=33,n_circuit=4,n_gen=20\n",
      "n=6,d=34,n_circuit=4,n_gen=20\n",
      "n=6,d=30,n_circuit=8,n_gen=10\n",
      "n=6,d=31,n_circuit=8,n_gen=10\n",
      "n=6,d=32,n_circuit=8,n_gen=10\n",
      "n=6,d=33,n_circuit=8,n_gen=10\n",
      "n=6,d=34,n_circuit=8,n_gen=10\n",
      "n=6,d=35,n_circuit=8,n_gen=10\n",
      "n=6,d=36,n_circuit=8,n_gen=10\n",
      "n=6,d=37,n_circuit=8,n_gen=10\n",
      "n=6,d=38,n_circuit=8,n_gen=10\n",
      "n=6,d=39,n_circuit=8,n_gen=10\n",
      "n=6,d=30,n_circuit=8,n_gen=20\n",
      "n=6,d=31,n_circuit=8,n_gen=20\n",
      "n=6,d=32,n_circuit=8,n_gen=20\n",
      "n=6,d=33,n_circuit=8,n_gen=20\n",
      "n=6,d=34,n_circuit=8,n_gen=20\n",
      "n=6,d=30,n_circuit=16,n_gen=10\n",
      "n=6,d=31,n_circuit=16,n_gen=10\n",
      "n=6,d=32,n_circuit=16,n_gen=10\n",
      "n=6,d=33,n_circuit=16,n_gen=10\n",
      "n=6,d=34,n_circuit=16,n_gen=10\n",
      "n=6,d=35,n_circuit=16,n_gen=10\n",
      "n=6,d=36,n_circuit=16,n_gen=10\n",
      "n=6,d=37,n_circuit=16,n_gen=10\n",
      "n=6,d=38,n_circuit=16,n_gen=10\n",
      "n=6,d=39,n_circuit=16,n_gen=10\n",
      "n=6,d=30,n_circuit=16,n_gen=20\n",
      "n=6,d=31,n_circuit=16,n_gen=20\n",
      "n=6,d=32,n_circuit=16,n_gen=20\n",
      "n=6,d=33,n_circuit=16,n_gen=20\n",
      "n=6,d=30,n_circuit=32,n_gen=10\n",
      "n=6,d=31,n_circuit=32,n_gen=10\n",
      "n=6,d=32,n_circuit=32,n_gen=10\n",
      "n=6,d=33,n_circuit=32,n_gen=10\n",
      "n=6,d=34,n_circuit=32,n_gen=10\n",
      "n=6,d=35,n_circuit=32,n_gen=10\n",
      "n=6,d=36,n_circuit=32,n_gen=10\n",
      "n=6,d=37,n_circuit=32,n_gen=10\n",
      "n=6,d=38,n_circuit=32,n_gen=10\n",
      "n=6,d=39,n_circuit=32,n_gen=10\n",
      "n=6,d=30,n_circuit=32,n_gen=20\n"
     ]
    }
   ],
   "source": [
    "# create an empty csv file has columns: n,depth,n_circuit,n_gen,risk\n",
    "# n = 2,3,4,5,6\n",
    "# depth = 2,3,4, ...\n",
    "# n_circuit = 4,8,16,32, ...\n",
    "# n_gen = 10,20,30, ...\n",
    "# risk = 0.1,0.2,0.3, ...\n",
    "\n",
    "def changeCost(n, d, n_circuit, n_gen, cost):\n",
    "    df = pd.read_csv('cost.csv')\n",
    "    filtered_df = df[(df['n'] == n) & (df['d'] == d) & (df['n_circuit'] == n_circuit) & (df['n_gen'] == n_gen)]\n",
    "    row_index = filtered_df.index.tolist()[0]\n",
    "    if df.loc[row_index]['cost'] == 0:\n",
    "        df.loc[row_index] = [n, d, n_circuit, n_gen, cost]\n",
    "        df.to_csv('cost.csv', index=False)\n",
    "    return\n",
    "\n",
    "import pandas as pd\n",
    "import csv\n",
    "\n",
    "ns = [2, 3, 4, 5, 6]\n",
    "num_circuits = [4, 8, 16, 32]\n",
    "num_generations = [10, 20, 30, 40, 50]\n",
    "for n in ns:\n",
    "    for n_circuit in num_circuits:\n",
    "        for n_gen in num_generations:\n",
    "            if n == 2:\n",
    "                depths = list(range(2, 4))\n",
    "            elif n == 3:\n",
    "                depths = list(range(5, 15))\n",
    "            elif n == 4:\n",
    "                depths = list(range(5, 30))\n",
    "            elif n == 5:\n",
    "                depths = list(range(5, 50))\n",
    "            elif n == 6:\n",
    "                depths = list(range(30, 70))\n",
    "            for d in depths:\n",
    "                if os.path.isdir(f'n={n},d={d},n_circuit={n_circuit},n_gen={n_gen}'):\n",
    "                    print(f'n={n},d={d},n_circuit={n_circuit},n_gen={n_gen}')\n",
    "                    envx = EEnvironment.load(f'n={n},d={d},n_circuit={n_circuit},n_gen={n_gen}', None)\n",
    "                    best_fitness = (np.max(envx.metadata.best_fitnesss))\n",
    "                    changeCost(n, d, n_circuit, n_gen, best_fitness)\n"
   ]
  },
  {
   "cell_type": "markdown",
   "metadata": {},
   "source": [
    "### Check remaining cases"
   ]
  },
  {
   "cell_type": "code",
   "execution_count": 248,
   "metadata": {},
   "outputs": [
    {
     "name": "stdout",
     "output_type": "stream",
     "text": [
      "n=4,d=8,n_circuit=4,n_gen=10\n",
      "n=5,d=7,n_circuit=4,n_gen=10\n",
      "n=5,d=8,n_circuit=4,n_gen=10\n",
      "n=5,d=9,n_circuit=4,n_gen=10\n",
      "n=5,d=10,n_circuit=4,n_gen=10\n",
      "n=5,d=11,n_circuit=4,n_gen=10\n",
      "n=5,d=12,n_circuit=4,n_gen=10\n",
      "n=5,d=13,n_circuit=4,n_gen=10\n",
      "n=5,d=14,n_circuit=4,n_gen=10\n",
      "n=5,d=15,n_circuit=4,n_gen=10\n",
      "n=5,d=16,n_circuit=4,n_gen=10\n",
      "n=5,d=17,n_circuit=4,n_gen=10\n",
      "n=5,d=18,n_circuit=4,n_gen=10\n",
      "n=5,d=19,n_circuit=4,n_gen=10\n",
      "n=5,d=6,n_circuit=4,n_gen=20\n",
      "n=5,d=7,n_circuit=4,n_gen=20\n",
      "n=5,d=8,n_circuit=4,n_gen=20\n",
      "n=5,d=9,n_circuit=4,n_gen=20\n",
      "n=5,d=10,n_circuit=4,n_gen=20\n",
      "n=5,d=11,n_circuit=4,n_gen=20\n",
      "n=5,d=12,n_circuit=4,n_gen=20\n",
      "n=5,d=13,n_circuit=4,n_gen=20\n",
      "n=5,d=14,n_circuit=4,n_gen=20\n",
      "n=5,d=15,n_circuit=4,n_gen=20\n",
      "n=5,d=16,n_circuit=4,n_gen=20\n",
      "n=5,d=17,n_circuit=4,n_gen=20\n",
      "n=5,d=18,n_circuit=4,n_gen=20\n",
      "n=5,d=19,n_circuit=4,n_gen=20\n",
      "n=5,d=37,n_circuit=4,n_gen=20\n",
      "n=5,d=38,n_circuit=4,n_gen=20\n",
      "n=5,d=39,n_circuit=4,n_gen=20\n",
      "n=5,d=6,n_circuit=4,n_gen=30\n",
      "n=5,d=7,n_circuit=4,n_gen=30\n",
      "n=5,d=8,n_circuit=4,n_gen=30\n",
      "n=5,d=9,n_circuit=4,n_gen=30\n",
      "n=5,d=10,n_circuit=4,n_gen=30\n",
      "n=5,d=11,n_circuit=4,n_gen=30\n",
      "n=5,d=12,n_circuit=4,n_gen=30\n",
      "n=5,d=13,n_circuit=4,n_gen=30\n",
      "n=5,d=14,n_circuit=4,n_gen=30\n",
      "n=5,d=15,n_circuit=4,n_gen=30\n",
      "n=5,d=16,n_circuit=4,n_gen=30\n",
      "n=5,d=17,n_circuit=4,n_gen=30\n",
      "n=5,d=18,n_circuit=4,n_gen=30\n",
      "n=5,d=19,n_circuit=4,n_gen=30\n",
      "n=5,d=30,n_circuit=4,n_gen=30\n",
      "n=5,d=31,n_circuit=4,n_gen=30\n",
      "n=5,d=32,n_circuit=4,n_gen=30\n",
      "n=5,d=33,n_circuit=4,n_gen=30\n",
      "n=5,d=34,n_circuit=4,n_gen=30\n",
      "n=5,d=35,n_circuit=4,n_gen=30\n",
      "n=5,d=36,n_circuit=4,n_gen=30\n",
      "n=5,d=37,n_circuit=4,n_gen=30\n",
      "n=5,d=38,n_circuit=4,n_gen=30\n",
      "n=5,d=39,n_circuit=4,n_gen=30\n",
      "n=5,d=6,n_circuit=4,n_gen=40\n",
      "n=5,d=7,n_circuit=4,n_gen=40\n",
      "n=5,d=8,n_circuit=4,n_gen=40\n",
      "n=5,d=9,n_circuit=4,n_gen=40\n",
      "n=5,d=10,n_circuit=4,n_gen=40\n",
      "n=5,d=11,n_circuit=4,n_gen=40\n",
      "n=5,d=12,n_circuit=4,n_gen=40\n",
      "n=5,d=13,n_circuit=4,n_gen=40\n",
      "n=5,d=14,n_circuit=4,n_gen=40\n",
      "n=5,d=15,n_circuit=4,n_gen=40\n",
      "n=5,d=16,n_circuit=4,n_gen=40\n",
      "n=5,d=17,n_circuit=4,n_gen=40\n",
      "n=5,d=18,n_circuit=4,n_gen=40\n",
      "n=5,d=19,n_circuit=4,n_gen=40\n",
      "n=5,d=30,n_circuit=4,n_gen=40\n",
      "n=5,d=31,n_circuit=4,n_gen=40\n",
      "n=5,d=32,n_circuit=4,n_gen=40\n",
      "n=5,d=33,n_circuit=4,n_gen=40\n",
      "n=5,d=34,n_circuit=4,n_gen=40\n",
      "n=5,d=35,n_circuit=4,n_gen=40\n",
      "n=5,d=36,n_circuit=4,n_gen=40\n",
      "n=5,d=37,n_circuit=4,n_gen=40\n",
      "n=5,d=38,n_circuit=4,n_gen=40\n",
      "n=5,d=39,n_circuit=4,n_gen=40\n",
      "n=5,d=6,n_circuit=4,n_gen=50\n",
      "n=5,d=7,n_circuit=4,n_gen=50\n",
      "n=5,d=8,n_circuit=4,n_gen=50\n",
      "n=5,d=9,n_circuit=4,n_gen=50\n",
      "n=5,d=10,n_circuit=4,n_gen=50\n",
      "n=5,d=11,n_circuit=4,n_gen=50\n",
      "n=5,d=12,n_circuit=4,n_gen=50\n",
      "n=5,d=13,n_circuit=4,n_gen=50\n",
      "n=5,d=14,n_circuit=4,n_gen=50\n",
      "n=5,d=15,n_circuit=4,n_gen=50\n",
      "n=5,d=16,n_circuit=4,n_gen=50\n",
      "n=5,d=17,n_circuit=4,n_gen=50\n",
      "n=5,d=18,n_circuit=4,n_gen=50\n",
      "n=5,d=19,n_circuit=4,n_gen=50\n",
      "n=5,d=30,n_circuit=4,n_gen=50\n",
      "n=5,d=31,n_circuit=4,n_gen=50\n",
      "n=5,d=32,n_circuit=4,n_gen=50\n",
      "n=5,d=33,n_circuit=4,n_gen=50\n",
      "n=5,d=34,n_circuit=4,n_gen=50\n",
      "n=5,d=35,n_circuit=4,n_gen=50\n",
      "n=5,d=36,n_circuit=4,n_gen=50\n",
      "n=5,d=37,n_circuit=4,n_gen=50\n",
      "n=5,d=38,n_circuit=4,n_gen=50\n",
      "n=5,d=39,n_circuit=4,n_gen=50\n",
      "n=5,d=7,n_circuit=8,n_gen=10\n",
      "n=5,d=8,n_circuit=8,n_gen=10\n",
      "n=5,d=9,n_circuit=8,n_gen=10\n",
      "n=5,d=10,n_circuit=8,n_gen=10\n",
      "n=5,d=11,n_circuit=8,n_gen=10\n",
      "n=5,d=12,n_circuit=8,n_gen=10\n",
      "n=5,d=13,n_circuit=8,n_gen=10\n",
      "n=5,d=14,n_circuit=8,n_gen=10\n",
      "n=5,d=15,n_circuit=8,n_gen=10\n",
      "n=5,d=16,n_circuit=8,n_gen=10\n",
      "n=5,d=17,n_circuit=8,n_gen=10\n",
      "n=5,d=18,n_circuit=8,n_gen=10\n",
      "n=5,d=19,n_circuit=8,n_gen=10\n",
      "n=5,d=6,n_circuit=8,n_gen=20\n",
      "n=5,d=7,n_circuit=8,n_gen=20\n",
      "n=5,d=8,n_circuit=8,n_gen=20\n",
      "n=5,d=9,n_circuit=8,n_gen=20\n",
      "n=5,d=10,n_circuit=8,n_gen=20\n",
      "n=5,d=11,n_circuit=8,n_gen=20\n",
      "n=5,d=12,n_circuit=8,n_gen=20\n",
      "n=5,d=13,n_circuit=8,n_gen=20\n",
      "n=5,d=14,n_circuit=8,n_gen=20\n",
      "n=5,d=15,n_circuit=8,n_gen=20\n",
      "n=5,d=16,n_circuit=8,n_gen=20\n",
      "n=5,d=17,n_circuit=8,n_gen=20\n",
      "n=5,d=18,n_circuit=8,n_gen=20\n",
      "n=5,d=19,n_circuit=8,n_gen=20\n",
      "n=5,d=37,n_circuit=8,n_gen=20\n",
      "n=5,d=38,n_circuit=8,n_gen=20\n",
      "n=5,d=39,n_circuit=8,n_gen=20\n",
      "n=5,d=6,n_circuit=8,n_gen=30\n",
      "n=5,d=7,n_circuit=8,n_gen=30\n",
      "n=5,d=8,n_circuit=8,n_gen=30\n",
      "n=5,d=9,n_circuit=8,n_gen=30\n",
      "n=5,d=10,n_circuit=8,n_gen=30\n",
      "n=5,d=11,n_circuit=8,n_gen=30\n",
      "n=5,d=12,n_circuit=8,n_gen=30\n",
      "n=5,d=13,n_circuit=8,n_gen=30\n",
      "n=5,d=14,n_circuit=8,n_gen=30\n",
      "n=5,d=15,n_circuit=8,n_gen=30\n",
      "n=5,d=16,n_circuit=8,n_gen=30\n",
      "n=5,d=17,n_circuit=8,n_gen=30\n",
      "n=5,d=18,n_circuit=8,n_gen=30\n",
      "n=5,d=19,n_circuit=8,n_gen=30\n",
      "n=5,d=30,n_circuit=8,n_gen=30\n",
      "n=5,d=31,n_circuit=8,n_gen=30\n",
      "n=5,d=32,n_circuit=8,n_gen=30\n",
      "n=5,d=33,n_circuit=8,n_gen=30\n",
      "n=5,d=34,n_circuit=8,n_gen=30\n",
      "n=5,d=35,n_circuit=8,n_gen=30\n",
      "n=5,d=36,n_circuit=8,n_gen=30\n",
      "n=5,d=37,n_circuit=8,n_gen=30\n",
      "n=5,d=38,n_circuit=8,n_gen=30\n",
      "n=5,d=39,n_circuit=8,n_gen=30\n",
      "n=5,d=6,n_circuit=8,n_gen=40\n",
      "n=5,d=7,n_circuit=8,n_gen=40\n",
      "n=5,d=8,n_circuit=8,n_gen=40\n",
      "n=5,d=9,n_circuit=8,n_gen=40\n",
      "n=5,d=10,n_circuit=8,n_gen=40\n",
      "n=5,d=11,n_circuit=8,n_gen=40\n",
      "n=5,d=12,n_circuit=8,n_gen=40\n",
      "n=5,d=13,n_circuit=8,n_gen=40\n",
      "n=5,d=14,n_circuit=8,n_gen=40\n",
      "n=5,d=15,n_circuit=8,n_gen=40\n",
      "n=5,d=16,n_circuit=8,n_gen=40\n",
      "n=5,d=17,n_circuit=8,n_gen=40\n",
      "n=5,d=18,n_circuit=8,n_gen=40\n",
      "n=5,d=19,n_circuit=8,n_gen=40\n",
      "n=5,d=30,n_circuit=8,n_gen=40\n",
      "n=5,d=31,n_circuit=8,n_gen=40\n",
      "n=5,d=32,n_circuit=8,n_gen=40\n",
      "n=5,d=33,n_circuit=8,n_gen=40\n",
      "n=5,d=34,n_circuit=8,n_gen=40\n",
      "n=5,d=35,n_circuit=8,n_gen=40\n",
      "n=5,d=36,n_circuit=8,n_gen=40\n",
      "n=5,d=37,n_circuit=8,n_gen=40\n",
      "n=5,d=38,n_circuit=8,n_gen=40\n",
      "n=5,d=39,n_circuit=8,n_gen=40\n",
      "n=5,d=6,n_circuit=8,n_gen=50\n",
      "n=5,d=7,n_circuit=8,n_gen=50\n",
      "n=5,d=8,n_circuit=8,n_gen=50\n",
      "n=5,d=9,n_circuit=8,n_gen=50\n",
      "n=5,d=10,n_circuit=8,n_gen=50\n",
      "n=5,d=11,n_circuit=8,n_gen=50\n",
      "n=5,d=12,n_circuit=8,n_gen=50\n",
      "n=5,d=13,n_circuit=8,n_gen=50\n",
      "n=5,d=14,n_circuit=8,n_gen=50\n",
      "n=5,d=15,n_circuit=8,n_gen=50\n",
      "n=5,d=16,n_circuit=8,n_gen=50\n",
      "n=5,d=17,n_circuit=8,n_gen=50\n",
      "n=5,d=18,n_circuit=8,n_gen=50\n",
      "n=5,d=19,n_circuit=8,n_gen=50\n",
      "n=5,d=30,n_circuit=8,n_gen=50\n",
      "n=5,d=31,n_circuit=8,n_gen=50\n",
      "n=5,d=32,n_circuit=8,n_gen=50\n",
      "n=5,d=33,n_circuit=8,n_gen=50\n",
      "n=5,d=34,n_circuit=8,n_gen=50\n",
      "n=5,d=35,n_circuit=8,n_gen=50\n",
      "n=5,d=36,n_circuit=8,n_gen=50\n",
      "n=5,d=37,n_circuit=8,n_gen=50\n",
      "n=5,d=38,n_circuit=8,n_gen=50\n",
      "n=5,d=39,n_circuit=8,n_gen=50\n",
      "n=5,d=7,n_circuit=16,n_gen=10\n",
      "n=5,d=8,n_circuit=16,n_gen=10\n",
      "n=5,d=9,n_circuit=16,n_gen=10\n",
      "n=5,d=10,n_circuit=16,n_gen=10\n",
      "n=5,d=11,n_circuit=16,n_gen=10\n",
      "n=5,d=12,n_circuit=16,n_gen=10\n",
      "n=5,d=13,n_circuit=16,n_gen=10\n",
      "n=5,d=14,n_circuit=16,n_gen=10\n",
      "n=5,d=15,n_circuit=16,n_gen=10\n",
      "n=5,d=16,n_circuit=16,n_gen=10\n",
      "n=5,d=17,n_circuit=16,n_gen=10\n",
      "n=5,d=18,n_circuit=16,n_gen=10\n",
      "n=5,d=19,n_circuit=16,n_gen=10\n",
      "n=5,d=6,n_circuit=16,n_gen=20\n",
      "n=5,d=7,n_circuit=16,n_gen=20\n",
      "n=5,d=8,n_circuit=16,n_gen=20\n",
      "n=5,d=9,n_circuit=16,n_gen=20\n",
      "n=5,d=10,n_circuit=16,n_gen=20\n",
      "n=5,d=11,n_circuit=16,n_gen=20\n",
      "n=5,d=12,n_circuit=16,n_gen=20\n",
      "n=5,d=13,n_circuit=16,n_gen=20\n",
      "n=5,d=14,n_circuit=16,n_gen=20\n",
      "n=5,d=15,n_circuit=16,n_gen=20\n",
      "n=5,d=16,n_circuit=16,n_gen=20\n",
      "n=5,d=17,n_circuit=16,n_gen=20\n",
      "n=5,d=18,n_circuit=16,n_gen=20\n",
      "n=5,d=19,n_circuit=16,n_gen=20\n",
      "n=5,d=36,n_circuit=16,n_gen=20\n",
      "n=5,d=37,n_circuit=16,n_gen=20\n",
      "n=5,d=38,n_circuit=16,n_gen=20\n",
      "n=5,d=39,n_circuit=16,n_gen=20\n",
      "n=5,d=6,n_circuit=16,n_gen=30\n",
      "n=5,d=7,n_circuit=16,n_gen=30\n",
      "n=5,d=8,n_circuit=16,n_gen=30\n",
      "n=5,d=9,n_circuit=16,n_gen=30\n",
      "n=5,d=10,n_circuit=16,n_gen=30\n",
      "n=5,d=11,n_circuit=16,n_gen=30\n",
      "n=5,d=12,n_circuit=16,n_gen=30\n",
      "n=5,d=13,n_circuit=16,n_gen=30\n",
      "n=5,d=14,n_circuit=16,n_gen=30\n",
      "n=5,d=15,n_circuit=16,n_gen=30\n",
      "n=5,d=16,n_circuit=16,n_gen=30\n",
      "n=5,d=17,n_circuit=16,n_gen=30\n",
      "n=5,d=18,n_circuit=16,n_gen=30\n",
      "n=5,d=19,n_circuit=16,n_gen=30\n",
      "n=5,d=30,n_circuit=16,n_gen=30\n",
      "n=5,d=31,n_circuit=16,n_gen=30\n",
      "n=5,d=32,n_circuit=16,n_gen=30\n",
      "n=5,d=33,n_circuit=16,n_gen=30\n",
      "n=5,d=34,n_circuit=16,n_gen=30\n",
      "n=5,d=35,n_circuit=16,n_gen=30\n",
      "n=5,d=36,n_circuit=16,n_gen=30\n",
      "n=5,d=37,n_circuit=16,n_gen=30\n",
      "n=5,d=38,n_circuit=16,n_gen=30\n",
      "n=5,d=39,n_circuit=16,n_gen=30\n",
      "n=5,d=6,n_circuit=16,n_gen=40\n",
      "n=5,d=7,n_circuit=16,n_gen=40\n",
      "n=5,d=8,n_circuit=16,n_gen=40\n",
      "n=5,d=9,n_circuit=16,n_gen=40\n",
      "n=5,d=10,n_circuit=16,n_gen=40\n",
      "n=5,d=11,n_circuit=16,n_gen=40\n",
      "n=5,d=12,n_circuit=16,n_gen=40\n",
      "n=5,d=13,n_circuit=16,n_gen=40\n",
      "n=5,d=14,n_circuit=16,n_gen=40\n",
      "n=5,d=15,n_circuit=16,n_gen=40\n",
      "n=5,d=16,n_circuit=16,n_gen=40\n",
      "n=5,d=17,n_circuit=16,n_gen=40\n",
      "n=5,d=18,n_circuit=16,n_gen=40\n",
      "n=5,d=19,n_circuit=16,n_gen=40\n",
      "n=5,d=30,n_circuit=16,n_gen=40\n",
      "n=5,d=31,n_circuit=16,n_gen=40\n",
      "n=5,d=32,n_circuit=16,n_gen=40\n",
      "n=5,d=33,n_circuit=16,n_gen=40\n",
      "n=5,d=34,n_circuit=16,n_gen=40\n",
      "n=5,d=35,n_circuit=16,n_gen=40\n",
      "n=5,d=36,n_circuit=16,n_gen=40\n",
      "n=5,d=37,n_circuit=16,n_gen=40\n",
      "n=5,d=38,n_circuit=16,n_gen=40\n",
      "n=5,d=39,n_circuit=16,n_gen=40\n",
      "n=5,d=6,n_circuit=16,n_gen=50\n",
      "n=5,d=7,n_circuit=16,n_gen=50\n",
      "n=5,d=8,n_circuit=16,n_gen=50\n",
      "n=5,d=9,n_circuit=16,n_gen=50\n",
      "n=5,d=10,n_circuit=16,n_gen=50\n",
      "n=5,d=11,n_circuit=16,n_gen=50\n",
      "n=5,d=12,n_circuit=16,n_gen=50\n",
      "n=5,d=13,n_circuit=16,n_gen=50\n",
      "n=5,d=14,n_circuit=16,n_gen=50\n",
      "n=5,d=15,n_circuit=16,n_gen=50\n",
      "n=5,d=16,n_circuit=16,n_gen=50\n",
      "n=5,d=17,n_circuit=16,n_gen=50\n",
      "n=5,d=18,n_circuit=16,n_gen=50\n",
      "n=5,d=19,n_circuit=16,n_gen=50\n",
      "n=5,d=30,n_circuit=16,n_gen=50\n",
      "n=5,d=31,n_circuit=16,n_gen=50\n",
      "n=5,d=32,n_circuit=16,n_gen=50\n",
      "n=5,d=33,n_circuit=16,n_gen=50\n",
      "n=5,d=34,n_circuit=16,n_gen=50\n",
      "n=5,d=35,n_circuit=16,n_gen=50\n",
      "n=5,d=36,n_circuit=16,n_gen=50\n",
      "n=5,d=37,n_circuit=16,n_gen=50\n",
      "n=5,d=38,n_circuit=16,n_gen=50\n",
      "n=5,d=39,n_circuit=16,n_gen=50\n",
      "n=5,d=6,n_circuit=32,n_gen=10\n",
      "n=5,d=7,n_circuit=32,n_gen=10\n",
      "n=5,d=8,n_circuit=32,n_gen=10\n",
      "n=5,d=9,n_circuit=32,n_gen=10\n",
      "n=5,d=10,n_circuit=32,n_gen=10\n",
      "n=5,d=11,n_circuit=32,n_gen=10\n",
      "n=5,d=12,n_circuit=32,n_gen=10\n",
      "n=5,d=13,n_circuit=32,n_gen=10\n",
      "n=5,d=14,n_circuit=32,n_gen=10\n",
      "n=5,d=15,n_circuit=32,n_gen=10\n",
      "n=5,d=16,n_circuit=32,n_gen=10\n",
      "n=5,d=17,n_circuit=32,n_gen=10\n",
      "n=5,d=18,n_circuit=32,n_gen=10\n",
      "n=5,d=19,n_circuit=32,n_gen=10\n",
      "n=5,d=6,n_circuit=32,n_gen=20\n",
      "n=5,d=7,n_circuit=32,n_gen=20\n",
      "n=5,d=8,n_circuit=32,n_gen=20\n",
      "n=5,d=9,n_circuit=32,n_gen=20\n",
      "n=5,d=10,n_circuit=32,n_gen=20\n",
      "n=5,d=11,n_circuit=32,n_gen=20\n",
      "n=5,d=12,n_circuit=32,n_gen=20\n",
      "n=5,d=13,n_circuit=32,n_gen=20\n",
      "n=5,d=14,n_circuit=32,n_gen=20\n",
      "n=5,d=15,n_circuit=32,n_gen=20\n",
      "n=5,d=16,n_circuit=32,n_gen=20\n",
      "n=5,d=17,n_circuit=32,n_gen=20\n",
      "n=5,d=18,n_circuit=32,n_gen=20\n",
      "n=5,d=19,n_circuit=32,n_gen=20\n",
      "n=5,d=35,n_circuit=32,n_gen=20\n",
      "n=5,d=36,n_circuit=32,n_gen=20\n",
      "n=5,d=37,n_circuit=32,n_gen=20\n",
      "n=5,d=38,n_circuit=32,n_gen=20\n",
      "n=5,d=39,n_circuit=32,n_gen=20\n",
      "n=5,d=6,n_circuit=32,n_gen=30\n",
      "n=5,d=7,n_circuit=32,n_gen=30\n",
      "n=5,d=8,n_circuit=32,n_gen=30\n",
      "n=5,d=9,n_circuit=32,n_gen=30\n",
      "n=5,d=10,n_circuit=32,n_gen=30\n",
      "n=5,d=11,n_circuit=32,n_gen=30\n",
      "n=5,d=12,n_circuit=32,n_gen=30\n",
      "n=5,d=13,n_circuit=32,n_gen=30\n",
      "n=5,d=14,n_circuit=32,n_gen=30\n",
      "n=5,d=15,n_circuit=32,n_gen=30\n",
      "n=5,d=16,n_circuit=32,n_gen=30\n",
      "n=5,d=17,n_circuit=32,n_gen=30\n",
      "n=5,d=18,n_circuit=32,n_gen=30\n",
      "n=5,d=19,n_circuit=32,n_gen=30\n",
      "n=5,d=30,n_circuit=32,n_gen=30\n",
      "n=5,d=31,n_circuit=32,n_gen=30\n",
      "n=5,d=32,n_circuit=32,n_gen=30\n",
      "n=5,d=33,n_circuit=32,n_gen=30\n",
      "n=5,d=34,n_circuit=32,n_gen=30\n",
      "n=5,d=35,n_circuit=32,n_gen=30\n",
      "n=5,d=36,n_circuit=32,n_gen=30\n",
      "n=5,d=37,n_circuit=32,n_gen=30\n",
      "n=5,d=38,n_circuit=32,n_gen=30\n",
      "n=5,d=39,n_circuit=32,n_gen=30\n",
      "n=5,d=5,n_circuit=32,n_gen=40\n",
      "n=5,d=6,n_circuit=32,n_gen=40\n",
      "n=5,d=7,n_circuit=32,n_gen=40\n",
      "n=5,d=8,n_circuit=32,n_gen=40\n",
      "n=5,d=9,n_circuit=32,n_gen=40\n",
      "n=5,d=10,n_circuit=32,n_gen=40\n",
      "n=5,d=11,n_circuit=32,n_gen=40\n",
      "n=5,d=12,n_circuit=32,n_gen=40\n",
      "n=5,d=13,n_circuit=32,n_gen=40\n",
      "n=5,d=14,n_circuit=32,n_gen=40\n",
      "n=5,d=15,n_circuit=32,n_gen=40\n",
      "n=5,d=16,n_circuit=32,n_gen=40\n",
      "n=5,d=17,n_circuit=32,n_gen=40\n",
      "n=5,d=18,n_circuit=32,n_gen=40\n",
      "n=5,d=19,n_circuit=32,n_gen=40\n",
      "n=5,d=30,n_circuit=32,n_gen=40\n",
      "n=5,d=31,n_circuit=32,n_gen=40\n",
      "n=5,d=32,n_circuit=32,n_gen=40\n",
      "n=5,d=33,n_circuit=32,n_gen=40\n",
      "n=5,d=34,n_circuit=32,n_gen=40\n",
      "n=5,d=35,n_circuit=32,n_gen=40\n",
      "n=5,d=36,n_circuit=32,n_gen=40\n",
      "n=5,d=37,n_circuit=32,n_gen=40\n",
      "n=5,d=38,n_circuit=32,n_gen=40\n",
      "n=5,d=39,n_circuit=32,n_gen=40\n",
      "n=5,d=5,n_circuit=32,n_gen=50\n",
      "n=5,d=6,n_circuit=32,n_gen=50\n",
      "n=5,d=7,n_circuit=32,n_gen=50\n",
      "n=5,d=8,n_circuit=32,n_gen=50\n",
      "n=5,d=9,n_circuit=32,n_gen=50\n",
      "n=5,d=10,n_circuit=32,n_gen=50\n",
      "n=5,d=11,n_circuit=32,n_gen=50\n",
      "n=5,d=12,n_circuit=32,n_gen=50\n",
      "n=5,d=13,n_circuit=32,n_gen=50\n",
      "n=5,d=14,n_circuit=32,n_gen=50\n",
      "n=5,d=15,n_circuit=32,n_gen=50\n",
      "n=5,d=16,n_circuit=32,n_gen=50\n",
      "n=5,d=17,n_circuit=32,n_gen=50\n",
      "n=5,d=18,n_circuit=32,n_gen=50\n",
      "n=5,d=19,n_circuit=32,n_gen=50\n",
      "n=5,d=30,n_circuit=32,n_gen=50\n",
      "n=5,d=31,n_circuit=32,n_gen=50\n",
      "n=5,d=32,n_circuit=32,n_gen=50\n",
      "n=5,d=33,n_circuit=32,n_gen=50\n",
      "n=5,d=34,n_circuit=32,n_gen=50\n",
      "n=5,d=35,n_circuit=32,n_gen=50\n",
      "n=5,d=36,n_circuit=32,n_gen=50\n",
      "n=5,d=37,n_circuit=32,n_gen=50\n",
      "n=5,d=38,n_circuit=32,n_gen=50\n",
      "n=5,d=39,n_circuit=32,n_gen=50\n",
      "n=6,d=38,n_circuit=4,n_gen=30\n",
      "n=6,d=39,n_circuit=4,n_gen=30\n",
      "n=6,d=22,n_circuit=4,n_gen=40\n",
      "n=6,d=23,n_circuit=4,n_gen=40\n",
      "n=6,d=24,n_circuit=4,n_gen=40\n",
      "n=6,d=25,n_circuit=4,n_gen=40\n",
      "n=6,d=26,n_circuit=4,n_gen=40\n",
      "n=6,d=27,n_circuit=4,n_gen=40\n",
      "n=6,d=28,n_circuit=4,n_gen=40\n",
      "n=6,d=29,n_circuit=4,n_gen=40\n",
      "n=6,d=30,n_circuit=4,n_gen=40\n",
      "n=6,d=31,n_circuit=4,n_gen=40\n",
      "n=6,d=32,n_circuit=4,n_gen=40\n",
      "n=6,d=33,n_circuit=4,n_gen=40\n",
      "n=6,d=34,n_circuit=4,n_gen=40\n",
      "n=6,d=35,n_circuit=4,n_gen=40\n",
      "n=6,d=36,n_circuit=4,n_gen=40\n",
      "n=6,d=37,n_circuit=4,n_gen=40\n",
      "n=6,d=38,n_circuit=4,n_gen=40\n",
      "n=6,d=39,n_circuit=4,n_gen=40\n",
      "n=6,d=21,n_circuit=4,n_gen=50\n",
      "n=6,d=22,n_circuit=4,n_gen=50\n",
      "n=6,d=23,n_circuit=4,n_gen=50\n",
      "n=6,d=24,n_circuit=4,n_gen=50\n",
      "n=6,d=25,n_circuit=4,n_gen=50\n",
      "n=6,d=26,n_circuit=4,n_gen=50\n",
      "n=6,d=27,n_circuit=4,n_gen=50\n",
      "n=6,d=28,n_circuit=4,n_gen=50\n",
      "n=6,d=29,n_circuit=4,n_gen=50\n",
      "n=6,d=30,n_circuit=4,n_gen=50\n",
      "n=6,d=31,n_circuit=4,n_gen=50\n",
      "n=6,d=32,n_circuit=4,n_gen=50\n",
      "n=6,d=33,n_circuit=4,n_gen=50\n",
      "n=6,d=34,n_circuit=4,n_gen=50\n",
      "n=6,d=35,n_circuit=4,n_gen=50\n",
      "n=6,d=36,n_circuit=4,n_gen=50\n",
      "n=6,d=37,n_circuit=4,n_gen=50\n",
      "n=6,d=38,n_circuit=4,n_gen=50\n",
      "n=6,d=39,n_circuit=4,n_gen=50\n",
      "n=6,d=37,n_circuit=8,n_gen=30\n",
      "n=6,d=38,n_circuit=8,n_gen=30\n",
      "n=6,d=39,n_circuit=8,n_gen=30\n",
      "n=6,d=22,n_circuit=8,n_gen=40\n",
      "n=6,d=23,n_circuit=8,n_gen=40\n",
      "n=6,d=24,n_circuit=8,n_gen=40\n",
      "n=6,d=25,n_circuit=8,n_gen=40\n",
      "n=6,d=26,n_circuit=8,n_gen=40\n",
      "n=6,d=27,n_circuit=8,n_gen=40\n",
      "n=6,d=28,n_circuit=8,n_gen=40\n",
      "n=6,d=29,n_circuit=8,n_gen=40\n",
      "n=6,d=30,n_circuit=8,n_gen=40\n",
      "n=6,d=31,n_circuit=8,n_gen=40\n",
      "n=6,d=32,n_circuit=8,n_gen=40\n",
      "n=6,d=33,n_circuit=8,n_gen=40\n",
      "n=6,d=34,n_circuit=8,n_gen=40\n",
      "n=6,d=35,n_circuit=8,n_gen=40\n",
      "n=6,d=36,n_circuit=8,n_gen=40\n",
      "n=6,d=37,n_circuit=8,n_gen=40\n",
      "n=6,d=38,n_circuit=8,n_gen=40\n",
      "n=6,d=39,n_circuit=8,n_gen=40\n",
      "n=6,d=20,n_circuit=8,n_gen=50\n",
      "n=6,d=21,n_circuit=8,n_gen=50\n",
      "n=6,d=22,n_circuit=8,n_gen=50\n",
      "n=6,d=23,n_circuit=8,n_gen=50\n",
      "n=6,d=24,n_circuit=8,n_gen=50\n",
      "n=6,d=25,n_circuit=8,n_gen=50\n",
      "n=6,d=26,n_circuit=8,n_gen=50\n",
      "n=6,d=27,n_circuit=8,n_gen=50\n",
      "n=6,d=28,n_circuit=8,n_gen=50\n",
      "n=6,d=29,n_circuit=8,n_gen=50\n",
      "n=6,d=30,n_circuit=8,n_gen=50\n",
      "n=6,d=31,n_circuit=8,n_gen=50\n",
      "n=6,d=32,n_circuit=8,n_gen=50\n",
      "n=6,d=33,n_circuit=8,n_gen=50\n",
      "n=6,d=34,n_circuit=8,n_gen=50\n",
      "n=6,d=35,n_circuit=8,n_gen=50\n",
      "n=6,d=36,n_circuit=8,n_gen=50\n",
      "n=6,d=37,n_circuit=8,n_gen=50\n",
      "n=6,d=38,n_circuit=8,n_gen=50\n",
      "n=6,d=39,n_circuit=8,n_gen=50\n",
      "n=6,d=36,n_circuit=16,n_gen=30\n",
      "n=6,d=37,n_circuit=16,n_gen=30\n",
      "n=6,d=38,n_circuit=16,n_gen=30\n",
      "n=6,d=39,n_circuit=16,n_gen=30\n",
      "n=6,d=21,n_circuit=16,n_gen=40\n",
      "n=6,d=22,n_circuit=16,n_gen=40\n",
      "n=6,d=23,n_circuit=16,n_gen=40\n",
      "n=6,d=24,n_circuit=16,n_gen=40\n",
      "n=6,d=25,n_circuit=16,n_gen=40\n",
      "n=6,d=26,n_circuit=16,n_gen=40\n",
      "n=6,d=27,n_circuit=16,n_gen=40\n",
      "n=6,d=28,n_circuit=16,n_gen=40\n",
      "n=6,d=29,n_circuit=16,n_gen=40\n",
      "n=6,d=30,n_circuit=16,n_gen=40\n",
      "n=6,d=31,n_circuit=16,n_gen=40\n",
      "n=6,d=32,n_circuit=16,n_gen=40\n",
      "n=6,d=33,n_circuit=16,n_gen=40\n",
      "n=6,d=34,n_circuit=16,n_gen=40\n",
      "n=6,d=35,n_circuit=16,n_gen=40\n",
      "n=6,d=36,n_circuit=16,n_gen=40\n",
      "n=6,d=37,n_circuit=16,n_gen=40\n",
      "n=6,d=38,n_circuit=16,n_gen=40\n",
      "n=6,d=39,n_circuit=16,n_gen=40\n",
      "n=6,d=20,n_circuit=16,n_gen=50\n",
      "n=6,d=21,n_circuit=16,n_gen=50\n",
      "n=6,d=22,n_circuit=16,n_gen=50\n",
      "n=6,d=23,n_circuit=16,n_gen=50\n",
      "n=6,d=24,n_circuit=16,n_gen=50\n",
      "n=6,d=25,n_circuit=16,n_gen=50\n",
      "n=6,d=26,n_circuit=16,n_gen=50\n",
      "n=6,d=27,n_circuit=16,n_gen=50\n",
      "n=6,d=28,n_circuit=16,n_gen=50\n",
      "n=6,d=29,n_circuit=16,n_gen=50\n",
      "n=6,d=30,n_circuit=16,n_gen=50\n",
      "n=6,d=31,n_circuit=16,n_gen=50\n",
      "n=6,d=32,n_circuit=16,n_gen=50\n",
      "n=6,d=33,n_circuit=16,n_gen=50\n",
      "n=6,d=34,n_circuit=16,n_gen=50\n",
      "n=6,d=35,n_circuit=16,n_gen=50\n",
      "n=6,d=36,n_circuit=16,n_gen=50\n",
      "n=6,d=37,n_circuit=16,n_gen=50\n",
      "n=6,d=38,n_circuit=16,n_gen=50\n",
      "n=6,d=39,n_circuit=16,n_gen=50\n",
      "n=6,d=29,n_circuit=32,n_gen=30\n",
      "n=6,d=34,n_circuit=32,n_gen=30\n",
      "n=6,d=35,n_circuit=32,n_gen=30\n",
      "n=6,d=36,n_circuit=32,n_gen=30\n",
      "n=6,d=37,n_circuit=32,n_gen=30\n",
      "n=6,d=38,n_circuit=32,n_gen=30\n",
      "n=6,d=39,n_circuit=32,n_gen=30\n",
      "n=6,d=20,n_circuit=32,n_gen=40\n",
      "n=6,d=21,n_circuit=32,n_gen=40\n",
      "n=6,d=22,n_circuit=32,n_gen=40\n",
      "n=6,d=23,n_circuit=32,n_gen=40\n",
      "n=6,d=24,n_circuit=32,n_gen=40\n",
      "n=6,d=25,n_circuit=32,n_gen=40\n",
      "n=6,d=26,n_circuit=32,n_gen=40\n",
      "n=6,d=27,n_circuit=32,n_gen=40\n",
      "n=6,d=28,n_circuit=32,n_gen=40\n",
      "n=6,d=29,n_circuit=32,n_gen=40\n",
      "n=6,d=30,n_circuit=32,n_gen=40\n",
      "n=6,d=31,n_circuit=32,n_gen=40\n",
      "n=6,d=32,n_circuit=32,n_gen=40\n",
      "n=6,d=33,n_circuit=32,n_gen=40\n",
      "n=6,d=34,n_circuit=32,n_gen=40\n",
      "n=6,d=35,n_circuit=32,n_gen=40\n",
      "n=6,d=36,n_circuit=32,n_gen=40\n",
      "n=6,d=37,n_circuit=32,n_gen=40\n",
      "n=6,d=38,n_circuit=32,n_gen=40\n",
      "n=6,d=39,n_circuit=32,n_gen=40\n",
      "n=6,d=20,n_circuit=32,n_gen=50\n",
      "n=6,d=21,n_circuit=32,n_gen=50\n",
      "n=6,d=22,n_circuit=32,n_gen=50\n",
      "n=6,d=23,n_circuit=32,n_gen=50\n",
      "n=6,d=24,n_circuit=32,n_gen=50\n",
      "n=6,d=25,n_circuit=32,n_gen=50\n",
      "n=6,d=26,n_circuit=32,n_gen=50\n",
      "n=6,d=27,n_circuit=32,n_gen=50\n",
      "n=6,d=28,n_circuit=32,n_gen=50\n",
      "n=6,d=29,n_circuit=32,n_gen=50\n",
      "n=6,d=30,n_circuit=32,n_gen=50\n",
      "n=6,d=31,n_circuit=32,n_gen=50\n",
      "n=6,d=32,n_circuit=32,n_gen=50\n",
      "n=6,d=33,n_circuit=32,n_gen=50\n",
      "n=6,d=34,n_circuit=32,n_gen=50\n",
      "n=6,d=35,n_circuit=32,n_gen=50\n",
      "n=6,d=36,n_circuit=32,n_gen=50\n",
      "n=6,d=37,n_circuit=32,n_gen=50\n",
      "n=6,d=38,n_circuit=32,n_gen=50\n",
      "n=6,d=39,n_circuit=32,n_gen=50\n"
     ]
    }
   ],
   "source": [
    "for n in ns:\n",
    "    for n_circuit in num_circuits:\n",
    "        for n_gen in num_generations:\n",
    "            if n == 2:\n",
    "                depths = list(range(2, 4))\n",
    "            elif n == 3:\n",
    "                depths = list(range(5, 15))\n",
    "            elif n == 4:\n",
    "                depths = list(range(5, 30))\n",
    "            elif n == 5:\n",
    "                depths = list(range(5, 40))\n",
    "            elif n == 6:\n",
    "                depths = list(range(20, 40))\n",
    "            for d in depths:\n",
    "                if os.path.isdir(f'n={n},d={d},n_circuit={n_circuit},n_gen={n_gen}') is False:\n",
    "                    print(f'n={n},d={d},n_circuit={n_circuit},n_gen={n_gen}')"
   ]
  },
  {
   "cell_type": "markdown",
   "metadata": {},
   "source": [
    "### Test"
   ]
  },
  {
   "cell_type": "code",
   "execution_count": 90,
   "metadata": {},
   "outputs": [],
   "source": [
    "def calculate_risk(utests, V):\n",
    "    num_qubits = V.num_qubits\n",
    "    # Create |0> state\n",
    "    zero_state = np.zeros((2**num_qubits, 1))\n",
    "    zero_state[0] = 1\n",
    "    # Create |0><0| matrix\n",
    "    zero_zero_dagger = np.outer(zero_state, np.conj(zero_state.T))\n",
    "    V_matrix = qi.DensityMatrix(V).data\n",
    "    risk = []\n",
    "    for utest in utests:\n",
    "        Ui_matrix = qi.DensityMatrix(utest).data\n",
    "        # Eq inside L1 norm of matrix ^2\n",
    "        eq = (Ui_matrix @ zero_zero_dagger @ np.conj(Ui_matrix.T) - V_matrix @ zero_zero_dagger @ np.conj(V_matrix.T))\n",
    "        # L1 norm of matrix ^ 2\n",
    "        risk.append(np.linalg.norm(eq, 1)**2)\n",
    "    # Expected risk / 4\n",
    "    return np.mean(risk)/4  "
   ]
  },
  {
   "cell_type": "code",
   "execution_count": 108,
   "metadata": {},
   "outputs": [
    {
     "data": {
      "text/plain": [
       "[0.054952000980109314,\n",
       " 0.002195700598173447,\n",
       " 0.03741560986824429,\n",
       " 0.0037338896586109173,\n",
       " 0.011207773320518529]"
      ]
     },
     "execution_count": 108,
     "metadata": {},
     "output_type": "execute_result"
    }
   ],
   "source": [
    "def changeRisk(n, d, n_circuit, n_gen, risks):\n",
    "    with open('risk.json', 'r') as file:\n",
    "        data = json.load(file)\n",
    "\n",
    "    # Update the data with the new key and list of values\n",
    "    data[f'n={n},d={d},n_circuit={n_circuit},n_gen={n_gen}'] = risks\n",
    "\n",
    "    # Open the JSON file in write mode ('w') and write the updated data\n",
    "    with open('risk.json', 'w') as file:\n",
    "        json.dump(data, file)\n",
    "    return\n",
    "def test(n, d, n_circuit, n_gen):\n",
    "    n_train = 20\n",
    "    utrains = []\n",
    "    for i in range(0, n_train):\n",
    "        utrain = state.haar(n)\n",
    "        utrains.append(utrain)\n",
    "    n_test = 10\n",
    "    utests = []\n",
    "    for i in range(0, n_test):\n",
    "        utest = state.haar(n)\n",
    "        utests.append(utest)\n",
    "    env = EEnvironment.load(f'n={n},d={d},n_circuit={n_circuit},n_gen={n_gen}', None)\n",
    "    best_circuit = env.best_circuit\n",
    "    risks = []\n",
    "    for i in range(0, n_train):\n",
    "        qsp = QuantumStatePreparation(\n",
    "            u=best_circuit,\n",
    "            target_state=utrains[i].inverse()\n",
    "        ).fit(num_steps=100)\n",
    "        risk = calculate_risk(utests, best_circuit.assign_parameters(qsp.thetas))\n",
    "        risks.append(risk)\n",
    "    changeRisk(n, d, n_circuit, n_gen, risks)\n",
    "    return risks\n",
    "\n",
    "# ns = [2, 3, 4, 5, 6]\n",
    "# num_circuits = [4, 8, 16, 32]\n",
    "# num_generations = [10, 20, 30, 40, 50]\n",
    "# for n in ns:\n",
    "#     for n_circuit in num_circuits:\n",
    "#         for n_gen in num_generations:\n",
    "#             if n == 2:\n",
    "#                 depths = list(range(2, 4))\n",
    "#             elif n == 3:\n",
    "#                 depths = list(range(5, 15))\n",
    "#             elif n == 4:\n",
    "#                 depths = list(range(10, 30))\n",
    "#             elif n == 5:\n",
    "#                 depths = list(range(20, 50))\n",
    "#             elif n == 6:\n",
    "#                 depths = list(range(30, 70))\n",
    "#             for d in depths:\n",
    "#                 if os.path.isdir(f'n={n},d={d},n_circuit={n_circuit},n_gen={n_gen}'):\n",
    "#                     testing(n, d, n_circuit, n_gen)"
   ]
  }
 ],
 "metadata": {
  "kernelspec": {
   "display_name": "Python 3",
   "language": "python",
   "name": "python3"
  },
  "language_info": {
   "codemirror_mode": {
    "name": "ipython",
    "version": 3
   },
   "file_extension": ".py",
   "mimetype": "text/x-python",
   "name": "python",
   "nbconvert_exporter": "python",
   "pygments_lexer": "ipython3",
   "version": "3.10.9"
  }
 },
 "nbformat": 4,
 "nbformat_minor": 2
}
