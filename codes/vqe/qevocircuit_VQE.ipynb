{
 "cells": [
  {
   "cell_type": "markdown",
   "metadata": {},
   "source": [
    "### Packages loading"
   ]
  },
  {
   "cell_type": "code",
   "execution_count": 1,
   "metadata": {},
   "outputs": [],
   "source": [
    "import sys, qiskit, typing\n",
    "sys.path.insert(0, '..')\n",
    "import matplotlib.pyplot as plt\n",
    "import numpy as np\n",
    "from qsee.compilation import QuantumStatePreparation\n",
    "from qsee.core import ansatz, state, random_circuit\n",
    "from qsee.backend import constant, utilities\n",
    "from qsee.evolution import crossover, mutate, selection, threshold\n",
    "from qsee.vqe import vqe, utilities\n",
    "from qsee.evolution.environment import EEnvironment, EEnvironmentMetadata\n",
    "%load_ext autoreload\n",
    "%autoreload 2"
   ]
  },
  {
   "cell_type": "code",
   "execution_count": 2,
   "metadata": {},
   "outputs": [],
   "source": [
    "h2_631g = lambda distances:  f\"H 0 0 {distances[0]}; H 0 0 {distances[1]}\"\n",
    "h4_sto3g = lambda distances: f\"H 0 0 {distances[0]}; H 0 0 {distances[1]}; H 0 0 {distances[2]}; H 0 0 {distances[3]}\"\n",
    "lih_sto3g = lambda distances: f\"Li 0 0 {distances[0]}; H 0 0 {distances[1]}\""
   ]
  },
  {
   "cell_type": "code",
   "execution_count": 6,
   "metadata": {},
   "outputs": [],
   "source": [
    "def exact_VQE_H2_631g(distances: []):\n",
    "    return \n",
    "\n",
    "def general_VQE_H2_631g(distances: []):\n",
    "    def VQE_H2_631g(qc: qiskit.QuantumCircuit):\n",
    "        return VQE_fitness(qc, \n",
    "                           # Replace atom here, below function returns text such as \"H 0 0 0; H 0 0 0.5\"\n",
    "                           atom = h2_631g(distances), \n",
    "                           # Replace basis here\n",
    "                           basis = \"631g\")\n",
    "    return VQE_H2_631g\n",
    "\n",
    "def VQE_fitness(qc: qiskit.QuantumCircuit, atom: str, basis: str) -> float:\n",
    "    \"\"\"General VQE fitness\n",
    "\n",
    "    Args:\n",
    "        qc (qiskit.QuantumCircuit): ansatz\n",
    "        atom (str): describe for atom\n",
    "        basis (str): VQE basis\n",
    "\n",
    "    Returns:\n",
    "        float: similarity between experiment results and theory results\n",
    "    \"\"\"\n",
    "    computation_value = vqe.general_VQE(qc, atom, basis)\n",
    "    # I need to modify this\n",
    "    exact_value = 0.1\n",
    "    return utilities.similarity(computation_value, exact_value)\n",
    "\n",
    "def VQE_H2_631g_fitness(qc: qiskit.QuantumCircuit) -> float:\n",
    "    \"\"\"Fitness function for H2_631g case\n",
    "\n",
    "    Args:\n",
    "        qc (qiskit.QuantumCircuit): ansatz\n",
    "\n",
    "    Returns:\n",
    "        float: fitness value\n",
    "    \"\"\"\n",
    "    num_points = 6\n",
    "    # Create pairs of distanc\n",
    "    list_distances_H2_631g = list(zip([0]*num_points, np.linspace(0.5, 2.5, num_points))) \n",
    "    fitnesss = []\n",
    "    # Run for num_points\n",
    "    for distances in list_distances_H2_631g:\n",
    "        # Below is fitness function at special point, this function has only qc as parameter\n",
    "        specific_VQE_H2_631g: typing.FunctionType = general_VQE_H2_631g(distances)\n",
    "        fitnesss.append(specific_VQE_H2_631g(qc))\n",
    "    return np.mean(fitnesss)"
   ]
  },
  {
   "cell_type": "code",
   "execution_count": 7,
   "metadata": {},
   "outputs": [
    {
     "name": "stderr",
     "output_type": "stream",
     "text": [
      "/Library/Frameworks/Python.framework/Versions/3.10/lib/python3.10/site-packages/pyscf/dft/libxc.py:772: UserWarning: Since PySCF-2.3, B3LYP (and B3P86) are changed to the VWN-RPA variant, the same to the B3LYP functional in Gaussian and ORCA (issue 1480). To restore the VWN5 definition, you can put the setting \"B3LYP_WITH_VWN5 = True\" in pyscf_conf.py\n",
      "  warnings.warn('Since PySCF-2.3, B3LYP (and B3P86) are changed to the VWN-RPA variant, '\n"
     ]
    },
    {
     "name": "stdout",
     "output_type": "stream",
     "text": [
      "Initialize list of circuit ...\n",
      "Start evol progress ...\n",
      "Evol at generation 1\n",
      "overwrite output file: /var/folders/bw/2cm4rnhn0djgg95n4py1pysc0000gp/T/tmp1d4l_4tm.log\n",
      "overwrite output file: /var/folders/bw/2cm4rnhn0djgg95n4py1pysc0000gp/T/tmpa3hgz2d6.log\n",
      "overwrite output file: /var/folders/bw/2cm4rnhn0djgg95n4py1pysc0000gp/T/tmphgokdpdh.log\n",
      "overwrite output file: /var/folders/bw/2cm4rnhn0djgg95n4py1pysc0000gp/T/tmpm56q29zf.log\n",
      "overwrite output file: /var/folders/bw/2cm4rnhn0djgg95n4py1pysc0000gp/T/tmpusmn8miw.log\n",
      "overwrite output file: /var/folders/bw/2cm4rnhn0djgg95n4py1pysc0000gp/T/tmpodidglih.log\n",
      "overwrite output file: /var/folders/bw/2cm4rnhn0djgg95n4py1pysc0000gp/T/tmp1qrwlnox.log\n",
      "overwrite output file: /var/folders/bw/2cm4rnhn0djgg95n4py1pysc0000gp/T/tmpqex4zs7p.log\n",
      "overwrite output file: /var/folders/bw/2cm4rnhn0djgg95n4py1pysc0000gp/T/tmpm58a20id.log\n",
      "overwrite output file: /var/folders/bw/2cm4rnhn0djgg95n4py1pysc0000gp/T/tmp2h3nmhl5.log\n",
      "overwrite output file: /var/folders/bw/2cm4rnhn0djgg95n4py1pysc0000gp/T/tmp__dmiqc_.log\n",
      "overwrite output file: /var/folders/bw/2cm4rnhn0djgg95n4py1pysc0000gp/T/tmp1kc1d_ep.log\n",
      "overwrite output file: /var/folders/bw/2cm4rnhn0djgg95n4py1pysc0000gp/T/tmp9jpttbrf.log\n",
      "overwrite output file: /var/folders/bw/2cm4rnhn0djgg95n4py1pysc0000gp/T/tmpbbuhortg.log\n",
      "overwrite output file: /var/folders/bw/2cm4rnhn0djgg95n4py1pysc0000gp/T/tmpkbdoq0k8.log\n",
      "overwrite output file: /var/folders/bw/2cm4rnhn0djgg95n4py1pysc0000gp/T/tmporaftoic.log\n",
      "overwrite output file: /var/folders/bw/2cm4rnhn0djgg95n4py1pysc0000gp/T/tmpos_cxsme.log\n",
      "overwrite output file: /var/folders/bw/2cm4rnhn0djgg95n4py1pysc0000gp/T/tmp7c5sk91f.log\n",
      "overwrite output file: /var/folders/bw/2cm4rnhn0djgg95n4py1pysc0000gp/T/tmpl3r5vjh0.log\n",
      "overwrite output file: /var/folders/bw/2cm4rnhn0djgg95n4py1pysc0000gp/T/tmp98bohqy7.log\n",
      "overwrite output file: /var/folders/bw/2cm4rnhn0djgg95n4py1pysc0000gp/T/tmpym5h1fl7.log\n",
      "overwrite output file: /var/folders/bw/2cm4rnhn0djgg95n4py1pysc0000gp/T/tmpihiheivp.log\n",
      "overwrite output file: /var/folders/bw/2cm4rnhn0djgg95n4py1pysc0000gp/T/tmpl3yukqpi.log\n",
      "overwrite output file: /var/folders/bw/2cm4rnhn0djgg95n4py1pysc0000gp/T/tmpnhboweuz.log\n"
     ]
    },
    {
     "name": "stderr",
     "output_type": "stream",
     "text": []
    },
    {
     "name": "stdout",
     "output_type": "stream",
     "text": [
      "[0.7560136123898955, 0.7834536052196811, 0.8058198592396102, 0.8061069791886583]\n",
      "Evol at generation 2\n",
      "overwrite output file: /var/folders/bw/2cm4rnhn0djgg95n4py1pysc0000gp/T/tmpkpj3unpi.log\n",
      "overwrite output file: /var/folders/bw/2cm4rnhn0djgg95n4py1pysc0000gp/T/tmp7bentlfv.log\n",
      "overwrite output file: /var/folders/bw/2cm4rnhn0djgg95n4py1pysc0000gp/T/tmpq5_qiia6.log\n",
      "overwrite output file: /var/folders/bw/2cm4rnhn0djgg95n4py1pysc0000gp/T/tmphzc2x48u.log\n",
      "overwrite output file: /var/folders/bw/2cm4rnhn0djgg95n4py1pysc0000gp/T/tmpuxo1zl9n.log\n",
      "overwrite output file: /var/folders/bw/2cm4rnhn0djgg95n4py1pysc0000gp/T/tmp1cmqbgge.log\n",
      "overwrite output file: /var/folders/bw/2cm4rnhn0djgg95n4py1pysc0000gp/T/tmp0vlsrc5i.log\n",
      "overwrite output file: /var/folders/bw/2cm4rnhn0djgg95n4py1pysc0000gp/T/tmpps4wxbg5.log\n",
      "overwrite output file: /var/folders/bw/2cm4rnhn0djgg95n4py1pysc0000gp/T/tmpiw6gbj5c.log\n",
      "overwrite output file: /var/folders/bw/2cm4rnhn0djgg95n4py1pysc0000gp/T/tmp63t3g8lx.log\n",
      "overwrite output file: /var/folders/bw/2cm4rnhn0djgg95n4py1pysc0000gp/T/tmpel5n2yss.log\n",
      "overwrite output file: /var/folders/bw/2cm4rnhn0djgg95n4py1pysc0000gp/T/tmpbpv6tlsa.log\n",
      "overwrite output file: /var/folders/bw/2cm4rnhn0djgg95n4py1pysc0000gp/T/tmp45p451_u.log\n",
      "overwrite output file: /var/folders/bw/2cm4rnhn0djgg95n4py1pysc0000gp/T/tmpnmp5tcpw.log\n",
      "overwrite output file: /var/folders/bw/2cm4rnhn0djgg95n4py1pysc0000gp/T/tmp0eqv7zix.log\n",
      "overwrite output file: /var/folders/bw/2cm4rnhn0djgg95n4py1pysc0000gp/T/tmpf9l8xxgg.log\n",
      "overwrite output file: /var/folders/bw/2cm4rnhn0djgg95n4py1pysc0000gp/T/tmpirgz0bpe.log\n",
      "overwrite output file: /var/folders/bw/2cm4rnhn0djgg95n4py1pysc0000gp/T/tmp_qgk3va0.log\n",
      "overwrite output file: /var/folders/bw/2cm4rnhn0djgg95n4py1pysc0000gp/T/tmpiwh3ioo5.log\n",
      "overwrite output file: /var/folders/bw/2cm4rnhn0djgg95n4py1pysc0000gp/T/tmp_pkplzdh.log\n",
      "overwrite output file: /var/folders/bw/2cm4rnhn0djgg95n4py1pysc0000gp/T/tmp1s3i09da.log\n",
      "overwrite output file: /var/folders/bw/2cm4rnhn0djgg95n4py1pysc0000gp/T/tmpdx5jxs1e.log\n",
      "overwrite output file: /var/folders/bw/2cm4rnhn0djgg95n4py1pysc0000gp/T/tmpo9k3iz_e.log\n",
      "overwrite output file: /var/folders/bw/2cm4rnhn0djgg95n4py1pysc0000gp/T/tmpkny2zyrf.log\n",
      "[0.8061069791886583, 0.8045164778591772, 0.913938459121702, 0.8436205251642644]\n",
      "overwrite output file: /var/folders/bw/2cm4rnhn0djgg95n4py1pysc0000gp/T/tmpbmd1mfq5.log\n",
      "overwrite output file: /var/folders/bw/2cm4rnhn0djgg95n4py1pysc0000gp/T/tmp9zx3a2c0.log\n",
      "overwrite output file: /var/folders/bw/2cm4rnhn0djgg95n4py1pysc0000gp/T/tmpisn3f8v5.log\n",
      "overwrite output file: /var/folders/bw/2cm4rnhn0djgg95n4py1pysc0000gp/T/tmpz590el0c.log\n",
      "overwrite output file: /var/folders/bw/2cm4rnhn0djgg95n4py1pysc0000gp/T/tmp9fmwyglj.log\n",
      "overwrite output file: /var/folders/bw/2cm4rnhn0djgg95n4py1pysc0000gp/T/tmpkvzubz8n.log\n"
     ]
    },
    {
     "name": "stderr",
     "output_type": "stream",
     "text": [
      "Step:  50%|█████     | 1/2 [03:33<03:33, 213.45s/it]"
     ]
    },
    {
     "name": "stdout",
     "output_type": "stream",
     "text": [
      "End evol progress soon at generation 2, best score ever: 0.913938459121702\n"
     ]
    },
    {
     "name": "stderr",
     "output_type": "stream",
     "text": [
      "\n"
     ]
    }
   ],
   "source": [
    "env_metadata = EEnvironmentMetadata(\n",
    "    num_qubits=8,\n",
    "    depth=5,\n",
    "    num_circuit=4,\n",
    "    num_generation=2,\n",
    "    prob_mutate=3/(5 * 8)  # Mutation rate / (depth * num_circuit)\n",
    ")\n",
    "env = EEnvironment(\n",
    "    metadata=env_metadata,\n",
    "    # Fitness function alway has the function type: qiskit.QuantumCircuit -> float\n",
    "    fitness_func=VQE_H2_631g_fitness,\n",
    "    selection_func=selection.elitist_selection,\n",
    "    crossover_func=crossover.onepoint_crossover,\n",
    "    mutate_func=mutate.layerflip_mutate,\n",
    "    threshold_func=threshold.compilation_threshold\n",
    ")\n",
    "\n",
    "# Automatically save the results in the same level folder\n",
    "env.evol(1)"
   ]
  },
  {
   "cell_type": "code",
   "execution_count": 11,
   "metadata": {},
   "outputs": [
    {
     "name": "stdout",
     "output_type": "stream",
     "text": [
      "-1.8921568597287821\n"
     ]
    }
   ],
   "source": [
    "computation_value = vqe.VQE(env.best_circuit, atom, basis)"
   ]
  },
  {
   "cell_type": "code",
   "execution_count": 22,
   "metadata": {},
   "outputs": [
    {
     "data": {
      "text/plain": [
       "<function __main__.VQE_H2_631g_fitness(qc: qiskit.circuit.quantumcircuit.QuantumCircuit)>"
      ]
     },
     "execution_count": 22,
     "metadata": {},
     "output_type": "execute_result"
    }
   ],
   "source": [
    "# Load the result from folder\n",
    "env2 = EEnvironment.load(\n",
    "    './8qubits_VQE_H2_631g_fitness_2023-12-17', \n",
    "    VQE_H2_631g_fitness\n",
    ")\n"
   ]
  },
  {
   "cell_type": "code",
   "execution_count": 3,
   "metadata": {},
   "outputs": [
    {
     "data": {
      "text/plain": [
       "[(0, 0.5), (0, 0.9), (0, 1.3), (0, 1.7000000000000002), (0, 2.1), (0, 2.5)]"
      ]
     },
     "execution_count": 3,
     "metadata": {},
     "output_type": "execute_result"
    }
   ],
   "source": [
    "import numpy as np\n",
    "list(zip([0]*6, np.linspace(0.5, 2.5, 6))) "
   ]
  }
 ],
 "metadata": {
  "kernelspec": {
   "display_name": "Python 3 (ipykernel)",
   "language": "python",
   "name": "python3"
  },
  "language_info": {
   "codemirror_mode": {
    "name": "ipython",
    "version": 3
   },
   "file_extension": ".py",
   "mimetype": "text/x-python",
   "name": "python",
   "nbconvert_exporter": "python",
   "pygments_lexer": "ipython3",
   "version": "3.10.9"
  }
 },
 "nbformat": 4,
 "nbformat_minor": 4
}
