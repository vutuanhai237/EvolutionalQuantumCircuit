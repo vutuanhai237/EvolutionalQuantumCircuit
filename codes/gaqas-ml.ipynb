{
 "cells": [
  {
   "cell_type": "code",
   "execution_count": 1,
   "metadata": {},
   "outputs": [],
   "source": [
    "import sys, qiskit\n",
    "sys.path.insert(0, '..')\n",
    "import matplotlib.pyplot as plt\n",
    "import numpy as np\n",
    "import qiskit.quantum_info as qi\n",
    "from qsee.compilation.qsp import QuantumStatePreparation\n",
    "from qsee.core import ansatz, state, measure\n",
    "from qsee.backend import constant, utilities\n",
    "from qsee.evolution import crossover, mutate, selection, threshold\n",
    "from qsee.evolution.environment import EEnvironment, EEnvironmentMetadata\n",
    "%load_ext autoreload\n",
    "%autoreload 2\n"
   ]
  },
  {
   "cell_type": "markdown",
   "metadata": {},
   "source": [
    "<img src = '../docs/mt-qc1.jpg' height ='400px'>\n",
    "<img src = '../docs/mt-qc2.jpg' height ='400px'>\n",
    "<img src = '../docs/mt-qc3.jpg' height ='400px'>\n",
    "<img src = '../docs/mt-qc4.jpg' height ='400px'>"
   ]
  },
  {
   "cell_type": "code",
   "execution_count": 6,
   "metadata": {},
   "outputs": [
    {
     "name": "stdout",
     "output_type": "stream",
     "text": [
      "1/1 [==============================] - 0s 18ms/step\n",
      "Predicted y for x = 0.5: [ 2.0000005   1.500039    1.7499995   0.50000006 -1.        ]\n"
     ]
    }
   ],
   "source": [
    "import numpy as np\n",
    "import tensorflow as tf\n",
    "from tensorflow.keras import layers\n",
    "\n",
    "# Generate sample data\n",
    "np.random.seed(42)  # For reproducibility\n",
    "x_train = np.random.rand(10000, 1)  # 100 samples, scalar input\n",
    "coefficients = np.array([[2, -1, 0.5, 3, -2]])  # Coefficients for y = c*x + b\n",
    "biases = np.array([[1, 2, 1.5, -1, 0]])  # Biases for each dimension of y\n",
    "y_train = x_train @ coefficients + biases  # Matrix multiplication + bias\n",
    "\n",
    "# Define the neural network model\n",
    "model = tf.keras.Sequential([\n",
    "    layers.Dense(units=5, input_shape=[1])  # Output layer with 5 units for the 5-dimensional vector\n",
    "])\n",
    "\n",
    "# Compile the model\n",
    "model.compile(optimizer='adam', loss='mse')\n",
    "\n",
    "\n",
    "\n",
    "C1: loss của model = mse(theta*, theta_i)\n",
    "C2:\n",
    "--> theta* => lắp vào V(theta*) ==> trace_fidelity*\n",
    "--> theta_i => lắp vào V(theta_i) ==> trace_fidelity_i\n",
    "==> loss của model = mse(trace_fidelity*, trace_fidelity_i)\n",
    "\n",
    "\n",
    "\n",
    "# Train the model\n",
    "model.fit(x_train, y_train, epochs=100, verbose=0)  # Train silently\n",
    "\n",
    "# Test the model by predicting y for a new x\n",
    "x_test = np.array([[0.5]])  # New x value to predict y\n",
    "y_pred = model.predict(x_test)\n",
    "print(f\"Predicted y for x = {x_test.flatten()[0]}: {y_pred.flatten()}\")\n"
   ]
  },
  {
   "cell_type": "code",
   "execution_count": 5,
   "metadata": {},
   "outputs": [
    {
     "data": {
      "text/plain": [
       "array([[ 2.  ,  1.5 ,  1.75,  0.5 , -1.  ]])"
      ]
     },
     "execution_count": 5,
     "metadata": {},
     "output_type": "execute_result"
    }
   ],
   "source": [
    "[0.5] @ coefficients + biases"
   ]
  },
  {
   "cell_type": "code",
   "execution_count": 14,
   "metadata": {},
   "outputs": [
    {
     "name": "stdout",
     "output_type": "stream",
     "text": [
      "[[-0.2047333 +0.16859156j  0.36160632+0.11668177j -0.50615828-0.64019077j\n",
      "   0.34497517+0.01546302j]\n",
      " [-0.76823431-0.18602106j  0.00717024-0.08429821j  0.17068195+0.09839064j\n",
      "   0.1142043 -0.56231569j]\n",
      " [-0.40660409-0.01483442j  0.33161076+0.45499597j -0.20611743+0.45668684j\n",
      "  -0.2115749 +0.47080232j]\n",
      " [ 0.0162171 -0.37291209j  0.55383032-0.47408183j  0.05224051-0.20339664j\n",
      "  -0.53143415+0.05167638j]]\n",
      "[[-1.05992218-6.02484605e-17j -0.14119387+8.07870753e-01j\n",
      "  -0.41564286-4.70912491e-01j  0.3532633 +7.00611492e-01j]\n",
      " [-0.14119387-8.07870753e-01j -0.28158656-4.64455651e-16j\n",
      "  -0.01175294-2.83770066e-01j  0.91201793-3.28586476e-01j]\n",
      " [-0.41564286+4.70912491e-01j -0.01175294+2.83770066e-01j\n",
      "  -1.4823252 -5.18994053e-16j -0.1674167 +5.62920960e-01j]\n",
      " [ 0.3532633 -7.00611492e-01j  0.91201793+3.28586476e-01j\n",
      "  -0.1674167 -5.62920960e-01j -1.34674633+2.60620933e-16j]]\n",
      "[[ 0.22340254+0.97472627j  2.74390626+0.49713941j  0.47522523+0.27693027j\n",
      "   2.19298083-1.05511843j]\n",
      " [ 0.35286093+0.06393115j  0.93679095+0.34988957j  0.69744172+0.01040624j\n",
      "   0.26450779-0.60352577j]\n",
      " [ 1.57083988+0.91538302j  1.43349242+0.02138855j -0.30592076+0.95205698j\n",
      "   1.99736986+0.43099557j]\n",
      " [ 0.37028335-0.17815604j  0.60917339-1.38994712j  0.47838404+0.10322645j\n",
      "  -0.13835288+0.990383j  ]]\n"
     ]
    }
   ],
   "source": [
    "from scipy.stats import unitary_group\n",
    "from scipy.linalg import logm\n",
    "# Generate a random 4x4 unitary matrix (Haar distribution)\n",
    "U_haar = unitary_group.rvs(4)\n",
    "\n",
    "# Compute the logarithm of U_haar to get i*s*H\n",
    "logU_haar = logm(U_haar)\n",
    "\n",
    "# Eigenvalues of logU_haar give us -i*s*theta\n",
    "eigenvalues_logU_haar = np.linalg.eigvals(logU_haar)\n",
    "\n",
    "# Assuming one of the eigenvalues represents the relationship -i*s*theta\n",
    "# And assuming theta = 1 for simplicity to demonstrate finding s\n",
    "# Note: This is a simplification; in real scenarios, theta might vary\n",
    "s_haar_example = -eigenvalues_logU_haar.imag[0]  # Taking the imaginary part as s*theta\n",
    "H = logU_haar / (-1j * s_haar_example) if s_haar_example != 0 else logU_haar\n",
    "\n",
    "print(U_haar)\n",
    "print(np.exp(-1j * s_haar_example * H))"
   ]
  },
  {
   "cell_type": "code",
   "execution_count": 12,
   "metadata": {},
   "outputs": [
    {
     "data": {
      "text/plain": [
       "array([[ 0.28031035-1.12331134j,  0.54970772-1.24632623j,\n",
       "         0.10603277+0.40975653j,  3.47815374+1.49676503j],\n",
       "       [-0.06643362+0.28571657j,  0.84135784-2.14285101j,\n",
       "         0.70050932-0.21309323j,  1.92325934+0.57714683j],\n",
       "       [ 0.87187707+0.58316945j,  0.2699616 +0.30407869j,\n",
       "         1.95849699+1.29809858j, -0.94923548+2.25675452j],\n",
       "       [ 0.42043932-0.04643035j,  0.18096104+0.15986778j,\n",
       "         0.11403533-0.12001954j,  1.86268554-0.32849638j]])"
      ]
     },
     "execution_count": 12,
     "metadata": {},
     "output_type": "execute_result"
    }
   ],
   "source": [
    "np.exp(-1j * s_haar_example * U_haar)"
   ]
  }
 ],
 "metadata": {
  "kernelspec": {
   "display_name": "Python 3",
   "language": "python",
   "name": "python3"
  },
  "language_info": {
   "codemirror_mode": {
    "name": "ipython",
    "version": 3
   },
   "file_extension": ".py",
   "mimetype": "text/x-python",
   "name": "python",
   "nbconvert_exporter": "python",
   "pygments_lexer": "ipython3",
   "version": "3.10.9"
  }
 },
 "nbformat": 4,
 "nbformat_minor": 2
}
