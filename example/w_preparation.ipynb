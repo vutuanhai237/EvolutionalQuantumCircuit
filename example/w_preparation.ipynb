{
 "cells": [
  {
   "cell_type": "code",
   "execution_count": 5,
   "metadata": {},
   "outputs": [],
   "source": [
    "import numpy as np\n",
    "import qiskit\n",
    "import qiskit.quantum_info as qi\n",
    "import sys\n",
    "sys.path.insert(0, '..')\n",
    "from qoop.core import state, metric, ansatz\n",
    "from qoop.compilation.qsp import QuantumStatePreparation\n",
    "from qoop.evolution.environment import EEnvironmentMetadata\n",
    "from qoop.evolution.environment import EEnvironment\n",
    "%load_ext autoreload\n",
    "%autoreload 2"
   ]
  },
  {
   "cell_type": "code",
   "execution_count": 68,
   "metadata": {},
   "outputs": [
    {
     "name": "stdout",
     "output_type": "stream",
     "text": [
      "Initialize list of circuit ...\n",
      "Start evol progress ...\n",
      "Running at generation 1\n",
      "[0.1339745962155614, 0.0, 0.2928932188134524, 0.2928932188134524]\n",
      "Saving circuit ...\n",
      "Saving circuit ...\n",
      "Running at generation 2\n",
      "[0.2928932188134524, 0.2928932188134524, 0.2928932188134524, 0.2928932188134524]\n",
      "Saving circuit ...\n",
      "Saving circuit ...\n",
      "Running at generation 3\n",
      "[0.2928932188134524, 0.2928932188134524, 0.2928932188134524, 0.2928932188134524]\n",
      "Saving circuit ...\n",
      "Saving circuit ...\n",
      "Running at generation 4\n",
      "[0.2928932188134524, 0.2928932188134524, 0.2928932188134524, 0.2928932188134524]\n",
      "Saving circuit ...\n",
      "Saving circuit ...\n",
      "Running at generation 5\n",
      "[0.2928932188134524, 0.2928932188134524, 0.2928932188134524, 0.2928932188134524]\n",
      "Saving circuit ...\n",
      "Saving circuit ...\n",
      "Running at generation 6\n",
      "[0.2928932188134524, 0.2928932188134524, 0.2928932188134524, 0.2928932188134524]\n",
      "Saving circuit ...\n",
      "Saving circuit ...\n",
      "Running at generation 7\n",
      "[0.2928932188134524, 0.2928932188134524, 0.2928932188134524, 0.2928932188134524]\n",
      "Saving circuit ...\n",
      "Saving circuit ...\n",
      "Running at generation 8\n",
      "[0.2928932188134524, 0.2928932188134524, 0.2928932188134524, 0.2928932188134524]\n",
      "Saving circuit ...\n",
      "Saving circuit ...\n",
      "Running at generation 9\n",
      "[0.2928932188134524, 0.2928932188134524, 0.2928932188134524, 0.9999686288103821]\n",
      "Saving circuit ...\n",
      "End progress soon at generation 9, best score ever: 0.9999686288103821\n"
     ]
    }
   ],
   "source": [
    "def fitnessW(qc: qiskit.QuantumCircuit):\n",
    "    global qcx\n",
    "    qcx = qc\n",
    "    compiler = QuantumStatePreparation(\n",
    "        u = qc,\n",
    "        target_state = state.w(2).inverse()\n",
    "    ).fit()\n",
    "    return 1 - compiler.compiler.metrics['loss_fubini_study'][-1] # Fitness value\n",
    "\n",
    "env_metadata = EEnvironmentMetadata(\n",
    "        num_qubits = 2, # As its name\n",
    "        depth = 2, # Ansatz depth you want\n",
    "        num_circuit = 4, # Number of ansatz per generation\n",
    "        num_generation = 10, # Number of generation/iteration for GA \n",
    "        prob_mutate = 0.01 # Mutation probability, usually as small as 0.01 (1%)\n",
    ")\n",
    "\n",
    "env = EEnvironment(\n",
    "    metadata = env_metadata,\n",
    "    fitness_func = fitnessW,\n",
    ")\n",
    "\n",
    "env.evol()"
   ]
  }
 ],
 "metadata": {
  "kernelspec": {
   "display_name": "Python 3",
   "language": "python",
   "name": "python3"
  },
  "language_info": {
   "codemirror_mode": {
    "name": "ipython",
    "version": 3
   },
   "file_extension": ".py",
   "mimetype": "text/x-python",
   "name": "python",
   "nbconvert_exporter": "python",
   "pygments_lexer": "ipython3",
   "version": "3.10.9"
  }
 },
 "nbformat": 4,
 "nbformat_minor": 2
}
